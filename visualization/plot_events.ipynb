{
 "cells": [
  {
   "cell_type": "markdown",
   "metadata": {},
   "source": [
    "# FORGE Seismic Events 3D Visualization\n",
    "\n",
    "This notebook creates interactive 3D scatter plots of seismic events from the Utah FORGE geothermal field. It processes multiple CSV catalog files and generates both individual plots for each catalog and a combined visualization of all events.\n",
    "\n",
    "## Output Options\n",
    "- Interactive plots for exploration (set `save_images = False`)\n",
    "- High-resolution PNG files (set `save_images = True`)"
   ]
  },
  {
   "cell_type": "markdown",
   "metadata": {},
   "source": [
    "## Summary and Usage Notes\n",
    "\n",
    "### 📊 **Generated Visualizations:**\n",
    "1. **Individual Catalog Plots**: One 3D plot per CSV file showing temporal subsets\n",
    "2. **Combined Plot**: All events from all catalogs in a single visualization\n",
    "\n",
    "### 🎨 **Visualization Features:**\n",
    "- **3D Scatter Plot**: X-Y-Depth positioning of seismic events\n",
    "- **Magnitude Color Coding**: Warmer colors = higher magnitudes\n",
    "- **Consistent Scaling**: All plots use the same axis ranges and color scales\n",
    "- **Interactive Exploration**: Zoom, rotate, and hover for detailed information\n",
    "\n",
    "### ⚙️ **Configuration Options:**\n",
    "- **Display Mode**: Set `save_images = False` for interactive plots, `True` for file output\n",
    "- **Output Quality**: Configurable DPI and dimensions for publication use\n",
    "- **File Filtering**: Automatically processes all `FORGE*.csv` files in the input directory\n",
    "\n",
    "### 📁 **Output Files:**\n",
    "- Individual plots: `{catalog_name}.png` \n",
    "- Combined plot: `all_events_combined.png`\n",
    "- All saved to the `figures/3D_plots/` directory\n",
    "\n",
    "### 🔧 **Data Processing:**\n",
    "- Automatic column name cleaning (removes spaces, strips whitespace)\n",
    "- Invalid depth filtering (removes events with depth = 0)\n",
    "- Global range calculation ensures visual consistency across plots\n",
    "\n",
    "This notebook provides a comprehensive 3D visualization workflow for analyzing seismic event spatial distributions and magnitude patterns in the FORGE geothermal field."
   ]
  },
  {
   "cell_type": "code",
   "execution_count": 1,
   "metadata": {},
   "outputs": [
    {
     "name": "stdout",
     "output_type": "stream",
     "text": [
      "✅ Libraries imported and utility functions defined\n"
     ]
    }
   ],
   "source": [
    "# Import required libraries for data processing and 3D visualization\n",
    "import pandas as pd\n",
    "import glob\n",
    "import plotly.express as px\n",
    "import os\n",
    "import numpy as np\n",
    "\n",
    "def generate_tick_values(min_val, max_val, step=0.5):\n",
    "    \"\"\"\n",
    "    Generate evenly spaced tick values for color bar with specified step size.\n",
    "    \n",
    "    Args:\n",
    "        min_val (float): Minimum value in the range\n",
    "        max_val (float): Maximum value in the range  \n",
    "        step (float): Step size between ticks (default: 0.5)\n",
    "    \n",
    "    Returns:\n",
    "        list: Sorted list of tick values including min/max boundaries\n",
    "    \"\"\"\n",
    "    values = np.arange(\n",
    "        np.ceil(min_val / step) * step,\n",
    "        np.floor(max_val / step) * step + step, step).tolist()\n",
    "    values = sorted(set(values + [min_val, max_val]))\n",
    "    return values\n",
    "\n",
    "print(\"✅ Libraries imported and utility functions defined\")"
   ]
  },
  {
   "cell_type": "code",
   "execution_count": 2,
   "metadata": {},
   "outputs": [
    {
     "name": "stdout",
     "output_type": "stream",
     "text": [
      "📁 Input directory: ../GES16Aand16BStimulationMonitoringApril2024/**\n",
      "💾 Output directory: ../figures/3D_plots/\n",
      "🖼️  Mode: Interactive display\n",
      "📏 Figure size: 85mm @ 300 DPI\n"
     ]
    }
   ],
   "source": [
    "# Configuration Parameters\n",
    "folder_path = '../GES16Aand16BStimulationMonitoringApril2024/**'  # Path to CSV catalog files\n",
    "output_path = '../figures/3D_plots/'                          # Directory for saved plots\n",
    "save_images = False                                            # True: save PNG files, False: show interactive plots\n",
    "width_mm = 85                                                  # Figure width in millimeters (journal standard)\n",
    "dpi = 300                                                      # Resolution for saved images\n",
    "\n",
    "print(f\"📁 Input directory: {folder_path}\")\n",
    "print(f\"💾 Output directory: {output_path}\")\n",
    "print(f\"🖼️  Mode: {'Save images' if save_images else 'Interactive display'}\")\n",
    "print(f\"📏 Figure size: {width_mm}mm @ {dpi} DPI\")"
   ]
  },
  {
   "cell_type": "code",
   "execution_count": 3,
   "metadata": {},
   "outputs": [
    {
     "name": "stdout",
     "output_type": "stream",
     "text": [
      "🔍 Discovering CSV catalog files...\n",
      "📊 Found 26 catalog files\n",
      "📏 Calculating global data ranges...\n",
      "  Processed 5/26 files...\n",
      "  Processed 10/26 files...\n",
      "  Processed 15/26 files...\n",
      "  Processed 20/26 files...\n",
      "  Processed 25/26 files...\n",
      "\n",
      "📊 Global Data Ranges:\n",
      "  • Magnitude: -1.090 to 1.850\n",
      "  • X coordinates: -3660.0 to 3890.0 m\n",
      "  • Y coordinates: -5060.0 to 1180.0 m\n",
      "  • Depth range: 5580.0 to 9500.0 m\n"
     ]
    }
   ],
   "source": [
    "# Data Discovery and Global Range Calculation\n",
    "print(\"🔍 Discovering CSV catalog files...\")\n",
    "\n",
    "# Find all FORGE catalog files in the specified directory\n",
    "csv_files = glob.glob(os.path.join(folder_path, \"FORGE*.csv\"))\n",
    "os.makedirs(output_path, exist_ok=True)\n",
    "\n",
    "print(f\"📊 Found {len(csv_files)} catalog files\")\n",
    "\n",
    "# Initialize variables to track global min/max values across all files\n",
    "# This ensures consistent axis ranges and color scales for all plots\n",
    "global_min_mag = float('inf')\n",
    "global_max_mag = float('-inf')\n",
    "global_min_x = float('inf')\n",
    "global_max_x = float('-inf')\n",
    "global_min_y = float('inf')\n",
    "global_max_y = float('-inf')\n",
    "global_min_depth = float('inf')\n",
    "global_max_depth = float('-inf')\n",
    "\n",
    "print(\"📏 Calculating global data ranges...\")\n",
    "\n",
    "# First pass: scan all files to determine overall data ranges\n",
    "for i, datapath in enumerate(csv_files):\n",
    "    data = pd.read_csv(datapath)\n",
    "    data.columns = data.columns.str.strip().str.replace(' ', '_')  # Clean column names\n",
    "    data = data[data['Depth'] != 0]  # Filter out invalid depth values\n",
    "    \n",
    "    # Update global ranges\n",
    "    global_min_mag = min(global_min_mag, data['MomMag'].min())\n",
    "    global_max_mag = max(global_max_mag, data['MomMag'].max())\n",
    "    global_min_x = min(global_min_x, data['X'].min())\n",
    "    global_max_x = max(global_max_x, data['X'].max())\n",
    "    global_min_y = min(global_min_y, data['Y'].min())\n",
    "    global_max_y = max(global_max_y, data['Y'].max())\n",
    "    global_min_depth = min(global_min_depth, data['Depth'].min())\n",
    "    global_max_depth = max(global_max_depth, data['Depth'].max())\n",
    "    \n",
    "    if (i + 1) % 5 == 0:  # Progress indicator\n",
    "        print(f\"  Processed {i + 1}/{len(csv_files)} files...\")\n",
    "\n",
    "print(f\"\\n📊 Global Data Ranges:\")\n",
    "print(f\"  • Magnitude: {global_min_mag:.3f} to {global_max_mag:.3f}\")\n",
    "print(f\"  • X coordinates: {global_min_x:.1f} to {global_max_x:.1f} m\")\n",
    "print(f\"  • Y coordinates: {global_min_y:.1f} to {global_max_y:.1f} m\") \n",
    "print(f\"  • Depth range: {global_min_depth:.1f} to {global_max_depth:.1f} m\")"
   ]
  },
  {
   "cell_type": "markdown",
   "metadata": {},
   "source": [
    "## Individual Catalog Visualizations\n",
    "\n",
    "Generate 3D scatter plots for each individual catalog file. All plots use consistent:\n",
    "- **Axis ranges**: Same X, Y, and depth limits across all plots\n",
    "- **Color scaling**: Unified magnitude color bar for comparison\n",
    "- **Camera angle**: Standard viewing perspective for consistency\n",
    "- **Marker styling**: Uniform size and transparency"
   ]
  },
  {
   "cell_type": "code",
   "execution_count": 7,
   "metadata": {},
   "outputs": [
    {
     "name": "stdout",
     "output_type": "stream",
     "text": [
      "🎨 Creating individual 3D plots...\n"
     ]
    },
    {
     "data": {
      "application/vnd.plotly.v1+json": {
       "config": {
        "plotlyServerURL": "https://plot.ly"
       },
       "data": [
        {
         "hovertemplate": "X Coordinate (m)=%{x}<br>Y Coordinate (m)=%{y}<br>Depth (m)=%{z}<br>size=%{marker.size}<br>Moment Magnitude=%{marker.color}<extra></extra>",
         "legendgroup": "",
         "marker": {
          "color": {
           "bdata": "XI/C9Shc378UrkfhehTmv+xRuB6F6+G/pHA9Ctej0L/D9Shcj8LFv5qZmZmZmcm/MzMzMzMz0z9SuB6F61HIvxSuR+F6FN6/exSuR+F6pL+uR+F6FK7Xv0jhehSuR+m/MzMzMzMzw7+4HoXrUbjev5qZmZmZmeG/UrgehetR2L+amZmZmZnJv3E9CtejcN2/7FG4HoXr0b/D9Shcj8LVv7gehetRuN6/KVyPwvUozL97FK5H4XqkP65H4XoUrue/w/UoXI/C5b/D9Shcj8Ltv7gehetRuL4/exSuR+F6lL+4HoXrUbiuP5qZmZmZmdm/MzMzMzMz0797FK5H4XrEv/YoXI/C9di/CtejcD0Kxz97FK5H4XqkP6RwPQrXo8C/pHA9Ctej0L9xPQrXo3DNv5qZmZmZmak/zczMzMzM3L89CtejcD3av3sUrkfheqS/exSuR+F65L+4HoXrUbiuv/YoXI/C9eC/CtejcD0Ktz9SuB6F61HIvwAAAAAAAOC/FK5H4XoU3r/hehSuR+HKP1K4HoXrUci/CtejcD0Kt7+4HoXrUbi+v6RwPQrXo9A/exSuR+F6tL89CtejcD3iv7gehetRuM6/w/UoXI/C7b9I4XoUrkfpv6RwPQrXo/C/XI/C9Shc37+uR+F6FK7nvwrXo3A9Cte/4XoUrkfh2r97FK5H4XqEPxSuR+F6FOa/7FG4HoXr0T8zMzMzMzPDv3sUrkfheuS/uB6F61G47r89CtejcD3av3E9CtejcN2/H4XrUbge5b8fhetRuB7tv1K4HoXrUei/uB6F61G43r8zMzMzMzPjvzMzMzMzM+u/PQrXo3A96r+kcD0K16PovwAAAAAAAPC/4XoUrkfhyr9mZmZmZmbmv65H4XoUrue/H4XrUbge1T+PwvUoXI/iv83MzMzMzOS/",
           "dtype": "f8"
          },
          "coloraxis": "coloraxis",
          "line": {
           "width": 0
          },
          "opacity": 0.7,
          "size": {
           "bdata": "AQEBAQEBAQEBAQEBAQEBAQEBAQEBAQEBAQEBAQEBAQEBAQEBAQEBAQEBAQEBAQEBAQEBAQEBAQEBAQEBAQEBAQEBAQEBAQEBAQEBAQEBAQEBAQEBAQEB",
           "dtype": "i1"
          },
          "sizemode": "area",
          "sizeref": 0.00510204081632653,
          "symbol": "circle"
         },
         "mode": "markers",
         "name": "",
         "scene": "scene",
         "showlegend": false,
         "type": "scatter3d",
         "x": {
          "bdata": "hgvMC4YL+goiCw4LIgteCywLBAuGC64LLAuMCtwKBAtKC3gKuAu4C0ALVAsYC7QK5gosC14LBAsOC8gKvgqGC/AKcguaC/AKpAsOC4YLoAoiC8ILbgoiC4wKaAsYCzIKBAtUC8wLzAssC0oLVAuGC8ILLAsiCyILggpKC2QKQAvICr4K3Aq0CnILLAuWCsgKrgsYCwQLkAvcCkAL8ArSCg4LfAvMC0ALPg1cCEwJ",
          "dtype": "i2"
         },
         "y": {
          "bdata": "HP3W/Lz9Ivxw/mb+Pv70/HD+Ivwg/sb9Zv76++b7DP46/SL86vxc/nD+Pv5u+zT+Dvxm/lL+Pv5w/lL+Kv64/HD+Ivzy/tL7Pv6M+3D++vtm/uD83Pui/vr7VPzg/L77mP4s/Kz+ev6++9z7mP6o/aL+Zv4s/CD+5vtm/oL7GPwA+/D7ov6W+z7+DP5G+1r7IP5w/nr+cP4+/nz8XvxI/oT+tPsu/2b+TASI/1z+",
          "dtype": "i2"
         },
         "z": {
          "bdata": "kh36HuwdGB8AHgoeUB78HM4dah3mHvwcMh6wHUIdtB4OH3ge1BymHbodCh4uHbQenB3YHdIeZB5uHsgevh4+HDIemBySHZIdyhzAHBodeB7OHawc9h0yHngemBwMHDweRh6iHPIcEB2YHI4cfh38HHAc9h1CHc4dbh6wHc4dUhz8HGAdRh5MHZgcsB2wHS4dyhwAHh4edB1kHsoc3hygHhQeKhzyHAAeUB7WH04b",
          "dtype": "i2"
         }
        }
       ],
       "layout": {
        "coloraxis": {
         "cmax": 1.85,
         "cmin": -1.09,
         "colorbar": {
          "ticklen": 6,
          "tickmode": "array",
          "ticks": "outside",
          "tickvals": [
           -1.09,
           -1,
           -0.5,
           0,
           0.5,
           1,
           1.5,
           1.85
          ],
          "tickwidth": 1,
          "title": {
           "side": "top",
           "text": "Moment Magnitude"
          }
         },
         "colorscale": [
          [
           0,
           "#0d0887"
          ],
          [
           0.1111111111111111,
           "#46039f"
          ],
          [
           0.2222222222222222,
           "#7201a8"
          ],
          [
           0.3333333333333333,
           "#9c179e"
          ],
          [
           0.4444444444444444,
           "#bd3786"
          ],
          [
           0.5555555555555556,
           "#d8576b"
          ],
          [
           0.6666666666666666,
           "#ed7953"
          ],
          [
           0.7777777777777778,
           "#fb9f3a"
          ],
          [
           0.8888888888888888,
           "#fdca26"
          ],
          [
           1,
           "#f0f921"
          ]
         ]
        },
        "height": 600,
        "legend": {
         "itemsizing": "constant",
         "tracegroupgap": 0
        },
        "margin": {
         "b": 40,
         "l": 40,
         "r": 40,
         "t": 40
        },
        "scene": {
         "aspectmode": "cube",
         "camera": {
          "eye": {
           "x": 1.5,
           "y": 1.5,
           "z": 1.5
          }
         },
         "domain": {
          "x": [
           0,
           1
          ],
          "y": [
           0,
           1
          ]
         },
         "xaxis": {
          "range": [
           -3660,
           3890
          ],
          "title": {
           "text": "X Coordinate (m)"
          }
         },
         "yaxis": {
          "range": [
           -5060,
           1180
          ],
          "title": {
           "text": "Y Coordinate (m)"
          }
         },
         "zaxis": {
          "range": [
           9500,
           5580
          ],
          "title": {
           "text": "Depth (m)"
          }
         }
        },
        "template": {
         "data": {
          "bar": [
           {
            "error_x": {
             "color": "#2a3f5f"
            },
            "error_y": {
             "color": "#2a3f5f"
            },
            "marker": {
             "line": {
              "color": "#E5ECF6",
              "width": 0.5
             },
             "pattern": {
              "fillmode": "overlay",
              "size": 10,
              "solidity": 0.2
             }
            },
            "type": "bar"
           }
          ],
          "barpolar": [
           {
            "marker": {
             "line": {
              "color": "#E5ECF6",
              "width": 0.5
             },
             "pattern": {
              "fillmode": "overlay",
              "size": 10,
              "solidity": 0.2
             }
            },
            "type": "barpolar"
           }
          ],
          "carpet": [
           {
            "aaxis": {
             "endlinecolor": "#2a3f5f",
             "gridcolor": "white",
             "linecolor": "white",
             "minorgridcolor": "white",
             "startlinecolor": "#2a3f5f"
            },
            "baxis": {
             "endlinecolor": "#2a3f5f",
             "gridcolor": "white",
             "linecolor": "white",
             "minorgridcolor": "white",
             "startlinecolor": "#2a3f5f"
            },
            "type": "carpet"
           }
          ],
          "choropleth": [
           {
            "colorbar": {
             "outlinewidth": 0,
             "ticks": ""
            },
            "type": "choropleth"
           }
          ],
          "contour": [
           {
            "colorbar": {
             "outlinewidth": 0,
             "ticks": ""
            },
            "colorscale": [
             [
              0,
              "#0d0887"
             ],
             [
              0.1111111111111111,
              "#46039f"
             ],
             [
              0.2222222222222222,
              "#7201a8"
             ],
             [
              0.3333333333333333,
              "#9c179e"
             ],
             [
              0.4444444444444444,
              "#bd3786"
             ],
             [
              0.5555555555555556,
              "#d8576b"
             ],
             [
              0.6666666666666666,
              "#ed7953"
             ],
             [
              0.7777777777777778,
              "#fb9f3a"
             ],
             [
              0.8888888888888888,
              "#fdca26"
             ],
             [
              1,
              "#f0f921"
             ]
            ],
            "type": "contour"
           }
          ],
          "contourcarpet": [
           {
            "colorbar": {
             "outlinewidth": 0,
             "ticks": ""
            },
            "type": "contourcarpet"
           }
          ],
          "heatmap": [
           {
            "colorbar": {
             "outlinewidth": 0,
             "ticks": ""
            },
            "colorscale": [
             [
              0,
              "#0d0887"
             ],
             [
              0.1111111111111111,
              "#46039f"
             ],
             [
              0.2222222222222222,
              "#7201a8"
             ],
             [
              0.3333333333333333,
              "#9c179e"
             ],
             [
              0.4444444444444444,
              "#bd3786"
             ],
             [
              0.5555555555555556,
              "#d8576b"
             ],
             [
              0.6666666666666666,
              "#ed7953"
             ],
             [
              0.7777777777777778,
              "#fb9f3a"
             ],
             [
              0.8888888888888888,
              "#fdca26"
             ],
             [
              1,
              "#f0f921"
             ]
            ],
            "type": "heatmap"
           }
          ],
          "histogram": [
           {
            "marker": {
             "pattern": {
              "fillmode": "overlay",
              "size": 10,
              "solidity": 0.2
             }
            },
            "type": "histogram"
           }
          ],
          "histogram2d": [
           {
            "colorbar": {
             "outlinewidth": 0,
             "ticks": ""
            },
            "colorscale": [
             [
              0,
              "#0d0887"
             ],
             [
              0.1111111111111111,
              "#46039f"
             ],
             [
              0.2222222222222222,
              "#7201a8"
             ],
             [
              0.3333333333333333,
              "#9c179e"
             ],
             [
              0.4444444444444444,
              "#bd3786"
             ],
             [
              0.5555555555555556,
              "#d8576b"
             ],
             [
              0.6666666666666666,
              "#ed7953"
             ],
             [
              0.7777777777777778,
              "#fb9f3a"
             ],
             [
              0.8888888888888888,
              "#fdca26"
             ],
             [
              1,
              "#f0f921"
             ]
            ],
            "type": "histogram2d"
           }
          ],
          "histogram2dcontour": [
           {
            "colorbar": {
             "outlinewidth": 0,
             "ticks": ""
            },
            "colorscale": [
             [
              0,
              "#0d0887"
             ],
             [
              0.1111111111111111,
              "#46039f"
             ],
             [
              0.2222222222222222,
              "#7201a8"
             ],
             [
              0.3333333333333333,
              "#9c179e"
             ],
             [
              0.4444444444444444,
              "#bd3786"
             ],
             [
              0.5555555555555556,
              "#d8576b"
             ],
             [
              0.6666666666666666,
              "#ed7953"
             ],
             [
              0.7777777777777778,
              "#fb9f3a"
             ],
             [
              0.8888888888888888,
              "#fdca26"
             ],
             [
              1,
              "#f0f921"
             ]
            ],
            "type": "histogram2dcontour"
           }
          ],
          "mesh3d": [
           {
            "colorbar": {
             "outlinewidth": 0,
             "ticks": ""
            },
            "type": "mesh3d"
           }
          ],
          "parcoords": [
           {
            "line": {
             "colorbar": {
              "outlinewidth": 0,
              "ticks": ""
             }
            },
            "type": "parcoords"
           }
          ],
          "pie": [
           {
            "automargin": true,
            "type": "pie"
           }
          ],
          "scatter": [
           {
            "fillpattern": {
             "fillmode": "overlay",
             "size": 10,
             "solidity": 0.2
            },
            "type": "scatter"
           }
          ],
          "scatter3d": [
           {
            "line": {
             "colorbar": {
              "outlinewidth": 0,
              "ticks": ""
             }
            },
            "marker": {
             "colorbar": {
              "outlinewidth": 0,
              "ticks": ""
             }
            },
            "type": "scatter3d"
           }
          ],
          "scattercarpet": [
           {
            "marker": {
             "colorbar": {
              "outlinewidth": 0,
              "ticks": ""
             }
            },
            "type": "scattercarpet"
           }
          ],
          "scattergeo": [
           {
            "marker": {
             "colorbar": {
              "outlinewidth": 0,
              "ticks": ""
             }
            },
            "type": "scattergeo"
           }
          ],
          "scattergl": [
           {
            "marker": {
             "colorbar": {
              "outlinewidth": 0,
              "ticks": ""
             }
            },
            "type": "scattergl"
           }
          ],
          "scattermap": [
           {
            "marker": {
             "colorbar": {
              "outlinewidth": 0,
              "ticks": ""
             }
            },
            "type": "scattermap"
           }
          ],
          "scattermapbox": [
           {
            "marker": {
             "colorbar": {
              "outlinewidth": 0,
              "ticks": ""
             }
            },
            "type": "scattermapbox"
           }
          ],
          "scatterpolar": [
           {
            "marker": {
             "colorbar": {
              "outlinewidth": 0,
              "ticks": ""
             }
            },
            "type": "scatterpolar"
           }
          ],
          "scatterpolargl": [
           {
            "marker": {
             "colorbar": {
              "outlinewidth": 0,
              "ticks": ""
             }
            },
            "type": "scatterpolargl"
           }
          ],
          "scatterternary": [
           {
            "marker": {
             "colorbar": {
              "outlinewidth": 0,
              "ticks": ""
             }
            },
            "type": "scatterternary"
           }
          ],
          "surface": [
           {
            "colorbar": {
             "outlinewidth": 0,
             "ticks": ""
            },
            "colorscale": [
             [
              0,
              "#0d0887"
             ],
             [
              0.1111111111111111,
              "#46039f"
             ],
             [
              0.2222222222222222,
              "#7201a8"
             ],
             [
              0.3333333333333333,
              "#9c179e"
             ],
             [
              0.4444444444444444,
              "#bd3786"
             ],
             [
              0.5555555555555556,
              "#d8576b"
             ],
             [
              0.6666666666666666,
              "#ed7953"
             ],
             [
              0.7777777777777778,
              "#fb9f3a"
             ],
             [
              0.8888888888888888,
              "#fdca26"
             ],
             [
              1,
              "#f0f921"
             ]
            ],
            "type": "surface"
           }
          ],
          "table": [
           {
            "cells": {
             "fill": {
              "color": "#EBF0F8"
             },
             "line": {
              "color": "white"
             }
            },
            "header": {
             "fill": {
              "color": "#C8D4E3"
             },
             "line": {
              "color": "white"
             }
            },
            "type": "table"
           }
          ]
         },
         "layout": {
          "annotationdefaults": {
           "arrowcolor": "#2a3f5f",
           "arrowhead": 0,
           "arrowwidth": 1
          },
          "autotypenumbers": "strict",
          "coloraxis": {
           "colorbar": {
            "outlinewidth": 0,
            "ticks": ""
           }
          },
          "colorscale": {
           "diverging": [
            [
             0,
             "#8e0152"
            ],
            [
             0.1,
             "#c51b7d"
            ],
            [
             0.2,
             "#de77ae"
            ],
            [
             0.3,
             "#f1b6da"
            ],
            [
             0.4,
             "#fde0ef"
            ],
            [
             0.5,
             "#f7f7f7"
            ],
            [
             0.6,
             "#e6f5d0"
            ],
            [
             0.7,
             "#b8e186"
            ],
            [
             0.8,
             "#7fbc41"
            ],
            [
             0.9,
             "#4d9221"
            ],
            [
             1,
             "#276419"
            ]
           ],
           "sequential": [
            [
             0,
             "#0d0887"
            ],
            [
             0.1111111111111111,
             "#46039f"
            ],
            [
             0.2222222222222222,
             "#7201a8"
            ],
            [
             0.3333333333333333,
             "#9c179e"
            ],
            [
             0.4444444444444444,
             "#bd3786"
            ],
            [
             0.5555555555555556,
             "#d8576b"
            ],
            [
             0.6666666666666666,
             "#ed7953"
            ],
            [
             0.7777777777777778,
             "#fb9f3a"
            ],
            [
             0.8888888888888888,
             "#fdca26"
            ],
            [
             1,
             "#f0f921"
            ]
           ],
           "sequentialminus": [
            [
             0,
             "#0d0887"
            ],
            [
             0.1111111111111111,
             "#46039f"
            ],
            [
             0.2222222222222222,
             "#7201a8"
            ],
            [
             0.3333333333333333,
             "#9c179e"
            ],
            [
             0.4444444444444444,
             "#bd3786"
            ],
            [
             0.5555555555555556,
             "#d8576b"
            ],
            [
             0.6666666666666666,
             "#ed7953"
            ],
            [
             0.7777777777777778,
             "#fb9f3a"
            ],
            [
             0.8888888888888888,
             "#fdca26"
            ],
            [
             1,
             "#f0f921"
            ]
           ]
          },
          "colorway": [
           "#636efa",
           "#EF553B",
           "#00cc96",
           "#ab63fa",
           "#FFA15A",
           "#19d3f3",
           "#FF6692",
           "#B6E880",
           "#FF97FF",
           "#FECB52"
          ],
          "font": {
           "color": "#2a3f5f"
          },
          "geo": {
           "bgcolor": "white",
           "lakecolor": "white",
           "landcolor": "#E5ECF6",
           "showlakes": true,
           "showland": true,
           "subunitcolor": "white"
          },
          "hoverlabel": {
           "align": "left"
          },
          "hovermode": "closest",
          "mapbox": {
           "style": "light"
          },
          "paper_bgcolor": "white",
          "plot_bgcolor": "#E5ECF6",
          "polar": {
           "angularaxis": {
            "gridcolor": "white",
            "linecolor": "white",
            "ticks": ""
           },
           "bgcolor": "#E5ECF6",
           "radialaxis": {
            "gridcolor": "white",
            "linecolor": "white",
            "ticks": ""
           }
          },
          "scene": {
           "xaxis": {
            "backgroundcolor": "#E5ECF6",
            "gridcolor": "white",
            "gridwidth": 2,
            "linecolor": "white",
            "showbackground": true,
            "ticks": "",
            "zerolinecolor": "white"
           },
           "yaxis": {
            "backgroundcolor": "#E5ECF6",
            "gridcolor": "white",
            "gridwidth": 2,
            "linecolor": "white",
            "showbackground": true,
            "ticks": "",
            "zerolinecolor": "white"
           },
           "zaxis": {
            "backgroundcolor": "#E5ECF6",
            "gridcolor": "white",
            "gridwidth": 2,
            "linecolor": "white",
            "showbackground": true,
            "ticks": "",
            "zerolinecolor": "white"
           }
          },
          "shapedefaults": {
           "line": {
            "color": "#2a3f5f"
           }
          },
          "ternary": {
           "aaxis": {
            "gridcolor": "white",
            "linecolor": "white",
            "ticks": ""
           },
           "baxis": {
            "gridcolor": "white",
            "linecolor": "white",
            "ticks": ""
           },
           "bgcolor": "#E5ECF6",
           "caxis": {
            "gridcolor": "white",
            "linecolor": "white",
            "ticks": ""
           }
          },
          "title": {
           "x": 0.05
          },
          "xaxis": {
           "automargin": true,
           "gridcolor": "white",
           "linecolor": "white",
           "ticks": "",
           "title": {
            "standoff": 15
           },
           "zerolinecolor": "white",
           "zerolinewidth": 2
          },
          "yaxis": {
           "automargin": true,
           "gridcolor": "white",
           "linecolor": "white",
           "ticks": "",
           "title": {
            "standoff": 15
           },
           "zerolinecolor": "white",
           "zerolinewidth": 2
          }
         }
        },
        "title": {
         "text": "FORGE16BApril24NetworkStage 2.csv",
         "x": 0.5
        },
        "width": 800
       }
      }
     },
     "metadata": {},
     "output_type": "display_data"
    },
    {
     "data": {
      "application/vnd.plotly.v1+json": {
       "config": {
        "plotlyServerURL": "https://plot.ly"
       },
       "data": [
        {
         "hovertemplate": "X Coordinate (m)=%{x}<br>Y Coordinate (m)=%{y}<br>Depth (m)=%{z}<br>size=%{marker.size}<br>Moment Magnitude=%{marker.color}<extra></extra>",
         "legendgroup": "",
         "marker": {
          "color": {
           "bdata": "uB6F61G43r89CtejcD3ivx+F61G4HuW/KVyPwvUo3L/Xo3A9CtfTv83MzMzMzNy/KVyPwvUo3L9SuB6F61HIP9ejcD0K19O/H4XrUbge1b8pXI/C9Sjkv9ejcD0K19O/w/UoXI/C1b/sUbgehevRv3E9CtejcN2/pHA9Ctej4L/D9Shcj8LVvxSuR+F6FN6/4XoUrkfh4r+F61G4HoXjv4XrUbgeheu/16NwPQrX079I4XoUrkfhv4/C9Shcj9K/mpmZmZmZ2b8pXI/C9Sjkvylcj8L1KLy/7FG4HoXr0b/sUbgehevRv3E9CtejcN2/SOF6FK5H6b+F61G4HoXjv8P1KFyPwuW/CtejcD0K57+PwvUoXI/Sv+xRuB6F6+m/mpmZmZmZ6b97FK5H4XrUvwAAAAAAAOA/H4XrUbge1b8pXI/C9SjMv+F6FK5H4eq/pHA9Ctej6L+PwvUoXI/iv3E9CtejcM0/",
           "dtype": "f8"
          },
          "coloraxis": "coloraxis",
          "line": {
           "width": 0
          },
          "opacity": 0.7,
          "size": {
           "bdata": "AQEBAQEBAQEBAQEBAQEBAQEBAQEBAQEBAQEBAQEBAQEBAQEBAQEBAQEBAQEB",
           "dtype": "i1"
          },
          "sizemode": "area",
          "sizeref": 0.00510204081632653,
          "symbol": "circle"
         },
         "mode": "markers",
         "name": "",
         "scene": "scene",
         "showlegend": false,
         "type": "scatter3d",
         "x": {
          "bdata": "yAp4CmQKPAo8CloKbgoyCmQKRgqqCmQKHgoKCoIKPApGCgAKUAqWCkoLPAp4CtIKyApaCoIKRgoUCkYKIgsyCjwK3AqIDqAK0gq+CqYOvgq+CrQKGAvSCuIO",
          "dtype": "i2"
         },
         "y": {
          "bdata": "NP6G/Bj8aPyo/VT8Fv7C/Kj9nv3Q/Wj84Pzg/Kj9Svz4/cz8+P2A/eD8qP2o/cb9xv2o/V78qP1K/AL+jv6e/dr9Uv5A/OT9NP7g/A784Pzg/LL9hP5i/dT5",
          "dtype": "i2"
         },
         "z": {
          "bdata": "Rh6+HhQePB6qHigeeB50HXgelh60Hnge0h7IHrQeVh1uHr4ejB6WHiQdlh6WHtgdgh5QHmQetB54HoIeyB6MHqoeDh/qH/AeQB8CHEofFhwCHAwcHh40HHge",
          "dtype": "i2"
         }
        }
       ],
       "layout": {
        "coloraxis": {
         "cmax": 1.85,
         "cmin": -1.09,
         "colorbar": {
          "ticklen": 6,
          "tickmode": "array",
          "ticks": "outside",
          "tickvals": [
           -1.09,
           -1,
           -0.5,
           0,
           0.5,
           1,
           1.5,
           1.85
          ],
          "tickwidth": 1,
          "title": {
           "side": "top",
           "text": "Moment Magnitude"
          }
         },
         "colorscale": [
          [
           0,
           "#0d0887"
          ],
          [
           0.1111111111111111,
           "#46039f"
          ],
          [
           0.2222222222222222,
           "#7201a8"
          ],
          [
           0.3333333333333333,
           "#9c179e"
          ],
          [
           0.4444444444444444,
           "#bd3786"
          ],
          [
           0.5555555555555556,
           "#d8576b"
          ],
          [
           0.6666666666666666,
           "#ed7953"
          ],
          [
           0.7777777777777778,
           "#fb9f3a"
          ],
          [
           0.8888888888888888,
           "#fdca26"
          ],
          [
           1,
           "#f0f921"
          ]
         ]
        },
        "height": 600,
        "legend": {
         "itemsizing": "constant",
         "tracegroupgap": 0
        },
        "margin": {
         "b": 40,
         "l": 40,
         "r": 40,
         "t": 40
        },
        "scene": {
         "aspectmode": "cube",
         "camera": {
          "eye": {
           "x": 1.5,
           "y": 1.5,
           "z": 1.5
          }
         },
         "domain": {
          "x": [
           0,
           1
          ],
          "y": [
           0,
           1
          ]
         },
         "xaxis": {
          "range": [
           -3660,
           3890
          ],
          "title": {
           "text": "X Coordinate (m)"
          }
         },
         "yaxis": {
          "range": [
           -5060,
           1180
          ],
          "title": {
           "text": "Y Coordinate (m)"
          }
         },
         "zaxis": {
          "range": [
           9500,
           5580
          ],
          "title": {
           "text": "Depth (m)"
          }
         }
        },
        "template": {
         "data": {
          "bar": [
           {
            "error_x": {
             "color": "#2a3f5f"
            },
            "error_y": {
             "color": "#2a3f5f"
            },
            "marker": {
             "line": {
              "color": "#E5ECF6",
              "width": 0.5
             },
             "pattern": {
              "fillmode": "overlay",
              "size": 10,
              "solidity": 0.2
             }
            },
            "type": "bar"
           }
          ],
          "barpolar": [
           {
            "marker": {
             "line": {
              "color": "#E5ECF6",
              "width": 0.5
             },
             "pattern": {
              "fillmode": "overlay",
              "size": 10,
              "solidity": 0.2
             }
            },
            "type": "barpolar"
           }
          ],
          "carpet": [
           {
            "aaxis": {
             "endlinecolor": "#2a3f5f",
             "gridcolor": "white",
             "linecolor": "white",
             "minorgridcolor": "white",
             "startlinecolor": "#2a3f5f"
            },
            "baxis": {
             "endlinecolor": "#2a3f5f",
             "gridcolor": "white",
             "linecolor": "white",
             "minorgridcolor": "white",
             "startlinecolor": "#2a3f5f"
            },
            "type": "carpet"
           }
          ],
          "choropleth": [
           {
            "colorbar": {
             "outlinewidth": 0,
             "ticks": ""
            },
            "type": "choropleth"
           }
          ],
          "contour": [
           {
            "colorbar": {
             "outlinewidth": 0,
             "ticks": ""
            },
            "colorscale": [
             [
              0,
              "#0d0887"
             ],
             [
              0.1111111111111111,
              "#46039f"
             ],
             [
              0.2222222222222222,
              "#7201a8"
             ],
             [
              0.3333333333333333,
              "#9c179e"
             ],
             [
              0.4444444444444444,
              "#bd3786"
             ],
             [
              0.5555555555555556,
              "#d8576b"
             ],
             [
              0.6666666666666666,
              "#ed7953"
             ],
             [
              0.7777777777777778,
              "#fb9f3a"
             ],
             [
              0.8888888888888888,
              "#fdca26"
             ],
             [
              1,
              "#f0f921"
             ]
            ],
            "type": "contour"
           }
          ],
          "contourcarpet": [
           {
            "colorbar": {
             "outlinewidth": 0,
             "ticks": ""
            },
            "type": "contourcarpet"
           }
          ],
          "heatmap": [
           {
            "colorbar": {
             "outlinewidth": 0,
             "ticks": ""
            },
            "colorscale": [
             [
              0,
              "#0d0887"
             ],
             [
              0.1111111111111111,
              "#46039f"
             ],
             [
              0.2222222222222222,
              "#7201a8"
             ],
             [
              0.3333333333333333,
              "#9c179e"
             ],
             [
              0.4444444444444444,
              "#bd3786"
             ],
             [
              0.5555555555555556,
              "#d8576b"
             ],
             [
              0.6666666666666666,
              "#ed7953"
             ],
             [
              0.7777777777777778,
              "#fb9f3a"
             ],
             [
              0.8888888888888888,
              "#fdca26"
             ],
             [
              1,
              "#f0f921"
             ]
            ],
            "type": "heatmap"
           }
          ],
          "histogram": [
           {
            "marker": {
             "pattern": {
              "fillmode": "overlay",
              "size": 10,
              "solidity": 0.2
             }
            },
            "type": "histogram"
           }
          ],
          "histogram2d": [
           {
            "colorbar": {
             "outlinewidth": 0,
             "ticks": ""
            },
            "colorscale": [
             [
              0,
              "#0d0887"
             ],
             [
              0.1111111111111111,
              "#46039f"
             ],
             [
              0.2222222222222222,
              "#7201a8"
             ],
             [
              0.3333333333333333,
              "#9c179e"
             ],
             [
              0.4444444444444444,
              "#bd3786"
             ],
             [
              0.5555555555555556,
              "#d8576b"
             ],
             [
              0.6666666666666666,
              "#ed7953"
             ],
             [
              0.7777777777777778,
              "#fb9f3a"
             ],
             [
              0.8888888888888888,
              "#fdca26"
             ],
             [
              1,
              "#f0f921"
             ]
            ],
            "type": "histogram2d"
           }
          ],
          "histogram2dcontour": [
           {
            "colorbar": {
             "outlinewidth": 0,
             "ticks": ""
            },
            "colorscale": [
             [
              0,
              "#0d0887"
             ],
             [
              0.1111111111111111,
              "#46039f"
             ],
             [
              0.2222222222222222,
              "#7201a8"
             ],
             [
              0.3333333333333333,
              "#9c179e"
             ],
             [
              0.4444444444444444,
              "#bd3786"
             ],
             [
              0.5555555555555556,
              "#d8576b"
             ],
             [
              0.6666666666666666,
              "#ed7953"
             ],
             [
              0.7777777777777778,
              "#fb9f3a"
             ],
             [
              0.8888888888888888,
              "#fdca26"
             ],
             [
              1,
              "#f0f921"
             ]
            ],
            "type": "histogram2dcontour"
           }
          ],
          "mesh3d": [
           {
            "colorbar": {
             "outlinewidth": 0,
             "ticks": ""
            },
            "type": "mesh3d"
           }
          ],
          "parcoords": [
           {
            "line": {
             "colorbar": {
              "outlinewidth": 0,
              "ticks": ""
             }
            },
            "type": "parcoords"
           }
          ],
          "pie": [
           {
            "automargin": true,
            "type": "pie"
           }
          ],
          "scatter": [
           {
            "fillpattern": {
             "fillmode": "overlay",
             "size": 10,
             "solidity": 0.2
            },
            "type": "scatter"
           }
          ],
          "scatter3d": [
           {
            "line": {
             "colorbar": {
              "outlinewidth": 0,
              "ticks": ""
             }
            },
            "marker": {
             "colorbar": {
              "outlinewidth": 0,
              "ticks": ""
             }
            },
            "type": "scatter3d"
           }
          ],
          "scattercarpet": [
           {
            "marker": {
             "colorbar": {
              "outlinewidth": 0,
              "ticks": ""
             }
            },
            "type": "scattercarpet"
           }
          ],
          "scattergeo": [
           {
            "marker": {
             "colorbar": {
              "outlinewidth": 0,
              "ticks": ""
             }
            },
            "type": "scattergeo"
           }
          ],
          "scattergl": [
           {
            "marker": {
             "colorbar": {
              "outlinewidth": 0,
              "ticks": ""
             }
            },
            "type": "scattergl"
           }
          ],
          "scattermap": [
           {
            "marker": {
             "colorbar": {
              "outlinewidth": 0,
              "ticks": ""
             }
            },
            "type": "scattermap"
           }
          ],
          "scattermapbox": [
           {
            "marker": {
             "colorbar": {
              "outlinewidth": 0,
              "ticks": ""
             }
            },
            "type": "scattermapbox"
           }
          ],
          "scatterpolar": [
           {
            "marker": {
             "colorbar": {
              "outlinewidth": 0,
              "ticks": ""
             }
            },
            "type": "scatterpolar"
           }
          ],
          "scatterpolargl": [
           {
            "marker": {
             "colorbar": {
              "outlinewidth": 0,
              "ticks": ""
             }
            },
            "type": "scatterpolargl"
           }
          ],
          "scatterternary": [
           {
            "marker": {
             "colorbar": {
              "outlinewidth": 0,
              "ticks": ""
             }
            },
            "type": "scatterternary"
           }
          ],
          "surface": [
           {
            "colorbar": {
             "outlinewidth": 0,
             "ticks": ""
            },
            "colorscale": [
             [
              0,
              "#0d0887"
             ],
             [
              0.1111111111111111,
              "#46039f"
             ],
             [
              0.2222222222222222,
              "#7201a8"
             ],
             [
              0.3333333333333333,
              "#9c179e"
             ],
             [
              0.4444444444444444,
              "#bd3786"
             ],
             [
              0.5555555555555556,
              "#d8576b"
             ],
             [
              0.6666666666666666,
              "#ed7953"
             ],
             [
              0.7777777777777778,
              "#fb9f3a"
             ],
             [
              0.8888888888888888,
              "#fdca26"
             ],
             [
              1,
              "#f0f921"
             ]
            ],
            "type": "surface"
           }
          ],
          "table": [
           {
            "cells": {
             "fill": {
              "color": "#EBF0F8"
             },
             "line": {
              "color": "white"
             }
            },
            "header": {
             "fill": {
              "color": "#C8D4E3"
             },
             "line": {
              "color": "white"
             }
            },
            "type": "table"
           }
          ]
         },
         "layout": {
          "annotationdefaults": {
           "arrowcolor": "#2a3f5f",
           "arrowhead": 0,
           "arrowwidth": 1
          },
          "autotypenumbers": "strict",
          "coloraxis": {
           "colorbar": {
            "outlinewidth": 0,
            "ticks": ""
           }
          },
          "colorscale": {
           "diverging": [
            [
             0,
             "#8e0152"
            ],
            [
             0.1,
             "#c51b7d"
            ],
            [
             0.2,
             "#de77ae"
            ],
            [
             0.3,
             "#f1b6da"
            ],
            [
             0.4,
             "#fde0ef"
            ],
            [
             0.5,
             "#f7f7f7"
            ],
            [
             0.6,
             "#e6f5d0"
            ],
            [
             0.7,
             "#b8e186"
            ],
            [
             0.8,
             "#7fbc41"
            ],
            [
             0.9,
             "#4d9221"
            ],
            [
             1,
             "#276419"
            ]
           ],
           "sequential": [
            [
             0,
             "#0d0887"
            ],
            [
             0.1111111111111111,
             "#46039f"
            ],
            [
             0.2222222222222222,
             "#7201a8"
            ],
            [
             0.3333333333333333,
             "#9c179e"
            ],
            [
             0.4444444444444444,
             "#bd3786"
            ],
            [
             0.5555555555555556,
             "#d8576b"
            ],
            [
             0.6666666666666666,
             "#ed7953"
            ],
            [
             0.7777777777777778,
             "#fb9f3a"
            ],
            [
             0.8888888888888888,
             "#fdca26"
            ],
            [
             1,
             "#f0f921"
            ]
           ],
           "sequentialminus": [
            [
             0,
             "#0d0887"
            ],
            [
             0.1111111111111111,
             "#46039f"
            ],
            [
             0.2222222222222222,
             "#7201a8"
            ],
            [
             0.3333333333333333,
             "#9c179e"
            ],
            [
             0.4444444444444444,
             "#bd3786"
            ],
            [
             0.5555555555555556,
             "#d8576b"
            ],
            [
             0.6666666666666666,
             "#ed7953"
            ],
            [
             0.7777777777777778,
             "#fb9f3a"
            ],
            [
             0.8888888888888888,
             "#fdca26"
            ],
            [
             1,
             "#f0f921"
            ]
           ]
          },
          "colorway": [
           "#636efa",
           "#EF553B",
           "#00cc96",
           "#ab63fa",
           "#FFA15A",
           "#19d3f3",
           "#FF6692",
           "#B6E880",
           "#FF97FF",
           "#FECB52"
          ],
          "font": {
           "color": "#2a3f5f"
          },
          "geo": {
           "bgcolor": "white",
           "lakecolor": "white",
           "landcolor": "#E5ECF6",
           "showlakes": true,
           "showland": true,
           "subunitcolor": "white"
          },
          "hoverlabel": {
           "align": "left"
          },
          "hovermode": "closest",
          "mapbox": {
           "style": "light"
          },
          "paper_bgcolor": "white",
          "plot_bgcolor": "#E5ECF6",
          "polar": {
           "angularaxis": {
            "gridcolor": "white",
            "linecolor": "white",
            "ticks": ""
           },
           "bgcolor": "#E5ECF6",
           "radialaxis": {
            "gridcolor": "white",
            "linecolor": "white",
            "ticks": ""
           }
          },
          "scene": {
           "xaxis": {
            "backgroundcolor": "#E5ECF6",
            "gridcolor": "white",
            "gridwidth": 2,
            "linecolor": "white",
            "showbackground": true,
            "ticks": "",
            "zerolinecolor": "white"
           },
           "yaxis": {
            "backgroundcolor": "#E5ECF6",
            "gridcolor": "white",
            "gridwidth": 2,
            "linecolor": "white",
            "showbackground": true,
            "ticks": "",
            "zerolinecolor": "white"
           },
           "zaxis": {
            "backgroundcolor": "#E5ECF6",
            "gridcolor": "white",
            "gridwidth": 2,
            "linecolor": "white",
            "showbackground": true,
            "ticks": "",
            "zerolinecolor": "white"
           }
          },
          "shapedefaults": {
           "line": {
            "color": "#2a3f5f"
           }
          },
          "ternary": {
           "aaxis": {
            "gridcolor": "white",
            "linecolor": "white",
            "ticks": ""
           },
           "baxis": {
            "gridcolor": "white",
            "linecolor": "white",
            "ticks": ""
           },
           "bgcolor": "#E5ECF6",
           "caxis": {
            "gridcolor": "white",
            "linecolor": "white",
            "ticks": ""
           }
          },
          "title": {
           "x": 0.05
          },
          "xaxis": {
           "automargin": true,
           "gridcolor": "white",
           "linecolor": "white",
           "ticks": "",
           "title": {
            "standoff": 15
           },
           "zerolinecolor": "white",
           "zerolinewidth": 2
          },
          "yaxis": {
           "automargin": true,
           "gridcolor": "white",
           "linecolor": "white",
           "ticks": "",
           "title": {
            "standoff": 15
           },
           "zerolinecolor": "white",
           "zerolinewidth": 2
          }
         }
        },
        "title": {
         "text": "FORGE16BApril24NetworkStage 3.csv",
         "x": 0.5
        },
        "width": 800
       }
      }
     },
     "metadata": {},
     "output_type": "display_data"
    },
    {
     "data": {
      "application/vnd.plotly.v1+json": {
       "config": {
        "plotlyServerURL": "https://plot.ly"
       },
       "data": [
        {
         "hovertemplate": "X Coordinate (m)=%{x}<br>Y Coordinate (m)=%{y}<br>Depth (m)=%{z}<br>size=%{marker.size}<br>Moment Magnitude=%{marker.color}<extra></extra>",
         "legendgroup": "",
         "marker": {
          "color": {
           "bdata": "KVyPwvUo3L+F61G4HoXbv83MzMzMzNy/KVyPwvUo3L9xPQrXo3DNv5qZmZmZmeG/cT0K16Nw5b+F61G4HoXjv+F6FK5H4eK/9ihcj8L12L/Xo3A9Ctfjv8P1KFyPwuW/hetRuB6F279mZmZmZmbmv/YoXI/C9di/CtejcD0K17/2KFyPwvXgv+F6FK5H4dq/16NwPQrX47/2KFyPwvXov7gehetRuN6/SOF6FK5H4b8UrkfhehTev4/C9Shcj9K/XI/C9Shc579I4XoUrkfpv4/C9Shcj9K/CtejcD0K179SuB6F61HIv9ejcD0K19O/MzMzMzMzwz8UrkfhehTmv/YoXI/C9ei/uB6F61G45r8zMzMzMzPDP8P1KFyPwtW/MzMzMzMz47+4HoXrUbjmvwrXo3A9Cse/hetRuB6F478pXI/C9Sjkv3sUrkfheqQ/ZmZmZmZm5r97FK5H4Xqkv3sUrkfheqQ/7FG4HoXr4b/Xo3A9Ctfjvw==",
           "dtype": "f8"
          },
          "coloraxis": "coloraxis",
          "line": {
           "width": 0
          },
          "opacity": 0.7,
          "size": {
           "bdata": "AQEBAQEBAQEBAQEBAQEBAQEBAQEBAQEBAQEBAQEBAQEBAQEBAQEBAQEBAQEBAQE=",
           "dtype": "i1"
          },
          "sizemode": "area",
          "sizeref": 0.00510204081632653,
          "symbol": "circle"
         },
         "mode": "markers",
         "name": "",
         "scene": "scene",
         "showlegend": false,
         "type": "scatter3d",
         "x": {
          "bdata": "HAyUDIAMJgxYDBwMEgxODHYMgAyADGIMlAxsDLIM6gtsDIAMQglsDHYMRAwSDGwMHAxEDDgO1guIDhAOHg9iDMwLTgwACjIPigzECSANSA2mCdAHEAlSDVwNLgl+CQ==",
          "dtype": "i2"
         },
         "y": {
          "bdata": "tPuo/aj9tPuo/cj7yPsC/tr9nv3u/e79IP4g/j7+gvtc/gL+2P8q/hb+qvsW/pb7tPsE/HT6Rvum+oj6Rvuo/dL7Kv44/xj8sv3a/S4E5vtw/hr/Fv6cBAL+4PyO/g==",
          "dtype": "i2"
         },
         "z": {
          "bdata": "Rh4KHigeKB60HjIeHh4UHm4evh4eHuIdHh5aHqoe0h7OHfYdlBs8HhQeKB6+Hh4eFB7OHWIgBB82H2IgaB+CHs4dPB7MFaAelh56F+YejhxmIfQf0h7gHzobOCI6Gw==",
          "dtype": "i2"
         }
        }
       ],
       "layout": {
        "coloraxis": {
         "cmax": 1.85,
         "cmin": -1.09,
         "colorbar": {
          "ticklen": 6,
          "tickmode": "array",
          "ticks": "outside",
          "tickvals": [
           -1.09,
           -1,
           -0.5,
           0,
           0.5,
           1,
           1.5,
           1.85
          ],
          "tickwidth": 1,
          "title": {
           "side": "top",
           "text": "Moment Magnitude"
          }
         },
         "colorscale": [
          [
           0,
           "#0d0887"
          ],
          [
           0.1111111111111111,
           "#46039f"
          ],
          [
           0.2222222222222222,
           "#7201a8"
          ],
          [
           0.3333333333333333,
           "#9c179e"
          ],
          [
           0.4444444444444444,
           "#bd3786"
          ],
          [
           0.5555555555555556,
           "#d8576b"
          ],
          [
           0.6666666666666666,
           "#ed7953"
          ],
          [
           0.7777777777777778,
           "#fb9f3a"
          ],
          [
           0.8888888888888888,
           "#fdca26"
          ],
          [
           1,
           "#f0f921"
          ]
         ]
        },
        "height": 600,
        "legend": {
         "itemsizing": "constant",
         "tracegroupgap": 0
        },
        "margin": {
         "b": 40,
         "l": 40,
         "r": 40,
         "t": 40
        },
        "scene": {
         "aspectmode": "cube",
         "camera": {
          "eye": {
           "x": 1.5,
           "y": 1.5,
           "z": 1.5
          }
         },
         "domain": {
          "x": [
           0,
           1
          ],
          "y": [
           0,
           1
          ]
         },
         "xaxis": {
          "range": [
           -3660,
           3890
          ],
          "title": {
           "text": "X Coordinate (m)"
          }
         },
         "yaxis": {
          "range": [
           -5060,
           1180
          ],
          "title": {
           "text": "Y Coordinate (m)"
          }
         },
         "zaxis": {
          "range": [
           9500,
           5580
          ],
          "title": {
           "text": "Depth (m)"
          }
         }
        },
        "template": {
         "data": {
          "bar": [
           {
            "error_x": {
             "color": "#2a3f5f"
            },
            "error_y": {
             "color": "#2a3f5f"
            },
            "marker": {
             "line": {
              "color": "#E5ECF6",
              "width": 0.5
             },
             "pattern": {
              "fillmode": "overlay",
              "size": 10,
              "solidity": 0.2
             }
            },
            "type": "bar"
           }
          ],
          "barpolar": [
           {
            "marker": {
             "line": {
              "color": "#E5ECF6",
              "width": 0.5
             },
             "pattern": {
              "fillmode": "overlay",
              "size": 10,
              "solidity": 0.2
             }
            },
            "type": "barpolar"
           }
          ],
          "carpet": [
           {
            "aaxis": {
             "endlinecolor": "#2a3f5f",
             "gridcolor": "white",
             "linecolor": "white",
             "minorgridcolor": "white",
             "startlinecolor": "#2a3f5f"
            },
            "baxis": {
             "endlinecolor": "#2a3f5f",
             "gridcolor": "white",
             "linecolor": "white",
             "minorgridcolor": "white",
             "startlinecolor": "#2a3f5f"
            },
            "type": "carpet"
           }
          ],
          "choropleth": [
           {
            "colorbar": {
             "outlinewidth": 0,
             "ticks": ""
            },
            "type": "choropleth"
           }
          ],
          "contour": [
           {
            "colorbar": {
             "outlinewidth": 0,
             "ticks": ""
            },
            "colorscale": [
             [
              0,
              "#0d0887"
             ],
             [
              0.1111111111111111,
              "#46039f"
             ],
             [
              0.2222222222222222,
              "#7201a8"
             ],
             [
              0.3333333333333333,
              "#9c179e"
             ],
             [
              0.4444444444444444,
              "#bd3786"
             ],
             [
              0.5555555555555556,
              "#d8576b"
             ],
             [
              0.6666666666666666,
              "#ed7953"
             ],
             [
              0.7777777777777778,
              "#fb9f3a"
             ],
             [
              0.8888888888888888,
              "#fdca26"
             ],
             [
              1,
              "#f0f921"
             ]
            ],
            "type": "contour"
           }
          ],
          "contourcarpet": [
           {
            "colorbar": {
             "outlinewidth": 0,
             "ticks": ""
            },
            "type": "contourcarpet"
           }
          ],
          "heatmap": [
           {
            "colorbar": {
             "outlinewidth": 0,
             "ticks": ""
            },
            "colorscale": [
             [
              0,
              "#0d0887"
             ],
             [
              0.1111111111111111,
              "#46039f"
             ],
             [
              0.2222222222222222,
              "#7201a8"
             ],
             [
              0.3333333333333333,
              "#9c179e"
             ],
             [
              0.4444444444444444,
              "#bd3786"
             ],
             [
              0.5555555555555556,
              "#d8576b"
             ],
             [
              0.6666666666666666,
              "#ed7953"
             ],
             [
              0.7777777777777778,
              "#fb9f3a"
             ],
             [
              0.8888888888888888,
              "#fdca26"
             ],
             [
              1,
              "#f0f921"
             ]
            ],
            "type": "heatmap"
           }
          ],
          "histogram": [
           {
            "marker": {
             "pattern": {
              "fillmode": "overlay",
              "size": 10,
              "solidity": 0.2
             }
            },
            "type": "histogram"
           }
          ],
          "histogram2d": [
           {
            "colorbar": {
             "outlinewidth": 0,
             "ticks": ""
            },
            "colorscale": [
             [
              0,
              "#0d0887"
             ],
             [
              0.1111111111111111,
              "#46039f"
             ],
             [
              0.2222222222222222,
              "#7201a8"
             ],
             [
              0.3333333333333333,
              "#9c179e"
             ],
             [
              0.4444444444444444,
              "#bd3786"
             ],
             [
              0.5555555555555556,
              "#d8576b"
             ],
             [
              0.6666666666666666,
              "#ed7953"
             ],
             [
              0.7777777777777778,
              "#fb9f3a"
             ],
             [
              0.8888888888888888,
              "#fdca26"
             ],
             [
              1,
              "#f0f921"
             ]
            ],
            "type": "histogram2d"
           }
          ],
          "histogram2dcontour": [
           {
            "colorbar": {
             "outlinewidth": 0,
             "ticks": ""
            },
            "colorscale": [
             [
              0,
              "#0d0887"
             ],
             [
              0.1111111111111111,
              "#46039f"
             ],
             [
              0.2222222222222222,
              "#7201a8"
             ],
             [
              0.3333333333333333,
              "#9c179e"
             ],
             [
              0.4444444444444444,
              "#bd3786"
             ],
             [
              0.5555555555555556,
              "#d8576b"
             ],
             [
              0.6666666666666666,
              "#ed7953"
             ],
             [
              0.7777777777777778,
              "#fb9f3a"
             ],
             [
              0.8888888888888888,
              "#fdca26"
             ],
             [
              1,
              "#f0f921"
             ]
            ],
            "type": "histogram2dcontour"
           }
          ],
          "mesh3d": [
           {
            "colorbar": {
             "outlinewidth": 0,
             "ticks": ""
            },
            "type": "mesh3d"
           }
          ],
          "parcoords": [
           {
            "line": {
             "colorbar": {
              "outlinewidth": 0,
              "ticks": ""
             }
            },
            "type": "parcoords"
           }
          ],
          "pie": [
           {
            "automargin": true,
            "type": "pie"
           }
          ],
          "scatter": [
           {
            "fillpattern": {
             "fillmode": "overlay",
             "size": 10,
             "solidity": 0.2
            },
            "type": "scatter"
           }
          ],
          "scatter3d": [
           {
            "line": {
             "colorbar": {
              "outlinewidth": 0,
              "ticks": ""
             }
            },
            "marker": {
             "colorbar": {
              "outlinewidth": 0,
              "ticks": ""
             }
            },
            "type": "scatter3d"
           }
          ],
          "scattercarpet": [
           {
            "marker": {
             "colorbar": {
              "outlinewidth": 0,
              "ticks": ""
             }
            },
            "type": "scattercarpet"
           }
          ],
          "scattergeo": [
           {
            "marker": {
             "colorbar": {
              "outlinewidth": 0,
              "ticks": ""
             }
            },
            "type": "scattergeo"
           }
          ],
          "scattergl": [
           {
            "marker": {
             "colorbar": {
              "outlinewidth": 0,
              "ticks": ""
             }
            },
            "type": "scattergl"
           }
          ],
          "scattermap": [
           {
            "marker": {
             "colorbar": {
              "outlinewidth": 0,
              "ticks": ""
             }
            },
            "type": "scattermap"
           }
          ],
          "scattermapbox": [
           {
            "marker": {
             "colorbar": {
              "outlinewidth": 0,
              "ticks": ""
             }
            },
            "type": "scattermapbox"
           }
          ],
          "scatterpolar": [
           {
            "marker": {
             "colorbar": {
              "outlinewidth": 0,
              "ticks": ""
             }
            },
            "type": "scatterpolar"
           }
          ],
          "scatterpolargl": [
           {
            "marker": {
             "colorbar": {
              "outlinewidth": 0,
              "ticks": ""
             }
            },
            "type": "scatterpolargl"
           }
          ],
          "scatterternary": [
           {
            "marker": {
             "colorbar": {
              "outlinewidth": 0,
              "ticks": ""
             }
            },
            "type": "scatterternary"
           }
          ],
          "surface": [
           {
            "colorbar": {
             "outlinewidth": 0,
             "ticks": ""
            },
            "colorscale": [
             [
              0,
              "#0d0887"
             ],
             [
              0.1111111111111111,
              "#46039f"
             ],
             [
              0.2222222222222222,
              "#7201a8"
             ],
             [
              0.3333333333333333,
              "#9c179e"
             ],
             [
              0.4444444444444444,
              "#bd3786"
             ],
             [
              0.5555555555555556,
              "#d8576b"
             ],
             [
              0.6666666666666666,
              "#ed7953"
             ],
             [
              0.7777777777777778,
              "#fb9f3a"
             ],
             [
              0.8888888888888888,
              "#fdca26"
             ],
             [
              1,
              "#f0f921"
             ]
            ],
            "type": "surface"
           }
          ],
          "table": [
           {
            "cells": {
             "fill": {
              "color": "#EBF0F8"
             },
             "line": {
              "color": "white"
             }
            },
            "header": {
             "fill": {
              "color": "#C8D4E3"
             },
             "line": {
              "color": "white"
             }
            },
            "type": "table"
           }
          ]
         },
         "layout": {
          "annotationdefaults": {
           "arrowcolor": "#2a3f5f",
           "arrowhead": 0,
           "arrowwidth": 1
          },
          "autotypenumbers": "strict",
          "coloraxis": {
           "colorbar": {
            "outlinewidth": 0,
            "ticks": ""
           }
          },
          "colorscale": {
           "diverging": [
            [
             0,
             "#8e0152"
            ],
            [
             0.1,
             "#c51b7d"
            ],
            [
             0.2,
             "#de77ae"
            ],
            [
             0.3,
             "#f1b6da"
            ],
            [
             0.4,
             "#fde0ef"
            ],
            [
             0.5,
             "#f7f7f7"
            ],
            [
             0.6,
             "#e6f5d0"
            ],
            [
             0.7,
             "#b8e186"
            ],
            [
             0.8,
             "#7fbc41"
            ],
            [
             0.9,
             "#4d9221"
            ],
            [
             1,
             "#276419"
            ]
           ],
           "sequential": [
            [
             0,
             "#0d0887"
            ],
            [
             0.1111111111111111,
             "#46039f"
            ],
            [
             0.2222222222222222,
             "#7201a8"
            ],
            [
             0.3333333333333333,
             "#9c179e"
            ],
            [
             0.4444444444444444,
             "#bd3786"
            ],
            [
             0.5555555555555556,
             "#d8576b"
            ],
            [
             0.6666666666666666,
             "#ed7953"
            ],
            [
             0.7777777777777778,
             "#fb9f3a"
            ],
            [
             0.8888888888888888,
             "#fdca26"
            ],
            [
             1,
             "#f0f921"
            ]
           ],
           "sequentialminus": [
            [
             0,
             "#0d0887"
            ],
            [
             0.1111111111111111,
             "#46039f"
            ],
            [
             0.2222222222222222,
             "#7201a8"
            ],
            [
             0.3333333333333333,
             "#9c179e"
            ],
            [
             0.4444444444444444,
             "#bd3786"
            ],
            [
             0.5555555555555556,
             "#d8576b"
            ],
            [
             0.6666666666666666,
             "#ed7953"
            ],
            [
             0.7777777777777778,
             "#fb9f3a"
            ],
            [
             0.8888888888888888,
             "#fdca26"
            ],
            [
             1,
             "#f0f921"
            ]
           ]
          },
          "colorway": [
           "#636efa",
           "#EF553B",
           "#00cc96",
           "#ab63fa",
           "#FFA15A",
           "#19d3f3",
           "#FF6692",
           "#B6E880",
           "#FF97FF",
           "#FECB52"
          ],
          "font": {
           "color": "#2a3f5f"
          },
          "geo": {
           "bgcolor": "white",
           "lakecolor": "white",
           "landcolor": "#E5ECF6",
           "showlakes": true,
           "showland": true,
           "subunitcolor": "white"
          },
          "hoverlabel": {
           "align": "left"
          },
          "hovermode": "closest",
          "mapbox": {
           "style": "light"
          },
          "paper_bgcolor": "white",
          "plot_bgcolor": "#E5ECF6",
          "polar": {
           "angularaxis": {
            "gridcolor": "white",
            "linecolor": "white",
            "ticks": ""
           },
           "bgcolor": "#E5ECF6",
           "radialaxis": {
            "gridcolor": "white",
            "linecolor": "white",
            "ticks": ""
           }
          },
          "scene": {
           "xaxis": {
            "backgroundcolor": "#E5ECF6",
            "gridcolor": "white",
            "gridwidth": 2,
            "linecolor": "white",
            "showbackground": true,
            "ticks": "",
            "zerolinecolor": "white"
           },
           "yaxis": {
            "backgroundcolor": "#E5ECF6",
            "gridcolor": "white",
            "gridwidth": 2,
            "linecolor": "white",
            "showbackground": true,
            "ticks": "",
            "zerolinecolor": "white"
           },
           "zaxis": {
            "backgroundcolor": "#E5ECF6",
            "gridcolor": "white",
            "gridwidth": 2,
            "linecolor": "white",
            "showbackground": true,
            "ticks": "",
            "zerolinecolor": "white"
           }
          },
          "shapedefaults": {
           "line": {
            "color": "#2a3f5f"
           }
          },
          "ternary": {
           "aaxis": {
            "gridcolor": "white",
            "linecolor": "white",
            "ticks": ""
           },
           "baxis": {
            "gridcolor": "white",
            "linecolor": "white",
            "ticks": ""
           },
           "bgcolor": "#E5ECF6",
           "caxis": {
            "gridcolor": "white",
            "linecolor": "white",
            "ticks": ""
           }
          },
          "title": {
           "x": 0.05
          },
          "xaxis": {
           "automargin": true,
           "gridcolor": "white",
           "linecolor": "white",
           "ticks": "",
           "title": {
            "standoff": 15
           },
           "zerolinecolor": "white",
           "zerolinewidth": 2
          },
          "yaxis": {
           "automargin": true,
           "gridcolor": "white",
           "linecolor": "white",
           "ticks": "",
           "title": {
            "standoff": 15
           },
           "zerolinecolor": "white",
           "zerolinewidth": 2
          }
         }
        },
        "title": {
         "text": "FORGE16BApril24NetworkStage 1.csv",
         "x": 0.5
        },
        "width": 800
       }
      }
     },
     "metadata": {},
     "output_type": "display_data"
    },
    {
     "data": {
      "application/vnd.plotly.v1+json": {
       "config": {
        "plotlyServerURL": "https://plot.ly"
       },
       "data": [
        {
         "hovertemplate": "X Coordinate (m)=%{x}<br>Y Coordinate (m)=%{y}<br>Depth (m)=%{z}<br>size=%{marker.size}<br>Moment Magnitude=%{marker.color}<extra></extra>",
         "legendgroup": "",
         "marker": {
          "color": {
           "bdata": "9ihcj8L18L8UrkfhehTuv7gehetRuO6/CtejcD0Kt78pXI/C9Sjkv5qZmZmZmbm/exSuR+F65L8=",
           "dtype": "f8"
          },
          "coloraxis": "coloraxis",
          "line": {
           "width": 0
          },
          "opacity": 0.7,
          "size": {
           "bdata": "AQEBAQEBAQ==",
           "dtype": "i1"
          },
          "sizemode": "area",
          "sizeref": 0.00510204081632653,
          "symbol": "circle"
         },
         "mode": "markers",
         "name": "",
         "scene": "scene",
         "showlegend": false,
         "type": "scatter3d",
         "x": {
          "bdata": "4gn8CMQJtPEW9ObxLPI=",
          "dtype": "i2"
         },
         "y": {
          "bdata": "vP1E/bL9/vd28+r3FvQ=",
          "dtype": "i2"
         },
         "z": {
          "bdata": "dB3oHAoemh+uH6Qfrh8=",
          "dtype": "i2"
         }
        }
       ],
       "layout": {
        "coloraxis": {
         "cmax": 1.85,
         "cmin": -1.09,
         "colorbar": {
          "ticklen": 6,
          "tickmode": "array",
          "ticks": "outside",
          "tickvals": [
           -1.09,
           -1,
           -0.5,
           0,
           0.5,
           1,
           1.5,
           1.85
          ],
          "tickwidth": 1,
          "title": {
           "side": "top",
           "text": "Moment Magnitude"
          }
         },
         "colorscale": [
          [
           0,
           "#0d0887"
          ],
          [
           0.1111111111111111,
           "#46039f"
          ],
          [
           0.2222222222222222,
           "#7201a8"
          ],
          [
           0.3333333333333333,
           "#9c179e"
          ],
          [
           0.4444444444444444,
           "#bd3786"
          ],
          [
           0.5555555555555556,
           "#d8576b"
          ],
          [
           0.6666666666666666,
           "#ed7953"
          ],
          [
           0.7777777777777778,
           "#fb9f3a"
          ],
          [
           0.8888888888888888,
           "#fdca26"
          ],
          [
           1,
           "#f0f921"
          ]
         ]
        },
        "height": 600,
        "legend": {
         "itemsizing": "constant",
         "tracegroupgap": 0
        },
        "margin": {
         "b": 40,
         "l": 40,
         "r": 40,
         "t": 40
        },
        "scene": {
         "aspectmode": "cube",
         "camera": {
          "eye": {
           "x": 1.5,
           "y": 1.5,
           "z": 1.5
          }
         },
         "domain": {
          "x": [
           0,
           1
          ],
          "y": [
           0,
           1
          ]
         },
         "xaxis": {
          "range": [
           -3660,
           3890
          ],
          "title": {
           "text": "X Coordinate (m)"
          }
         },
         "yaxis": {
          "range": [
           -5060,
           1180
          ],
          "title": {
           "text": "Y Coordinate (m)"
          }
         },
         "zaxis": {
          "range": [
           9500,
           5580
          ],
          "title": {
           "text": "Depth (m)"
          }
         }
        },
        "template": {
         "data": {
          "bar": [
           {
            "error_x": {
             "color": "#2a3f5f"
            },
            "error_y": {
             "color": "#2a3f5f"
            },
            "marker": {
             "line": {
              "color": "#E5ECF6",
              "width": 0.5
             },
             "pattern": {
              "fillmode": "overlay",
              "size": 10,
              "solidity": 0.2
             }
            },
            "type": "bar"
           }
          ],
          "barpolar": [
           {
            "marker": {
             "line": {
              "color": "#E5ECF6",
              "width": 0.5
             },
             "pattern": {
              "fillmode": "overlay",
              "size": 10,
              "solidity": 0.2
             }
            },
            "type": "barpolar"
           }
          ],
          "carpet": [
           {
            "aaxis": {
             "endlinecolor": "#2a3f5f",
             "gridcolor": "white",
             "linecolor": "white",
             "minorgridcolor": "white",
             "startlinecolor": "#2a3f5f"
            },
            "baxis": {
             "endlinecolor": "#2a3f5f",
             "gridcolor": "white",
             "linecolor": "white",
             "minorgridcolor": "white",
             "startlinecolor": "#2a3f5f"
            },
            "type": "carpet"
           }
          ],
          "choropleth": [
           {
            "colorbar": {
             "outlinewidth": 0,
             "ticks": ""
            },
            "type": "choropleth"
           }
          ],
          "contour": [
           {
            "colorbar": {
             "outlinewidth": 0,
             "ticks": ""
            },
            "colorscale": [
             [
              0,
              "#0d0887"
             ],
             [
              0.1111111111111111,
              "#46039f"
             ],
             [
              0.2222222222222222,
              "#7201a8"
             ],
             [
              0.3333333333333333,
              "#9c179e"
             ],
             [
              0.4444444444444444,
              "#bd3786"
             ],
             [
              0.5555555555555556,
              "#d8576b"
             ],
             [
              0.6666666666666666,
              "#ed7953"
             ],
             [
              0.7777777777777778,
              "#fb9f3a"
             ],
             [
              0.8888888888888888,
              "#fdca26"
             ],
             [
              1,
              "#f0f921"
             ]
            ],
            "type": "contour"
           }
          ],
          "contourcarpet": [
           {
            "colorbar": {
             "outlinewidth": 0,
             "ticks": ""
            },
            "type": "contourcarpet"
           }
          ],
          "heatmap": [
           {
            "colorbar": {
             "outlinewidth": 0,
             "ticks": ""
            },
            "colorscale": [
             [
              0,
              "#0d0887"
             ],
             [
              0.1111111111111111,
              "#46039f"
             ],
             [
              0.2222222222222222,
              "#7201a8"
             ],
             [
              0.3333333333333333,
              "#9c179e"
             ],
             [
              0.4444444444444444,
              "#bd3786"
             ],
             [
              0.5555555555555556,
              "#d8576b"
             ],
             [
              0.6666666666666666,
              "#ed7953"
             ],
             [
              0.7777777777777778,
              "#fb9f3a"
             ],
             [
              0.8888888888888888,
              "#fdca26"
             ],
             [
              1,
              "#f0f921"
             ]
            ],
            "type": "heatmap"
           }
          ],
          "histogram": [
           {
            "marker": {
             "pattern": {
              "fillmode": "overlay",
              "size": 10,
              "solidity": 0.2
             }
            },
            "type": "histogram"
           }
          ],
          "histogram2d": [
           {
            "colorbar": {
             "outlinewidth": 0,
             "ticks": ""
            },
            "colorscale": [
             [
              0,
              "#0d0887"
             ],
             [
              0.1111111111111111,
              "#46039f"
             ],
             [
              0.2222222222222222,
              "#7201a8"
             ],
             [
              0.3333333333333333,
              "#9c179e"
             ],
             [
              0.4444444444444444,
              "#bd3786"
             ],
             [
              0.5555555555555556,
              "#d8576b"
             ],
             [
              0.6666666666666666,
              "#ed7953"
             ],
             [
              0.7777777777777778,
              "#fb9f3a"
             ],
             [
              0.8888888888888888,
              "#fdca26"
             ],
             [
              1,
              "#f0f921"
             ]
            ],
            "type": "histogram2d"
           }
          ],
          "histogram2dcontour": [
           {
            "colorbar": {
             "outlinewidth": 0,
             "ticks": ""
            },
            "colorscale": [
             [
              0,
              "#0d0887"
             ],
             [
              0.1111111111111111,
              "#46039f"
             ],
             [
              0.2222222222222222,
              "#7201a8"
             ],
             [
              0.3333333333333333,
              "#9c179e"
             ],
             [
              0.4444444444444444,
              "#bd3786"
             ],
             [
              0.5555555555555556,
              "#d8576b"
             ],
             [
              0.6666666666666666,
              "#ed7953"
             ],
             [
              0.7777777777777778,
              "#fb9f3a"
             ],
             [
              0.8888888888888888,
              "#fdca26"
             ],
             [
              1,
              "#f0f921"
             ]
            ],
            "type": "histogram2dcontour"
           }
          ],
          "mesh3d": [
           {
            "colorbar": {
             "outlinewidth": 0,
             "ticks": ""
            },
            "type": "mesh3d"
           }
          ],
          "parcoords": [
           {
            "line": {
             "colorbar": {
              "outlinewidth": 0,
              "ticks": ""
             }
            },
            "type": "parcoords"
           }
          ],
          "pie": [
           {
            "automargin": true,
            "type": "pie"
           }
          ],
          "scatter": [
           {
            "fillpattern": {
             "fillmode": "overlay",
             "size": 10,
             "solidity": 0.2
            },
            "type": "scatter"
           }
          ],
          "scatter3d": [
           {
            "line": {
             "colorbar": {
              "outlinewidth": 0,
              "ticks": ""
             }
            },
            "marker": {
             "colorbar": {
              "outlinewidth": 0,
              "ticks": ""
             }
            },
            "type": "scatter3d"
           }
          ],
          "scattercarpet": [
           {
            "marker": {
             "colorbar": {
              "outlinewidth": 0,
              "ticks": ""
             }
            },
            "type": "scattercarpet"
           }
          ],
          "scattergeo": [
           {
            "marker": {
             "colorbar": {
              "outlinewidth": 0,
              "ticks": ""
             }
            },
            "type": "scattergeo"
           }
          ],
          "scattergl": [
           {
            "marker": {
             "colorbar": {
              "outlinewidth": 0,
              "ticks": ""
             }
            },
            "type": "scattergl"
           }
          ],
          "scattermap": [
           {
            "marker": {
             "colorbar": {
              "outlinewidth": 0,
              "ticks": ""
             }
            },
            "type": "scattermap"
           }
          ],
          "scattermapbox": [
           {
            "marker": {
             "colorbar": {
              "outlinewidth": 0,
              "ticks": ""
             }
            },
            "type": "scattermapbox"
           }
          ],
          "scatterpolar": [
           {
            "marker": {
             "colorbar": {
              "outlinewidth": 0,
              "ticks": ""
             }
            },
            "type": "scatterpolar"
           }
          ],
          "scatterpolargl": [
           {
            "marker": {
             "colorbar": {
              "outlinewidth": 0,
              "ticks": ""
             }
            },
            "type": "scatterpolargl"
           }
          ],
          "scatterternary": [
           {
            "marker": {
             "colorbar": {
              "outlinewidth": 0,
              "ticks": ""
             }
            },
            "type": "scatterternary"
           }
          ],
          "surface": [
           {
            "colorbar": {
             "outlinewidth": 0,
             "ticks": ""
            },
            "colorscale": [
             [
              0,
              "#0d0887"
             ],
             [
              0.1111111111111111,
              "#46039f"
             ],
             [
              0.2222222222222222,
              "#7201a8"
             ],
             [
              0.3333333333333333,
              "#9c179e"
             ],
             [
              0.4444444444444444,
              "#bd3786"
             ],
             [
              0.5555555555555556,
              "#d8576b"
             ],
             [
              0.6666666666666666,
              "#ed7953"
             ],
             [
              0.7777777777777778,
              "#fb9f3a"
             ],
             [
              0.8888888888888888,
              "#fdca26"
             ],
             [
              1,
              "#f0f921"
             ]
            ],
            "type": "surface"
           }
          ],
          "table": [
           {
            "cells": {
             "fill": {
              "color": "#EBF0F8"
             },
             "line": {
              "color": "white"
             }
            },
            "header": {
             "fill": {
              "color": "#C8D4E3"
             },
             "line": {
              "color": "white"
             }
            },
            "type": "table"
           }
          ]
         },
         "layout": {
          "annotationdefaults": {
           "arrowcolor": "#2a3f5f",
           "arrowhead": 0,
           "arrowwidth": 1
          },
          "autotypenumbers": "strict",
          "coloraxis": {
           "colorbar": {
            "outlinewidth": 0,
            "ticks": ""
           }
          },
          "colorscale": {
           "diverging": [
            [
             0,
             "#8e0152"
            ],
            [
             0.1,
             "#c51b7d"
            ],
            [
             0.2,
             "#de77ae"
            ],
            [
             0.3,
             "#f1b6da"
            ],
            [
             0.4,
             "#fde0ef"
            ],
            [
             0.5,
             "#f7f7f7"
            ],
            [
             0.6,
             "#e6f5d0"
            ],
            [
             0.7,
             "#b8e186"
            ],
            [
             0.8,
             "#7fbc41"
            ],
            [
             0.9,
             "#4d9221"
            ],
            [
             1,
             "#276419"
            ]
           ],
           "sequential": [
            [
             0,
             "#0d0887"
            ],
            [
             0.1111111111111111,
             "#46039f"
            ],
            [
             0.2222222222222222,
             "#7201a8"
            ],
            [
             0.3333333333333333,
             "#9c179e"
            ],
            [
             0.4444444444444444,
             "#bd3786"
            ],
            [
             0.5555555555555556,
             "#d8576b"
            ],
            [
             0.6666666666666666,
             "#ed7953"
            ],
            [
             0.7777777777777778,
             "#fb9f3a"
            ],
            [
             0.8888888888888888,
             "#fdca26"
            ],
            [
             1,
             "#f0f921"
            ]
           ],
           "sequentialminus": [
            [
             0,
             "#0d0887"
            ],
            [
             0.1111111111111111,
             "#46039f"
            ],
            [
             0.2222222222222222,
             "#7201a8"
            ],
            [
             0.3333333333333333,
             "#9c179e"
            ],
            [
             0.4444444444444444,
             "#bd3786"
            ],
            [
             0.5555555555555556,
             "#d8576b"
            ],
            [
             0.6666666666666666,
             "#ed7953"
            ],
            [
             0.7777777777777778,
             "#fb9f3a"
            ],
            [
             0.8888888888888888,
             "#fdca26"
            ],
            [
             1,
             "#f0f921"
            ]
           ]
          },
          "colorway": [
           "#636efa",
           "#EF553B",
           "#00cc96",
           "#ab63fa",
           "#FFA15A",
           "#19d3f3",
           "#FF6692",
           "#B6E880",
           "#FF97FF",
           "#FECB52"
          ],
          "font": {
           "color": "#2a3f5f"
          },
          "geo": {
           "bgcolor": "white",
           "lakecolor": "white",
           "landcolor": "#E5ECF6",
           "showlakes": true,
           "showland": true,
           "subunitcolor": "white"
          },
          "hoverlabel": {
           "align": "left"
          },
          "hovermode": "closest",
          "mapbox": {
           "style": "light"
          },
          "paper_bgcolor": "white",
          "plot_bgcolor": "#E5ECF6",
          "polar": {
           "angularaxis": {
            "gridcolor": "white",
            "linecolor": "white",
            "ticks": ""
           },
           "bgcolor": "#E5ECF6",
           "radialaxis": {
            "gridcolor": "white",
            "linecolor": "white",
            "ticks": ""
           }
          },
          "scene": {
           "xaxis": {
            "backgroundcolor": "#E5ECF6",
            "gridcolor": "white",
            "gridwidth": 2,
            "linecolor": "white",
            "showbackground": true,
            "ticks": "",
            "zerolinecolor": "white"
           },
           "yaxis": {
            "backgroundcolor": "#E5ECF6",
            "gridcolor": "white",
            "gridwidth": 2,
            "linecolor": "white",
            "showbackground": true,
            "ticks": "",
            "zerolinecolor": "white"
           },
           "zaxis": {
            "backgroundcolor": "#E5ECF6",
            "gridcolor": "white",
            "gridwidth": 2,
            "linecolor": "white",
            "showbackground": true,
            "ticks": "",
            "zerolinecolor": "white"
           }
          },
          "shapedefaults": {
           "line": {
            "color": "#2a3f5f"
           }
          },
          "ternary": {
           "aaxis": {
            "gridcolor": "white",
            "linecolor": "white",
            "ticks": ""
           },
           "baxis": {
            "gridcolor": "white",
            "linecolor": "white",
            "ticks": ""
           },
           "bgcolor": "#E5ECF6",
           "caxis": {
            "gridcolor": "white",
            "linecolor": "white",
            "ticks": ""
           }
          },
          "title": {
           "x": 0.05
          },
          "xaxis": {
           "automargin": true,
           "gridcolor": "white",
           "linecolor": "white",
           "ticks": "",
           "title": {
            "standoff": 15
           },
           "zerolinecolor": "white",
           "zerolinewidth": 2
          },
          "yaxis": {
           "automargin": true,
           "gridcolor": "white",
           "linecolor": "white",
           "ticks": "",
           "title": {
            "standoff": 15
           },
           "zerolinecolor": "white",
           "zerolinewidth": 2
          }
         }
        },
        "title": {
         "text": "FORGE16BApril24NetworkStage 4.csv",
         "x": 0.5
        },
        "width": 800
       }
      }
     },
     "metadata": {},
     "output_type": "display_data"
    },
    {
     "data": {
      "application/vnd.plotly.v1+json": {
       "config": {
        "plotlyServerURL": "https://plot.ly"
       },
       "data": [
        {
         "hovertemplate": "X Coordinate (m)=%{x}<br>Y Coordinate (m)=%{y}<br>Depth (m)=%{z}<br>size=%{marker.size}<br>Moment Magnitude=%{marker.color}<extra></extra>",
         "legendgroup": "",
         "marker": {
          "color": {
           "bdata": "zczMzMzM5L8pXI/C9SjMvzMzMzMzM8O/SOF6FK5H8b8=",
           "dtype": "f8"
          },
          "coloraxis": "coloraxis",
          "line": {
           "width": 0
          },
          "opacity": 0.7,
          "size": {
           "bdata": "AQEBAQ==",
           "dtype": "i1"
          },
          "sizemode": "area",
          "sizeref": 0.00510204081632653,
          "symbol": "circle"
         },
         "mode": "markers",
         "name": "",
         "scene": "scene",
         "showlegend": false,
         "type": "scatter3d",
         "x": {
          "bdata": "EAkkCTgJZg0=",
          "dtype": "i2"
         },
         "y": {
          "bdata": "zv947Dzskv8=",
          "dtype": "i2"
         },
         "z": {
          "bdata": "AB4IFrwWrho=",
          "dtype": "i2"
         }
        }
       ],
       "layout": {
        "coloraxis": {
         "cmax": 1.85,
         "cmin": -1.09,
         "colorbar": {
          "ticklen": 6,
          "tickmode": "array",
          "ticks": "outside",
          "tickvals": [
           -1.09,
           -1,
           -0.5,
           0,
           0.5,
           1,
           1.5,
           1.85
          ],
          "tickwidth": 1,
          "title": {
           "side": "top",
           "text": "Moment Magnitude"
          }
         },
         "colorscale": [
          [
           0,
           "#0d0887"
          ],
          [
           0.1111111111111111,
           "#46039f"
          ],
          [
           0.2222222222222222,
           "#7201a8"
          ],
          [
           0.3333333333333333,
           "#9c179e"
          ],
          [
           0.4444444444444444,
           "#bd3786"
          ],
          [
           0.5555555555555556,
           "#d8576b"
          ],
          [
           0.6666666666666666,
           "#ed7953"
          ],
          [
           0.7777777777777778,
           "#fb9f3a"
          ],
          [
           0.8888888888888888,
           "#fdca26"
          ],
          [
           1,
           "#f0f921"
          ]
         ]
        },
        "height": 600,
        "legend": {
         "itemsizing": "constant",
         "tracegroupgap": 0
        },
        "margin": {
         "b": 40,
         "l": 40,
         "r": 40,
         "t": 40
        },
        "scene": {
         "aspectmode": "cube",
         "camera": {
          "eye": {
           "x": 1.5,
           "y": 1.5,
           "z": 1.5
          }
         },
         "domain": {
          "x": [
           0,
           1
          ],
          "y": [
           0,
           1
          ]
         },
         "xaxis": {
          "range": [
           -3660,
           3890
          ],
          "title": {
           "text": "X Coordinate (m)"
          }
         },
         "yaxis": {
          "range": [
           -5060,
           1180
          ],
          "title": {
           "text": "Y Coordinate (m)"
          }
         },
         "zaxis": {
          "range": [
           9500,
           5580
          ],
          "title": {
           "text": "Depth (m)"
          }
         }
        },
        "template": {
         "data": {
          "bar": [
           {
            "error_x": {
             "color": "#2a3f5f"
            },
            "error_y": {
             "color": "#2a3f5f"
            },
            "marker": {
             "line": {
              "color": "#E5ECF6",
              "width": 0.5
             },
             "pattern": {
              "fillmode": "overlay",
              "size": 10,
              "solidity": 0.2
             }
            },
            "type": "bar"
           }
          ],
          "barpolar": [
           {
            "marker": {
             "line": {
              "color": "#E5ECF6",
              "width": 0.5
             },
             "pattern": {
              "fillmode": "overlay",
              "size": 10,
              "solidity": 0.2
             }
            },
            "type": "barpolar"
           }
          ],
          "carpet": [
           {
            "aaxis": {
             "endlinecolor": "#2a3f5f",
             "gridcolor": "white",
             "linecolor": "white",
             "minorgridcolor": "white",
             "startlinecolor": "#2a3f5f"
            },
            "baxis": {
             "endlinecolor": "#2a3f5f",
             "gridcolor": "white",
             "linecolor": "white",
             "minorgridcolor": "white",
             "startlinecolor": "#2a3f5f"
            },
            "type": "carpet"
           }
          ],
          "choropleth": [
           {
            "colorbar": {
             "outlinewidth": 0,
             "ticks": ""
            },
            "type": "choropleth"
           }
          ],
          "contour": [
           {
            "colorbar": {
             "outlinewidth": 0,
             "ticks": ""
            },
            "colorscale": [
             [
              0,
              "#0d0887"
             ],
             [
              0.1111111111111111,
              "#46039f"
             ],
             [
              0.2222222222222222,
              "#7201a8"
             ],
             [
              0.3333333333333333,
              "#9c179e"
             ],
             [
              0.4444444444444444,
              "#bd3786"
             ],
             [
              0.5555555555555556,
              "#d8576b"
             ],
             [
              0.6666666666666666,
              "#ed7953"
             ],
             [
              0.7777777777777778,
              "#fb9f3a"
             ],
             [
              0.8888888888888888,
              "#fdca26"
             ],
             [
              1,
              "#f0f921"
             ]
            ],
            "type": "contour"
           }
          ],
          "contourcarpet": [
           {
            "colorbar": {
             "outlinewidth": 0,
             "ticks": ""
            },
            "type": "contourcarpet"
           }
          ],
          "heatmap": [
           {
            "colorbar": {
             "outlinewidth": 0,
             "ticks": ""
            },
            "colorscale": [
             [
              0,
              "#0d0887"
             ],
             [
              0.1111111111111111,
              "#46039f"
             ],
             [
              0.2222222222222222,
              "#7201a8"
             ],
             [
              0.3333333333333333,
              "#9c179e"
             ],
             [
              0.4444444444444444,
              "#bd3786"
             ],
             [
              0.5555555555555556,
              "#d8576b"
             ],
             [
              0.6666666666666666,
              "#ed7953"
             ],
             [
              0.7777777777777778,
              "#fb9f3a"
             ],
             [
              0.8888888888888888,
              "#fdca26"
             ],
             [
              1,
              "#f0f921"
             ]
            ],
            "type": "heatmap"
           }
          ],
          "histogram": [
           {
            "marker": {
             "pattern": {
              "fillmode": "overlay",
              "size": 10,
              "solidity": 0.2
             }
            },
            "type": "histogram"
           }
          ],
          "histogram2d": [
           {
            "colorbar": {
             "outlinewidth": 0,
             "ticks": ""
            },
            "colorscale": [
             [
              0,
              "#0d0887"
             ],
             [
              0.1111111111111111,
              "#46039f"
             ],
             [
              0.2222222222222222,
              "#7201a8"
             ],
             [
              0.3333333333333333,
              "#9c179e"
             ],
             [
              0.4444444444444444,
              "#bd3786"
             ],
             [
              0.5555555555555556,
              "#d8576b"
             ],
             [
              0.6666666666666666,
              "#ed7953"
             ],
             [
              0.7777777777777778,
              "#fb9f3a"
             ],
             [
              0.8888888888888888,
              "#fdca26"
             ],
             [
              1,
              "#f0f921"
             ]
            ],
            "type": "histogram2d"
           }
          ],
          "histogram2dcontour": [
           {
            "colorbar": {
             "outlinewidth": 0,
             "ticks": ""
            },
            "colorscale": [
             [
              0,
              "#0d0887"
             ],
             [
              0.1111111111111111,
              "#46039f"
             ],
             [
              0.2222222222222222,
              "#7201a8"
             ],
             [
              0.3333333333333333,
              "#9c179e"
             ],
             [
              0.4444444444444444,
              "#bd3786"
             ],
             [
              0.5555555555555556,
              "#d8576b"
             ],
             [
              0.6666666666666666,
              "#ed7953"
             ],
             [
              0.7777777777777778,
              "#fb9f3a"
             ],
             [
              0.8888888888888888,
              "#fdca26"
             ],
             [
              1,
              "#f0f921"
             ]
            ],
            "type": "histogram2dcontour"
           }
          ],
          "mesh3d": [
           {
            "colorbar": {
             "outlinewidth": 0,
             "ticks": ""
            },
            "type": "mesh3d"
           }
          ],
          "parcoords": [
           {
            "line": {
             "colorbar": {
              "outlinewidth": 0,
              "ticks": ""
             }
            },
            "type": "parcoords"
           }
          ],
          "pie": [
           {
            "automargin": true,
            "type": "pie"
           }
          ],
          "scatter": [
           {
            "fillpattern": {
             "fillmode": "overlay",
             "size": 10,
             "solidity": 0.2
            },
            "type": "scatter"
           }
          ],
          "scatter3d": [
           {
            "line": {
             "colorbar": {
              "outlinewidth": 0,
              "ticks": ""
             }
            },
            "marker": {
             "colorbar": {
              "outlinewidth": 0,
              "ticks": ""
             }
            },
            "type": "scatter3d"
           }
          ],
          "scattercarpet": [
           {
            "marker": {
             "colorbar": {
              "outlinewidth": 0,
              "ticks": ""
             }
            },
            "type": "scattercarpet"
           }
          ],
          "scattergeo": [
           {
            "marker": {
             "colorbar": {
              "outlinewidth": 0,
              "ticks": ""
             }
            },
            "type": "scattergeo"
           }
          ],
          "scattergl": [
           {
            "marker": {
             "colorbar": {
              "outlinewidth": 0,
              "ticks": ""
             }
            },
            "type": "scattergl"
           }
          ],
          "scattermap": [
           {
            "marker": {
             "colorbar": {
              "outlinewidth": 0,
              "ticks": ""
             }
            },
            "type": "scattermap"
           }
          ],
          "scattermapbox": [
           {
            "marker": {
             "colorbar": {
              "outlinewidth": 0,
              "ticks": ""
             }
            },
            "type": "scattermapbox"
           }
          ],
          "scatterpolar": [
           {
            "marker": {
             "colorbar": {
              "outlinewidth": 0,
              "ticks": ""
             }
            },
            "type": "scatterpolar"
           }
          ],
          "scatterpolargl": [
           {
            "marker": {
             "colorbar": {
              "outlinewidth": 0,
              "ticks": ""
             }
            },
            "type": "scatterpolargl"
           }
          ],
          "scatterternary": [
           {
            "marker": {
             "colorbar": {
              "outlinewidth": 0,
              "ticks": ""
             }
            },
            "type": "scatterternary"
           }
          ],
          "surface": [
           {
            "colorbar": {
             "outlinewidth": 0,
             "ticks": ""
            },
            "colorscale": [
             [
              0,
              "#0d0887"
             ],
             [
              0.1111111111111111,
              "#46039f"
             ],
             [
              0.2222222222222222,
              "#7201a8"
             ],
             [
              0.3333333333333333,
              "#9c179e"
             ],
             [
              0.4444444444444444,
              "#bd3786"
             ],
             [
              0.5555555555555556,
              "#d8576b"
             ],
             [
              0.6666666666666666,
              "#ed7953"
             ],
             [
              0.7777777777777778,
              "#fb9f3a"
             ],
             [
              0.8888888888888888,
              "#fdca26"
             ],
             [
              1,
              "#f0f921"
             ]
            ],
            "type": "surface"
           }
          ],
          "table": [
           {
            "cells": {
             "fill": {
              "color": "#EBF0F8"
             },
             "line": {
              "color": "white"
             }
            },
            "header": {
             "fill": {
              "color": "#C8D4E3"
             },
             "line": {
              "color": "white"
             }
            },
            "type": "table"
           }
          ]
         },
         "layout": {
          "annotationdefaults": {
           "arrowcolor": "#2a3f5f",
           "arrowhead": 0,
           "arrowwidth": 1
          },
          "autotypenumbers": "strict",
          "coloraxis": {
           "colorbar": {
            "outlinewidth": 0,
            "ticks": ""
           }
          },
          "colorscale": {
           "diverging": [
            [
             0,
             "#8e0152"
            ],
            [
             0.1,
             "#c51b7d"
            ],
            [
             0.2,
             "#de77ae"
            ],
            [
             0.3,
             "#f1b6da"
            ],
            [
             0.4,
             "#fde0ef"
            ],
            [
             0.5,
             "#f7f7f7"
            ],
            [
             0.6,
             "#e6f5d0"
            ],
            [
             0.7,
             "#b8e186"
            ],
            [
             0.8,
             "#7fbc41"
            ],
            [
             0.9,
             "#4d9221"
            ],
            [
             1,
             "#276419"
            ]
           ],
           "sequential": [
            [
             0,
             "#0d0887"
            ],
            [
             0.1111111111111111,
             "#46039f"
            ],
            [
             0.2222222222222222,
             "#7201a8"
            ],
            [
             0.3333333333333333,
             "#9c179e"
            ],
            [
             0.4444444444444444,
             "#bd3786"
            ],
            [
             0.5555555555555556,
             "#d8576b"
            ],
            [
             0.6666666666666666,
             "#ed7953"
            ],
            [
             0.7777777777777778,
             "#fb9f3a"
            ],
            [
             0.8888888888888888,
             "#fdca26"
            ],
            [
             1,
             "#f0f921"
            ]
           ],
           "sequentialminus": [
            [
             0,
             "#0d0887"
            ],
            [
             0.1111111111111111,
             "#46039f"
            ],
            [
             0.2222222222222222,
             "#7201a8"
            ],
            [
             0.3333333333333333,
             "#9c179e"
            ],
            [
             0.4444444444444444,
             "#bd3786"
            ],
            [
             0.5555555555555556,
             "#d8576b"
            ],
            [
             0.6666666666666666,
             "#ed7953"
            ],
            [
             0.7777777777777778,
             "#fb9f3a"
            ],
            [
             0.8888888888888888,
             "#fdca26"
            ],
            [
             1,
             "#f0f921"
            ]
           ]
          },
          "colorway": [
           "#636efa",
           "#EF553B",
           "#00cc96",
           "#ab63fa",
           "#FFA15A",
           "#19d3f3",
           "#FF6692",
           "#B6E880",
           "#FF97FF",
           "#FECB52"
          ],
          "font": {
           "color": "#2a3f5f"
          },
          "geo": {
           "bgcolor": "white",
           "lakecolor": "white",
           "landcolor": "#E5ECF6",
           "showlakes": true,
           "showland": true,
           "subunitcolor": "white"
          },
          "hoverlabel": {
           "align": "left"
          },
          "hovermode": "closest",
          "mapbox": {
           "style": "light"
          },
          "paper_bgcolor": "white",
          "plot_bgcolor": "#E5ECF6",
          "polar": {
           "angularaxis": {
            "gridcolor": "white",
            "linecolor": "white",
            "ticks": ""
           },
           "bgcolor": "#E5ECF6",
           "radialaxis": {
            "gridcolor": "white",
            "linecolor": "white",
            "ticks": ""
           }
          },
          "scene": {
           "xaxis": {
            "backgroundcolor": "#E5ECF6",
            "gridcolor": "white",
            "gridwidth": 2,
            "linecolor": "white",
            "showbackground": true,
            "ticks": "",
            "zerolinecolor": "white"
           },
           "yaxis": {
            "backgroundcolor": "#E5ECF6",
            "gridcolor": "white",
            "gridwidth": 2,
            "linecolor": "white",
            "showbackground": true,
            "ticks": "",
            "zerolinecolor": "white"
           },
           "zaxis": {
            "backgroundcolor": "#E5ECF6",
            "gridcolor": "white",
            "gridwidth": 2,
            "linecolor": "white",
            "showbackground": true,
            "ticks": "",
            "zerolinecolor": "white"
           }
          },
          "shapedefaults": {
           "line": {
            "color": "#2a3f5f"
           }
          },
          "ternary": {
           "aaxis": {
            "gridcolor": "white",
            "linecolor": "white",
            "ticks": ""
           },
           "baxis": {
            "gridcolor": "white",
            "linecolor": "white",
            "ticks": ""
           },
           "bgcolor": "#E5ECF6",
           "caxis": {
            "gridcolor": "white",
            "linecolor": "white",
            "ticks": ""
           }
          },
          "title": {
           "x": 0.05
          },
          "xaxis": {
           "automargin": true,
           "gridcolor": "white",
           "linecolor": "white",
           "ticks": "",
           "title": {
            "standoff": 15
           },
           "zerolinecolor": "white",
           "zerolinewidth": 2
          },
          "yaxis": {
           "automargin": true,
           "gridcolor": "white",
           "linecolor": "white",
           "ticks": "",
           "title": {
            "standoff": 15
           },
           "zerolinecolor": "white",
           "zerolinewidth": 2
          }
         }
        },
        "title": {
         "text": "FORGE16BApril24NetworkStage 5.csv",
         "x": 0.5
        },
        "width": 800
       }
      }
     },
     "metadata": {},
     "output_type": "display_data"
    },
    {
     "name": "stdout",
     "output_type": "stream",
     "text": [
      "  Generated 5/26 plots...\n"
     ]
    },
    {
     "data": {
      "application/vnd.plotly.v1+json": {
       "config": {
        "plotlyServerURL": "https://plot.ly"
       },
       "data": [
        {
         "hovertemplate": "X Coordinate (m)=%{x}<br>Y Coordinate (m)=%{y}<br>Depth (m)=%{z}<br>size=%{marker.size}<br>Moment Magnitude=%{marker.color}<extra></extra>",
         "legendgroup": "",
         "marker": {
          "color": {
           "bdata": "j8L1KFyP4j+kcD0K16PAv3sUrkfheoS/pHA9Ctej0L+4HoXrUbievz0K16NwPdo/UrgehetR2L/hehSuR+HavzMzMzMzM+O/SOF6FK5H0b97FK5H4XqEP7gehetRuN6/j8L1KFyP4r+amZmZmZnZv+xRuB6F6+G/4XoUrkfh2r+4HoXrUbiuv+F6FK5H4eK/mpmZmZmZyT/NzMzMzMzcvwrXo3A9Cse/exSuR+F6pL/sUbgehevRv4XrUbgehdu/exSuR+F6hD+amZmZmZm5P3E9CtejcM0/mpmZmZmZuT97FK5H4Xqkv5qZmZmZmcm/7FG4HoXr0b/hehSuR+HKPx+F61G4HtW/UrgehetRyD+amZmZmZnJv3sUrkfheqS/PQrXo3A92r/hehSuR+HKP2ZmZmZmZtY/exSuR+F6tD97FK5H4XqUv7gehetRuM6/4XoUrkfhyr/sUbgehevhPx+F61G4HtU/AAAAAAAA0L8fhetRuB7lv+xRuB6F68G/7FG4HoXrsb9SuB6F61HIvw==",
           "dtype": "f8"
          },
          "coloraxis": "coloraxis",
          "line": {
           "width": 0
          },
          "opacity": 0.7,
          "size": {
           "bdata": "AQEBAQEBAQEBAQEBAQEBAQEBAQEBAQEBAQEBAQEBAQEBAQEBAQEBAQEBAQEBAQEBAQE=",
           "dtype": "i1"
          },
          "sizemode": "area",
          "sizeref": 0.00510204081632653,
          "symbol": "circle"
         },
         "mode": "markers",
         "name": "",
         "scene": "scene",
         "showlegend": false,
         "type": "scatter3d",
         "x": {
          "bdata": "DAjaB3oIDAhmCHoI/AiICcAIJgxgCUgIkglICKIIjghmCPgHtgguCfgHAgg+CKgHpgmYCDoMQgmmCfwIuAsEC04MIAi2DZgNTAlgCY4IxAliDD4ITAnUCBYIYAnQB6gMQAvgBg==",
          "dtype": "i2"
         },
         "y": {
          "bdata": "NP6e/d7+qP0+/nD+APac9RD/mgFW9Rj8iv3k/VL+av/q91b/BPdm+fr2kv8oALz4RPjY9f4BavXy+dz2lAKWAMYCpv+YA5gD5vum+uz1dPqM+zIABPw89s7/vvsQ/47+2gIU+w==",
          "dtype": "i2"
         },
         "z": {
          "bdata": "rh9OIMwf9B+GH3IfZhy8G3IfeB5OGzYfzhgSIF4fpB9mIWwg/h+aH5Qg/h8SIOQgsCIIICgjJiDGIA4fwh8oI5ghCCC8IJ4gfiK2ITAgAiG6HUQgTCJ2IBIg6CFiICYg7CLgHw==",
          "dtype": "i2"
         }
        }
       ],
       "layout": {
        "coloraxis": {
         "cmax": 1.85,
         "cmin": -1.09,
         "colorbar": {
          "ticklen": 6,
          "tickmode": "array",
          "ticks": "outside",
          "tickvals": [
           -1.09,
           -1,
           -0.5,
           0,
           0.5,
           1,
           1.5,
           1.85
          ],
          "tickwidth": 1,
          "title": {
           "side": "top",
           "text": "Moment Magnitude"
          }
         },
         "colorscale": [
          [
           0,
           "#0d0887"
          ],
          [
           0.1111111111111111,
           "#46039f"
          ],
          [
           0.2222222222222222,
           "#7201a8"
          ],
          [
           0.3333333333333333,
           "#9c179e"
          ],
          [
           0.4444444444444444,
           "#bd3786"
          ],
          [
           0.5555555555555556,
           "#d8576b"
          ],
          [
           0.6666666666666666,
           "#ed7953"
          ],
          [
           0.7777777777777778,
           "#fb9f3a"
          ],
          [
           0.8888888888888888,
           "#fdca26"
          ],
          [
           1,
           "#f0f921"
          ]
         ]
        },
        "height": 600,
        "legend": {
         "itemsizing": "constant",
         "tracegroupgap": 0
        },
        "margin": {
         "b": 40,
         "l": 40,
         "r": 40,
         "t": 40
        },
        "scene": {
         "aspectmode": "cube",
         "camera": {
          "eye": {
           "x": 1.5,
           "y": 1.5,
           "z": 1.5
          }
         },
         "domain": {
          "x": [
           0,
           1
          ],
          "y": [
           0,
           1
          ]
         },
         "xaxis": {
          "range": [
           -3660,
           3890
          ],
          "title": {
           "text": "X Coordinate (m)"
          }
         },
         "yaxis": {
          "range": [
           -5060,
           1180
          ],
          "title": {
           "text": "Y Coordinate (m)"
          }
         },
         "zaxis": {
          "range": [
           9500,
           5580
          ],
          "title": {
           "text": "Depth (m)"
          }
         }
        },
        "template": {
         "data": {
          "bar": [
           {
            "error_x": {
             "color": "#2a3f5f"
            },
            "error_y": {
             "color": "#2a3f5f"
            },
            "marker": {
             "line": {
              "color": "#E5ECF6",
              "width": 0.5
             },
             "pattern": {
              "fillmode": "overlay",
              "size": 10,
              "solidity": 0.2
             }
            },
            "type": "bar"
           }
          ],
          "barpolar": [
           {
            "marker": {
             "line": {
              "color": "#E5ECF6",
              "width": 0.5
             },
             "pattern": {
              "fillmode": "overlay",
              "size": 10,
              "solidity": 0.2
             }
            },
            "type": "barpolar"
           }
          ],
          "carpet": [
           {
            "aaxis": {
             "endlinecolor": "#2a3f5f",
             "gridcolor": "white",
             "linecolor": "white",
             "minorgridcolor": "white",
             "startlinecolor": "#2a3f5f"
            },
            "baxis": {
             "endlinecolor": "#2a3f5f",
             "gridcolor": "white",
             "linecolor": "white",
             "minorgridcolor": "white",
             "startlinecolor": "#2a3f5f"
            },
            "type": "carpet"
           }
          ],
          "choropleth": [
           {
            "colorbar": {
             "outlinewidth": 0,
             "ticks": ""
            },
            "type": "choropleth"
           }
          ],
          "contour": [
           {
            "colorbar": {
             "outlinewidth": 0,
             "ticks": ""
            },
            "colorscale": [
             [
              0,
              "#0d0887"
             ],
             [
              0.1111111111111111,
              "#46039f"
             ],
             [
              0.2222222222222222,
              "#7201a8"
             ],
             [
              0.3333333333333333,
              "#9c179e"
             ],
             [
              0.4444444444444444,
              "#bd3786"
             ],
             [
              0.5555555555555556,
              "#d8576b"
             ],
             [
              0.6666666666666666,
              "#ed7953"
             ],
             [
              0.7777777777777778,
              "#fb9f3a"
             ],
             [
              0.8888888888888888,
              "#fdca26"
             ],
             [
              1,
              "#f0f921"
             ]
            ],
            "type": "contour"
           }
          ],
          "contourcarpet": [
           {
            "colorbar": {
             "outlinewidth": 0,
             "ticks": ""
            },
            "type": "contourcarpet"
           }
          ],
          "heatmap": [
           {
            "colorbar": {
             "outlinewidth": 0,
             "ticks": ""
            },
            "colorscale": [
             [
              0,
              "#0d0887"
             ],
             [
              0.1111111111111111,
              "#46039f"
             ],
             [
              0.2222222222222222,
              "#7201a8"
             ],
             [
              0.3333333333333333,
              "#9c179e"
             ],
             [
              0.4444444444444444,
              "#bd3786"
             ],
             [
              0.5555555555555556,
              "#d8576b"
             ],
             [
              0.6666666666666666,
              "#ed7953"
             ],
             [
              0.7777777777777778,
              "#fb9f3a"
             ],
             [
              0.8888888888888888,
              "#fdca26"
             ],
             [
              1,
              "#f0f921"
             ]
            ],
            "type": "heatmap"
           }
          ],
          "histogram": [
           {
            "marker": {
             "pattern": {
              "fillmode": "overlay",
              "size": 10,
              "solidity": 0.2
             }
            },
            "type": "histogram"
           }
          ],
          "histogram2d": [
           {
            "colorbar": {
             "outlinewidth": 0,
             "ticks": ""
            },
            "colorscale": [
             [
              0,
              "#0d0887"
             ],
             [
              0.1111111111111111,
              "#46039f"
             ],
             [
              0.2222222222222222,
              "#7201a8"
             ],
             [
              0.3333333333333333,
              "#9c179e"
             ],
             [
              0.4444444444444444,
              "#bd3786"
             ],
             [
              0.5555555555555556,
              "#d8576b"
             ],
             [
              0.6666666666666666,
              "#ed7953"
             ],
             [
              0.7777777777777778,
              "#fb9f3a"
             ],
             [
              0.8888888888888888,
              "#fdca26"
             ],
             [
              1,
              "#f0f921"
             ]
            ],
            "type": "histogram2d"
           }
          ],
          "histogram2dcontour": [
           {
            "colorbar": {
             "outlinewidth": 0,
             "ticks": ""
            },
            "colorscale": [
             [
              0,
              "#0d0887"
             ],
             [
              0.1111111111111111,
              "#46039f"
             ],
             [
              0.2222222222222222,
              "#7201a8"
             ],
             [
              0.3333333333333333,
              "#9c179e"
             ],
             [
              0.4444444444444444,
              "#bd3786"
             ],
             [
              0.5555555555555556,
              "#d8576b"
             ],
             [
              0.6666666666666666,
              "#ed7953"
             ],
             [
              0.7777777777777778,
              "#fb9f3a"
             ],
             [
              0.8888888888888888,
              "#fdca26"
             ],
             [
              1,
              "#f0f921"
             ]
            ],
            "type": "histogram2dcontour"
           }
          ],
          "mesh3d": [
           {
            "colorbar": {
             "outlinewidth": 0,
             "ticks": ""
            },
            "type": "mesh3d"
           }
          ],
          "parcoords": [
           {
            "line": {
             "colorbar": {
              "outlinewidth": 0,
              "ticks": ""
             }
            },
            "type": "parcoords"
           }
          ],
          "pie": [
           {
            "automargin": true,
            "type": "pie"
           }
          ],
          "scatter": [
           {
            "fillpattern": {
             "fillmode": "overlay",
             "size": 10,
             "solidity": 0.2
            },
            "type": "scatter"
           }
          ],
          "scatter3d": [
           {
            "line": {
             "colorbar": {
              "outlinewidth": 0,
              "ticks": ""
             }
            },
            "marker": {
             "colorbar": {
              "outlinewidth": 0,
              "ticks": ""
             }
            },
            "type": "scatter3d"
           }
          ],
          "scattercarpet": [
           {
            "marker": {
             "colorbar": {
              "outlinewidth": 0,
              "ticks": ""
             }
            },
            "type": "scattercarpet"
           }
          ],
          "scattergeo": [
           {
            "marker": {
             "colorbar": {
              "outlinewidth": 0,
              "ticks": ""
             }
            },
            "type": "scattergeo"
           }
          ],
          "scattergl": [
           {
            "marker": {
             "colorbar": {
              "outlinewidth": 0,
              "ticks": ""
             }
            },
            "type": "scattergl"
           }
          ],
          "scattermap": [
           {
            "marker": {
             "colorbar": {
              "outlinewidth": 0,
              "ticks": ""
             }
            },
            "type": "scattermap"
           }
          ],
          "scattermapbox": [
           {
            "marker": {
             "colorbar": {
              "outlinewidth": 0,
              "ticks": ""
             }
            },
            "type": "scattermapbox"
           }
          ],
          "scatterpolar": [
           {
            "marker": {
             "colorbar": {
              "outlinewidth": 0,
              "ticks": ""
             }
            },
            "type": "scatterpolar"
           }
          ],
          "scatterpolargl": [
           {
            "marker": {
             "colorbar": {
              "outlinewidth": 0,
              "ticks": ""
             }
            },
            "type": "scatterpolargl"
           }
          ],
          "scatterternary": [
           {
            "marker": {
             "colorbar": {
              "outlinewidth": 0,
              "ticks": ""
             }
            },
            "type": "scatterternary"
           }
          ],
          "surface": [
           {
            "colorbar": {
             "outlinewidth": 0,
             "ticks": ""
            },
            "colorscale": [
             [
              0,
              "#0d0887"
             ],
             [
              0.1111111111111111,
              "#46039f"
             ],
             [
              0.2222222222222222,
              "#7201a8"
             ],
             [
              0.3333333333333333,
              "#9c179e"
             ],
             [
              0.4444444444444444,
              "#bd3786"
             ],
             [
              0.5555555555555556,
              "#d8576b"
             ],
             [
              0.6666666666666666,
              "#ed7953"
             ],
             [
              0.7777777777777778,
              "#fb9f3a"
             ],
             [
              0.8888888888888888,
              "#fdca26"
             ],
             [
              1,
              "#f0f921"
             ]
            ],
            "type": "surface"
           }
          ],
          "table": [
           {
            "cells": {
             "fill": {
              "color": "#EBF0F8"
             },
             "line": {
              "color": "white"
             }
            },
            "header": {
             "fill": {
              "color": "#C8D4E3"
             },
             "line": {
              "color": "white"
             }
            },
            "type": "table"
           }
          ]
         },
         "layout": {
          "annotationdefaults": {
           "arrowcolor": "#2a3f5f",
           "arrowhead": 0,
           "arrowwidth": 1
          },
          "autotypenumbers": "strict",
          "coloraxis": {
           "colorbar": {
            "outlinewidth": 0,
            "ticks": ""
           }
          },
          "colorscale": {
           "diverging": [
            [
             0,
             "#8e0152"
            ],
            [
             0.1,
             "#c51b7d"
            ],
            [
             0.2,
             "#de77ae"
            ],
            [
             0.3,
             "#f1b6da"
            ],
            [
             0.4,
             "#fde0ef"
            ],
            [
             0.5,
             "#f7f7f7"
            ],
            [
             0.6,
             "#e6f5d0"
            ],
            [
             0.7,
             "#b8e186"
            ],
            [
             0.8,
             "#7fbc41"
            ],
            [
             0.9,
             "#4d9221"
            ],
            [
             1,
             "#276419"
            ]
           ],
           "sequential": [
            [
             0,
             "#0d0887"
            ],
            [
             0.1111111111111111,
             "#46039f"
            ],
            [
             0.2222222222222222,
             "#7201a8"
            ],
            [
             0.3333333333333333,
             "#9c179e"
            ],
            [
             0.4444444444444444,
             "#bd3786"
            ],
            [
             0.5555555555555556,
             "#d8576b"
            ],
            [
             0.6666666666666666,
             "#ed7953"
            ],
            [
             0.7777777777777778,
             "#fb9f3a"
            ],
            [
             0.8888888888888888,
             "#fdca26"
            ],
            [
             1,
             "#f0f921"
            ]
           ],
           "sequentialminus": [
            [
             0,
             "#0d0887"
            ],
            [
             0.1111111111111111,
             "#46039f"
            ],
            [
             0.2222222222222222,
             "#7201a8"
            ],
            [
             0.3333333333333333,
             "#9c179e"
            ],
            [
             0.4444444444444444,
             "#bd3786"
            ],
            [
             0.5555555555555556,
             "#d8576b"
            ],
            [
             0.6666666666666666,
             "#ed7953"
            ],
            [
             0.7777777777777778,
             "#fb9f3a"
            ],
            [
             0.8888888888888888,
             "#fdca26"
            ],
            [
             1,
             "#f0f921"
            ]
           ]
          },
          "colorway": [
           "#636efa",
           "#EF553B",
           "#00cc96",
           "#ab63fa",
           "#FFA15A",
           "#19d3f3",
           "#FF6692",
           "#B6E880",
           "#FF97FF",
           "#FECB52"
          ],
          "font": {
           "color": "#2a3f5f"
          },
          "geo": {
           "bgcolor": "white",
           "lakecolor": "white",
           "landcolor": "#E5ECF6",
           "showlakes": true,
           "showland": true,
           "subunitcolor": "white"
          },
          "hoverlabel": {
           "align": "left"
          },
          "hovermode": "closest",
          "mapbox": {
           "style": "light"
          },
          "paper_bgcolor": "white",
          "plot_bgcolor": "#E5ECF6",
          "polar": {
           "angularaxis": {
            "gridcolor": "white",
            "linecolor": "white",
            "ticks": ""
           },
           "bgcolor": "#E5ECF6",
           "radialaxis": {
            "gridcolor": "white",
            "linecolor": "white",
            "ticks": ""
           }
          },
          "scene": {
           "xaxis": {
            "backgroundcolor": "#E5ECF6",
            "gridcolor": "white",
            "gridwidth": 2,
            "linecolor": "white",
            "showbackground": true,
            "ticks": "",
            "zerolinecolor": "white"
           },
           "yaxis": {
            "backgroundcolor": "#E5ECF6",
            "gridcolor": "white",
            "gridwidth": 2,
            "linecolor": "white",
            "showbackground": true,
            "ticks": "",
            "zerolinecolor": "white"
           },
           "zaxis": {
            "backgroundcolor": "#E5ECF6",
            "gridcolor": "white",
            "gridwidth": 2,
            "linecolor": "white",
            "showbackground": true,
            "ticks": "",
            "zerolinecolor": "white"
           }
          },
          "shapedefaults": {
           "line": {
            "color": "#2a3f5f"
           }
          },
          "ternary": {
           "aaxis": {
            "gridcolor": "white",
            "linecolor": "white",
            "ticks": ""
           },
           "baxis": {
            "gridcolor": "white",
            "linecolor": "white",
            "ticks": ""
           },
           "bgcolor": "#E5ECF6",
           "caxis": {
            "gridcolor": "white",
            "linecolor": "white",
            "ticks": ""
           }
          },
          "title": {
           "x": 0.05
          },
          "xaxis": {
           "automargin": true,
           "gridcolor": "white",
           "linecolor": "white",
           "ticks": "",
           "title": {
            "standoff": 15
           },
           "zerolinecolor": "white",
           "zerolinewidth": 2
          },
          "yaxis": {
           "automargin": true,
           "gridcolor": "white",
           "linecolor": "white",
           "ticks": "",
           "title": {
            "standoff": 15
           },
           "zerolinecolor": "white",
           "zerolinewidth": 2
          }
         }
        },
        "title": {
         "text": "FORGE16BApril24NetworkBackground.csv",
         "x": 0.5
        },
        "width": 800
       }
      }
     },
     "metadata": {},
     "output_type": "display_data"
    },
    {
     "data": {
      "application/vnd.plotly.v1+json": {
       "config": {
        "plotlyServerURL": "https://plot.ly"
       },
       "data": [
        {
         "hovertemplate": "X Coordinate (m)=%{x}<br>Y Coordinate (m)=%{y}<br>Depth (m)=%{z}<br>size=%{marker.size}<br>Moment Magnitude=%{marker.color}<extra></extra>",
         "legendgroup": "",
         "marker": {
          "color": {
           "bdata": "cT0K16Nw7b9xPQrXo3Dxv1yPwvUoXOe/exSuR+F6pD+amZmZmZnJP8P1KFyPwtU/uB6F61G4rj+kcD0K16PQPzMzMzMzM8M/H4XrUbge1T/hehSuR+HKP+xRuB6F69E/mpmZmZmZ2T8pXI/C9Si8vwrXo3A9Csc/uB6F61G4nj+amZmZmZnJP1K4HoXrUcg/exSuR+F6pL/sUbgehevRP1K4HoXrUdg/uB6F61G4nj/sUbgehevhP0jhehSuR9E/uB6F61G4zj97FK5H4XqUPx+F61G4HtU/uB6F61G4rr/sUbgeheuxP5qZmZmZmak/rkfhehSu1z9mZmZmZmbWP3sUrkfhetQ/7FG4HoXr0T97FK5H4XrUP7gehetRuK4/cT0K16Nw3T+4HoXrUbiev6RwPQrXo9A/9ihcj8L14D9I4XoUrkfRP6RwPQrXo8A/16NwPQrX0z+amZmZmZnZP+xRuB6F67G/exSuR+F6lD+kcD0K16PQP1K4HoXrUeA/mpmZmZmZqT97FK5H4XqUP1K4HoXrUeA/cT0K16Nw3T+uR+F6FK7XP+xRuB6F68G/SOF6FK5H0T+kcD0K16PAP9ejcD0K19M/UrgehetRyD/hehSuR+HaP+xRuB6F67E/FK5H4XoU5j+kcD0K16PAP3sUrkfheoQ/exSuR+F6lL8=",
           "dtype": "f8"
          },
          "coloraxis": "coloraxis",
          "line": {
           "width": 0
          },
          "opacity": 0.7,
          "size": {
           "bdata": "AQEBAQEBAQEBAQEBAQEBAQEBAQEBAQEBAQEBAQEBAQEBAQEBAQEBAQEBAQEBAQEBAQEBAQEBAQEBAQEBAQEBAQ==",
           "dtype": "i1"
          },
          "sizemode": "area",
          "sizeref": 0.00510204081632653,
          "symbol": "circle"
         },
         "mode": "markers",
         "name": "",
         "scene": "scene",
         "showlegend": false,
         "type": "scatter3d",
         "x": {
          "bdata": "5AysDcoN6guuCwgMYgxiDIoMdgyGC/QLSgswDDoMlAxYDNYLlAxyC2wMbAy4C54MQAtiDGwMOgxODIoM2gxiDP4LRAzgC1gMwguUDIAMOgxEDJQMCAxsDGwMOgyUDFgMYgy8DAgMYgxyC2IMdgzgC14LngxsDIoMOgykC6gMMAw=",
          "dtype": "i2"
         },
         "y": {
          "bdata": "gvvS+1T8iPoe+wr7NvwE/Jb7Jv0Q+ij7APtA/Pr7Ivw2/GD6fPzs+rz9hvwe+4r9Jv2a/Er8lP0C/mj8vP1e/Gb+Jv0+/u79HvtA/ID9ov5e/Lz9cP76+w78yPte/Cz8Vv8I/az+6P70/F78+vsK+zj6tPsy++r8WvuW+4b8DP4=",
          "dtype": "i2"
         },
         "z": {
          "bdata": "7iDaIDQhwh/WH04gyB5kHlAeSh+oIAggICFQHoIeFB48HkAfPB4sHw4feB6QHw4fxiAKHpYeNh8YHzwe0h5aHjog8B70H/oe/h8oHvAeHCDiHb4eCCAKHloeMh4AHige1h/YHRwgwh8+IVAe9h3+H4AgWh5GHjweqh6KIAoezB8=",
          "dtype": "i2"
         }
        }
       ],
       "layout": {
        "coloraxis": {
         "cmax": 1.85,
         "cmin": -1.09,
         "colorbar": {
          "ticklen": 6,
          "tickmode": "array",
          "ticks": "outside",
          "tickvals": [
           -1.09,
           -1,
           -0.5,
           0,
           0.5,
           1,
           1.5,
           1.85
          ],
          "tickwidth": 1,
          "title": {
           "side": "top",
           "text": "Moment Magnitude"
          }
         },
         "colorscale": [
          [
           0,
           "#0d0887"
          ],
          [
           0.1111111111111111,
           "#46039f"
          ],
          [
           0.2222222222222222,
           "#7201a8"
          ],
          [
           0.3333333333333333,
           "#9c179e"
          ],
          [
           0.4444444444444444,
           "#bd3786"
          ],
          [
           0.5555555555555556,
           "#d8576b"
          ],
          [
           0.6666666666666666,
           "#ed7953"
          ],
          [
           0.7777777777777778,
           "#fb9f3a"
          ],
          [
           0.8888888888888888,
           "#fdca26"
          ],
          [
           1,
           "#f0f921"
          ]
         ]
        },
        "height": 600,
        "legend": {
         "itemsizing": "constant",
         "tracegroupgap": 0
        },
        "margin": {
         "b": 40,
         "l": 40,
         "r": 40,
         "t": 40
        },
        "scene": {
         "aspectmode": "cube",
         "camera": {
          "eye": {
           "x": 1.5,
           "y": 1.5,
           "z": 1.5
          }
         },
         "domain": {
          "x": [
           0,
           1
          ],
          "y": [
           0,
           1
          ]
         },
         "xaxis": {
          "range": [
           -3660,
           3890
          ],
          "title": {
           "text": "X Coordinate (m)"
          }
         },
         "yaxis": {
          "range": [
           -5060,
           1180
          ],
          "title": {
           "text": "Y Coordinate (m)"
          }
         },
         "zaxis": {
          "range": [
           9500,
           5580
          ],
          "title": {
           "text": "Depth (m)"
          }
         }
        },
        "template": {
         "data": {
          "bar": [
           {
            "error_x": {
             "color": "#2a3f5f"
            },
            "error_y": {
             "color": "#2a3f5f"
            },
            "marker": {
             "line": {
              "color": "#E5ECF6",
              "width": 0.5
             },
             "pattern": {
              "fillmode": "overlay",
              "size": 10,
              "solidity": 0.2
             }
            },
            "type": "bar"
           }
          ],
          "barpolar": [
           {
            "marker": {
             "line": {
              "color": "#E5ECF6",
              "width": 0.5
             },
             "pattern": {
              "fillmode": "overlay",
              "size": 10,
              "solidity": 0.2
             }
            },
            "type": "barpolar"
           }
          ],
          "carpet": [
           {
            "aaxis": {
             "endlinecolor": "#2a3f5f",
             "gridcolor": "white",
             "linecolor": "white",
             "minorgridcolor": "white",
             "startlinecolor": "#2a3f5f"
            },
            "baxis": {
             "endlinecolor": "#2a3f5f",
             "gridcolor": "white",
             "linecolor": "white",
             "minorgridcolor": "white",
             "startlinecolor": "#2a3f5f"
            },
            "type": "carpet"
           }
          ],
          "choropleth": [
           {
            "colorbar": {
             "outlinewidth": 0,
             "ticks": ""
            },
            "type": "choropleth"
           }
          ],
          "contour": [
           {
            "colorbar": {
             "outlinewidth": 0,
             "ticks": ""
            },
            "colorscale": [
             [
              0,
              "#0d0887"
             ],
             [
              0.1111111111111111,
              "#46039f"
             ],
             [
              0.2222222222222222,
              "#7201a8"
             ],
             [
              0.3333333333333333,
              "#9c179e"
             ],
             [
              0.4444444444444444,
              "#bd3786"
             ],
             [
              0.5555555555555556,
              "#d8576b"
             ],
             [
              0.6666666666666666,
              "#ed7953"
             ],
             [
              0.7777777777777778,
              "#fb9f3a"
             ],
             [
              0.8888888888888888,
              "#fdca26"
             ],
             [
              1,
              "#f0f921"
             ]
            ],
            "type": "contour"
           }
          ],
          "contourcarpet": [
           {
            "colorbar": {
             "outlinewidth": 0,
             "ticks": ""
            },
            "type": "contourcarpet"
           }
          ],
          "heatmap": [
           {
            "colorbar": {
             "outlinewidth": 0,
             "ticks": ""
            },
            "colorscale": [
             [
              0,
              "#0d0887"
             ],
             [
              0.1111111111111111,
              "#46039f"
             ],
             [
              0.2222222222222222,
              "#7201a8"
             ],
             [
              0.3333333333333333,
              "#9c179e"
             ],
             [
              0.4444444444444444,
              "#bd3786"
             ],
             [
              0.5555555555555556,
              "#d8576b"
             ],
             [
              0.6666666666666666,
              "#ed7953"
             ],
             [
              0.7777777777777778,
              "#fb9f3a"
             ],
             [
              0.8888888888888888,
              "#fdca26"
             ],
             [
              1,
              "#f0f921"
             ]
            ],
            "type": "heatmap"
           }
          ],
          "histogram": [
           {
            "marker": {
             "pattern": {
              "fillmode": "overlay",
              "size": 10,
              "solidity": 0.2
             }
            },
            "type": "histogram"
           }
          ],
          "histogram2d": [
           {
            "colorbar": {
             "outlinewidth": 0,
             "ticks": ""
            },
            "colorscale": [
             [
              0,
              "#0d0887"
             ],
             [
              0.1111111111111111,
              "#46039f"
             ],
             [
              0.2222222222222222,
              "#7201a8"
             ],
             [
              0.3333333333333333,
              "#9c179e"
             ],
             [
              0.4444444444444444,
              "#bd3786"
             ],
             [
              0.5555555555555556,
              "#d8576b"
             ],
             [
              0.6666666666666666,
              "#ed7953"
             ],
             [
              0.7777777777777778,
              "#fb9f3a"
             ],
             [
              0.8888888888888888,
              "#fdca26"
             ],
             [
              1,
              "#f0f921"
             ]
            ],
            "type": "histogram2d"
           }
          ],
          "histogram2dcontour": [
           {
            "colorbar": {
             "outlinewidth": 0,
             "ticks": ""
            },
            "colorscale": [
             [
              0,
              "#0d0887"
             ],
             [
              0.1111111111111111,
              "#46039f"
             ],
             [
              0.2222222222222222,
              "#7201a8"
             ],
             [
              0.3333333333333333,
              "#9c179e"
             ],
             [
              0.4444444444444444,
              "#bd3786"
             ],
             [
              0.5555555555555556,
              "#d8576b"
             ],
             [
              0.6666666666666666,
              "#ed7953"
             ],
             [
              0.7777777777777778,
              "#fb9f3a"
             ],
             [
              0.8888888888888888,
              "#fdca26"
             ],
             [
              1,
              "#f0f921"
             ]
            ],
            "type": "histogram2dcontour"
           }
          ],
          "mesh3d": [
           {
            "colorbar": {
             "outlinewidth": 0,
             "ticks": ""
            },
            "type": "mesh3d"
           }
          ],
          "parcoords": [
           {
            "line": {
             "colorbar": {
              "outlinewidth": 0,
              "ticks": ""
             }
            },
            "type": "parcoords"
           }
          ],
          "pie": [
           {
            "automargin": true,
            "type": "pie"
           }
          ],
          "scatter": [
           {
            "fillpattern": {
             "fillmode": "overlay",
             "size": 10,
             "solidity": 0.2
            },
            "type": "scatter"
           }
          ],
          "scatter3d": [
           {
            "line": {
             "colorbar": {
              "outlinewidth": 0,
              "ticks": ""
             }
            },
            "marker": {
             "colorbar": {
              "outlinewidth": 0,
              "ticks": ""
             }
            },
            "type": "scatter3d"
           }
          ],
          "scattercarpet": [
           {
            "marker": {
             "colorbar": {
              "outlinewidth": 0,
              "ticks": ""
             }
            },
            "type": "scattercarpet"
           }
          ],
          "scattergeo": [
           {
            "marker": {
             "colorbar": {
              "outlinewidth": 0,
              "ticks": ""
             }
            },
            "type": "scattergeo"
           }
          ],
          "scattergl": [
           {
            "marker": {
             "colorbar": {
              "outlinewidth": 0,
              "ticks": ""
             }
            },
            "type": "scattergl"
           }
          ],
          "scattermap": [
           {
            "marker": {
             "colorbar": {
              "outlinewidth": 0,
              "ticks": ""
             }
            },
            "type": "scattermap"
           }
          ],
          "scattermapbox": [
           {
            "marker": {
             "colorbar": {
              "outlinewidth": 0,
              "ticks": ""
             }
            },
            "type": "scattermapbox"
           }
          ],
          "scatterpolar": [
           {
            "marker": {
             "colorbar": {
              "outlinewidth": 0,
              "ticks": ""
             }
            },
            "type": "scatterpolar"
           }
          ],
          "scatterpolargl": [
           {
            "marker": {
             "colorbar": {
              "outlinewidth": 0,
              "ticks": ""
             }
            },
            "type": "scatterpolargl"
           }
          ],
          "scatterternary": [
           {
            "marker": {
             "colorbar": {
              "outlinewidth": 0,
              "ticks": ""
             }
            },
            "type": "scatterternary"
           }
          ],
          "surface": [
           {
            "colorbar": {
             "outlinewidth": 0,
             "ticks": ""
            },
            "colorscale": [
             [
              0,
              "#0d0887"
             ],
             [
              0.1111111111111111,
              "#46039f"
             ],
             [
              0.2222222222222222,
              "#7201a8"
             ],
             [
              0.3333333333333333,
              "#9c179e"
             ],
             [
              0.4444444444444444,
              "#bd3786"
             ],
             [
              0.5555555555555556,
              "#d8576b"
             ],
             [
              0.6666666666666666,
              "#ed7953"
             ],
             [
              0.7777777777777778,
              "#fb9f3a"
             ],
             [
              0.8888888888888888,
              "#fdca26"
             ],
             [
              1,
              "#f0f921"
             ]
            ],
            "type": "surface"
           }
          ],
          "table": [
           {
            "cells": {
             "fill": {
              "color": "#EBF0F8"
             },
             "line": {
              "color": "white"
             }
            },
            "header": {
             "fill": {
              "color": "#C8D4E3"
             },
             "line": {
              "color": "white"
             }
            },
            "type": "table"
           }
          ]
         },
         "layout": {
          "annotationdefaults": {
           "arrowcolor": "#2a3f5f",
           "arrowhead": 0,
           "arrowwidth": 1
          },
          "autotypenumbers": "strict",
          "coloraxis": {
           "colorbar": {
            "outlinewidth": 0,
            "ticks": ""
           }
          },
          "colorscale": {
           "diverging": [
            [
             0,
             "#8e0152"
            ],
            [
             0.1,
             "#c51b7d"
            ],
            [
             0.2,
             "#de77ae"
            ],
            [
             0.3,
             "#f1b6da"
            ],
            [
             0.4,
             "#fde0ef"
            ],
            [
             0.5,
             "#f7f7f7"
            ],
            [
             0.6,
             "#e6f5d0"
            ],
            [
             0.7,
             "#b8e186"
            ],
            [
             0.8,
             "#7fbc41"
            ],
            [
             0.9,
             "#4d9221"
            ],
            [
             1,
             "#276419"
            ]
           ],
           "sequential": [
            [
             0,
             "#0d0887"
            ],
            [
             0.1111111111111111,
             "#46039f"
            ],
            [
             0.2222222222222222,
             "#7201a8"
            ],
            [
             0.3333333333333333,
             "#9c179e"
            ],
            [
             0.4444444444444444,
             "#bd3786"
            ],
            [
             0.5555555555555556,
             "#d8576b"
            ],
            [
             0.6666666666666666,
             "#ed7953"
            ],
            [
             0.7777777777777778,
             "#fb9f3a"
            ],
            [
             0.8888888888888888,
             "#fdca26"
            ],
            [
             1,
             "#f0f921"
            ]
           ],
           "sequentialminus": [
            [
             0,
             "#0d0887"
            ],
            [
             0.1111111111111111,
             "#46039f"
            ],
            [
             0.2222222222222222,
             "#7201a8"
            ],
            [
             0.3333333333333333,
             "#9c179e"
            ],
            [
             0.4444444444444444,
             "#bd3786"
            ],
            [
             0.5555555555555556,
             "#d8576b"
            ],
            [
             0.6666666666666666,
             "#ed7953"
            ],
            [
             0.7777777777777778,
             "#fb9f3a"
            ],
            [
             0.8888888888888888,
             "#fdca26"
            ],
            [
             1,
             "#f0f921"
            ]
           ]
          },
          "colorway": [
           "#636efa",
           "#EF553B",
           "#00cc96",
           "#ab63fa",
           "#FFA15A",
           "#19d3f3",
           "#FF6692",
           "#B6E880",
           "#FF97FF",
           "#FECB52"
          ],
          "font": {
           "color": "#2a3f5f"
          },
          "geo": {
           "bgcolor": "white",
           "lakecolor": "white",
           "landcolor": "#E5ECF6",
           "showlakes": true,
           "showland": true,
           "subunitcolor": "white"
          },
          "hoverlabel": {
           "align": "left"
          },
          "hovermode": "closest",
          "mapbox": {
           "style": "light"
          },
          "paper_bgcolor": "white",
          "plot_bgcolor": "#E5ECF6",
          "polar": {
           "angularaxis": {
            "gridcolor": "white",
            "linecolor": "white",
            "ticks": ""
           },
           "bgcolor": "#E5ECF6",
           "radialaxis": {
            "gridcolor": "white",
            "linecolor": "white",
            "ticks": ""
           }
          },
          "scene": {
           "xaxis": {
            "backgroundcolor": "#E5ECF6",
            "gridcolor": "white",
            "gridwidth": 2,
            "linecolor": "white",
            "showbackground": true,
            "ticks": "",
            "zerolinecolor": "white"
           },
           "yaxis": {
            "backgroundcolor": "#E5ECF6",
            "gridcolor": "white",
            "gridwidth": 2,
            "linecolor": "white",
            "showbackground": true,
            "ticks": "",
            "zerolinecolor": "white"
           },
           "zaxis": {
            "backgroundcolor": "#E5ECF6",
            "gridcolor": "white",
            "gridwidth": 2,
            "linecolor": "white",
            "showbackground": true,
            "ticks": "",
            "zerolinecolor": "white"
           }
          },
          "shapedefaults": {
           "line": {
            "color": "#2a3f5f"
           }
          },
          "ternary": {
           "aaxis": {
            "gridcolor": "white",
            "linecolor": "white",
            "ticks": ""
           },
           "baxis": {
            "gridcolor": "white",
            "linecolor": "white",
            "ticks": ""
           },
           "bgcolor": "#E5ECF6",
           "caxis": {
            "gridcolor": "white",
            "linecolor": "white",
            "ticks": ""
           }
          },
          "title": {
           "x": 0.05
          },
          "xaxis": {
           "automargin": true,
           "gridcolor": "white",
           "linecolor": "white",
           "ticks": "",
           "title": {
            "standoff": 15
           },
           "zerolinecolor": "white",
           "zerolinewidth": 2
          },
          "yaxis": {
           "automargin": true,
           "gridcolor": "white",
           "linecolor": "white",
           "ticks": "",
           "title": {
            "standoff": 15
           },
           "zerolinecolor": "white",
           "zerolinewidth": 2
          }
         }
        },
        "title": {
         "text": "FORGE16aApril24BackgroundStage 3R.csv",
         "x": 0.5
        },
        "width": 800
       }
      }
     },
     "metadata": {},
     "output_type": "display_data"
    },
    {
     "data": {
      "application/vnd.plotly.v1+json": {
       "config": {
        "plotlyServerURL": "https://plot.ly"
       },
       "data": [
        {
         "hovertemplate": "X Coordinate (m)=%{x}<br>Y Coordinate (m)=%{y}<br>Depth (m)=%{z}<br>size=%{marker.size}<br>Moment Magnitude=%{marker.color}<extra></extra>",
         "legendgroup": "",
         "marker": {
          "color": {
           "bdata": "hetRuB6F2z/sUbgehevBv3E9CtejcM0/mpmZmZmZuT8K16NwPQq3P2ZmZmZmZta/mpmZmZmZyb/D9Shcj8LtP5qZmZmZmck/MzMzMzMz07+kcD0K16PQP+F6FK5H4cq/H4XrUbge1b9I4XoUrkfRv3sUrkfheqS/uB6F61G4nr97FK5H4Xq0vx+F61G4HtU/CtejcD0Kx78K16NwPQrXv+xRuB6F68G/rkfhehSu17+amZmZmZnZv3sUrkfheoQ/UrgehetR2L+amZmZmZnJv1K4HoXrUdi/16NwPQrX0797FK5H4XqEvylcj8L1KMy/UrgehetRyL/D9Shcj8LFvwrXo3A9Cse/AAAAAAAA0D+amZmZmZnZP7gehetRuM6/16NwPQrX07+kcD0K16PAvz0K16NwPdq/ZmZmZmZm7j97FK5H4XqUvwrXo3A9Cre/MzMzMzMzwz97FK5H4XqkvwrXo3A9Cse/mpmZmZmZyb+4HoXrUbjePwAAAAAAAAAA7FG4HoXrsb97FK5H4XqkP5qZmZmZmam/UrgehetRyL97FK5H4XqEP1K4HoXrUci/UrgehetR2L+amZmZmZnpP3sUrkfhepS/MzMzMzMz07+kcD0K16PQv+xRuB6F67E/SOF6FK5H4T/NzMzMzMzcPwrXo3A9Ctc/j8L1KFyP0r+4HoXrUbjOP+F6FK5H4do/CtejcD0Kx79xPQrXo3DNPzMzMzMzM9M/SOF6FK5H0b9I4XoUrkfRPx+F61G4HtU/mpmZmZmZqT9mZmZmZmbWP65H4XoUrte/9ihcj8L12L+kcD0K16PQv7gehetRuJ4/H4XrUbge1T/sUbgehevRv3sUrkfheoQ/exSuR+F6xL+amZmZmZnZP3sUrkfheoS/w/UoXI/CxT8AAAAAAAD4fwAAAAAAAPh/AAAAAAAA+H8AAAAAAAD4fwAAAAAAAPh/AAAAAAAA+H8AAAAAAAD4fwAAAAAAAPh/AAAAAAAA+H8AAAAAAAD4fwAAAAAAAPh/AAAAAAAA+H8AAAAAAAD4fwAAAAAAAPh/AAAAAAAA+H8AAAAAAAD4fwAAAAAAAPh/AAAAAAAA+H8AAAAAAAD4fwAAAAAAAPh/AAAAAAAA+H8AAAAAAAD4fwAAAAAAAPh/AAAAAAAA+H8AAAAAAAD4fwAAAAAAAPh/AAAAAAAA+H8AAAAAAAD4fwAAAAAAAPh/AAAAAAAA+H8AAAAAAAD4fwAAAAAAAPh/AAAAAAAA+H8AAAAAAAD4fwAAAAAAAPh/AAAAAAAA+H8AAAAAAAD4fwAAAAAAAPh/AAAAAAAA+H8AAAAAAAD4fwAAAAAAAPh/AAAAAAAA+H8AAAAAAAD4fwAAAAAAAPh/AAAAAAAA+H8AAAAAAAD4fwAAAAAAAPh/AAAAAAAA+H8AAAAAAAD4fwAAAAAAAPh/AAAAAAAA+H8AAAAAAAD4fwAAAAAAAPh/AAAAAAAA+H8AAAAAAAD4fwAAAAAAAPh/AAAAAAAA+H8AAAAAAAD4fwAAAAAAAPh/AAAAAAAA+H8AAAAAAAD4fwAAAAAAAPh/",
           "dtype": "f8"
          },
          "coloraxis": "coloraxis",
          "line": {
           "width": 0
          },
          "opacity": 0.7,
          "size": {
           "bdata": "AQEBAQEBAQEBAQEBAQEBAQEBAQEBAQEBAQEBAQEBAQEBAQEBAQEBAQEBAQEBAQEBAQEBAQEBAQEBAQEBAQEBAQEBAQEBAQEBAQEBAQEBAQEBAQEBAQEBAQEBAQEBAQEBAQEBAQEBAQEBAQEBAQEBAQEBAQEBAQEBAQEBAQEBAQEBAQEBAQEBAQEBAQEBAQEBAQEB",
           "dtype": "i1"
          },
          "sizemode": "area",
          "sizeref": 0.00510204081632653,
          "symbol": "circle"
         },
         "mode": "markers",
         "name": "",
         "scene": "scene",
         "showlegend": false,
         "type": "scatter3d",
         "x": {
          "bdata": "AAAAAABkqUAAAAAAAPynQAAAAAAA1KdAAAAAAABcokAAAAAAAOinQAAAAAAA0KZAAAAAAACEokAAAAAAAEiiQAAAAAAAhKJAAAAAAAD8okAAAAAAAOinQAAAAAAATKhAAAAAAADookAAAAAAACSjQAAAAAAAlKZAAAAAAABMqEAAAAAAAISiQAAAAAAAcKJAAAAAAAD8p0AAAAAAAGCoQAAAAAAA6KJAAAAAAAC8pkAAAAAAAPihQAAAAAAAKKlAAAAAAAD8okAAAAAAAGSpQAAAAAAAEKhAAAAAAACopkAAAAAAAMSoQAAAAAAAgKZAAAAAAACsokAAAAAAANCmQAAAAAAAxKhAAAAAAACco0AAAAAAAPyiQAAAAAAAsKNAAAAAAACYokAAAAAAAMCiQAAAAAAATKNAAAAAAABIokAAAAAAAHSoQAAAAAAAmKJAAAAAAAB0qEAAAAAAAIioQAAAAAAAiKNAAAAAAAAUqUAAAAAAAEyoQAAAAAAAiKhAAAAAAABMqEAAAAAAAPyiQAAAAAAAPKlAAAAAAADYqEAAAAAAAGCoQAAAAAAATKhAAAAAAAAko0AAAAAAAHCiQAAAAAAAiKNAAAAAAADUokAAAAAAABCjQAAAAAAAvKFAAAAAAACsokAAAAAAAEiiQAAAAAAAiKhAAAAAAAAopEAAAAAAAMCnQAAAAAAAOKhAAAAAAACQpUAAAAAAAMCiQAAAAAAA6KJAAAAAAACwo0AAAAAAABSpQAAAAAAArKJAAAAAAADookAAAAAAAHCiQAAAAAAA1KJAAAAAAAC4oEAAAAAAABCjQAAAAAAAFKlAAAAAAACEokAAAAAAABCjQAAAAAAAnKhAAAAAAAAko0AAAAAAAOyoQAAAAAAAUKlAAAAAAABIokAAAAAAAAD4fwAAAAAAAPh/AAAAAAAA+H8AAAAAAAD4fwAAAAAAAPh/AAAAAAAA+H8AAAAAAAD4fwAAAAAAAPh/AAAAAAAA+H8AAAAAAAD4fwAAAAAAAPh/AAAAAAAA+H8AAAAAAAD4fwAAAAAAAPh/AAAAAAAA+H8AAAAAAAD4fwAAAAAAAPh/AAAAAAAA+H8AAAAAAAD4fwAAAAAAAPh/AAAAAAAA+H8AAAAAAAD4fwAAAAAAAPh/AAAAAAAA+H8AAAAAAAD4fwAAAAAAAPh/AAAAAAAA+H8AAAAAAAD4fwAAAAAAAPh/AAAAAAAA+H8AAAAAAAD4fwAAAAAAAPh/AAAAAAAA+H8AAAAAAAD4fwAAAAAAAPh/AAAAAAAA+H8AAAAAAAD4fwAAAAAAAPh/AAAAAAAA+H8AAAAAAAD4fwAAAAAAAPh/AAAAAAAA+H8AAAAAAAD4fwAAAAAAAPh/AAAAAAAA+H8AAAAAAAD4fwAAAAAAAPh/AAAAAAAA+H8AAAAAAAD4fwAAAAAAAPh/AAAAAAAA+H8AAAAAAAD4fwAAAAAAAPh/AAAAAAAA+H8AAAAAAAD4fwAAAAAAAPh/AAAAAAAA+H8AAAAAAAD4fwAAAAAAAPh/AAAAAAAA+H8AAAAAAAD4fwAAAAAAAPh/",
          "dtype": "f8"
         },
         "y": {
          "bdata": "AAAAAABAf0AAAAAAAIBmwAAAAAAAgFtAAAAAAACQkMAAAAAAAABZQAAAAAAAAFlAAAAAAACwiMAAAAAAAKCOwAAAAAAAkI/AAAAAAADgj8AAAAAAAOB1wAAAAAAAQGXAAAAAAAAAjsAAAAAAAACUwAAAAAAAwGdAAAAAAABAcMAAAAAAANiTwAAAAAAAGJDAAAAAAAAAbsAAAAAAABCIwAAAAAAAuJDAAAAAAAAAZEAAAAAAAKiWwAAAAAAAwILAAAAAAAAIkcAAAAAAACCMwAAAAAAAgFZAAAAAAAAAZEAAAAAAAOCFwAAAAAAAwGJAAAAAAADwjsAAAAAAAIBWQAAAAAAA0IvAAAAAAAAQmMAAAAAAAGiQwAAAAAAA2JjAAAAAAADQhsAAAAAAAECQwAAAAAAAeJTAAAAAAADgkMAAAAAAAAB0QAAAAAAAsI3AAAAAAAAQiMAAAAAAAEBqwAAAAAAAoJnAAAAAAAAAScAAAAAAAFCEwAAAAAAAIILAAAAAAABAcMAAAAAAADCRwAAAAAAAAE7AAAAAAAAAecAAAAAAAMCCwAAAAAAAAG7AAAAAAADoksAAAAAAABiQwAAAAAAAKJnAAAAAAABYlsAAAAAAAHCSwAAAAAAAWJbAAAAAAABQlMAAAAAAAGCNwAAAAAAAIIfAAAAAAAAIm8AAAAAAAEBlQAAAAAAA4HDAAAAAAADAl8AAAAAAAEiSwAAAAAAASJLAAAAAAAD4lsAAAAAAAOCAQAAAAAAAoI7AAAAAAADQkcAAAAAAACCMwAAAAAAAoHnAAAAAAABokMAAAAAAAGiQwAAAAAAAgGtAAAAAAAAYkMAAAAAAAKiRwAAAAAAAoInAAAAAAAAolMAAAAAAAAB+QAAAAAAAgGZAAAAAAADglcAAAAAAAAD4fwAAAAAAAPh/AAAAAAAA+H8AAAAAAAD4fwAAAAAAAPh/AAAAAAAA+H8AAAAAAAD4fwAAAAAAAPh/AAAAAAAA+H8AAAAAAAD4fwAAAAAAAPh/AAAAAAAA+H8AAAAAAAD4fwAAAAAAAPh/AAAAAAAA+H8AAAAAAAD4fwAAAAAAAPh/AAAAAAAA+H8AAAAAAAD4fwAAAAAAAPh/AAAAAAAA+H8AAAAAAAD4fwAAAAAAAPh/AAAAAAAA+H8AAAAAAAD4fwAAAAAAAPh/AAAAAAAA+H8AAAAAAAD4fwAAAAAAAPh/AAAAAAAA+H8AAAAAAAD4fwAAAAAAAPh/AAAAAAAA+H8AAAAAAAD4fwAAAAAAAPh/AAAAAAAA+H8AAAAAAAD4fwAAAAAAAPh/AAAAAAAA+H8AAAAAAAD4fwAAAAAAAPh/AAAAAAAA+H8AAAAAAAD4fwAAAAAAAPh/AAAAAAAA+H8AAAAAAAD4fwAAAAAAAPh/AAAAAAAA+H8AAAAAAAD4fwAAAAAAAPh/AAAAAAAA+H8AAAAAAAD4fwAAAAAAAPh/AAAAAAAA+H8AAAAAAAD4fwAAAAAAAPh/AAAAAAAA+H8AAAAAAAD4fwAAAAAAAPh/AAAAAAAA+H8AAAAAAAD4fwAAAAAAAPh/",
          "dtype": "f8"
         },
         "z": {
          "bdata": "AAAAAADCwEAAAAAAAEy9QAAAAAAAO8BAAAAAAACivEAAAAAAAN68QAAAAAAARr5AAAAAAACeu0AAAAAAAAK8QAAAAAAAWLtAAAAAAADQu0AAAAAAAEK9QAAAAAAAGr1AAAAAAAD4u0AAAAAAAJ67QAAAAAAAeL5AAAAAAACivEAAAAAAAMq8QAAAAAAASLxAAAAAAABqvUAAAAAAADS8QAAAAAAADLxAAAAAAAAUvkAAAAAAAJK9QAAAAAAAsrtAAAAAAAD4u0AAAAAAAOi8QAAAAAAAyrxAAAAAAAA8vkAAAAAAAAy8QAAAAAAARr5AAAAAAAA0vEAAAAAAAAC+QAAAAAAAFrxAAAAAAAAswEAAAAAAANvAQAAAAAAAur1AAAAAAABYu0AAAAAAAE67QAAAAAAAYrtAAAAAAAB6vEAAAAAAAEC/QAAAAAAA7rtAAAAAAADau0AAAAAAAAa9QAAAAAAAFL5AAAAAAAAWvEAAAAAAAO67QAAAAAAADLxAAAAAAAAGvUAAAAAAAE67QAAAAAAAar1AAAAAAABmvEAAAAAAAJi8QAAAAAAAVr1AAAAAAAC8u0AAAAAAAGK7QAAAAAAAMr5AAAAAAABcvEAAAAAAAGK7QAAAAAAAsL1AAAAAAADau0AAAAAAABa8QAAAAAAADLxAAAAAAABMvUAAAAAAACS9QAAAAAAA9r1AAAAAAABwvEAAAAAAAIC7QAAAAAAAbLtAAAAAAAAevkAAAAAAALPAQAAAAAAA5LtAAAAAAABOu0AAAAAAAAy8QAAAAAAASrpAAAAAAACKu0AAAAAAAOS7QAAAAAAAmr9AAAAAAABIvEAAAAAAAFi7QAAAAAAA+LtAAAAAAAB2u0AAAAAAANvAQAAAAAAAfL9AAAAAAADUvEAAAAAAAAD4fwAAAAAAAPh/AAAAAAAA+H8AAAAAAAD4fwAAAAAAAPh/AAAAAAAA+H8AAAAAAAD4fwAAAAAAAPh/AAAAAAAA+H8AAAAAAAD4fwAAAAAAAPh/AAAAAAAA+H8AAAAAAAD4fwAAAAAAAPh/AAAAAAAA+H8AAAAAAAD4fwAAAAAAAPh/AAAAAAAA+H8AAAAAAAD4fwAAAAAAAPh/AAAAAAAA+H8AAAAAAAD4fwAAAAAAAPh/AAAAAAAA+H8AAAAAAAD4fwAAAAAAAPh/AAAAAAAA+H8AAAAAAAD4fwAAAAAAAPh/AAAAAAAA+H8AAAAAAAD4fwAAAAAAAPh/AAAAAAAA+H8AAAAAAAD4fwAAAAAAAPh/AAAAAAAA+H8AAAAAAAD4fwAAAAAAAPh/AAAAAAAA+H8AAAAAAAD4fwAAAAAAAPh/AAAAAAAA+H8AAAAAAAD4fwAAAAAAAPh/AAAAAAAA+H8AAAAAAAD4fwAAAAAAAPh/AAAAAAAA+H8AAAAAAAD4fwAAAAAAAPh/AAAAAAAA+H8AAAAAAAD4fwAAAAAAAPh/AAAAAAAA+H8AAAAAAAD4fwAAAAAAAPh/AAAAAAAA+H8AAAAAAAD4fwAAAAAAAPh/AAAAAAAA+H8AAAAAAAD4fwAAAAAAAPh/",
          "dtype": "f8"
         }
        }
       ],
       "layout": {
        "coloraxis": {
         "cmax": 1.85,
         "cmin": -1.09,
         "colorbar": {
          "ticklen": 6,
          "tickmode": "array",
          "ticks": "outside",
          "tickvals": [
           -1.09,
           -1,
           -0.5,
           0,
           0.5,
           1,
           1.5,
           1.85
          ],
          "tickwidth": 1,
          "title": {
           "side": "top",
           "text": "Moment Magnitude"
          }
         },
         "colorscale": [
          [
           0,
           "#0d0887"
          ],
          [
           0.1111111111111111,
           "#46039f"
          ],
          [
           0.2222222222222222,
           "#7201a8"
          ],
          [
           0.3333333333333333,
           "#9c179e"
          ],
          [
           0.4444444444444444,
           "#bd3786"
          ],
          [
           0.5555555555555556,
           "#d8576b"
          ],
          [
           0.6666666666666666,
           "#ed7953"
          ],
          [
           0.7777777777777778,
           "#fb9f3a"
          ],
          [
           0.8888888888888888,
           "#fdca26"
          ],
          [
           1,
           "#f0f921"
          ]
         ]
        },
        "height": 600,
        "legend": {
         "itemsizing": "constant",
         "tracegroupgap": 0
        },
        "margin": {
         "b": 40,
         "l": 40,
         "r": 40,
         "t": 40
        },
        "scene": {
         "aspectmode": "cube",
         "camera": {
          "eye": {
           "x": 1.5,
           "y": 1.5,
           "z": 1.5
          }
         },
         "domain": {
          "x": [
           0,
           1
          ],
          "y": [
           0,
           1
          ]
         },
         "xaxis": {
          "range": [
           -3660,
           3890
          ],
          "title": {
           "text": "X Coordinate (m)"
          }
         },
         "yaxis": {
          "range": [
           -5060,
           1180
          ],
          "title": {
           "text": "Y Coordinate (m)"
          }
         },
         "zaxis": {
          "range": [
           9500,
           5580
          ],
          "title": {
           "text": "Depth (m)"
          }
         }
        },
        "template": {
         "data": {
          "bar": [
           {
            "error_x": {
             "color": "#2a3f5f"
            },
            "error_y": {
             "color": "#2a3f5f"
            },
            "marker": {
             "line": {
              "color": "#E5ECF6",
              "width": 0.5
             },
             "pattern": {
              "fillmode": "overlay",
              "size": 10,
              "solidity": 0.2
             }
            },
            "type": "bar"
           }
          ],
          "barpolar": [
           {
            "marker": {
             "line": {
              "color": "#E5ECF6",
              "width": 0.5
             },
             "pattern": {
              "fillmode": "overlay",
              "size": 10,
              "solidity": 0.2
             }
            },
            "type": "barpolar"
           }
          ],
          "carpet": [
           {
            "aaxis": {
             "endlinecolor": "#2a3f5f",
             "gridcolor": "white",
             "linecolor": "white",
             "minorgridcolor": "white",
             "startlinecolor": "#2a3f5f"
            },
            "baxis": {
             "endlinecolor": "#2a3f5f",
             "gridcolor": "white",
             "linecolor": "white",
             "minorgridcolor": "white",
             "startlinecolor": "#2a3f5f"
            },
            "type": "carpet"
           }
          ],
          "choropleth": [
           {
            "colorbar": {
             "outlinewidth": 0,
             "ticks": ""
            },
            "type": "choropleth"
           }
          ],
          "contour": [
           {
            "colorbar": {
             "outlinewidth": 0,
             "ticks": ""
            },
            "colorscale": [
             [
              0,
              "#0d0887"
             ],
             [
              0.1111111111111111,
              "#46039f"
             ],
             [
              0.2222222222222222,
              "#7201a8"
             ],
             [
              0.3333333333333333,
              "#9c179e"
             ],
             [
              0.4444444444444444,
              "#bd3786"
             ],
             [
              0.5555555555555556,
              "#d8576b"
             ],
             [
              0.6666666666666666,
              "#ed7953"
             ],
             [
              0.7777777777777778,
              "#fb9f3a"
             ],
             [
              0.8888888888888888,
              "#fdca26"
             ],
             [
              1,
              "#f0f921"
             ]
            ],
            "type": "contour"
           }
          ],
          "contourcarpet": [
           {
            "colorbar": {
             "outlinewidth": 0,
             "ticks": ""
            },
            "type": "contourcarpet"
           }
          ],
          "heatmap": [
           {
            "colorbar": {
             "outlinewidth": 0,
             "ticks": ""
            },
            "colorscale": [
             [
              0,
              "#0d0887"
             ],
             [
              0.1111111111111111,
              "#46039f"
             ],
             [
              0.2222222222222222,
              "#7201a8"
             ],
             [
              0.3333333333333333,
              "#9c179e"
             ],
             [
              0.4444444444444444,
              "#bd3786"
             ],
             [
              0.5555555555555556,
              "#d8576b"
             ],
             [
              0.6666666666666666,
              "#ed7953"
             ],
             [
              0.7777777777777778,
              "#fb9f3a"
             ],
             [
              0.8888888888888888,
              "#fdca26"
             ],
             [
              1,
              "#f0f921"
             ]
            ],
            "type": "heatmap"
           }
          ],
          "histogram": [
           {
            "marker": {
             "pattern": {
              "fillmode": "overlay",
              "size": 10,
              "solidity": 0.2
             }
            },
            "type": "histogram"
           }
          ],
          "histogram2d": [
           {
            "colorbar": {
             "outlinewidth": 0,
             "ticks": ""
            },
            "colorscale": [
             [
              0,
              "#0d0887"
             ],
             [
              0.1111111111111111,
              "#46039f"
             ],
             [
              0.2222222222222222,
              "#7201a8"
             ],
             [
              0.3333333333333333,
              "#9c179e"
             ],
             [
              0.4444444444444444,
              "#bd3786"
             ],
             [
              0.5555555555555556,
              "#d8576b"
             ],
             [
              0.6666666666666666,
              "#ed7953"
             ],
             [
              0.7777777777777778,
              "#fb9f3a"
             ],
             [
              0.8888888888888888,
              "#fdca26"
             ],
             [
              1,
              "#f0f921"
             ]
            ],
            "type": "histogram2d"
           }
          ],
          "histogram2dcontour": [
           {
            "colorbar": {
             "outlinewidth": 0,
             "ticks": ""
            },
            "colorscale": [
             [
              0,
              "#0d0887"
             ],
             [
              0.1111111111111111,
              "#46039f"
             ],
             [
              0.2222222222222222,
              "#7201a8"
             ],
             [
              0.3333333333333333,
              "#9c179e"
             ],
             [
              0.4444444444444444,
              "#bd3786"
             ],
             [
              0.5555555555555556,
              "#d8576b"
             ],
             [
              0.6666666666666666,
              "#ed7953"
             ],
             [
              0.7777777777777778,
              "#fb9f3a"
             ],
             [
              0.8888888888888888,
              "#fdca26"
             ],
             [
              1,
              "#f0f921"
             ]
            ],
            "type": "histogram2dcontour"
           }
          ],
          "mesh3d": [
           {
            "colorbar": {
             "outlinewidth": 0,
             "ticks": ""
            },
            "type": "mesh3d"
           }
          ],
          "parcoords": [
           {
            "line": {
             "colorbar": {
              "outlinewidth": 0,
              "ticks": ""
             }
            },
            "type": "parcoords"
           }
          ],
          "pie": [
           {
            "automargin": true,
            "type": "pie"
           }
          ],
          "scatter": [
           {
            "fillpattern": {
             "fillmode": "overlay",
             "size": 10,
             "solidity": 0.2
            },
            "type": "scatter"
           }
          ],
          "scatter3d": [
           {
            "line": {
             "colorbar": {
              "outlinewidth": 0,
              "ticks": ""
             }
            },
            "marker": {
             "colorbar": {
              "outlinewidth": 0,
              "ticks": ""
             }
            },
            "type": "scatter3d"
           }
          ],
          "scattercarpet": [
           {
            "marker": {
             "colorbar": {
              "outlinewidth": 0,
              "ticks": ""
             }
            },
            "type": "scattercarpet"
           }
          ],
          "scattergeo": [
           {
            "marker": {
             "colorbar": {
              "outlinewidth": 0,
              "ticks": ""
             }
            },
            "type": "scattergeo"
           }
          ],
          "scattergl": [
           {
            "marker": {
             "colorbar": {
              "outlinewidth": 0,
              "ticks": ""
             }
            },
            "type": "scattergl"
           }
          ],
          "scattermap": [
           {
            "marker": {
             "colorbar": {
              "outlinewidth": 0,
              "ticks": ""
             }
            },
            "type": "scattermap"
           }
          ],
          "scattermapbox": [
           {
            "marker": {
             "colorbar": {
              "outlinewidth": 0,
              "ticks": ""
             }
            },
            "type": "scattermapbox"
           }
          ],
          "scatterpolar": [
           {
            "marker": {
             "colorbar": {
              "outlinewidth": 0,
              "ticks": ""
             }
            },
            "type": "scatterpolar"
           }
          ],
          "scatterpolargl": [
           {
            "marker": {
             "colorbar": {
              "outlinewidth": 0,
              "ticks": ""
             }
            },
            "type": "scatterpolargl"
           }
          ],
          "scatterternary": [
           {
            "marker": {
             "colorbar": {
              "outlinewidth": 0,
              "ticks": ""
             }
            },
            "type": "scatterternary"
           }
          ],
          "surface": [
           {
            "colorbar": {
             "outlinewidth": 0,
             "ticks": ""
            },
            "colorscale": [
             [
              0,
              "#0d0887"
             ],
             [
              0.1111111111111111,
              "#46039f"
             ],
             [
              0.2222222222222222,
              "#7201a8"
             ],
             [
              0.3333333333333333,
              "#9c179e"
             ],
             [
              0.4444444444444444,
              "#bd3786"
             ],
             [
              0.5555555555555556,
              "#d8576b"
             ],
             [
              0.6666666666666666,
              "#ed7953"
             ],
             [
              0.7777777777777778,
              "#fb9f3a"
             ],
             [
              0.8888888888888888,
              "#fdca26"
             ],
             [
              1,
              "#f0f921"
             ]
            ],
            "type": "surface"
           }
          ],
          "table": [
           {
            "cells": {
             "fill": {
              "color": "#EBF0F8"
             },
             "line": {
              "color": "white"
             }
            },
            "header": {
             "fill": {
              "color": "#C8D4E3"
             },
             "line": {
              "color": "white"
             }
            },
            "type": "table"
           }
          ]
         },
         "layout": {
          "annotationdefaults": {
           "arrowcolor": "#2a3f5f",
           "arrowhead": 0,
           "arrowwidth": 1
          },
          "autotypenumbers": "strict",
          "coloraxis": {
           "colorbar": {
            "outlinewidth": 0,
            "ticks": ""
           }
          },
          "colorscale": {
           "diverging": [
            [
             0,
             "#8e0152"
            ],
            [
             0.1,
             "#c51b7d"
            ],
            [
             0.2,
             "#de77ae"
            ],
            [
             0.3,
             "#f1b6da"
            ],
            [
             0.4,
             "#fde0ef"
            ],
            [
             0.5,
             "#f7f7f7"
            ],
            [
             0.6,
             "#e6f5d0"
            ],
            [
             0.7,
             "#b8e186"
            ],
            [
             0.8,
             "#7fbc41"
            ],
            [
             0.9,
             "#4d9221"
            ],
            [
             1,
             "#276419"
            ]
           ],
           "sequential": [
            [
             0,
             "#0d0887"
            ],
            [
             0.1111111111111111,
             "#46039f"
            ],
            [
             0.2222222222222222,
             "#7201a8"
            ],
            [
             0.3333333333333333,
             "#9c179e"
            ],
            [
             0.4444444444444444,
             "#bd3786"
            ],
            [
             0.5555555555555556,
             "#d8576b"
            ],
            [
             0.6666666666666666,
             "#ed7953"
            ],
            [
             0.7777777777777778,
             "#fb9f3a"
            ],
            [
             0.8888888888888888,
             "#fdca26"
            ],
            [
             1,
             "#f0f921"
            ]
           ],
           "sequentialminus": [
            [
             0,
             "#0d0887"
            ],
            [
             0.1111111111111111,
             "#46039f"
            ],
            [
             0.2222222222222222,
             "#7201a8"
            ],
            [
             0.3333333333333333,
             "#9c179e"
            ],
            [
             0.4444444444444444,
             "#bd3786"
            ],
            [
             0.5555555555555556,
             "#d8576b"
            ],
            [
             0.6666666666666666,
             "#ed7953"
            ],
            [
             0.7777777777777778,
             "#fb9f3a"
            ],
            [
             0.8888888888888888,
             "#fdca26"
            ],
            [
             1,
             "#f0f921"
            ]
           ]
          },
          "colorway": [
           "#636efa",
           "#EF553B",
           "#00cc96",
           "#ab63fa",
           "#FFA15A",
           "#19d3f3",
           "#FF6692",
           "#B6E880",
           "#FF97FF",
           "#FECB52"
          ],
          "font": {
           "color": "#2a3f5f"
          },
          "geo": {
           "bgcolor": "white",
           "lakecolor": "white",
           "landcolor": "#E5ECF6",
           "showlakes": true,
           "showland": true,
           "subunitcolor": "white"
          },
          "hoverlabel": {
           "align": "left"
          },
          "hovermode": "closest",
          "mapbox": {
           "style": "light"
          },
          "paper_bgcolor": "white",
          "plot_bgcolor": "#E5ECF6",
          "polar": {
           "angularaxis": {
            "gridcolor": "white",
            "linecolor": "white",
            "ticks": ""
           },
           "bgcolor": "#E5ECF6",
           "radialaxis": {
            "gridcolor": "white",
            "linecolor": "white",
            "ticks": ""
           }
          },
          "scene": {
           "xaxis": {
            "backgroundcolor": "#E5ECF6",
            "gridcolor": "white",
            "gridwidth": 2,
            "linecolor": "white",
            "showbackground": true,
            "ticks": "",
            "zerolinecolor": "white"
           },
           "yaxis": {
            "backgroundcolor": "#E5ECF6",
            "gridcolor": "white",
            "gridwidth": 2,
            "linecolor": "white",
            "showbackground": true,
            "ticks": "",
            "zerolinecolor": "white"
           },
           "zaxis": {
            "backgroundcolor": "#E5ECF6",
            "gridcolor": "white",
            "gridwidth": 2,
            "linecolor": "white",
            "showbackground": true,
            "ticks": "",
            "zerolinecolor": "white"
           }
          },
          "shapedefaults": {
           "line": {
            "color": "#2a3f5f"
           }
          },
          "ternary": {
           "aaxis": {
            "gridcolor": "white",
            "linecolor": "white",
            "ticks": ""
           },
           "baxis": {
            "gridcolor": "white",
            "linecolor": "white",
            "ticks": ""
           },
           "bgcolor": "#E5ECF6",
           "caxis": {
            "gridcolor": "white",
            "linecolor": "white",
            "ticks": ""
           }
          },
          "title": {
           "x": 0.05
          },
          "xaxis": {
           "automargin": true,
           "gridcolor": "white",
           "linecolor": "white",
           "ticks": "",
           "title": {
            "standoff": 15
           },
           "zerolinecolor": "white",
           "zerolinewidth": 2
          },
          "yaxis": {
           "automargin": true,
           "gridcolor": "white",
           "linecolor": "white",
           "ticks": "",
           "title": {
            "standoff": 15
           },
           "zerolinecolor": "white",
           "zerolinewidth": 2
          }
         }
        },
        "title": {
         "text": "FORGE16aApril24BackgroundStage 8b.csv",
         "x": 0.5
        },
        "width": 800
       }
      }
     },
     "metadata": {},
     "output_type": "display_data"
    },
    {
     "data": {
      "application/vnd.plotly.v1+json": {
       "config": {
        "plotlyServerURL": "https://plot.ly"
       },
       "data": [
        {
         "hovertemplate": "X Coordinate (m)=%{x}<br>Y Coordinate (m)=%{y}<br>Depth (m)=%{z}<br>size=%{marker.size}<br>Moment Magnitude=%{marker.color}<extra></extra>",
         "legendgroup": "",
         "marker": {
          "color": {
           "bdata": "KVyPwvUozL/sUbgehevRv5qZmZmZmck/mpmZmZmZqT/hehSuR+HiP5qZmZmZmbk/KVyPwvUozL8pXI/C9SjMv3sUrkfheoS/exSuR+F6hL+4HoXrUbiev3sUrkfhepQ/exSuR+F61D97FK5H4XqUv6RwPQrXo/Q/KVyPwvUovL8zMzMzMzPDv3sUrkfheqQ/ZmZmZmZm1j+kcD0K16PAv3sUrkfhesS/KVyPwvUovD/hehSuR+HKP3sUrkfheqS/16NwPQrX07/sUbgeheuxv8P1KFyPwsU/mpmZmZmZqT8pXI/C9Si8P7gehetRuK4/CtejcD0Ktz/NzMzMzMzcP5qZmZmZmam/exSuR+F6pL8K16NwPQrXP3sUrkfheoS/AAAAAAAA0D/sUbgeheuxvylcj8L1KLw/j8L1KFyP4j+amZmZmZm5v+F6FK5H4cq/cT0K16NwzT8K16NwPQq3P/YoXI/C9dg/UrgehetR4D+amZmZmZmpv2ZmZmZmZuY/uB6F61G4zj97FK5H4XqEv/YoXI/C9di/mpmZmZmZyT9mZmZmZmbWP6RwPQrXo8C/4XoUrkfhyr97FK5H4XrUv3sUrkfhesQ/FK5H4XoU3j+PwvUoXI/SP+xRuB6F67G/cT0K16NwzT8AAAAAAADQP+xRuB6F6+E/AAAAAAAAAAC4HoXrUbiuvwrXo3A9Crc/pHA9Ctej0L97FK5H4XrEP1K4HoXrUcg/CtejcD0Kx79I4XoUrkfRvw==",
           "dtype": "f8"
          },
          "coloraxis": "coloraxis",
          "line": {
           "width": 0
          },
          "opacity": 0.7,
          "size": {
           "bdata": "AQEBAQEBAQEBAQEBAQEBAQEBAQEBAQEBAQEBAQEBAQEBAQEBAQEBAQEBAQEBAQEBAQEBAQEBAQEBAQEBAQEBAQEBAQEBAQE=",
           "dtype": "i1"
          },
          "sizemode": "area",
          "sizeref": 0.00510204081632653,
          "symbol": "circle"
         },
         "mode": "markers",
         "name": "",
         "scene": "scene",
         "showlegend": false,
         "type": "scatter3d",
         "x": {
          "bdata": "TAkWCMoIZgjoCPwIJAneCPII4glMCd4Ijgj8CCoI6AiOCDgJygjKCNQIBglgCWoJagkWCKYJLgnECYYL4gnACJIJlgqYCNQI7Al6CNQITAkGCWQKJAlgCVYJhAh+CWAJsAkkCS4Jogi2CGAJ0AdSCPIIVgkQCegI/AimCYQIZgjOCaIIUApWCfwItggSDA==",
          "dtype": "i2"
         },
         "y": {
          "bdata": "iPqo/bj3lPja+F73CgBo9/D29vpU9475Tvhs+DD4+Pj4+Jr3kPeG9wj4mPle9zT5QvoC+YL7uPe8/RgBFPvy+Xz31P7093r5rvxc+er3Zvmu9975lPiK+Or8Jvhy9wb6Qvpo97b5Uvk++Yb3Lvre+db3VPci98z3aPdO/cL3sPpy/P73xviO+WD6hvf4Ag==",
          "dtype": "i2"
         },
         "z": {
          "bdata": "LBreISIf8B4yHjIeIBwAHuIdzhi2HKYdXh+6Hbgf2B3IHqgbqh6QHwwcQh2UG8wa3BngHx4ZnhvEIpAfdBh4HvQasiAsH7AdEiB4HlAeHCDOHWwg1h/4G/YYmh+UG+AfCCAaHd4coB6CHpgcvCC4H6Yd0BtyHygeiB26IqQfzB8CIWgf1h9AGnIfqh5MHQ==",
          "dtype": "i2"
         }
        }
       ],
       "layout": {
        "coloraxis": {
         "cmax": 1.85,
         "cmin": -1.09,
         "colorbar": {
          "ticklen": 6,
          "tickmode": "array",
          "ticks": "outside",
          "tickvals": [
           -1.09,
           -1,
           -0.5,
           0,
           0.5,
           1,
           1.5,
           1.85
          ],
          "tickwidth": 1,
          "title": {
           "side": "top",
           "text": "Moment Magnitude"
          }
         },
         "colorscale": [
          [
           0,
           "#0d0887"
          ],
          [
           0.1111111111111111,
           "#46039f"
          ],
          [
           0.2222222222222222,
           "#7201a8"
          ],
          [
           0.3333333333333333,
           "#9c179e"
          ],
          [
           0.4444444444444444,
           "#bd3786"
          ],
          [
           0.5555555555555556,
           "#d8576b"
          ],
          [
           0.6666666666666666,
           "#ed7953"
          ],
          [
           0.7777777777777778,
           "#fb9f3a"
          ],
          [
           0.8888888888888888,
           "#fdca26"
          ],
          [
           1,
           "#f0f921"
          ]
         ]
        },
        "height": 600,
        "legend": {
         "itemsizing": "constant",
         "tracegroupgap": 0
        },
        "margin": {
         "b": 40,
         "l": 40,
         "r": 40,
         "t": 40
        },
        "scene": {
         "aspectmode": "cube",
         "camera": {
          "eye": {
           "x": 1.5,
           "y": 1.5,
           "z": 1.5
          }
         },
         "domain": {
          "x": [
           0,
           1
          ],
          "y": [
           0,
           1
          ]
         },
         "xaxis": {
          "range": [
           -3660,
           3890
          ],
          "title": {
           "text": "X Coordinate (m)"
          }
         },
         "yaxis": {
          "range": [
           -5060,
           1180
          ],
          "title": {
           "text": "Y Coordinate (m)"
          }
         },
         "zaxis": {
          "range": [
           9500,
           5580
          ],
          "title": {
           "text": "Depth (m)"
          }
         }
        },
        "template": {
         "data": {
          "bar": [
           {
            "error_x": {
             "color": "#2a3f5f"
            },
            "error_y": {
             "color": "#2a3f5f"
            },
            "marker": {
             "line": {
              "color": "#E5ECF6",
              "width": 0.5
             },
             "pattern": {
              "fillmode": "overlay",
              "size": 10,
              "solidity": 0.2
             }
            },
            "type": "bar"
           }
          ],
          "barpolar": [
           {
            "marker": {
             "line": {
              "color": "#E5ECF6",
              "width": 0.5
             },
             "pattern": {
              "fillmode": "overlay",
              "size": 10,
              "solidity": 0.2
             }
            },
            "type": "barpolar"
           }
          ],
          "carpet": [
           {
            "aaxis": {
             "endlinecolor": "#2a3f5f",
             "gridcolor": "white",
             "linecolor": "white",
             "minorgridcolor": "white",
             "startlinecolor": "#2a3f5f"
            },
            "baxis": {
             "endlinecolor": "#2a3f5f",
             "gridcolor": "white",
             "linecolor": "white",
             "minorgridcolor": "white",
             "startlinecolor": "#2a3f5f"
            },
            "type": "carpet"
           }
          ],
          "choropleth": [
           {
            "colorbar": {
             "outlinewidth": 0,
             "ticks": ""
            },
            "type": "choropleth"
           }
          ],
          "contour": [
           {
            "colorbar": {
             "outlinewidth": 0,
             "ticks": ""
            },
            "colorscale": [
             [
              0,
              "#0d0887"
             ],
             [
              0.1111111111111111,
              "#46039f"
             ],
             [
              0.2222222222222222,
              "#7201a8"
             ],
             [
              0.3333333333333333,
              "#9c179e"
             ],
             [
              0.4444444444444444,
              "#bd3786"
             ],
             [
              0.5555555555555556,
              "#d8576b"
             ],
             [
              0.6666666666666666,
              "#ed7953"
             ],
             [
              0.7777777777777778,
              "#fb9f3a"
             ],
             [
              0.8888888888888888,
              "#fdca26"
             ],
             [
              1,
              "#f0f921"
             ]
            ],
            "type": "contour"
           }
          ],
          "contourcarpet": [
           {
            "colorbar": {
             "outlinewidth": 0,
             "ticks": ""
            },
            "type": "contourcarpet"
           }
          ],
          "heatmap": [
           {
            "colorbar": {
             "outlinewidth": 0,
             "ticks": ""
            },
            "colorscale": [
             [
              0,
              "#0d0887"
             ],
             [
              0.1111111111111111,
              "#46039f"
             ],
             [
              0.2222222222222222,
              "#7201a8"
             ],
             [
              0.3333333333333333,
              "#9c179e"
             ],
             [
              0.4444444444444444,
              "#bd3786"
             ],
             [
              0.5555555555555556,
              "#d8576b"
             ],
             [
              0.6666666666666666,
              "#ed7953"
             ],
             [
              0.7777777777777778,
              "#fb9f3a"
             ],
             [
              0.8888888888888888,
              "#fdca26"
             ],
             [
              1,
              "#f0f921"
             ]
            ],
            "type": "heatmap"
           }
          ],
          "histogram": [
           {
            "marker": {
             "pattern": {
              "fillmode": "overlay",
              "size": 10,
              "solidity": 0.2
             }
            },
            "type": "histogram"
           }
          ],
          "histogram2d": [
           {
            "colorbar": {
             "outlinewidth": 0,
             "ticks": ""
            },
            "colorscale": [
             [
              0,
              "#0d0887"
             ],
             [
              0.1111111111111111,
              "#46039f"
             ],
             [
              0.2222222222222222,
              "#7201a8"
             ],
             [
              0.3333333333333333,
              "#9c179e"
             ],
             [
              0.4444444444444444,
              "#bd3786"
             ],
             [
              0.5555555555555556,
              "#d8576b"
             ],
             [
              0.6666666666666666,
              "#ed7953"
             ],
             [
              0.7777777777777778,
              "#fb9f3a"
             ],
             [
              0.8888888888888888,
              "#fdca26"
             ],
             [
              1,
              "#f0f921"
             ]
            ],
            "type": "histogram2d"
           }
          ],
          "histogram2dcontour": [
           {
            "colorbar": {
             "outlinewidth": 0,
             "ticks": ""
            },
            "colorscale": [
             [
              0,
              "#0d0887"
             ],
             [
              0.1111111111111111,
              "#46039f"
             ],
             [
              0.2222222222222222,
              "#7201a8"
             ],
             [
              0.3333333333333333,
              "#9c179e"
             ],
             [
              0.4444444444444444,
              "#bd3786"
             ],
             [
              0.5555555555555556,
              "#d8576b"
             ],
             [
              0.6666666666666666,
              "#ed7953"
             ],
             [
              0.7777777777777778,
              "#fb9f3a"
             ],
             [
              0.8888888888888888,
              "#fdca26"
             ],
             [
              1,
              "#f0f921"
             ]
            ],
            "type": "histogram2dcontour"
           }
          ],
          "mesh3d": [
           {
            "colorbar": {
             "outlinewidth": 0,
             "ticks": ""
            },
            "type": "mesh3d"
           }
          ],
          "parcoords": [
           {
            "line": {
             "colorbar": {
              "outlinewidth": 0,
              "ticks": ""
             }
            },
            "type": "parcoords"
           }
          ],
          "pie": [
           {
            "automargin": true,
            "type": "pie"
           }
          ],
          "scatter": [
           {
            "fillpattern": {
             "fillmode": "overlay",
             "size": 10,
             "solidity": 0.2
            },
            "type": "scatter"
           }
          ],
          "scatter3d": [
           {
            "line": {
             "colorbar": {
              "outlinewidth": 0,
              "ticks": ""
             }
            },
            "marker": {
             "colorbar": {
              "outlinewidth": 0,
              "ticks": ""
             }
            },
            "type": "scatter3d"
           }
          ],
          "scattercarpet": [
           {
            "marker": {
             "colorbar": {
              "outlinewidth": 0,
              "ticks": ""
             }
            },
            "type": "scattercarpet"
           }
          ],
          "scattergeo": [
           {
            "marker": {
             "colorbar": {
              "outlinewidth": 0,
              "ticks": ""
             }
            },
            "type": "scattergeo"
           }
          ],
          "scattergl": [
           {
            "marker": {
             "colorbar": {
              "outlinewidth": 0,
              "ticks": ""
             }
            },
            "type": "scattergl"
           }
          ],
          "scattermap": [
           {
            "marker": {
             "colorbar": {
              "outlinewidth": 0,
              "ticks": ""
             }
            },
            "type": "scattermap"
           }
          ],
          "scattermapbox": [
           {
            "marker": {
             "colorbar": {
              "outlinewidth": 0,
              "ticks": ""
             }
            },
            "type": "scattermapbox"
           }
          ],
          "scatterpolar": [
           {
            "marker": {
             "colorbar": {
              "outlinewidth": 0,
              "ticks": ""
             }
            },
            "type": "scatterpolar"
           }
          ],
          "scatterpolargl": [
           {
            "marker": {
             "colorbar": {
              "outlinewidth": 0,
              "ticks": ""
             }
            },
            "type": "scatterpolargl"
           }
          ],
          "scatterternary": [
           {
            "marker": {
             "colorbar": {
              "outlinewidth": 0,
              "ticks": ""
             }
            },
            "type": "scatterternary"
           }
          ],
          "surface": [
           {
            "colorbar": {
             "outlinewidth": 0,
             "ticks": ""
            },
            "colorscale": [
             [
              0,
              "#0d0887"
             ],
             [
              0.1111111111111111,
              "#46039f"
             ],
             [
              0.2222222222222222,
              "#7201a8"
             ],
             [
              0.3333333333333333,
              "#9c179e"
             ],
             [
              0.4444444444444444,
              "#bd3786"
             ],
             [
              0.5555555555555556,
              "#d8576b"
             ],
             [
              0.6666666666666666,
              "#ed7953"
             ],
             [
              0.7777777777777778,
              "#fb9f3a"
             ],
             [
              0.8888888888888888,
              "#fdca26"
             ],
             [
              1,
              "#f0f921"
             ]
            ],
            "type": "surface"
           }
          ],
          "table": [
           {
            "cells": {
             "fill": {
              "color": "#EBF0F8"
             },
             "line": {
              "color": "white"
             }
            },
            "header": {
             "fill": {
              "color": "#C8D4E3"
             },
             "line": {
              "color": "white"
             }
            },
            "type": "table"
           }
          ]
         },
         "layout": {
          "annotationdefaults": {
           "arrowcolor": "#2a3f5f",
           "arrowhead": 0,
           "arrowwidth": 1
          },
          "autotypenumbers": "strict",
          "coloraxis": {
           "colorbar": {
            "outlinewidth": 0,
            "ticks": ""
           }
          },
          "colorscale": {
           "diverging": [
            [
             0,
             "#8e0152"
            ],
            [
             0.1,
             "#c51b7d"
            ],
            [
             0.2,
             "#de77ae"
            ],
            [
             0.3,
             "#f1b6da"
            ],
            [
             0.4,
             "#fde0ef"
            ],
            [
             0.5,
             "#f7f7f7"
            ],
            [
             0.6,
             "#e6f5d0"
            ],
            [
             0.7,
             "#b8e186"
            ],
            [
             0.8,
             "#7fbc41"
            ],
            [
             0.9,
             "#4d9221"
            ],
            [
             1,
             "#276419"
            ]
           ],
           "sequential": [
            [
             0,
             "#0d0887"
            ],
            [
             0.1111111111111111,
             "#46039f"
            ],
            [
             0.2222222222222222,
             "#7201a8"
            ],
            [
             0.3333333333333333,
             "#9c179e"
            ],
            [
             0.4444444444444444,
             "#bd3786"
            ],
            [
             0.5555555555555556,
             "#d8576b"
            ],
            [
             0.6666666666666666,
             "#ed7953"
            ],
            [
             0.7777777777777778,
             "#fb9f3a"
            ],
            [
             0.8888888888888888,
             "#fdca26"
            ],
            [
             1,
             "#f0f921"
            ]
           ],
           "sequentialminus": [
            [
             0,
             "#0d0887"
            ],
            [
             0.1111111111111111,
             "#46039f"
            ],
            [
             0.2222222222222222,
             "#7201a8"
            ],
            [
             0.3333333333333333,
             "#9c179e"
            ],
            [
             0.4444444444444444,
             "#bd3786"
            ],
            [
             0.5555555555555556,
             "#d8576b"
            ],
            [
             0.6666666666666666,
             "#ed7953"
            ],
            [
             0.7777777777777778,
             "#fb9f3a"
            ],
            [
             0.8888888888888888,
             "#fdca26"
            ],
            [
             1,
             "#f0f921"
            ]
           ]
          },
          "colorway": [
           "#636efa",
           "#EF553B",
           "#00cc96",
           "#ab63fa",
           "#FFA15A",
           "#19d3f3",
           "#FF6692",
           "#B6E880",
           "#FF97FF",
           "#FECB52"
          ],
          "font": {
           "color": "#2a3f5f"
          },
          "geo": {
           "bgcolor": "white",
           "lakecolor": "white",
           "landcolor": "#E5ECF6",
           "showlakes": true,
           "showland": true,
           "subunitcolor": "white"
          },
          "hoverlabel": {
           "align": "left"
          },
          "hovermode": "closest",
          "mapbox": {
           "style": "light"
          },
          "paper_bgcolor": "white",
          "plot_bgcolor": "#E5ECF6",
          "polar": {
           "angularaxis": {
            "gridcolor": "white",
            "linecolor": "white",
            "ticks": ""
           },
           "bgcolor": "#E5ECF6",
           "radialaxis": {
            "gridcolor": "white",
            "linecolor": "white",
            "ticks": ""
           }
          },
          "scene": {
           "xaxis": {
            "backgroundcolor": "#E5ECF6",
            "gridcolor": "white",
            "gridwidth": 2,
            "linecolor": "white",
            "showbackground": true,
            "ticks": "",
            "zerolinecolor": "white"
           },
           "yaxis": {
            "backgroundcolor": "#E5ECF6",
            "gridcolor": "white",
            "gridwidth": 2,
            "linecolor": "white",
            "showbackground": true,
            "ticks": "",
            "zerolinecolor": "white"
           },
           "zaxis": {
            "backgroundcolor": "#E5ECF6",
            "gridcolor": "white",
            "gridwidth": 2,
            "linecolor": "white",
            "showbackground": true,
            "ticks": "",
            "zerolinecolor": "white"
           }
          },
          "shapedefaults": {
           "line": {
            "color": "#2a3f5f"
           }
          },
          "ternary": {
           "aaxis": {
            "gridcolor": "white",
            "linecolor": "white",
            "ticks": ""
           },
           "baxis": {
            "gridcolor": "white",
            "linecolor": "white",
            "ticks": ""
           },
           "bgcolor": "#E5ECF6",
           "caxis": {
            "gridcolor": "white",
            "linecolor": "white",
            "ticks": ""
           }
          },
          "title": {
           "x": 0.05
          },
          "xaxis": {
           "automargin": true,
           "gridcolor": "white",
           "linecolor": "white",
           "ticks": "",
           "title": {
            "standoff": 15
           },
           "zerolinecolor": "white",
           "zerolinewidth": 2
          },
          "yaxis": {
           "automargin": true,
           "gridcolor": "white",
           "linecolor": "white",
           "ticks": "",
           "title": {
            "standoff": 15
           },
           "zerolinecolor": "white",
           "zerolinewidth": 2
          }
         }
        },
        "title": {
         "text": "FORGE16aApril24BackgroundStage 9D.csv",
         "x": 0.5
        },
        "width": 800
       }
      }
     },
     "metadata": {},
     "output_type": "display_data"
    },
    {
     "data": {
      "application/vnd.plotly.v1+json": {
       "config": {
        "plotlyServerURL": "https://plot.ly"
       },
       "data": [
        {
         "hovertemplate": "X Coordinate (m)=%{x}<br>Y Coordinate (m)=%{y}<br>Depth (m)=%{z}<br>size=%{marker.size}<br>Moment Magnitude=%{marker.color}<extra></extra>",
         "legendgroup": "",
         "marker": {
          "color": {
           "bdata": "zczMzMzM5D/sUbgeheuxP5qZmZmZmcm/pHA9Ctej4D+4HoXrUbi+v7gehetRuL6/exSuR+F6xD97FK5H4XrEP3sUrkfheqQ/exSuR+F6hD9xPQrXo3DNPwAAAAAAAAAASOF6FK5H0T+4HoXrUbiev3sUrkfherS/SOF6FK5H4T9xPQrXo3DlP3sUrkfherS/XI/C9Shc3z97FK5H4XqEP3sUrkfheqS/AAAAAAAAAACuR+F6FK7XPylcj8L1KLw/mpmZmZmZyb8K16NwPQrXP8P1KFyPwtU/MzMzMzMzwz97FK5H4XqEP5qZmZmZmbk/FK5H4XoU7j+4HoXrUbjOPzMzMzMzM+M/UrgehetR2D/D9Shcj8LFP6RwPQrXo+A/hetRuB6F2z97FK5H4XrUP7gehetRuK4/CtejcD0Kt797FK5H4XqUvz0K16NwPeI/rkfhehSu1z97FK5H4XqEv3sUrkfherQ/MzMzMzMz4z8pXI/C9SjMPwrXo3A9Ctc/CtejcD0K1z+4HoXrUbi+P3sUrkfheuQ/mpmZmZmZqb+amZmZmZnJP3sUrkfheoS/mpmZmZmZ2T+4HoXrUbi+v7gehetRuN4/AAAAAAAA4D8pXI/C9Si8v9ejcD0K19M/uB6F61G43j9mZmZmZmbmP6RwPQrXo9A/mpmZmZmZqT9I4XoUrkfRP7gehetRuK6/9ihcj8L14D9mZmZmZmbWP3sUrkfheqS/exSuR+F6hD9cj8L1KFzfP7gehetRuJ4/mpmZmZmZqb+4HoXrUbievwAAAAAAAAAAUrgehetR2D8pXI/C9SjcP6RwPQrXo8C/MzMzMzMz4z8K16NwPQq3P3sUrkfhepQ/AAAAAAAA0D/sUbgeheuxv4XrUbgeheM/w/UoXI/CxT8=",
           "dtype": "f8"
          },
          "coloraxis": "coloraxis",
          "line": {
           "width": 0
          },
          "opacity": 0.7,
          "size": {
           "bdata": "AQEBAQEBAQEBAQEBAQEBAQEBAQEBAQEBAQEBAQEBAQEBAQEBAQEBAQEBAQEBAQEBAQEBAQEBAQEBAQEBAQEBAQEBAQEBAQEBAQEBAQEBAQEBAQEBAQ==",
           "dtype": "i1"
          },
          "sizemode": "area",
          "sizeref": 0.00510204081632653,
          "symbol": "circle"
         },
         "mode": "markers",
         "name": "",
         "scene": "scene",
         "showlegend": false,
         "type": "scatter3d",
         "x": {
          "bdata": "MAz6ChIM/gtsDGIMzAtACyILpAvkDCYMaAuoDPgMvgpuCiIL1gvqC8wLpAvCC9YLpAtACzAMpAuADDYLCAzkDKgMcguaC4YLcgvCCw4LGAuuC4YLrgvWC2wMQAs6DP4LhguaC/QL5goYC9oMdgwsC5oL8Aq0CtwKHAyuC4oMdgzuDJQMCAy+CtYLJgzmCuQM0gpiDNAMtArSCmIMCAxiDGgLbAzQDLIMCAw=",
          "dtype": "i2"
         },
         "y": {
          "bdata": "2PqC++L/SvxGADwAav+q+xj8TP/+/OL/vvsoAIb8QPzS+47+sP8u/zj/CvsU+9r9CvtU/Fz52v1C/3L8Lv8O/JL6hvyA/Xr+Jv2w/7z9Av40/jz77PqS/0z/VPw0+WD6Bv9k+xQA0P1s/aoAMgAg/pT9rP4y+579sP9W/4wACgBq/ygAYP9s/YD9av/i+uYAFPu0AOj5cvwM/lAA/P5M/+D8YP8A+7r6av8=",
          "dtype": "i2"
         },
         "z": {
          "bdata": "KB5IITogDCGAIAwhjiEGIgYiiiDUHBwgKiEsHy4dBiJmIeghhCGaH5Qg3B7wHuofgh64H8wfEiDSHvQfJiBqHeYeMCCiIdweYiAMIfIhCCAcIL4eUB46IOYe1h8cILgf5CD6HmgfKiEgIYogHCASIGIgMCC2IaggLB8kIvggdiA2HxwgLB8gIbwghh8QIj4h8iGeIAAeGiISIOAfXh8OH5gh3B66HQoeLB8=",
          "dtype": "i2"
         }
        }
       ],
       "layout": {
        "coloraxis": {
         "cmax": 1.85,
         "cmin": -1.09,
         "colorbar": {
          "ticklen": 6,
          "tickmode": "array",
          "ticks": "outside",
          "tickvals": [
           -1.09,
           -1,
           -0.5,
           0,
           0.5,
           1,
           1.5,
           1.85
          ],
          "tickwidth": 1,
          "title": {
           "side": "top",
           "text": "Moment Magnitude"
          }
         },
         "colorscale": [
          [
           0,
           "#0d0887"
          ],
          [
           0.1111111111111111,
           "#46039f"
          ],
          [
           0.2222222222222222,
           "#7201a8"
          ],
          [
           0.3333333333333333,
           "#9c179e"
          ],
          [
           0.4444444444444444,
           "#bd3786"
          ],
          [
           0.5555555555555556,
           "#d8576b"
          ],
          [
           0.6666666666666666,
           "#ed7953"
          ],
          [
           0.7777777777777778,
           "#fb9f3a"
          ],
          [
           0.8888888888888888,
           "#fdca26"
          ],
          [
           1,
           "#f0f921"
          ]
         ]
        },
        "height": 600,
        "legend": {
         "itemsizing": "constant",
         "tracegroupgap": 0
        },
        "margin": {
         "b": 40,
         "l": 40,
         "r": 40,
         "t": 40
        },
        "scene": {
         "aspectmode": "cube",
         "camera": {
          "eye": {
           "x": 1.5,
           "y": 1.5,
           "z": 1.5
          }
         },
         "domain": {
          "x": [
           0,
           1
          ],
          "y": [
           0,
           1
          ]
         },
         "xaxis": {
          "range": [
           -3660,
           3890
          ],
          "title": {
           "text": "X Coordinate (m)"
          }
         },
         "yaxis": {
          "range": [
           -5060,
           1180
          ],
          "title": {
           "text": "Y Coordinate (m)"
          }
         },
         "zaxis": {
          "range": [
           9500,
           5580
          ],
          "title": {
           "text": "Depth (m)"
          }
         }
        },
        "template": {
         "data": {
          "bar": [
           {
            "error_x": {
             "color": "#2a3f5f"
            },
            "error_y": {
             "color": "#2a3f5f"
            },
            "marker": {
             "line": {
              "color": "#E5ECF6",
              "width": 0.5
             },
             "pattern": {
              "fillmode": "overlay",
              "size": 10,
              "solidity": 0.2
             }
            },
            "type": "bar"
           }
          ],
          "barpolar": [
           {
            "marker": {
             "line": {
              "color": "#E5ECF6",
              "width": 0.5
             },
             "pattern": {
              "fillmode": "overlay",
              "size": 10,
              "solidity": 0.2
             }
            },
            "type": "barpolar"
           }
          ],
          "carpet": [
           {
            "aaxis": {
             "endlinecolor": "#2a3f5f",
             "gridcolor": "white",
             "linecolor": "white",
             "minorgridcolor": "white",
             "startlinecolor": "#2a3f5f"
            },
            "baxis": {
             "endlinecolor": "#2a3f5f",
             "gridcolor": "white",
             "linecolor": "white",
             "minorgridcolor": "white",
             "startlinecolor": "#2a3f5f"
            },
            "type": "carpet"
           }
          ],
          "choropleth": [
           {
            "colorbar": {
             "outlinewidth": 0,
             "ticks": ""
            },
            "type": "choropleth"
           }
          ],
          "contour": [
           {
            "colorbar": {
             "outlinewidth": 0,
             "ticks": ""
            },
            "colorscale": [
             [
              0,
              "#0d0887"
             ],
             [
              0.1111111111111111,
              "#46039f"
             ],
             [
              0.2222222222222222,
              "#7201a8"
             ],
             [
              0.3333333333333333,
              "#9c179e"
             ],
             [
              0.4444444444444444,
              "#bd3786"
             ],
             [
              0.5555555555555556,
              "#d8576b"
             ],
             [
              0.6666666666666666,
              "#ed7953"
             ],
             [
              0.7777777777777778,
              "#fb9f3a"
             ],
             [
              0.8888888888888888,
              "#fdca26"
             ],
             [
              1,
              "#f0f921"
             ]
            ],
            "type": "contour"
           }
          ],
          "contourcarpet": [
           {
            "colorbar": {
             "outlinewidth": 0,
             "ticks": ""
            },
            "type": "contourcarpet"
           }
          ],
          "heatmap": [
           {
            "colorbar": {
             "outlinewidth": 0,
             "ticks": ""
            },
            "colorscale": [
             [
              0,
              "#0d0887"
             ],
             [
              0.1111111111111111,
              "#46039f"
             ],
             [
              0.2222222222222222,
              "#7201a8"
             ],
             [
              0.3333333333333333,
              "#9c179e"
             ],
             [
              0.4444444444444444,
              "#bd3786"
             ],
             [
              0.5555555555555556,
              "#d8576b"
             ],
             [
              0.6666666666666666,
              "#ed7953"
             ],
             [
              0.7777777777777778,
              "#fb9f3a"
             ],
             [
              0.8888888888888888,
              "#fdca26"
             ],
             [
              1,
              "#f0f921"
             ]
            ],
            "type": "heatmap"
           }
          ],
          "histogram": [
           {
            "marker": {
             "pattern": {
              "fillmode": "overlay",
              "size": 10,
              "solidity": 0.2
             }
            },
            "type": "histogram"
           }
          ],
          "histogram2d": [
           {
            "colorbar": {
             "outlinewidth": 0,
             "ticks": ""
            },
            "colorscale": [
             [
              0,
              "#0d0887"
             ],
             [
              0.1111111111111111,
              "#46039f"
             ],
             [
              0.2222222222222222,
              "#7201a8"
             ],
             [
              0.3333333333333333,
              "#9c179e"
             ],
             [
              0.4444444444444444,
              "#bd3786"
             ],
             [
              0.5555555555555556,
              "#d8576b"
             ],
             [
              0.6666666666666666,
              "#ed7953"
             ],
             [
              0.7777777777777778,
              "#fb9f3a"
             ],
             [
              0.8888888888888888,
              "#fdca26"
             ],
             [
              1,
              "#f0f921"
             ]
            ],
            "type": "histogram2d"
           }
          ],
          "histogram2dcontour": [
           {
            "colorbar": {
             "outlinewidth": 0,
             "ticks": ""
            },
            "colorscale": [
             [
              0,
              "#0d0887"
             ],
             [
              0.1111111111111111,
              "#46039f"
             ],
             [
              0.2222222222222222,
              "#7201a8"
             ],
             [
              0.3333333333333333,
              "#9c179e"
             ],
             [
              0.4444444444444444,
              "#bd3786"
             ],
             [
              0.5555555555555556,
              "#d8576b"
             ],
             [
              0.6666666666666666,
              "#ed7953"
             ],
             [
              0.7777777777777778,
              "#fb9f3a"
             ],
             [
              0.8888888888888888,
              "#fdca26"
             ],
             [
              1,
              "#f0f921"
             ]
            ],
            "type": "histogram2dcontour"
           }
          ],
          "mesh3d": [
           {
            "colorbar": {
             "outlinewidth": 0,
             "ticks": ""
            },
            "type": "mesh3d"
           }
          ],
          "parcoords": [
           {
            "line": {
             "colorbar": {
              "outlinewidth": 0,
              "ticks": ""
             }
            },
            "type": "parcoords"
           }
          ],
          "pie": [
           {
            "automargin": true,
            "type": "pie"
           }
          ],
          "scatter": [
           {
            "fillpattern": {
             "fillmode": "overlay",
             "size": 10,
             "solidity": 0.2
            },
            "type": "scatter"
           }
          ],
          "scatter3d": [
           {
            "line": {
             "colorbar": {
              "outlinewidth": 0,
              "ticks": ""
             }
            },
            "marker": {
             "colorbar": {
              "outlinewidth": 0,
              "ticks": ""
             }
            },
            "type": "scatter3d"
           }
          ],
          "scattercarpet": [
           {
            "marker": {
             "colorbar": {
              "outlinewidth": 0,
              "ticks": ""
             }
            },
            "type": "scattercarpet"
           }
          ],
          "scattergeo": [
           {
            "marker": {
             "colorbar": {
              "outlinewidth": 0,
              "ticks": ""
             }
            },
            "type": "scattergeo"
           }
          ],
          "scattergl": [
           {
            "marker": {
             "colorbar": {
              "outlinewidth": 0,
              "ticks": ""
             }
            },
            "type": "scattergl"
           }
          ],
          "scattermap": [
           {
            "marker": {
             "colorbar": {
              "outlinewidth": 0,
              "ticks": ""
             }
            },
            "type": "scattermap"
           }
          ],
          "scattermapbox": [
           {
            "marker": {
             "colorbar": {
              "outlinewidth": 0,
              "ticks": ""
             }
            },
            "type": "scattermapbox"
           }
          ],
          "scatterpolar": [
           {
            "marker": {
             "colorbar": {
              "outlinewidth": 0,
              "ticks": ""
             }
            },
            "type": "scatterpolar"
           }
          ],
          "scatterpolargl": [
           {
            "marker": {
             "colorbar": {
              "outlinewidth": 0,
              "ticks": ""
             }
            },
            "type": "scatterpolargl"
           }
          ],
          "scatterternary": [
           {
            "marker": {
             "colorbar": {
              "outlinewidth": 0,
              "ticks": ""
             }
            },
            "type": "scatterternary"
           }
          ],
          "surface": [
           {
            "colorbar": {
             "outlinewidth": 0,
             "ticks": ""
            },
            "colorscale": [
             [
              0,
              "#0d0887"
             ],
             [
              0.1111111111111111,
              "#46039f"
             ],
             [
              0.2222222222222222,
              "#7201a8"
             ],
             [
              0.3333333333333333,
              "#9c179e"
             ],
             [
              0.4444444444444444,
              "#bd3786"
             ],
             [
              0.5555555555555556,
              "#d8576b"
             ],
             [
              0.6666666666666666,
              "#ed7953"
             ],
             [
              0.7777777777777778,
              "#fb9f3a"
             ],
             [
              0.8888888888888888,
              "#fdca26"
             ],
             [
              1,
              "#f0f921"
             ]
            ],
            "type": "surface"
           }
          ],
          "table": [
           {
            "cells": {
             "fill": {
              "color": "#EBF0F8"
             },
             "line": {
              "color": "white"
             }
            },
            "header": {
             "fill": {
              "color": "#C8D4E3"
             },
             "line": {
              "color": "white"
             }
            },
            "type": "table"
           }
          ]
         },
         "layout": {
          "annotationdefaults": {
           "arrowcolor": "#2a3f5f",
           "arrowhead": 0,
           "arrowwidth": 1
          },
          "autotypenumbers": "strict",
          "coloraxis": {
           "colorbar": {
            "outlinewidth": 0,
            "ticks": ""
           }
          },
          "colorscale": {
           "diverging": [
            [
             0,
             "#8e0152"
            ],
            [
             0.1,
             "#c51b7d"
            ],
            [
             0.2,
             "#de77ae"
            ],
            [
             0.3,
             "#f1b6da"
            ],
            [
             0.4,
             "#fde0ef"
            ],
            [
             0.5,
             "#f7f7f7"
            ],
            [
             0.6,
             "#e6f5d0"
            ],
            [
             0.7,
             "#b8e186"
            ],
            [
             0.8,
             "#7fbc41"
            ],
            [
             0.9,
             "#4d9221"
            ],
            [
             1,
             "#276419"
            ]
           ],
           "sequential": [
            [
             0,
             "#0d0887"
            ],
            [
             0.1111111111111111,
             "#46039f"
            ],
            [
             0.2222222222222222,
             "#7201a8"
            ],
            [
             0.3333333333333333,
             "#9c179e"
            ],
            [
             0.4444444444444444,
             "#bd3786"
            ],
            [
             0.5555555555555556,
             "#d8576b"
            ],
            [
             0.6666666666666666,
             "#ed7953"
            ],
            [
             0.7777777777777778,
             "#fb9f3a"
            ],
            [
             0.8888888888888888,
             "#fdca26"
            ],
            [
             1,
             "#f0f921"
            ]
           ],
           "sequentialminus": [
            [
             0,
             "#0d0887"
            ],
            [
             0.1111111111111111,
             "#46039f"
            ],
            [
             0.2222222222222222,
             "#7201a8"
            ],
            [
             0.3333333333333333,
             "#9c179e"
            ],
            [
             0.4444444444444444,
             "#bd3786"
            ],
            [
             0.5555555555555556,
             "#d8576b"
            ],
            [
             0.6666666666666666,
             "#ed7953"
            ],
            [
             0.7777777777777778,
             "#fb9f3a"
            ],
            [
             0.8888888888888888,
             "#fdca26"
            ],
            [
             1,
             "#f0f921"
            ]
           ]
          },
          "colorway": [
           "#636efa",
           "#EF553B",
           "#00cc96",
           "#ab63fa",
           "#FFA15A",
           "#19d3f3",
           "#FF6692",
           "#B6E880",
           "#FF97FF",
           "#FECB52"
          ],
          "font": {
           "color": "#2a3f5f"
          },
          "geo": {
           "bgcolor": "white",
           "lakecolor": "white",
           "landcolor": "#E5ECF6",
           "showlakes": true,
           "showland": true,
           "subunitcolor": "white"
          },
          "hoverlabel": {
           "align": "left"
          },
          "hovermode": "closest",
          "mapbox": {
           "style": "light"
          },
          "paper_bgcolor": "white",
          "plot_bgcolor": "#E5ECF6",
          "polar": {
           "angularaxis": {
            "gridcolor": "white",
            "linecolor": "white",
            "ticks": ""
           },
           "bgcolor": "#E5ECF6",
           "radialaxis": {
            "gridcolor": "white",
            "linecolor": "white",
            "ticks": ""
           }
          },
          "scene": {
           "xaxis": {
            "backgroundcolor": "#E5ECF6",
            "gridcolor": "white",
            "gridwidth": 2,
            "linecolor": "white",
            "showbackground": true,
            "ticks": "",
            "zerolinecolor": "white"
           },
           "yaxis": {
            "backgroundcolor": "#E5ECF6",
            "gridcolor": "white",
            "gridwidth": 2,
            "linecolor": "white",
            "showbackground": true,
            "ticks": "",
            "zerolinecolor": "white"
           },
           "zaxis": {
            "backgroundcolor": "#E5ECF6",
            "gridcolor": "white",
            "gridwidth": 2,
            "linecolor": "white",
            "showbackground": true,
            "ticks": "",
            "zerolinecolor": "white"
           }
          },
          "shapedefaults": {
           "line": {
            "color": "#2a3f5f"
           }
          },
          "ternary": {
           "aaxis": {
            "gridcolor": "white",
            "linecolor": "white",
            "ticks": ""
           },
           "baxis": {
            "gridcolor": "white",
            "linecolor": "white",
            "ticks": ""
           },
           "bgcolor": "#E5ECF6",
           "caxis": {
            "gridcolor": "white",
            "linecolor": "white",
            "ticks": ""
           }
          },
          "title": {
           "x": 0.05
          },
          "xaxis": {
           "automargin": true,
           "gridcolor": "white",
           "linecolor": "white",
           "ticks": "",
           "title": {
            "standoff": 15
           },
           "zerolinecolor": "white",
           "zerolinewidth": 2
          },
          "yaxis": {
           "automargin": true,
           "gridcolor": "white",
           "linecolor": "white",
           "ticks": "",
           "title": {
            "standoff": 15
           },
           "zerolinecolor": "white",
           "zerolinewidth": 2
          }
         }
        },
        "title": {
         "text": "FORGE16aApril24BackgroundStage 6.csv",
         "x": 0.5
        },
        "width": 800
       }
      }
     },
     "metadata": {},
     "output_type": "display_data"
    },
    {
     "name": "stdout",
     "output_type": "stream",
     "text": [
      "  Generated 10/26 plots...\n"
     ]
    },
    {
     "data": {
      "application/vnd.plotly.v1+json": {
       "config": {
        "plotlyServerURL": "https://plot.ly"
       },
       "data": [
        {
         "hovertemplate": "X Coordinate (m)=%{x}<br>Y Coordinate (m)=%{y}<br>Depth (m)=%{z}<br>size=%{marker.size}<br>Moment Magnitude=%{marker.color}<extra></extra>",
         "legendgroup": "",
         "marker": {
          "color": {
           "bdata": "PQrXo3A92j+uR+F6FK7Xv7gehetRuK4/exSuR+F6pL+amZmZmZm5vylcj8L1KOQ/SOF6FK5H4T97FK5H4Xqkv5qZmZmZmdk/uB6F61G4rr97FK5H4XrkP3E9CtejcM0/mpmZmZmZuT+amZmZmZm5v+xRuB6F68E/16NwPQrX0z8K16NwPQq3v8P1KFyPwsU/UrgehetRyD+4HoXrUbi+P3sUrkfhetQ/exSuR+F6hD89CtejcD3aP8P1KFyPwsU/exSuR+F6hL8pXI/C9SjMP7gehetRuL4/uB6F61G4rj+amZmZmZmpv5qZmZmZmeE/16NwPQrX0z97FK5H4Xqkv1K4HoXrUcg/pHA9Ctej4D/NzMzMzMzcPzMzMzMzM8M/SOF6FK5H0T/sUbgeheuxvx+F61G4HtU/pHA9CtejwD+kcD0K16PAv3sUrkfheqQ/7FG4HoXrsb/D9Shcj8LVP6RwPQrXo8C/mpmZmZmZub8K16NwPQrXPzMzMzMzM8M/ZmZmZmZm8j8pXI/C9SjcP8P1KFyPwsW/pHA9CtejwD/sUbgehevRP3sUrkfhesQ/CtejcD0Ktz+4HoXrUbi+P83MzMzMzOw/4XoUrkfhyj+amZmZmZm5v+xRuB6F68E/4XoUrkfhyj9SuB6F61HgP7gehetRuL6/exSuR+F6tL+4HoXrUbiuP5qZmZmZmbm/exSuR+F61D+4HoXrUbi+vylcj8L1KLw/uB6F61G4rr/2KFyPwvXYPylcj8L1KLw/mpmZmZmZyb9xPQrXo3DNPz0K16NwPdo/pHA9Ctej0D+kcD0K16PoP7gehetRuJ4/pHA9Ctej0D+kcD0K16PAv+xRuB6F69E/exSuR+F6hD8zMzMzMzPTv/YoXI/C9dg/CtejcD0Kt78zMzMzMzPjPzMzMzMzM9O/exSuR+F6tL97FK5H4XqkP3sUrkfhetQ/exSuR+F6lD8pXI/C9Si8vylcj8L1KMw/CtejcD0Kt7+amZmZmZnJv+F6FK5H4cq/exSuR+F6xD97FK5H4XqUv7gehetRuK4/exSuR+F6pL8zMzMzMzPDPwrXo3A9Cse/CtejcD0Kt797FK5H4XrUPylcj8L1KMw/CtejcD0Kxz+PwvUoXI/SP5qZmZmZmak/SOF6FK5H8T97FK5H4XqUP6RwPQrXo9A/pHA9CtejwL8pXI/C9SjcP+xRuB6F67E/4XoUrkfh2j/hehSuR+HaP3sUrkfhepQ/uB6F61G4nj9xPQrXo3DNPwrXo3A9Ctc/CtejcD0Kxz9xPQrXo3DNPzMzMzMzM+M/PQrXo3A94j8UrkfhehTeP3sUrkfheqQ/H4XrUbge1T9I4XoUrkfRvwrXo3A9Crc/KVyPwvUovD/Xo3A9CtfTP+xRuB6F68E/UrgehetR4D+kcD0K16PAP+xRuB6F67E/AAAAAAAA0D8K16NwPQrXPwrXo3A9Cte/FK5H4XoU5r8=",
           "dtype": "f8"
          },
          "coloraxis": "coloraxis",
          "line": {
           "width": 0
          },
          "opacity": 0.7,
          "size": {
           "bdata": "AQEBAQEBAQEBAQEBAQEBAQEBAQEBAQEBAQEBAQEBAQEBAQEBAQEBAQEBAQEBAQEBAQEBAQEBAQEBAQEBAQEBAQEBAQEBAQEBAQEBAQEBAQEBAQEBAQEBAQEBAQEBAQEBAQEBAQEBAQEBAQEBAQEBAQEBAQEBAQEBAQEBAQEBAQEBAQEBAQEBAQEBAQ==",
           "dtype": "i1"
          },
          "sizemode": "area",
          "sizeref": 0.00510204081632653,
          "symbol": "circle"
         },
         "mode": "markers",
         "name": "",
         "scene": "scene",
         "showlegend": false,
         "type": "scatter3d",
         "x": {
          "bdata": "MAzQDFINSA3QDOoLEgxiDL4KXA1yC9wKXgs0DRIM1gtODCILSgt8C3ILuAvaDEAL9AtUC4wKXguADIIKCAzuDJ4MtAoYC2wMkAv0C+oLJgxAC4IKIgswDFAK9AtEDPQLOgxyC4oMMAzWC2IMJgwIDOoL/guADOoLJgxYDKgMHAwSDJQMuAuADAgMtAo6DJoLYgz+C/4LmgswDMwL/gvWC2IM1gt2DHILlAwIDE4MlAxODFgMOgzICk4Mxgw+DXYMCAyADKQL+AzWCwINlAxEDCYMWAyyDOALXgsiC04M2AkIDGwMWAwcDHYMWAxODJQMNA3qC+oLdgxODMwLTgyoDPQL2gxaCiYM9AsmDOQMJgwcDCgKaAs=",
          "dtype": "i2"
         },
         "y": {
          "bdata": "2P+6/wr7DgGm/woAkv8AABz95vs6/bz9xPr6AAz+Qv+gAJT9Pv4Y/Mz8Wvv6ABj8wPk0/qT86vyY/lr7ZACgAHT/Svw0/qoA3v7U+Wr/3v5w/ij7Gv9GADr9FACi+ej5Zvn0/DwArP5+/0L/Vv9C/wAAqP3A/hQAMgBkAAAAHgC0AFoAav+CAFAAuvrU/rD/yv7Y/4j/YP90/zIAVv8UAHT/PABaAAb/xP8eAIwAVv9M/7D/oAAS/X7/YP9oAYj/PAAUAJz/3AA++QoAiv2WAGQADgGgAOL/OP+E/uz/nv1M/37/RgCMAHgAAACS+gQBXgEeAD759v9uALr/SPlg/xQAdPpk+4IAkv+CAL4A9AEeAIj6ev4=",
          "dtype": "i2"
         },
         "z": {
          "bdata": "UiFuHi4dkB8GHcIfQB9AHwggEB1OIDQh6h98H+AfECL4IE4gHCDeIYoglh6OIfQfDh9cIbwgeiFGHlIhFiG4H84dECJEIFwhECIsHw4fgh7gH94hUiHeITQhQB9AHzYfLB+sIRIglh4gIfoeXh9yH94hoiHsHSIfFiGeIDweRCBSIZYemCGMHl4fhCEUHsYgZB4EH3wfUiEsH6QfIh/wHg4fXCFuHgIhRh42H6Ihbh7OHeYeLiJ+IgQf7B1eH7QesiCqHpghHCC4H5Id+BvSHiAhvCDQIIQhhCGsIdogViIsH8geVB8MIQwh0CBAH5AfgCACITogqh4kIjQhHCBaHg4fbh5qIj4hlCAIIGwg6CFiIHohkB8=",
          "dtype": "i2"
         }
        }
       ],
       "layout": {
        "coloraxis": {
         "cmax": 1.85,
         "cmin": -1.09,
         "colorbar": {
          "ticklen": 6,
          "tickmode": "array",
          "ticks": "outside",
          "tickvals": [
           -1.09,
           -1,
           -0.5,
           0,
           0.5,
           1,
           1.5,
           1.85
          ],
          "tickwidth": 1,
          "title": {
           "side": "top",
           "text": "Moment Magnitude"
          }
         },
         "colorscale": [
          [
           0,
           "#0d0887"
          ],
          [
           0.1111111111111111,
           "#46039f"
          ],
          [
           0.2222222222222222,
           "#7201a8"
          ],
          [
           0.3333333333333333,
           "#9c179e"
          ],
          [
           0.4444444444444444,
           "#bd3786"
          ],
          [
           0.5555555555555556,
           "#d8576b"
          ],
          [
           0.6666666666666666,
           "#ed7953"
          ],
          [
           0.7777777777777778,
           "#fb9f3a"
          ],
          [
           0.8888888888888888,
           "#fdca26"
          ],
          [
           1,
           "#f0f921"
          ]
         ]
        },
        "height": 600,
        "legend": {
         "itemsizing": "constant",
         "tracegroupgap": 0
        },
        "margin": {
         "b": 40,
         "l": 40,
         "r": 40,
         "t": 40
        },
        "scene": {
         "aspectmode": "cube",
         "camera": {
          "eye": {
           "x": 1.5,
           "y": 1.5,
           "z": 1.5
          }
         },
         "domain": {
          "x": [
           0,
           1
          ],
          "y": [
           0,
           1
          ]
         },
         "xaxis": {
          "range": [
           -3660,
           3890
          ],
          "title": {
           "text": "X Coordinate (m)"
          }
         },
         "yaxis": {
          "range": [
           -5060,
           1180
          ],
          "title": {
           "text": "Y Coordinate (m)"
          }
         },
         "zaxis": {
          "range": [
           9500,
           5580
          ],
          "title": {
           "text": "Depth (m)"
          }
         }
        },
        "template": {
         "data": {
          "bar": [
           {
            "error_x": {
             "color": "#2a3f5f"
            },
            "error_y": {
             "color": "#2a3f5f"
            },
            "marker": {
             "line": {
              "color": "#E5ECF6",
              "width": 0.5
             },
             "pattern": {
              "fillmode": "overlay",
              "size": 10,
              "solidity": 0.2
             }
            },
            "type": "bar"
           }
          ],
          "barpolar": [
           {
            "marker": {
             "line": {
              "color": "#E5ECF6",
              "width": 0.5
             },
             "pattern": {
              "fillmode": "overlay",
              "size": 10,
              "solidity": 0.2
             }
            },
            "type": "barpolar"
           }
          ],
          "carpet": [
           {
            "aaxis": {
             "endlinecolor": "#2a3f5f",
             "gridcolor": "white",
             "linecolor": "white",
             "minorgridcolor": "white",
             "startlinecolor": "#2a3f5f"
            },
            "baxis": {
             "endlinecolor": "#2a3f5f",
             "gridcolor": "white",
             "linecolor": "white",
             "minorgridcolor": "white",
             "startlinecolor": "#2a3f5f"
            },
            "type": "carpet"
           }
          ],
          "choropleth": [
           {
            "colorbar": {
             "outlinewidth": 0,
             "ticks": ""
            },
            "type": "choropleth"
           }
          ],
          "contour": [
           {
            "colorbar": {
             "outlinewidth": 0,
             "ticks": ""
            },
            "colorscale": [
             [
              0,
              "#0d0887"
             ],
             [
              0.1111111111111111,
              "#46039f"
             ],
             [
              0.2222222222222222,
              "#7201a8"
             ],
             [
              0.3333333333333333,
              "#9c179e"
             ],
             [
              0.4444444444444444,
              "#bd3786"
             ],
             [
              0.5555555555555556,
              "#d8576b"
             ],
             [
              0.6666666666666666,
              "#ed7953"
             ],
             [
              0.7777777777777778,
              "#fb9f3a"
             ],
             [
              0.8888888888888888,
              "#fdca26"
             ],
             [
              1,
              "#f0f921"
             ]
            ],
            "type": "contour"
           }
          ],
          "contourcarpet": [
           {
            "colorbar": {
             "outlinewidth": 0,
             "ticks": ""
            },
            "type": "contourcarpet"
           }
          ],
          "heatmap": [
           {
            "colorbar": {
             "outlinewidth": 0,
             "ticks": ""
            },
            "colorscale": [
             [
              0,
              "#0d0887"
             ],
             [
              0.1111111111111111,
              "#46039f"
             ],
             [
              0.2222222222222222,
              "#7201a8"
             ],
             [
              0.3333333333333333,
              "#9c179e"
             ],
             [
              0.4444444444444444,
              "#bd3786"
             ],
             [
              0.5555555555555556,
              "#d8576b"
             ],
             [
              0.6666666666666666,
              "#ed7953"
             ],
             [
              0.7777777777777778,
              "#fb9f3a"
             ],
             [
              0.8888888888888888,
              "#fdca26"
             ],
             [
              1,
              "#f0f921"
             ]
            ],
            "type": "heatmap"
           }
          ],
          "histogram": [
           {
            "marker": {
             "pattern": {
              "fillmode": "overlay",
              "size": 10,
              "solidity": 0.2
             }
            },
            "type": "histogram"
           }
          ],
          "histogram2d": [
           {
            "colorbar": {
             "outlinewidth": 0,
             "ticks": ""
            },
            "colorscale": [
             [
              0,
              "#0d0887"
             ],
             [
              0.1111111111111111,
              "#46039f"
             ],
             [
              0.2222222222222222,
              "#7201a8"
             ],
             [
              0.3333333333333333,
              "#9c179e"
             ],
             [
              0.4444444444444444,
              "#bd3786"
             ],
             [
              0.5555555555555556,
              "#d8576b"
             ],
             [
              0.6666666666666666,
              "#ed7953"
             ],
             [
              0.7777777777777778,
              "#fb9f3a"
             ],
             [
              0.8888888888888888,
              "#fdca26"
             ],
             [
              1,
              "#f0f921"
             ]
            ],
            "type": "histogram2d"
           }
          ],
          "histogram2dcontour": [
           {
            "colorbar": {
             "outlinewidth": 0,
             "ticks": ""
            },
            "colorscale": [
             [
              0,
              "#0d0887"
             ],
             [
              0.1111111111111111,
              "#46039f"
             ],
             [
              0.2222222222222222,
              "#7201a8"
             ],
             [
              0.3333333333333333,
              "#9c179e"
             ],
             [
              0.4444444444444444,
              "#bd3786"
             ],
             [
              0.5555555555555556,
              "#d8576b"
             ],
             [
              0.6666666666666666,
              "#ed7953"
             ],
             [
              0.7777777777777778,
              "#fb9f3a"
             ],
             [
              0.8888888888888888,
              "#fdca26"
             ],
             [
              1,
              "#f0f921"
             ]
            ],
            "type": "histogram2dcontour"
           }
          ],
          "mesh3d": [
           {
            "colorbar": {
             "outlinewidth": 0,
             "ticks": ""
            },
            "type": "mesh3d"
           }
          ],
          "parcoords": [
           {
            "line": {
             "colorbar": {
              "outlinewidth": 0,
              "ticks": ""
             }
            },
            "type": "parcoords"
           }
          ],
          "pie": [
           {
            "automargin": true,
            "type": "pie"
           }
          ],
          "scatter": [
           {
            "fillpattern": {
             "fillmode": "overlay",
             "size": 10,
             "solidity": 0.2
            },
            "type": "scatter"
           }
          ],
          "scatter3d": [
           {
            "line": {
             "colorbar": {
              "outlinewidth": 0,
              "ticks": ""
             }
            },
            "marker": {
             "colorbar": {
              "outlinewidth": 0,
              "ticks": ""
             }
            },
            "type": "scatter3d"
           }
          ],
          "scattercarpet": [
           {
            "marker": {
             "colorbar": {
              "outlinewidth": 0,
              "ticks": ""
             }
            },
            "type": "scattercarpet"
           }
          ],
          "scattergeo": [
           {
            "marker": {
             "colorbar": {
              "outlinewidth": 0,
              "ticks": ""
             }
            },
            "type": "scattergeo"
           }
          ],
          "scattergl": [
           {
            "marker": {
             "colorbar": {
              "outlinewidth": 0,
              "ticks": ""
             }
            },
            "type": "scattergl"
           }
          ],
          "scattermap": [
           {
            "marker": {
             "colorbar": {
              "outlinewidth": 0,
              "ticks": ""
             }
            },
            "type": "scattermap"
           }
          ],
          "scattermapbox": [
           {
            "marker": {
             "colorbar": {
              "outlinewidth": 0,
              "ticks": ""
             }
            },
            "type": "scattermapbox"
           }
          ],
          "scatterpolar": [
           {
            "marker": {
             "colorbar": {
              "outlinewidth": 0,
              "ticks": ""
             }
            },
            "type": "scatterpolar"
           }
          ],
          "scatterpolargl": [
           {
            "marker": {
             "colorbar": {
              "outlinewidth": 0,
              "ticks": ""
             }
            },
            "type": "scatterpolargl"
           }
          ],
          "scatterternary": [
           {
            "marker": {
             "colorbar": {
              "outlinewidth": 0,
              "ticks": ""
             }
            },
            "type": "scatterternary"
           }
          ],
          "surface": [
           {
            "colorbar": {
             "outlinewidth": 0,
             "ticks": ""
            },
            "colorscale": [
             [
              0,
              "#0d0887"
             ],
             [
              0.1111111111111111,
              "#46039f"
             ],
             [
              0.2222222222222222,
              "#7201a8"
             ],
             [
              0.3333333333333333,
              "#9c179e"
             ],
             [
              0.4444444444444444,
              "#bd3786"
             ],
             [
              0.5555555555555556,
              "#d8576b"
             ],
             [
              0.6666666666666666,
              "#ed7953"
             ],
             [
              0.7777777777777778,
              "#fb9f3a"
             ],
             [
              0.8888888888888888,
              "#fdca26"
             ],
             [
              1,
              "#f0f921"
             ]
            ],
            "type": "surface"
           }
          ],
          "table": [
           {
            "cells": {
             "fill": {
              "color": "#EBF0F8"
             },
             "line": {
              "color": "white"
             }
            },
            "header": {
             "fill": {
              "color": "#C8D4E3"
             },
             "line": {
              "color": "white"
             }
            },
            "type": "table"
           }
          ]
         },
         "layout": {
          "annotationdefaults": {
           "arrowcolor": "#2a3f5f",
           "arrowhead": 0,
           "arrowwidth": 1
          },
          "autotypenumbers": "strict",
          "coloraxis": {
           "colorbar": {
            "outlinewidth": 0,
            "ticks": ""
           }
          },
          "colorscale": {
           "diverging": [
            [
             0,
             "#8e0152"
            ],
            [
             0.1,
             "#c51b7d"
            ],
            [
             0.2,
             "#de77ae"
            ],
            [
             0.3,
             "#f1b6da"
            ],
            [
             0.4,
             "#fde0ef"
            ],
            [
             0.5,
             "#f7f7f7"
            ],
            [
             0.6,
             "#e6f5d0"
            ],
            [
             0.7,
             "#b8e186"
            ],
            [
             0.8,
             "#7fbc41"
            ],
            [
             0.9,
             "#4d9221"
            ],
            [
             1,
             "#276419"
            ]
           ],
           "sequential": [
            [
             0,
             "#0d0887"
            ],
            [
             0.1111111111111111,
             "#46039f"
            ],
            [
             0.2222222222222222,
             "#7201a8"
            ],
            [
             0.3333333333333333,
             "#9c179e"
            ],
            [
             0.4444444444444444,
             "#bd3786"
            ],
            [
             0.5555555555555556,
             "#d8576b"
            ],
            [
             0.6666666666666666,
             "#ed7953"
            ],
            [
             0.7777777777777778,
             "#fb9f3a"
            ],
            [
             0.8888888888888888,
             "#fdca26"
            ],
            [
             1,
             "#f0f921"
            ]
           ],
           "sequentialminus": [
            [
             0,
             "#0d0887"
            ],
            [
             0.1111111111111111,
             "#46039f"
            ],
            [
             0.2222222222222222,
             "#7201a8"
            ],
            [
             0.3333333333333333,
             "#9c179e"
            ],
            [
             0.4444444444444444,
             "#bd3786"
            ],
            [
             0.5555555555555556,
             "#d8576b"
            ],
            [
             0.6666666666666666,
             "#ed7953"
            ],
            [
             0.7777777777777778,
             "#fb9f3a"
            ],
            [
             0.8888888888888888,
             "#fdca26"
            ],
            [
             1,
             "#f0f921"
            ]
           ]
          },
          "colorway": [
           "#636efa",
           "#EF553B",
           "#00cc96",
           "#ab63fa",
           "#FFA15A",
           "#19d3f3",
           "#FF6692",
           "#B6E880",
           "#FF97FF",
           "#FECB52"
          ],
          "font": {
           "color": "#2a3f5f"
          },
          "geo": {
           "bgcolor": "white",
           "lakecolor": "white",
           "landcolor": "#E5ECF6",
           "showlakes": true,
           "showland": true,
           "subunitcolor": "white"
          },
          "hoverlabel": {
           "align": "left"
          },
          "hovermode": "closest",
          "mapbox": {
           "style": "light"
          },
          "paper_bgcolor": "white",
          "plot_bgcolor": "#E5ECF6",
          "polar": {
           "angularaxis": {
            "gridcolor": "white",
            "linecolor": "white",
            "ticks": ""
           },
           "bgcolor": "#E5ECF6",
           "radialaxis": {
            "gridcolor": "white",
            "linecolor": "white",
            "ticks": ""
           }
          },
          "scene": {
           "xaxis": {
            "backgroundcolor": "#E5ECF6",
            "gridcolor": "white",
            "gridwidth": 2,
            "linecolor": "white",
            "showbackground": true,
            "ticks": "",
            "zerolinecolor": "white"
           },
           "yaxis": {
            "backgroundcolor": "#E5ECF6",
            "gridcolor": "white",
            "gridwidth": 2,
            "linecolor": "white",
            "showbackground": true,
            "ticks": "",
            "zerolinecolor": "white"
           },
           "zaxis": {
            "backgroundcolor": "#E5ECF6",
            "gridcolor": "white",
            "gridwidth": 2,
            "linecolor": "white",
            "showbackground": true,
            "ticks": "",
            "zerolinecolor": "white"
           }
          },
          "shapedefaults": {
           "line": {
            "color": "#2a3f5f"
           }
          },
          "ternary": {
           "aaxis": {
            "gridcolor": "white",
            "linecolor": "white",
            "ticks": ""
           },
           "baxis": {
            "gridcolor": "white",
            "linecolor": "white",
            "ticks": ""
           },
           "bgcolor": "#E5ECF6",
           "caxis": {
            "gridcolor": "white",
            "linecolor": "white",
            "ticks": ""
           }
          },
          "title": {
           "x": 0.05
          },
          "xaxis": {
           "automargin": true,
           "gridcolor": "white",
           "linecolor": "white",
           "ticks": "",
           "title": {
            "standoff": 15
           },
           "zerolinecolor": "white",
           "zerolinewidth": 2
          },
          "yaxis": {
           "automargin": true,
           "gridcolor": "white",
           "linecolor": "white",
           "ticks": "",
           "title": {
            "standoff": 15
           },
           "zerolinecolor": "white",
           "zerolinewidth": 2
          }
         }
        },
        "title": {
         "text": "FORGE16aApril24BackgroundStage 7.csv",
         "x": 0.5
        },
        "width": 800
       }
      }
     },
     "metadata": {},
     "output_type": "display_data"
    },
    {
     "data": {
      "application/vnd.plotly.v1+json": {
       "config": {
        "plotlyServerURL": "https://plot.ly"
       },
       "data": [
        {
         "hovertemplate": "X Coordinate (m)=%{x}<br>Y Coordinate (m)=%{y}<br>Depth (m)=%{z}<br>size=%{marker.size}<br>Moment Magnitude=%{marker.color}<extra></extra>",
         "legendgroup": "",
         "marker": {
          "color": {
           "bdata": "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",
           "dtype": "f8"
          },
          "coloraxis": "coloraxis",
          "line": {
           "width": 0
          },
          "opacity": 0.7,
          "size": {
           "bdata": "AQEBAQEBAQEBAQEBAQEBAQEBAQEBAQEBAQEBAQEBAQEBAQEBAQEBAQEBAQEBAQEBAQEBAQEBAQEBAQEBAQEBAQEBAQEBAQEBAQEBAQEBAQEBAQEBAQEBAQEBAQEBAQEBAQEBAQEBAQEBAQEBAQEBAQEBAQEBAQEBAQEBAQEBAQEBAQEBAQEBAQEBAQEBAQEBAQEBAQEBAQEBAQEBAQEBAQEBAQEBAQEBAQEBAQEBAQEBAQEBAQEBAQEBAQEBAQEBAQEBAQEBAQEBAQEBAQEBAQEBAQEBAQEBAQEBAQEBAQE=",
           "dtype": "i1"
          },
          "sizemode": "area",
          "sizeref": 0.00510204081632653,
          "symbol": "circle"
         },
         "mode": "markers",
         "name": "",
         "scene": "scene",
         "showlegend": false,
         "type": "scatter3d",
         "x": {
          "bdata": "YAnoCGAJ2AlgCRoJxAkaCZgIfgm0CnQJpgmICaYJ2AnyCGAJ2AlgCWoJdAmSCfwIuglMCUIJTAkaCS4JJAl+CYgJ1gv8CLAJfgmwCUIJJAl0CRAJ8ghWCZgIOAmwCRAJagm2CN4IdAlgCS4JUggGCS4JOAnYCawIogiSCRoJagmwCWAJ1AguCcQJZgh0CawIagkGCcQJQgk+CJIJLglCCSQJagl0CaYJpgkkCTgJ1AgGCbYIEAnACDgJdAl0CUIJOAlqCUgIGgmYCLYISAimCZIJEAmICaYJ2AnYCRAJVgmiCLAJSAiYCBAJGgmiCJIJ/Ah+CXQJTAmICbYITAneCBAJQgn8CM4JtgjyCHQJUgiSCcQJugl0CRAJLgkuCZwJTAnyCKII7AnyCPwIyggQCegI3gjYCRoJdAnoCHQJiAkGCawI6AhWCZIJ2AlWCTgJwAhgDugImAgaCRAJdAmECDgJEAlWCYQIJAlMCWoJVgkuCS4JXAgQCegIjghwCHAI4gmECGAJ8ghqCaIIrAiECBAJiAkaCbYI1AjoCOgI3giwCWAJogiiCOgIpgkQCegIUggaCfIIBgkkCRoJ3gjECQ==",
          "dtype": "i2"
         },
         "y": {
          "bdata": "AAC2/n7/9voM+T7+aPyc/2D62Pqc/x4AvvvE+uz6APtS+cT6Hvs4/777WgDM/D75Uvmc/0L6nP9w+dj/svjA+bD/ggBm/rz9WvuK/Xr5Kvnc+0j5SPmy+GD6OP8g+Xr5uvpw+RD6aPx0+u747Po0+c7/3v5Q+/L5SP58/Hr5xPoU+wb/Tv2I/z7+1PlkANr9BPxUAYL7wP60+7b5AADQ+Gz4bvtS+Vb6Cvuy+Nr4tvnA+eD8qPh0/+T4wPnO+gL5DPmO+eD8Yvg8AEj57PpU/GT7+PhkANL7gvui+cb4uvrg/Pr74PxC+o75svhS+UT4svgi/LD6Uvms+S76lP0q+dD4bPgKAMr5YPow+KL5tvmE+Y75jPuw+qz5mPnQ+Oj5lPj2/zT5gvuG/M7/wPnk+OT4KvmG/P73qPhw+eD3Qv+U+HD5qPj8+Yj/cvyK+J74DP7+/Dr4Qvog+VL5iPru+Pj4rPlO+D75Fvl6+Tr4ivie+FL5KvlO+Mb41PlS+Vz5jPv4+PT3dvhs+BL9SP7u+Jz/hPlI/iT6hPl6+Xr5DPki/P735PjQ+Dr48vkG+jr4rPkM+Uj5qPh895j5tvmW+w==",
          "dtype": "i2"
         },
         "z": {
          "bdata": "LBrwHkAaCBuiHIYfMhnwGb4e0CAKHqQa0hmUG2IbCBvEHZAa/hoOGvQachq+Gc4dlBteGvwc6hr8HIYa8hz4GwIckB+GH9gYThucGJgcYB3gGqAeKB4oHg4fBBqyG2AdchpQHrodyBkqHBodkB+cHf4aIhomIOYelh6gGSQdaBpEGxgaoBmMGaYYVh2aGjwe6hpiGwoZqhkcIAgb6hrAHBodXh8+HEoaRBsGHUwd2B1+Hc4dwBxOG8oc9BpoGjgdTB1KGqggph2iIZYe4B+WGSgZ/BzcGeIY9hiuGlYdmhrOHaoZ2iAOH0IdKB6qHrIbuh3CGnwaFhwEGngeHhmwHYgd6Bx2GwAZoB4eHvoZLB++GVoZShpoGhAd3hzAHAwcKhxyGrQexBjAHEAaqh7iHcQdHh4oGaYdJB2mHbYc8BlgHb4euh3+GlAZbhnKHAIcHhlOG2Qevh5GHjweXh+gHs4dOB34GwQfYB2EHC4dDBwGHUwdGB+IHZIdyB4YHw4f9hi+Hmod4h1mHEofzhjSHr4ZEhsAGdweRh4eHrod7B2CGSYbqh60Hige9hgaHeIdQB+mHZwd2B0UHvwc2B3YGA==",
          "dtype": "i2"
         }
        }
       ],
       "layout": {
        "coloraxis": {
         "cmax": 1.85,
         "cmin": -1.09,
         "colorbar": {
          "ticklen": 6,
          "tickmode": "array",
          "ticks": "outside",
          "tickvals": [
           -1.09,
           -1,
           -0.5,
           0,
           0.5,
           1,
           1.5,
           1.85
          ],
          "tickwidth": 1,
          "title": {
           "side": "top",
           "text": "Moment Magnitude"
          }
         },
         "colorscale": [
          [
           0,
           "#0d0887"
          ],
          [
           0.1111111111111111,
           "#46039f"
          ],
          [
           0.2222222222222222,
           "#7201a8"
          ],
          [
           0.3333333333333333,
           "#9c179e"
          ],
          [
           0.4444444444444444,
           "#bd3786"
          ],
          [
           0.5555555555555556,
           "#d8576b"
          ],
          [
           0.6666666666666666,
           "#ed7953"
          ],
          [
           0.7777777777777778,
           "#fb9f3a"
          ],
          [
           0.8888888888888888,
           "#fdca26"
          ],
          [
           1,
           "#f0f921"
          ]
         ]
        },
        "height": 600,
        "legend": {
         "itemsizing": "constant",
         "tracegroupgap": 0
        },
        "margin": {
         "b": 40,
         "l": 40,
         "r": 40,
         "t": 40
        },
        "scene": {
         "aspectmode": "cube",
         "camera": {
          "eye": {
           "x": 1.5,
           "y": 1.5,
           "z": 1.5
          }
         },
         "domain": {
          "x": [
           0,
           1
          ],
          "y": [
           0,
           1
          ]
         },
         "xaxis": {
          "range": [
           -3660,
           3890
          ],
          "title": {
           "text": "X Coordinate (m)"
          }
         },
         "yaxis": {
          "range": [
           -5060,
           1180
          ],
          "title": {
           "text": "Y Coordinate (m)"
          }
         },
         "zaxis": {
          "range": [
           9500,
           5580
          ],
          "title": {
           "text": "Depth (m)"
          }
         }
        },
        "template": {
         "data": {
          "bar": [
           {
            "error_x": {
             "color": "#2a3f5f"
            },
            "error_y": {
             "color": "#2a3f5f"
            },
            "marker": {
             "line": {
              "color": "#E5ECF6",
              "width": 0.5
             },
             "pattern": {
              "fillmode": "overlay",
              "size": 10,
              "solidity": 0.2
             }
            },
            "type": "bar"
           }
          ],
          "barpolar": [
           {
            "marker": {
             "line": {
              "color": "#E5ECF6",
              "width": 0.5
             },
             "pattern": {
              "fillmode": "overlay",
              "size": 10,
              "solidity": 0.2
             }
            },
            "type": "barpolar"
           }
          ],
          "carpet": [
           {
            "aaxis": {
             "endlinecolor": "#2a3f5f",
             "gridcolor": "white",
             "linecolor": "white",
             "minorgridcolor": "white",
             "startlinecolor": "#2a3f5f"
            },
            "baxis": {
             "endlinecolor": "#2a3f5f",
             "gridcolor": "white",
             "linecolor": "white",
             "minorgridcolor": "white",
             "startlinecolor": "#2a3f5f"
            },
            "type": "carpet"
           }
          ],
          "choropleth": [
           {
            "colorbar": {
             "outlinewidth": 0,
             "ticks": ""
            },
            "type": "choropleth"
           }
          ],
          "contour": [
           {
            "colorbar": {
             "outlinewidth": 0,
             "ticks": ""
            },
            "colorscale": [
             [
              0,
              "#0d0887"
             ],
             [
              0.1111111111111111,
              "#46039f"
             ],
             [
              0.2222222222222222,
              "#7201a8"
             ],
             [
              0.3333333333333333,
              "#9c179e"
             ],
             [
              0.4444444444444444,
              "#bd3786"
             ],
             [
              0.5555555555555556,
              "#d8576b"
             ],
             [
              0.6666666666666666,
              "#ed7953"
             ],
             [
              0.7777777777777778,
              "#fb9f3a"
             ],
             [
              0.8888888888888888,
              "#fdca26"
             ],
             [
              1,
              "#f0f921"
             ]
            ],
            "type": "contour"
           }
          ],
          "contourcarpet": [
           {
            "colorbar": {
             "outlinewidth": 0,
             "ticks": ""
            },
            "type": "contourcarpet"
           }
          ],
          "heatmap": [
           {
            "colorbar": {
             "outlinewidth": 0,
             "ticks": ""
            },
            "colorscale": [
             [
              0,
              "#0d0887"
             ],
             [
              0.1111111111111111,
              "#46039f"
             ],
             [
              0.2222222222222222,
              "#7201a8"
             ],
             [
              0.3333333333333333,
              "#9c179e"
             ],
             [
              0.4444444444444444,
              "#bd3786"
             ],
             [
              0.5555555555555556,
              "#d8576b"
             ],
             [
              0.6666666666666666,
              "#ed7953"
             ],
             [
              0.7777777777777778,
              "#fb9f3a"
             ],
             [
              0.8888888888888888,
              "#fdca26"
             ],
             [
              1,
              "#f0f921"
             ]
            ],
            "type": "heatmap"
           }
          ],
          "histogram": [
           {
            "marker": {
             "pattern": {
              "fillmode": "overlay",
              "size": 10,
              "solidity": 0.2
             }
            },
            "type": "histogram"
           }
          ],
          "histogram2d": [
           {
            "colorbar": {
             "outlinewidth": 0,
             "ticks": ""
            },
            "colorscale": [
             [
              0,
              "#0d0887"
             ],
             [
              0.1111111111111111,
              "#46039f"
             ],
             [
              0.2222222222222222,
              "#7201a8"
             ],
             [
              0.3333333333333333,
              "#9c179e"
             ],
             [
              0.4444444444444444,
              "#bd3786"
             ],
             [
              0.5555555555555556,
              "#d8576b"
             ],
             [
              0.6666666666666666,
              "#ed7953"
             ],
             [
              0.7777777777777778,
              "#fb9f3a"
             ],
             [
              0.8888888888888888,
              "#fdca26"
             ],
             [
              1,
              "#f0f921"
             ]
            ],
            "type": "histogram2d"
           }
          ],
          "histogram2dcontour": [
           {
            "colorbar": {
             "outlinewidth": 0,
             "ticks": ""
            },
            "colorscale": [
             [
              0,
              "#0d0887"
             ],
             [
              0.1111111111111111,
              "#46039f"
             ],
             [
              0.2222222222222222,
              "#7201a8"
             ],
             [
              0.3333333333333333,
              "#9c179e"
             ],
             [
              0.4444444444444444,
              "#bd3786"
             ],
             [
              0.5555555555555556,
              "#d8576b"
             ],
             [
              0.6666666666666666,
              "#ed7953"
             ],
             [
              0.7777777777777778,
              "#fb9f3a"
             ],
             [
              0.8888888888888888,
              "#fdca26"
             ],
             [
              1,
              "#f0f921"
             ]
            ],
            "type": "histogram2dcontour"
           }
          ],
          "mesh3d": [
           {
            "colorbar": {
             "outlinewidth": 0,
             "ticks": ""
            },
            "type": "mesh3d"
           }
          ],
          "parcoords": [
           {
            "line": {
             "colorbar": {
              "outlinewidth": 0,
              "ticks": ""
             }
            },
            "type": "parcoords"
           }
          ],
          "pie": [
           {
            "automargin": true,
            "type": "pie"
           }
          ],
          "scatter": [
           {
            "fillpattern": {
             "fillmode": "overlay",
             "size": 10,
             "solidity": 0.2
            },
            "type": "scatter"
           }
          ],
          "scatter3d": [
           {
            "line": {
             "colorbar": {
              "outlinewidth": 0,
              "ticks": ""
             }
            },
            "marker": {
             "colorbar": {
              "outlinewidth": 0,
              "ticks": ""
             }
            },
            "type": "scatter3d"
           }
          ],
          "scattercarpet": [
           {
            "marker": {
             "colorbar": {
              "outlinewidth": 0,
              "ticks": ""
             }
            },
            "type": "scattercarpet"
           }
          ],
          "scattergeo": [
           {
            "marker": {
             "colorbar": {
              "outlinewidth": 0,
              "ticks": ""
             }
            },
            "type": "scattergeo"
           }
          ],
          "scattergl": [
           {
            "marker": {
             "colorbar": {
              "outlinewidth": 0,
              "ticks": ""
             }
            },
            "type": "scattergl"
           }
          ],
          "scattermap": [
           {
            "marker": {
             "colorbar": {
              "outlinewidth": 0,
              "ticks": ""
             }
            },
            "type": "scattermap"
           }
          ],
          "scattermapbox": [
           {
            "marker": {
             "colorbar": {
              "outlinewidth": 0,
              "ticks": ""
             }
            },
            "type": "scattermapbox"
           }
          ],
          "scatterpolar": [
           {
            "marker": {
             "colorbar": {
              "outlinewidth": 0,
              "ticks": ""
             }
            },
            "type": "scatterpolar"
           }
          ],
          "scatterpolargl": [
           {
            "marker": {
             "colorbar": {
              "outlinewidth": 0,
              "ticks": ""
             }
            },
            "type": "scatterpolargl"
           }
          ],
          "scatterternary": [
           {
            "marker": {
             "colorbar": {
              "outlinewidth": 0,
              "ticks": ""
             }
            },
            "type": "scatterternary"
           }
          ],
          "surface": [
           {
            "colorbar": {
             "outlinewidth": 0,
             "ticks": ""
            },
            "colorscale": [
             [
              0,
              "#0d0887"
             ],
             [
              0.1111111111111111,
              "#46039f"
             ],
             [
              0.2222222222222222,
              "#7201a8"
             ],
             [
              0.3333333333333333,
              "#9c179e"
             ],
             [
              0.4444444444444444,
              "#bd3786"
             ],
             [
              0.5555555555555556,
              "#d8576b"
             ],
             [
              0.6666666666666666,
              "#ed7953"
             ],
             [
              0.7777777777777778,
              "#fb9f3a"
             ],
             [
              0.8888888888888888,
              "#fdca26"
             ],
             [
              1,
              "#f0f921"
             ]
            ],
            "type": "surface"
           }
          ],
          "table": [
           {
            "cells": {
             "fill": {
              "color": "#EBF0F8"
             },
             "line": {
              "color": "white"
             }
            },
            "header": {
             "fill": {
              "color": "#C8D4E3"
             },
             "line": {
              "color": "white"
             }
            },
            "type": "table"
           }
          ]
         },
         "layout": {
          "annotationdefaults": {
           "arrowcolor": "#2a3f5f",
           "arrowhead": 0,
           "arrowwidth": 1
          },
          "autotypenumbers": "strict",
          "coloraxis": {
           "colorbar": {
            "outlinewidth": 0,
            "ticks": ""
           }
          },
          "colorscale": {
           "diverging": [
            [
             0,
             "#8e0152"
            ],
            [
             0.1,
             "#c51b7d"
            ],
            [
             0.2,
             "#de77ae"
            ],
            [
             0.3,
             "#f1b6da"
            ],
            [
             0.4,
             "#fde0ef"
            ],
            [
             0.5,
             "#f7f7f7"
            ],
            [
             0.6,
             "#e6f5d0"
            ],
            [
             0.7,
             "#b8e186"
            ],
            [
             0.8,
             "#7fbc41"
            ],
            [
             0.9,
             "#4d9221"
            ],
            [
             1,
             "#276419"
            ]
           ],
           "sequential": [
            [
             0,
             "#0d0887"
            ],
            [
             0.1111111111111111,
             "#46039f"
            ],
            [
             0.2222222222222222,
             "#7201a8"
            ],
            [
             0.3333333333333333,
             "#9c179e"
            ],
            [
             0.4444444444444444,
             "#bd3786"
            ],
            [
             0.5555555555555556,
             "#d8576b"
            ],
            [
             0.6666666666666666,
             "#ed7953"
            ],
            [
             0.7777777777777778,
             "#fb9f3a"
            ],
            [
             0.8888888888888888,
             "#fdca26"
            ],
            [
             1,
             "#f0f921"
            ]
           ],
           "sequentialminus": [
            [
             0,
             "#0d0887"
            ],
            [
             0.1111111111111111,
             "#46039f"
            ],
            [
             0.2222222222222222,
             "#7201a8"
            ],
            [
             0.3333333333333333,
             "#9c179e"
            ],
            [
             0.4444444444444444,
             "#bd3786"
            ],
            [
             0.5555555555555556,
             "#d8576b"
            ],
            [
             0.6666666666666666,
             "#ed7953"
            ],
            [
             0.7777777777777778,
             "#fb9f3a"
            ],
            [
             0.8888888888888888,
             "#fdca26"
            ],
            [
             1,
             "#f0f921"
            ]
           ]
          },
          "colorway": [
           "#636efa",
           "#EF553B",
           "#00cc96",
           "#ab63fa",
           "#FFA15A",
           "#19d3f3",
           "#FF6692",
           "#B6E880",
           "#FF97FF",
           "#FECB52"
          ],
          "font": {
           "color": "#2a3f5f"
          },
          "geo": {
           "bgcolor": "white",
           "lakecolor": "white",
           "landcolor": "#E5ECF6",
           "showlakes": true,
           "showland": true,
           "subunitcolor": "white"
          },
          "hoverlabel": {
           "align": "left"
          },
          "hovermode": "closest",
          "mapbox": {
           "style": "light"
          },
          "paper_bgcolor": "white",
          "plot_bgcolor": "#E5ECF6",
          "polar": {
           "angularaxis": {
            "gridcolor": "white",
            "linecolor": "white",
            "ticks": ""
           },
           "bgcolor": "#E5ECF6",
           "radialaxis": {
            "gridcolor": "white",
            "linecolor": "white",
            "ticks": ""
           }
          },
          "scene": {
           "xaxis": {
            "backgroundcolor": "#E5ECF6",
            "gridcolor": "white",
            "gridwidth": 2,
            "linecolor": "white",
            "showbackground": true,
            "ticks": "",
            "zerolinecolor": "white"
           },
           "yaxis": {
            "backgroundcolor": "#E5ECF6",
            "gridcolor": "white",
            "gridwidth": 2,
            "linecolor": "white",
            "showbackground": true,
            "ticks": "",
            "zerolinecolor": "white"
           },
           "zaxis": {
            "backgroundcolor": "#E5ECF6",
            "gridcolor": "white",
            "gridwidth": 2,
            "linecolor": "white",
            "showbackground": true,
            "ticks": "",
            "zerolinecolor": "white"
           }
          },
          "shapedefaults": {
           "line": {
            "color": "#2a3f5f"
           }
          },
          "ternary": {
           "aaxis": {
            "gridcolor": "white",
            "linecolor": "white",
            "ticks": ""
           },
           "baxis": {
            "gridcolor": "white",
            "linecolor": "white",
            "ticks": ""
           },
           "bgcolor": "#E5ECF6",
           "caxis": {
            "gridcolor": "white",
            "linecolor": "white",
            "ticks": ""
           }
          },
          "title": {
           "x": 0.05
          },
          "xaxis": {
           "automargin": true,
           "gridcolor": "white",
           "linecolor": "white",
           "ticks": "",
           "title": {
            "standoff": 15
           },
           "zerolinecolor": "white",
           "zerolinewidth": 2
          },
          "yaxis": {
           "automargin": true,
           "gridcolor": "white",
           "linecolor": "white",
           "ticks": "",
           "title": {
            "standoff": 15
           },
           "zerolinecolor": "white",
           "zerolinewidth": 2
          }
         }
        },
        "title": {
         "text": "FORGE16aApril24BackgroundStage 9B.csv",
         "x": 0.5
        },
        "width": 800
       }
      }
     },
     "metadata": {},
     "output_type": "display_data"
    },
    {
     "data": {
      "application/vnd.plotly.v1+json": {
       "config": {
        "plotlyServerURL": "https://plot.ly"
       },
       "data": [
        {
         "hovertemplate": "X Coordinate (m)=%{x}<br>Y Coordinate (m)=%{y}<br>Depth (m)=%{z}<br>size=%{marker.size}<br>Moment Magnitude=%{marker.color}<extra></extra>",
         "legendgroup": "",
         "marker": {
          "color": {
           "bdata": "MzMzMzMzwz9cj8L1KFzfP5qZmZmZmeE/UrgehetR4D8pXI/C9SjMP7gehetRuM4/4XoUrkfhyj8UrkfhehTePwrXo3A9Csc/SOF6FK5H0T8K16NwPQrHPylcj8L1KOQ/uB6F61G4zj+uR+F6FK7nP4/C9Shcj9I/7FG4HoXr0T/Xo3A9CtfjP+xRuB6F6+E/H4XrUbge1T/2KFyPwvXoP2ZmZmZmZuY/7FG4HoXrwb8pXI/C9SjwP3E9CtejcM0/ZmZmZmZm5j97FK5H4Xq0P6RwPQrXo+A/j8L1KFyP4j+F61G4HoXjPwrXo3A9Csc/9ihcj8L14D9SuB6F61HoP3E9CtejcN0/UrgehetRyD8pXI/C9SjMP9ejcD0K19M/zczMzMzM3D+amZmZmZnpP/YoXI/C9eg/KVyPwvUozD+uR+F6FK7XP4XrUbgehds/mpmZmZmZub8fhetRuB7lP1yPwvUoXN8/CtejcD0Kxz/NzMzMzMzcP83MzMzMzOQ/XI/C9Shc3797FK5H4Xq0v+F6FK5H4cq/KVyPwvUo3D8K16NwPQrHPxSuR+F6FOY/CtejcD0K5z97FK5H4XqEv65H4XoUru8/7FG4HoXr0T/Xo3A9CtfTP1K4HoXrUcg/9ihcj8L12D9mZmZmZmbWP8P1KFyPwsU/cT0K16NwzT9SuB6F61HgPwrXo3A9Crc/mpmZmZmZ4T+4HoXrUbi+P7gehetRuJ4/exSuR+F6tL89CtejcD3aPzMzMzMzM9O/KVyPwvUozD8UrkfhehTePwrXo3A9Ctc/j8L1KFyP0j+kcD0K16PQPwAAAAAAAOA/4XoUrkfh2j+kcD0K16PAP3sUrkfhepS/mpmZmZmZub/Xo3A9CtfjP5qZmZmZmck/w/UoXI/CxT8pXI/C9SjMP3sUrkfheqQ/exSuR+F6lD9SuB6F61HgP5qZmZmZmck/SOF6FK5H0T8=",
           "dtype": "f8"
          },
          "coloraxis": "coloraxis",
          "line": {
           "width": 0
          },
          "opacity": 0.7,
          "size": {
           "bdata": "AQEBAQEBAQEBAQEBAQEBAQEBAQEBAQEBAQEBAQEBAQEBAQEBAQEBAQEBAQEBAQEBAQEBAQEBAQEBAQEBAQEBAQEBAQEBAQEBAQEBAQEBAQEBAQEBAQEBAQEBAQ==",
           "dtype": "i1"
          },
          "sizemode": "area",
          "sizeref": 0.00510204081632653,
          "symbol": "circle"
         },
         "mode": "markers",
         "name": "",
         "scene": "scene",
         "showlegend": false,
         "type": "scatter3d",
         "x": {
          "bdata": "wgueDKgMdgwmDOALsgzgC+ALCAykC2wM1gt8C1QLbAyUDHwLNgs2C5oL5Aw2C2IMQAvgC6QLzAuuC+YKTgwECwgMSgv4DGwMCAxUC/AKsgyqCvoKpAvcChYN0gpyC64L7gxyC7IMQAtiDDYLmgueDHYMmgvICtwKngzqC0QM0AxAC7QKeAq8DPQLhguQC8wLWAyQC7gL+AyKDJQMDguADMILDgtyC0ALmgtoCwgM4AvgC/4LSgs=",
          "dtype": "i2"
         },
         "y": {
          "bdata": "CvvU/lb6wvwQ+hD6HvuO+cD5LvoQ+nT/Jv0Y/Nr9OP9C/2T7dPp8/Ar7XvxU/OT96vxm+Sz8fv9S/l78xPrk/TT+Yv2O/iL8jv5i/Sz8Cvvi+lT8Lv+A/QT89Pw+/rr6Qv+S+tT+uPza/dD9Gv9S/tT5Bv/+/Lr6zv/K+Rr/FPsq/tL7Xvwy+1b/wPnA+br/8v5M/0z/iP9g/0L/vP0q/hr6Zv4Q/8D+Bvry/uj+YPqS/2D/1P4=",
          "dtype": "i2"
         },
         "z": {
          "bdata": "CCCqHpYeJB1eH3IfnB2uH1QfXh/CH3IfTiBOILIgDh9UH0ofbCA6IEAfzh1sIEAfbCByH3Yg/h/0H6Ih5h7GIMIfwCEEH0YeaB/kIGIgPB4cIKIhniD4IDgd5CCKIMIfRh5oHzIe8iGqHoogHCCWHoIegCAkIjAg+h7cHgQfCh7uIBoi/CGwHTAgMCDWH0QgGB9EIGwgXh/IHgAeNCFGHnIf8iF6IawhJiAgITYfrh/+H2wgmCE=",
          "dtype": "i2"
         }
        }
       ],
       "layout": {
        "coloraxis": {
         "cmax": 1.85,
         "cmin": -1.09,
         "colorbar": {
          "ticklen": 6,
          "tickmode": "array",
          "ticks": "outside",
          "tickvals": [
           -1.09,
           -1,
           -0.5,
           0,
           0.5,
           1,
           1.5,
           1.85
          ],
          "tickwidth": 1,
          "title": {
           "side": "top",
           "text": "Moment Magnitude"
          }
         },
         "colorscale": [
          [
           0,
           "#0d0887"
          ],
          [
           0.1111111111111111,
           "#46039f"
          ],
          [
           0.2222222222222222,
           "#7201a8"
          ],
          [
           0.3333333333333333,
           "#9c179e"
          ],
          [
           0.4444444444444444,
           "#bd3786"
          ],
          [
           0.5555555555555556,
           "#d8576b"
          ],
          [
           0.6666666666666666,
           "#ed7953"
          ],
          [
           0.7777777777777778,
           "#fb9f3a"
          ],
          [
           0.8888888888888888,
           "#fdca26"
          ],
          [
           1,
           "#f0f921"
          ]
         ]
        },
        "height": 600,
        "legend": {
         "itemsizing": "constant",
         "tracegroupgap": 0
        },
        "margin": {
         "b": 40,
         "l": 40,
         "r": 40,
         "t": 40
        },
        "scene": {
         "aspectmode": "cube",
         "camera": {
          "eye": {
           "x": 1.5,
           "y": 1.5,
           "z": 1.5
          }
         },
         "domain": {
          "x": [
           0,
           1
          ],
          "y": [
           0,
           1
          ]
         },
         "xaxis": {
          "range": [
           -3660,
           3890
          ],
          "title": {
           "text": "X Coordinate (m)"
          }
         },
         "yaxis": {
          "range": [
           -5060,
           1180
          ],
          "title": {
           "text": "Y Coordinate (m)"
          }
         },
         "zaxis": {
          "range": [
           9500,
           5580
          ],
          "title": {
           "text": "Depth (m)"
          }
         }
        },
        "template": {
         "data": {
          "bar": [
           {
            "error_x": {
             "color": "#2a3f5f"
            },
            "error_y": {
             "color": "#2a3f5f"
            },
            "marker": {
             "line": {
              "color": "#E5ECF6",
              "width": 0.5
             },
             "pattern": {
              "fillmode": "overlay",
              "size": 10,
              "solidity": 0.2
             }
            },
            "type": "bar"
           }
          ],
          "barpolar": [
           {
            "marker": {
             "line": {
              "color": "#E5ECF6",
              "width": 0.5
             },
             "pattern": {
              "fillmode": "overlay",
              "size": 10,
              "solidity": 0.2
             }
            },
            "type": "barpolar"
           }
          ],
          "carpet": [
           {
            "aaxis": {
             "endlinecolor": "#2a3f5f",
             "gridcolor": "white",
             "linecolor": "white",
             "minorgridcolor": "white",
             "startlinecolor": "#2a3f5f"
            },
            "baxis": {
             "endlinecolor": "#2a3f5f",
             "gridcolor": "white",
             "linecolor": "white",
             "minorgridcolor": "white",
             "startlinecolor": "#2a3f5f"
            },
            "type": "carpet"
           }
          ],
          "choropleth": [
           {
            "colorbar": {
             "outlinewidth": 0,
             "ticks": ""
            },
            "type": "choropleth"
           }
          ],
          "contour": [
           {
            "colorbar": {
             "outlinewidth": 0,
             "ticks": ""
            },
            "colorscale": [
             [
              0,
              "#0d0887"
             ],
             [
              0.1111111111111111,
              "#46039f"
             ],
             [
              0.2222222222222222,
              "#7201a8"
             ],
             [
              0.3333333333333333,
              "#9c179e"
             ],
             [
              0.4444444444444444,
              "#bd3786"
             ],
             [
              0.5555555555555556,
              "#d8576b"
             ],
             [
              0.6666666666666666,
              "#ed7953"
             ],
             [
              0.7777777777777778,
              "#fb9f3a"
             ],
             [
              0.8888888888888888,
              "#fdca26"
             ],
             [
              1,
              "#f0f921"
             ]
            ],
            "type": "contour"
           }
          ],
          "contourcarpet": [
           {
            "colorbar": {
             "outlinewidth": 0,
             "ticks": ""
            },
            "type": "contourcarpet"
           }
          ],
          "heatmap": [
           {
            "colorbar": {
             "outlinewidth": 0,
             "ticks": ""
            },
            "colorscale": [
             [
              0,
              "#0d0887"
             ],
             [
              0.1111111111111111,
              "#46039f"
             ],
             [
              0.2222222222222222,
              "#7201a8"
             ],
             [
              0.3333333333333333,
              "#9c179e"
             ],
             [
              0.4444444444444444,
              "#bd3786"
             ],
             [
              0.5555555555555556,
              "#d8576b"
             ],
             [
              0.6666666666666666,
              "#ed7953"
             ],
             [
              0.7777777777777778,
              "#fb9f3a"
             ],
             [
              0.8888888888888888,
              "#fdca26"
             ],
             [
              1,
              "#f0f921"
             ]
            ],
            "type": "heatmap"
           }
          ],
          "histogram": [
           {
            "marker": {
             "pattern": {
              "fillmode": "overlay",
              "size": 10,
              "solidity": 0.2
             }
            },
            "type": "histogram"
           }
          ],
          "histogram2d": [
           {
            "colorbar": {
             "outlinewidth": 0,
             "ticks": ""
            },
            "colorscale": [
             [
              0,
              "#0d0887"
             ],
             [
              0.1111111111111111,
              "#46039f"
             ],
             [
              0.2222222222222222,
              "#7201a8"
             ],
             [
              0.3333333333333333,
              "#9c179e"
             ],
             [
              0.4444444444444444,
              "#bd3786"
             ],
             [
              0.5555555555555556,
              "#d8576b"
             ],
             [
              0.6666666666666666,
              "#ed7953"
             ],
             [
              0.7777777777777778,
              "#fb9f3a"
             ],
             [
              0.8888888888888888,
              "#fdca26"
             ],
             [
              1,
              "#f0f921"
             ]
            ],
            "type": "histogram2d"
           }
          ],
          "histogram2dcontour": [
           {
            "colorbar": {
             "outlinewidth": 0,
             "ticks": ""
            },
            "colorscale": [
             [
              0,
              "#0d0887"
             ],
             [
              0.1111111111111111,
              "#46039f"
             ],
             [
              0.2222222222222222,
              "#7201a8"
             ],
             [
              0.3333333333333333,
              "#9c179e"
             ],
             [
              0.4444444444444444,
              "#bd3786"
             ],
             [
              0.5555555555555556,
              "#d8576b"
             ],
             [
              0.6666666666666666,
              "#ed7953"
             ],
             [
              0.7777777777777778,
              "#fb9f3a"
             ],
             [
              0.8888888888888888,
              "#fdca26"
             ],
             [
              1,
              "#f0f921"
             ]
            ],
            "type": "histogram2dcontour"
           }
          ],
          "mesh3d": [
           {
            "colorbar": {
             "outlinewidth": 0,
             "ticks": ""
            },
            "type": "mesh3d"
           }
          ],
          "parcoords": [
           {
            "line": {
             "colorbar": {
              "outlinewidth": 0,
              "ticks": ""
             }
            },
            "type": "parcoords"
           }
          ],
          "pie": [
           {
            "automargin": true,
            "type": "pie"
           }
          ],
          "scatter": [
           {
            "fillpattern": {
             "fillmode": "overlay",
             "size": 10,
             "solidity": 0.2
            },
            "type": "scatter"
           }
          ],
          "scatter3d": [
           {
            "line": {
             "colorbar": {
              "outlinewidth": 0,
              "ticks": ""
             }
            },
            "marker": {
             "colorbar": {
              "outlinewidth": 0,
              "ticks": ""
             }
            },
            "type": "scatter3d"
           }
          ],
          "scattercarpet": [
           {
            "marker": {
             "colorbar": {
              "outlinewidth": 0,
              "ticks": ""
             }
            },
            "type": "scattercarpet"
           }
          ],
          "scattergeo": [
           {
            "marker": {
             "colorbar": {
              "outlinewidth": 0,
              "ticks": ""
             }
            },
            "type": "scattergeo"
           }
          ],
          "scattergl": [
           {
            "marker": {
             "colorbar": {
              "outlinewidth": 0,
              "ticks": ""
             }
            },
            "type": "scattergl"
           }
          ],
          "scattermap": [
           {
            "marker": {
             "colorbar": {
              "outlinewidth": 0,
              "ticks": ""
             }
            },
            "type": "scattermap"
           }
          ],
          "scattermapbox": [
           {
            "marker": {
             "colorbar": {
              "outlinewidth": 0,
              "ticks": ""
             }
            },
            "type": "scattermapbox"
           }
          ],
          "scatterpolar": [
           {
            "marker": {
             "colorbar": {
              "outlinewidth": 0,
              "ticks": ""
             }
            },
            "type": "scatterpolar"
           }
          ],
          "scatterpolargl": [
           {
            "marker": {
             "colorbar": {
              "outlinewidth": 0,
              "ticks": ""
             }
            },
            "type": "scatterpolargl"
           }
          ],
          "scatterternary": [
           {
            "marker": {
             "colorbar": {
              "outlinewidth": 0,
              "ticks": ""
             }
            },
            "type": "scatterternary"
           }
          ],
          "surface": [
           {
            "colorbar": {
             "outlinewidth": 0,
             "ticks": ""
            },
            "colorscale": [
             [
              0,
              "#0d0887"
             ],
             [
              0.1111111111111111,
              "#46039f"
             ],
             [
              0.2222222222222222,
              "#7201a8"
             ],
             [
              0.3333333333333333,
              "#9c179e"
             ],
             [
              0.4444444444444444,
              "#bd3786"
             ],
             [
              0.5555555555555556,
              "#d8576b"
             ],
             [
              0.6666666666666666,
              "#ed7953"
             ],
             [
              0.7777777777777778,
              "#fb9f3a"
             ],
             [
              0.8888888888888888,
              "#fdca26"
             ],
             [
              1,
              "#f0f921"
             ]
            ],
            "type": "surface"
           }
          ],
          "table": [
           {
            "cells": {
             "fill": {
              "color": "#EBF0F8"
             },
             "line": {
              "color": "white"
             }
            },
            "header": {
             "fill": {
              "color": "#C8D4E3"
             },
             "line": {
              "color": "white"
             }
            },
            "type": "table"
           }
          ]
         },
         "layout": {
          "annotationdefaults": {
           "arrowcolor": "#2a3f5f",
           "arrowhead": 0,
           "arrowwidth": 1
          },
          "autotypenumbers": "strict",
          "coloraxis": {
           "colorbar": {
            "outlinewidth": 0,
            "ticks": ""
           }
          },
          "colorscale": {
           "diverging": [
            [
             0,
             "#8e0152"
            ],
            [
             0.1,
             "#c51b7d"
            ],
            [
             0.2,
             "#de77ae"
            ],
            [
             0.3,
             "#f1b6da"
            ],
            [
             0.4,
             "#fde0ef"
            ],
            [
             0.5,
             "#f7f7f7"
            ],
            [
             0.6,
             "#e6f5d0"
            ],
            [
             0.7,
             "#b8e186"
            ],
            [
             0.8,
             "#7fbc41"
            ],
            [
             0.9,
             "#4d9221"
            ],
            [
             1,
             "#276419"
            ]
           ],
           "sequential": [
            [
             0,
             "#0d0887"
            ],
            [
             0.1111111111111111,
             "#46039f"
            ],
            [
             0.2222222222222222,
             "#7201a8"
            ],
            [
             0.3333333333333333,
             "#9c179e"
            ],
            [
             0.4444444444444444,
             "#bd3786"
            ],
            [
             0.5555555555555556,
             "#d8576b"
            ],
            [
             0.6666666666666666,
             "#ed7953"
            ],
            [
             0.7777777777777778,
             "#fb9f3a"
            ],
            [
             0.8888888888888888,
             "#fdca26"
            ],
            [
             1,
             "#f0f921"
            ]
           ],
           "sequentialminus": [
            [
             0,
             "#0d0887"
            ],
            [
             0.1111111111111111,
             "#46039f"
            ],
            [
             0.2222222222222222,
             "#7201a8"
            ],
            [
             0.3333333333333333,
             "#9c179e"
            ],
            [
             0.4444444444444444,
             "#bd3786"
            ],
            [
             0.5555555555555556,
             "#d8576b"
            ],
            [
             0.6666666666666666,
             "#ed7953"
            ],
            [
             0.7777777777777778,
             "#fb9f3a"
            ],
            [
             0.8888888888888888,
             "#fdca26"
            ],
            [
             1,
             "#f0f921"
            ]
           ]
          },
          "colorway": [
           "#636efa",
           "#EF553B",
           "#00cc96",
           "#ab63fa",
           "#FFA15A",
           "#19d3f3",
           "#FF6692",
           "#B6E880",
           "#FF97FF",
           "#FECB52"
          ],
          "font": {
           "color": "#2a3f5f"
          },
          "geo": {
           "bgcolor": "white",
           "lakecolor": "white",
           "landcolor": "#E5ECF6",
           "showlakes": true,
           "showland": true,
           "subunitcolor": "white"
          },
          "hoverlabel": {
           "align": "left"
          },
          "hovermode": "closest",
          "mapbox": {
           "style": "light"
          },
          "paper_bgcolor": "white",
          "plot_bgcolor": "#E5ECF6",
          "polar": {
           "angularaxis": {
            "gridcolor": "white",
            "linecolor": "white",
            "ticks": ""
           },
           "bgcolor": "#E5ECF6",
           "radialaxis": {
            "gridcolor": "white",
            "linecolor": "white",
            "ticks": ""
           }
          },
          "scene": {
           "xaxis": {
            "backgroundcolor": "#E5ECF6",
            "gridcolor": "white",
            "gridwidth": 2,
            "linecolor": "white",
            "showbackground": true,
            "ticks": "",
            "zerolinecolor": "white"
           },
           "yaxis": {
            "backgroundcolor": "#E5ECF6",
            "gridcolor": "white",
            "gridwidth": 2,
            "linecolor": "white",
            "showbackground": true,
            "ticks": "",
            "zerolinecolor": "white"
           },
           "zaxis": {
            "backgroundcolor": "#E5ECF6",
            "gridcolor": "white",
            "gridwidth": 2,
            "linecolor": "white",
            "showbackground": true,
            "ticks": "",
            "zerolinecolor": "white"
           }
          },
          "shapedefaults": {
           "line": {
            "color": "#2a3f5f"
           }
          },
          "ternary": {
           "aaxis": {
            "gridcolor": "white",
            "linecolor": "white",
            "ticks": ""
           },
           "baxis": {
            "gridcolor": "white",
            "linecolor": "white",
            "ticks": ""
           },
           "bgcolor": "#E5ECF6",
           "caxis": {
            "gridcolor": "white",
            "linecolor": "white",
            "ticks": ""
           }
          },
          "title": {
           "x": 0.05
          },
          "xaxis": {
           "automargin": true,
           "gridcolor": "white",
           "linecolor": "white",
           "ticks": "",
           "title": {
            "standoff": 15
           },
           "zerolinecolor": "white",
           "zerolinewidth": 2
          },
          "yaxis": {
           "automargin": true,
           "gridcolor": "white",
           "linecolor": "white",
           "ticks": "",
           "title": {
            "standoff": 15
           },
           "zerolinecolor": "white",
           "zerolinewidth": 2
          }
         }
        },
        "title": {
         "text": "FORGE16aApril24BackgroundStage 5.csv",
         "x": 0.5
        },
        "width": 800
       }
      }
     },
     "metadata": {},
     "output_type": "display_data"
    },
    {
     "data": {
      "application/vnd.plotly.v1+json": {
       "config": {
        "plotlyServerURL": "https://plot.ly"
       },
       "data": [
        {
         "hovertemplate": "X Coordinate (m)=%{x}<br>Y Coordinate (m)=%{y}<br>Depth (m)=%{z}<br>size=%{marker.size}<br>Moment Magnitude=%{marker.color}<extra></extra>",
         "legendgroup": "",
         "marker": {
          "color": {
           "bdata": "FK5H4XoU3j8K16NwPQq3v7gehetRuL4/uB6F61G4zj/D9Shcj8LVv+F6FK5H4co/4XoUrkfhyj9cj8L1KFzfP5qZmZmZmak/FK5H4XoU3j8AAAAAAADQP+xRuB6F67E/cT0K16NwzT97FK5H4Xq0P6RwPQrXo8A/H4XrUbge1b/hehSuR+HKP3sUrkfhepS/exSuR+F6pD+amZmZmZmpP/YoXI/C9dg/exSuR+F61D+4HoXrUbi+P3sUrkfhetQ/uB6F61G4zj+kcD0K16PQP7gehetRuK6/AAAAAAAAAACamZmZmZnJP+xRuB6F68G/exSuR+F6tD9cj8L1KFzfP6RwPQrXo9A/4XoUrkfh4j+amZmZmZnhP6RwPQrXo8A/UrgehetRyD9xPQrXo3DdP3sUrkfhetQ/CtejcD0Ktz8fhetRuB7lP1K4HoXrUcg/mpmZmZmZyT/2KFyPwvXgPylcj8L1KMw/UrgehetR2D97FK5H4XqkP4/C9Shcj9I/exSuR+F6pL+uR+F6FK7XPzMzMzMzM9M/pHA9Ctej0L+F61G4HoXbP4/C9Shcj+I/MzMzMzMzwz/hehSuR+HKP2ZmZmZmZuY/exSuR+F6xL89CtejcD3aPz0K16NwPdo/UrgehetR4D8AAAAAAADQP4/C9Shcj9I/7FG4HoXrsT97FK5H4XqUv7gehetRuK4/exSuR+F6lD+4HoXrUbjOP7gehetRuM4/uB6F61G4nr+4HoXrUbi+P+xRuB6F67E/7FG4HoXrsT89CtejcD3iPwAAAAAAAAAA4XoUrkfh2j+amZmZmZnJP6RwPQrXo8A/exSuR+F61D97FK5H4XrUP3sUrkfheoQ/zczMzMzM3D8=",
           "dtype": "f8"
          },
          "coloraxis": "coloraxis",
          "line": {
           "width": 0
          },
          "opacity": 0.7,
          "size": {
           "bdata": "AQEBAQEBAQEBAQEBAQEBAQEBAQEBAQEBAQEBAQEBAQEBAQEBAQEBAQEBAQEBAQEBAQEBAQEBAQEBAQEBAQEBAQEBAQEBAQEBAQEBAQEBAQEBAQ==",
           "dtype": "i1"
          },
          "sizemode": "area",
          "sizeref": 0.00510204081632653,
          "symbol": "circle"
         },
         "mode": "markers",
         "name": "",
         "scene": "scene",
         "showlegend": false,
         "type": "scatter3d",
         "x": {
          "bdata": "bAzkDJQM1gt2DDoMrguuC64L4AtsDHwLzAsIDJALmA3qC+oLuAsmDLIMJgzQDMwL/gvCC/4LfAscDEQMJgy8DBIMmguuC2wM2gyeDJQMuAvqC64LRAyuC64LlAzGDBwMqAyoDAwN/guyDKQLaAvMC2gLHAyADE4MigyKDIoMlAyuCxIMBAtODCYMJgzkDJ4Mrgu8DF4LfAsmDLIM7gz0CwgM8Ao=",
          "dtype": "i2"
         },
         "y": {
          "bdata": "Gv8w/SL8tPum+mr6gvtC+rD6MP0i/Iz7uvp0+rT7JP8K+zD9oPsk/0b7OP+e/cL8cP60+8r5sv1c/n76uvoY/EL/Hvuu/HD+Rvs2/H7/8vl6/or97v08+1D7LPyg+y7/Mvtu+277GPxI/lD7sv1E/eD8JPo2/N7+Jv16/qb/BPyc+vj9oPve/pL/Gv/m+2j8EPp+/xL9GvpS/mr/pvoA+1b64vo=",
          "dtype": "i2"
         },
         "z": {
          "bdata": "mh+cHQoe6h9IIZAfwh9yHwggniAoHswfBB/MH/QfBB9EIMwfhh/qH1Ae1h8AHjAgHCDgH0Af7iB2IL4eQB8AHiYghh/QIJofzh0KHiIfRCAwIFwhlCCQH3If2B3sHeof9h3iHR4emh/6HmgfTiBOILIgUiEKHsIfYB2MHkofMh7WH/4fcCFUH+AfzB+wHc4dzB+GH7YhTiCQH2gfUB7SHtweiiA=",
          "dtype": "i2"
         }
        }
       ],
       "layout": {
        "coloraxis": {
         "cmax": 1.85,
         "cmin": -1.09,
         "colorbar": {
          "ticklen": 6,
          "tickmode": "array",
          "ticks": "outside",
          "tickvals": [
           -1.09,
           -1,
           -0.5,
           0,
           0.5,
           1,
           1.5,
           1.85
          ],
          "tickwidth": 1,
          "title": {
           "side": "top",
           "text": "Moment Magnitude"
          }
         },
         "colorscale": [
          [
           0,
           "#0d0887"
          ],
          [
           0.1111111111111111,
           "#46039f"
          ],
          [
           0.2222222222222222,
           "#7201a8"
          ],
          [
           0.3333333333333333,
           "#9c179e"
          ],
          [
           0.4444444444444444,
           "#bd3786"
          ],
          [
           0.5555555555555556,
           "#d8576b"
          ],
          [
           0.6666666666666666,
           "#ed7953"
          ],
          [
           0.7777777777777778,
           "#fb9f3a"
          ],
          [
           0.8888888888888888,
           "#fdca26"
          ],
          [
           1,
           "#f0f921"
          ]
         ]
        },
        "height": 600,
        "legend": {
         "itemsizing": "constant",
         "tracegroupgap": 0
        },
        "margin": {
         "b": 40,
         "l": 40,
         "r": 40,
         "t": 40
        },
        "scene": {
         "aspectmode": "cube",
         "camera": {
          "eye": {
           "x": 1.5,
           "y": 1.5,
           "z": 1.5
          }
         },
         "domain": {
          "x": [
           0,
           1
          ],
          "y": [
           0,
           1
          ]
         },
         "xaxis": {
          "range": [
           -3660,
           3890
          ],
          "title": {
           "text": "X Coordinate (m)"
          }
         },
         "yaxis": {
          "range": [
           -5060,
           1180
          ],
          "title": {
           "text": "Y Coordinate (m)"
          }
         },
         "zaxis": {
          "range": [
           9500,
           5580
          ],
          "title": {
           "text": "Depth (m)"
          }
         }
        },
        "template": {
         "data": {
          "bar": [
           {
            "error_x": {
             "color": "#2a3f5f"
            },
            "error_y": {
             "color": "#2a3f5f"
            },
            "marker": {
             "line": {
              "color": "#E5ECF6",
              "width": 0.5
             },
             "pattern": {
              "fillmode": "overlay",
              "size": 10,
              "solidity": 0.2
             }
            },
            "type": "bar"
           }
          ],
          "barpolar": [
           {
            "marker": {
             "line": {
              "color": "#E5ECF6",
              "width": 0.5
             },
             "pattern": {
              "fillmode": "overlay",
              "size": 10,
              "solidity": 0.2
             }
            },
            "type": "barpolar"
           }
          ],
          "carpet": [
           {
            "aaxis": {
             "endlinecolor": "#2a3f5f",
             "gridcolor": "white",
             "linecolor": "white",
             "minorgridcolor": "white",
             "startlinecolor": "#2a3f5f"
            },
            "baxis": {
             "endlinecolor": "#2a3f5f",
             "gridcolor": "white",
             "linecolor": "white",
             "minorgridcolor": "white",
             "startlinecolor": "#2a3f5f"
            },
            "type": "carpet"
           }
          ],
          "choropleth": [
           {
            "colorbar": {
             "outlinewidth": 0,
             "ticks": ""
            },
            "type": "choropleth"
           }
          ],
          "contour": [
           {
            "colorbar": {
             "outlinewidth": 0,
             "ticks": ""
            },
            "colorscale": [
             [
              0,
              "#0d0887"
             ],
             [
              0.1111111111111111,
              "#46039f"
             ],
             [
              0.2222222222222222,
              "#7201a8"
             ],
             [
              0.3333333333333333,
              "#9c179e"
             ],
             [
              0.4444444444444444,
              "#bd3786"
             ],
             [
              0.5555555555555556,
              "#d8576b"
             ],
             [
              0.6666666666666666,
              "#ed7953"
             ],
             [
              0.7777777777777778,
              "#fb9f3a"
             ],
             [
              0.8888888888888888,
              "#fdca26"
             ],
             [
              1,
              "#f0f921"
             ]
            ],
            "type": "contour"
           }
          ],
          "contourcarpet": [
           {
            "colorbar": {
             "outlinewidth": 0,
             "ticks": ""
            },
            "type": "contourcarpet"
           }
          ],
          "heatmap": [
           {
            "colorbar": {
             "outlinewidth": 0,
             "ticks": ""
            },
            "colorscale": [
             [
              0,
              "#0d0887"
             ],
             [
              0.1111111111111111,
              "#46039f"
             ],
             [
              0.2222222222222222,
              "#7201a8"
             ],
             [
              0.3333333333333333,
              "#9c179e"
             ],
             [
              0.4444444444444444,
              "#bd3786"
             ],
             [
              0.5555555555555556,
              "#d8576b"
             ],
             [
              0.6666666666666666,
              "#ed7953"
             ],
             [
              0.7777777777777778,
              "#fb9f3a"
             ],
             [
              0.8888888888888888,
              "#fdca26"
             ],
             [
              1,
              "#f0f921"
             ]
            ],
            "type": "heatmap"
           }
          ],
          "histogram": [
           {
            "marker": {
             "pattern": {
              "fillmode": "overlay",
              "size": 10,
              "solidity": 0.2
             }
            },
            "type": "histogram"
           }
          ],
          "histogram2d": [
           {
            "colorbar": {
             "outlinewidth": 0,
             "ticks": ""
            },
            "colorscale": [
             [
              0,
              "#0d0887"
             ],
             [
              0.1111111111111111,
              "#46039f"
             ],
             [
              0.2222222222222222,
              "#7201a8"
             ],
             [
              0.3333333333333333,
              "#9c179e"
             ],
             [
              0.4444444444444444,
              "#bd3786"
             ],
             [
              0.5555555555555556,
              "#d8576b"
             ],
             [
              0.6666666666666666,
              "#ed7953"
             ],
             [
              0.7777777777777778,
              "#fb9f3a"
             ],
             [
              0.8888888888888888,
              "#fdca26"
             ],
             [
              1,
              "#f0f921"
             ]
            ],
            "type": "histogram2d"
           }
          ],
          "histogram2dcontour": [
           {
            "colorbar": {
             "outlinewidth": 0,
             "ticks": ""
            },
            "colorscale": [
             [
              0,
              "#0d0887"
             ],
             [
              0.1111111111111111,
              "#46039f"
             ],
             [
              0.2222222222222222,
              "#7201a8"
             ],
             [
              0.3333333333333333,
              "#9c179e"
             ],
             [
              0.4444444444444444,
              "#bd3786"
             ],
             [
              0.5555555555555556,
              "#d8576b"
             ],
             [
              0.6666666666666666,
              "#ed7953"
             ],
             [
              0.7777777777777778,
              "#fb9f3a"
             ],
             [
              0.8888888888888888,
              "#fdca26"
             ],
             [
              1,
              "#f0f921"
             ]
            ],
            "type": "histogram2dcontour"
           }
          ],
          "mesh3d": [
           {
            "colorbar": {
             "outlinewidth": 0,
             "ticks": ""
            },
            "type": "mesh3d"
           }
          ],
          "parcoords": [
           {
            "line": {
             "colorbar": {
              "outlinewidth": 0,
              "ticks": ""
             }
            },
            "type": "parcoords"
           }
          ],
          "pie": [
           {
            "automargin": true,
            "type": "pie"
           }
          ],
          "scatter": [
           {
            "fillpattern": {
             "fillmode": "overlay",
             "size": 10,
             "solidity": 0.2
            },
            "type": "scatter"
           }
          ],
          "scatter3d": [
           {
            "line": {
             "colorbar": {
              "outlinewidth": 0,
              "ticks": ""
             }
            },
            "marker": {
             "colorbar": {
              "outlinewidth": 0,
              "ticks": ""
             }
            },
            "type": "scatter3d"
           }
          ],
          "scattercarpet": [
           {
            "marker": {
             "colorbar": {
              "outlinewidth": 0,
              "ticks": ""
             }
            },
            "type": "scattercarpet"
           }
          ],
          "scattergeo": [
           {
            "marker": {
             "colorbar": {
              "outlinewidth": 0,
              "ticks": ""
             }
            },
            "type": "scattergeo"
           }
          ],
          "scattergl": [
           {
            "marker": {
             "colorbar": {
              "outlinewidth": 0,
              "ticks": ""
             }
            },
            "type": "scattergl"
           }
          ],
          "scattermap": [
           {
            "marker": {
             "colorbar": {
              "outlinewidth": 0,
              "ticks": ""
             }
            },
            "type": "scattermap"
           }
          ],
          "scattermapbox": [
           {
            "marker": {
             "colorbar": {
              "outlinewidth": 0,
              "ticks": ""
             }
            },
            "type": "scattermapbox"
           }
          ],
          "scatterpolar": [
           {
            "marker": {
             "colorbar": {
              "outlinewidth": 0,
              "ticks": ""
             }
            },
            "type": "scatterpolar"
           }
          ],
          "scatterpolargl": [
           {
            "marker": {
             "colorbar": {
              "outlinewidth": 0,
              "ticks": ""
             }
            },
            "type": "scatterpolargl"
           }
          ],
          "scatterternary": [
           {
            "marker": {
             "colorbar": {
              "outlinewidth": 0,
              "ticks": ""
             }
            },
            "type": "scatterternary"
           }
          ],
          "surface": [
           {
            "colorbar": {
             "outlinewidth": 0,
             "ticks": ""
            },
            "colorscale": [
             [
              0,
              "#0d0887"
             ],
             [
              0.1111111111111111,
              "#46039f"
             ],
             [
              0.2222222222222222,
              "#7201a8"
             ],
             [
              0.3333333333333333,
              "#9c179e"
             ],
             [
              0.4444444444444444,
              "#bd3786"
             ],
             [
              0.5555555555555556,
              "#d8576b"
             ],
             [
              0.6666666666666666,
              "#ed7953"
             ],
             [
              0.7777777777777778,
              "#fb9f3a"
             ],
             [
              0.8888888888888888,
              "#fdca26"
             ],
             [
              1,
              "#f0f921"
             ]
            ],
            "type": "surface"
           }
          ],
          "table": [
           {
            "cells": {
             "fill": {
              "color": "#EBF0F8"
             },
             "line": {
              "color": "white"
             }
            },
            "header": {
             "fill": {
              "color": "#C8D4E3"
             },
             "line": {
              "color": "white"
             }
            },
            "type": "table"
           }
          ]
         },
         "layout": {
          "annotationdefaults": {
           "arrowcolor": "#2a3f5f",
           "arrowhead": 0,
           "arrowwidth": 1
          },
          "autotypenumbers": "strict",
          "coloraxis": {
           "colorbar": {
            "outlinewidth": 0,
            "ticks": ""
           }
          },
          "colorscale": {
           "diverging": [
            [
             0,
             "#8e0152"
            ],
            [
             0.1,
             "#c51b7d"
            ],
            [
             0.2,
             "#de77ae"
            ],
            [
             0.3,
             "#f1b6da"
            ],
            [
             0.4,
             "#fde0ef"
            ],
            [
             0.5,
             "#f7f7f7"
            ],
            [
             0.6,
             "#e6f5d0"
            ],
            [
             0.7,
             "#b8e186"
            ],
            [
             0.8,
             "#7fbc41"
            ],
            [
             0.9,
             "#4d9221"
            ],
            [
             1,
             "#276419"
            ]
           ],
           "sequential": [
            [
             0,
             "#0d0887"
            ],
            [
             0.1111111111111111,
             "#46039f"
            ],
            [
             0.2222222222222222,
             "#7201a8"
            ],
            [
             0.3333333333333333,
             "#9c179e"
            ],
            [
             0.4444444444444444,
             "#bd3786"
            ],
            [
             0.5555555555555556,
             "#d8576b"
            ],
            [
             0.6666666666666666,
             "#ed7953"
            ],
            [
             0.7777777777777778,
             "#fb9f3a"
            ],
            [
             0.8888888888888888,
             "#fdca26"
            ],
            [
             1,
             "#f0f921"
            ]
           ],
           "sequentialminus": [
            [
             0,
             "#0d0887"
            ],
            [
             0.1111111111111111,
             "#46039f"
            ],
            [
             0.2222222222222222,
             "#7201a8"
            ],
            [
             0.3333333333333333,
             "#9c179e"
            ],
            [
             0.4444444444444444,
             "#bd3786"
            ],
            [
             0.5555555555555556,
             "#d8576b"
            ],
            [
             0.6666666666666666,
             "#ed7953"
            ],
            [
             0.7777777777777778,
             "#fb9f3a"
            ],
            [
             0.8888888888888888,
             "#fdca26"
            ],
            [
             1,
             "#f0f921"
            ]
           ]
          },
          "colorway": [
           "#636efa",
           "#EF553B",
           "#00cc96",
           "#ab63fa",
           "#FFA15A",
           "#19d3f3",
           "#FF6692",
           "#B6E880",
           "#FF97FF",
           "#FECB52"
          ],
          "font": {
           "color": "#2a3f5f"
          },
          "geo": {
           "bgcolor": "white",
           "lakecolor": "white",
           "landcolor": "#E5ECF6",
           "showlakes": true,
           "showland": true,
           "subunitcolor": "white"
          },
          "hoverlabel": {
           "align": "left"
          },
          "hovermode": "closest",
          "mapbox": {
           "style": "light"
          },
          "paper_bgcolor": "white",
          "plot_bgcolor": "#E5ECF6",
          "polar": {
           "angularaxis": {
            "gridcolor": "white",
            "linecolor": "white",
            "ticks": ""
           },
           "bgcolor": "#E5ECF6",
           "radialaxis": {
            "gridcolor": "white",
            "linecolor": "white",
            "ticks": ""
           }
          },
          "scene": {
           "xaxis": {
            "backgroundcolor": "#E5ECF6",
            "gridcolor": "white",
            "gridwidth": 2,
            "linecolor": "white",
            "showbackground": true,
            "ticks": "",
            "zerolinecolor": "white"
           },
           "yaxis": {
            "backgroundcolor": "#E5ECF6",
            "gridcolor": "white",
            "gridwidth": 2,
            "linecolor": "white",
            "showbackground": true,
            "ticks": "",
            "zerolinecolor": "white"
           },
           "zaxis": {
            "backgroundcolor": "#E5ECF6",
            "gridcolor": "white",
            "gridwidth": 2,
            "linecolor": "white",
            "showbackground": true,
            "ticks": "",
            "zerolinecolor": "white"
           }
          },
          "shapedefaults": {
           "line": {
            "color": "#2a3f5f"
           }
          },
          "ternary": {
           "aaxis": {
            "gridcolor": "white",
            "linecolor": "white",
            "ticks": ""
           },
           "baxis": {
            "gridcolor": "white",
            "linecolor": "white",
            "ticks": ""
           },
           "bgcolor": "#E5ECF6",
           "caxis": {
            "gridcolor": "white",
            "linecolor": "white",
            "ticks": ""
           }
          },
          "title": {
           "x": 0.05
          },
          "xaxis": {
           "automargin": true,
           "gridcolor": "white",
           "linecolor": "white",
           "ticks": "",
           "title": {
            "standoff": 15
           },
           "zerolinecolor": "white",
           "zerolinewidth": 2
          },
          "yaxis": {
           "automargin": true,
           "gridcolor": "white",
           "linecolor": "white",
           "ticks": "",
           "title": {
            "standoff": 15
           },
           "zerolinecolor": "white",
           "zerolinewidth": 2
          }
         }
        },
        "title": {
         "text": "FORGE16aApril24BackgroundStage 4.csv",
         "x": 0.5
        },
        "width": 800
       }
      }
     },
     "metadata": {},
     "output_type": "display_data"
    },
    {
     "data": {
      "application/vnd.plotly.v1+json": {
       "config": {
        "plotlyServerURL": "https://plot.ly"
       },
       "data": [
        {
         "hovertemplate": "X Coordinate (m)=%{x}<br>Y Coordinate (m)=%{y}<br>Depth (m)=%{z}<br>size=%{marker.size}<br>Moment Magnitude=%{marker.color}<extra></extra>",
         "legendgroup": "",
         "marker": {
          "color": {
           "bdata": "KVyPwvUovD8pXI/C9SjMPylcj8L1KMw/mpmZmZmZ4T/hehSuR+HaPwAAAAAAAAAAMzMzMzMz07+amZmZmZnhPwrXo3A9Csc/cT0K16Nw5T97FK5H4Xqkv7gehetRuK6/SOF6FK5H0T/D9Shcj8LVP3sUrkfherQ/KVyPwvUovL8K16NwPQq3P+F6FK5H4eo/7FG4HoXr0T/sUbgeheuxP8P1KFyPwsU/7FG4HoXrwT/2KFyPwvXYP8P1KFyPwsU/mpmZmZmZqT+4HoXrUbiuvx+F61G4HuU/exSuR+F6hD+4HoXrUbi+P7gehetRuL4/PQrXo3A92j+amZmZmZm5PwrXo3A9Csc/16NwPQrX4z9mZmZmZmbWP1K4HoXrUci/7FG4HoXrsb/D9Shcj8LVP3sUrkfhesQ/MzMzMzMz0z9SuB6F61HgPzMzMzMzM8M/AAAAAAAAAAAAAAAAAAAAAPYoXI/C9fA/exSuR+F6pD8zMzMzMzPDv3sUrkfherS/FK5H4XoU3j8zMzMzMzPjP8P1KFyPwsW/uB6F61G4vj+kcD0K16PAv9ejcD0K19M/MzMzMzMzw797FK5H4XrUP7gehetRuK4/SOF6FK5H4T+F61G4HoXbPzMzMzMzM8O/rkfhehSu1z/sUbgeheuxPylcj8L1KLy/cT0K16NwzT8K16NwPQrHv3sUrkfheqS/w/UoXI/C5T9xPQrXo3DlPzMzMzMzM9M/AAAAAAAA0D/sUbgeheuxv3sUrkfheqS/j8L1KFyP4j+4HoXrUbiuP1K4HoXrUeA/exSuR+F6hL+4HoXrUbieP7gehetRuOY/AAAAAAAA0L97FK5H4XqEv7gehetRuL4/exSuR+F6tL+amZmZmZnJP3sUrkfheoQ/SOF6FK5H0T/2KFyPwvXoP3sUrkfhesQ/mpmZmZmZub97FK5H4Xq0Pylcj8L1KLw/exSuR+F6pL/Xo3A9CtfTP+xRuB6F67G/exSuR+F65D+4HoXrUbi+P3sUrkfheqS/mpmZmZmZ/T97FK5H4XqkvwAAAAAAAAAAmpmZmZmZqb97FK5H4XrUPx+F61G4HuU/exSuR+F6pL/hehSuR+HaP7gehetRuJ4/UrgehetR2D9xPQrXo3DlP3sUrkfhesS/j8L1KFyP0j+4HoXrUbiuPzMzMzMzM8O/7FG4HoXr0T/Xo3A9CtfTP3sUrkfheqQ/UrgehetR2D/sUbgeheuxP/YoXI/C9eA/9ihcj8L12D+4HoXrUbi+P4XrUbgehds/uB6F61G4rr8fhetRuB7VPylcj8L1KLw/CtejcD0Ktz9SuB6F61HYPylcj8L1KLw/mpmZmZmZ2T8zMzMzMzPTP1K4HoXrUcg/mpmZmZmZqb8K16NwPQq3P7gehetRuN4/pHA9Ctej0D9xPQrXo3DdP4XrUbgehds/mpmZmZmZuT+F61G4HoXrP1K4HoXrUdg/uB6F61G4nr8AAAAAAADQP6RwPQrXo8A/4XoUrkfhyj+amZmZmZnZP2ZmZmZmZuY/CtejcD0K5z+F61G4HoXbP9ejcD0K1+s/MzMzMzMzwz9SuB6F61HgP+xRuB6F67E/exSuR+F65D/sUbgeheuxv3sUrkfheqS/KVyPwvUo5D+amZmZmZm5Px+F61G4HuU/4XoUrkfh2j/hehSuR+HiP5qZmZmZmam/4XoUrkfh6j8pXI/C9SjMP+xRuB6F67E/MzMzMzMz4z9xPQrXo3DdP7gehetRuJ4/UrgehetRyD8K16NwPQq3v3E9CtejcOU/CtejcD0K1z/sUbgehevBP3sUrkfherS/mpmZmZmZqb97FK5H4XqEvylcj8L1KLw/XI/C9Shc3z9mZmZmZmbWP3sUrkfheqQ/exSuR+F6tD9xPQrXo3DdP3sUrkfheqQ/KVyPwvUovD/sUbgeheuxP3sUrkfheqQ/CtejcD0Ktz8=",
           "dtype": "f8"
          },
          "coloraxis": "coloraxis",
          "line": {
           "width": 0
          },
          "opacity": 0.7,
          "size": {
           "bdata": "AQEBAQEBAQEBAQEBAQEBAQEBAQEBAQEBAQEBAQEBAQEBAQEBAQEBAQEBAQEBAQEBAQEBAQEBAQEBAQEBAQEBAQEBAQEBAQEBAQEBAQEBAQEBAQEBAQEBAQEBAQEBAQEBAQEBAQEBAQEBAQEBAQEBAQEBAQEBAQEBAQEBAQEBAQEBAQEBAQEBAQEBAQEBAQEBAQEBAQEBAQEBAQEBAQEBAQEBAQEBAQEBAQEBAQEBAQEBAQEBAQEBAQ==",
           "dtype": "i1"
          },
          "sizemode": "area",
          "sizeref": 0.00510204081632653,
          "symbol": "circle"
         },
         "mode": "markers",
         "name": "",
         "scene": "scene",
         "showlegend": false,
         "type": "scatter3d",
         "x": {
          "bdata": "3gjiCcoIOAneCPIIhAhODPwI1AisCKIImAhMCd4IzgkkCYQIZgguCd4IyggGCawI/Ah6COgI7AmSCQYJBgmYCPwIjgguCegIXAi2CMoIzgkkCZIJEAlwCN4IjgjeCFwItgjACHAImAj8CPwIQgkQCfwIXAiwCXoI/Ai2COgIkglSCPwI1Ai6CcoIxAlCCWoJdAl6CPII6AiYCOgIogi6CZwJEAkGCTgJjgi2CEwJ6Ah0CX4JtghqCaIIogi2CC4JNAgGCWAJ8gjKCPwIQgmwCSAIJAm2CBAJ/AhqCZwJLgnoCCQJnAnACPII6Ag4CYQI1AgGCX4JBglWCcAI3gjeCPIIdAnKCHoI8ggkCSQJ3gimCcoI1AisCPwIfgmsCKII6AhMCfII8gj8CJwJ3gj8CMoI6AiOCIQIrAjACJwJygi2CPIITAkGCfIIVgnOCegIagkQCfII6Aj8CJwJVgk2C1IIPgjUCPwIQgkaCcAIegg=",
          "dtype": "i2"
         },
         "y": {
          "bdata": "vPiC+574svio+MD5hPkUABb54PfG+P73gPii+VL5ZvnU+Xb4MPjq95r3SPlE+Aj4HPgq+fT3/vci/Cb4fPfe+YD9HPhw+Zj5ivhE+GL4oPvk/dj6Yvhw+TD4TvgM+TD4hPmE+az5Evg0+bj3mPlm+U74WPgi/FL52vgg+ZD3aPfA+er3mP5s/Xr5ePss94IAUPY6+ML3jvn0997+/vfI+4T55PgS+F73bPg6+FL5HPis+db3svho99D4hPlm+db3xviG9xr6wvdS/qT3fPcK+079aPf09yD5evlo90z6pPem+hL4QPz4+FT3hvd2+BL4KvlC+sz3wveG9yD55Pia9673cvfM9zD4evl899b3wvcO/Dr49PdE+F73Bvpe9/T3pPdy96T31P4I+Nj6uPcq+fT3hvcc+Dr4mvcm+FAAzPeu93L3dvhe9xj3MPgg+Zr3evmy+Dr4mPmG98769Pw+/oj/yv4S+Ib3wvcI+PT3XPk=",
          "dtype": "i2"
         },
         "z": {
          "bdata": "Vh32GNgdUhzYHbAdNh8aIoweAB6qHkofqh4wG5wdzhhAGg4faB9WHWwgWh5qHSwf+BvmHtgdNh/cGTgdPB64H7IgQB/AHM4dVB94HigenBjsGCgZkh0YHzweqh6IHQQflh6WHnIfGB9uHvYdwBw4HQYdkB88GTYfAB60HgAeCBtUH+wdghmcGKYd9hjEHcYg3B6uH84dnB3cHm4Z0h6mGIogRh7EHd4clh6WHgQaRh58GjYfZB6yG5Yebh5uHgYdCCDsHdYfKB7iGIIexB0UGboiKB5AH6YdiB3uG24Z8hxyHzgdoBlkHm4ejB40HF4fAB5KH1gb9h34G24e7B08Hh4eKhx4HsIfTB1MHcQdAB5QGaoeWh6qHh4ehh/6HiIfRh7GG7odABmwHfYYKB5kHpYebh5oH5ofSh9aHpAaRh4oHhQeUhwyHkAf1h8CITwevCAGHXQdph18Hx4ZFBkcJRAiJCLOHdgdiB1qHbQeaB8=",
          "dtype": "i2"
         }
        }
       ],
       "layout": {
        "coloraxis": {
         "cmax": 1.85,
         "cmin": -1.09,
         "colorbar": {
          "ticklen": 6,
          "tickmode": "array",
          "ticks": "outside",
          "tickvals": [
           -1.09,
           -1,
           -0.5,
           0,
           0.5,
           1,
           1.5,
           1.85
          ],
          "tickwidth": 1,
          "title": {
           "side": "top",
           "text": "Moment Magnitude"
          }
         },
         "colorscale": [
          [
           0,
           "#0d0887"
          ],
          [
           0.1111111111111111,
           "#46039f"
          ],
          [
           0.2222222222222222,
           "#7201a8"
          ],
          [
           0.3333333333333333,
           "#9c179e"
          ],
          [
           0.4444444444444444,
           "#bd3786"
          ],
          [
           0.5555555555555556,
           "#d8576b"
          ],
          [
           0.6666666666666666,
           "#ed7953"
          ],
          [
           0.7777777777777778,
           "#fb9f3a"
          ],
          [
           0.8888888888888888,
           "#fdca26"
          ],
          [
           1,
           "#f0f921"
          ]
         ]
        },
        "height": 600,
        "legend": {
         "itemsizing": "constant",
         "tracegroupgap": 0
        },
        "margin": {
         "b": 40,
         "l": 40,
         "r": 40,
         "t": 40
        },
        "scene": {
         "aspectmode": "cube",
         "camera": {
          "eye": {
           "x": 1.5,
           "y": 1.5,
           "z": 1.5
          }
         },
         "domain": {
          "x": [
           0,
           1
          ],
          "y": [
           0,
           1
          ]
         },
         "xaxis": {
          "range": [
           -3660,
           3890
          ],
          "title": {
           "text": "X Coordinate (m)"
          }
         },
         "yaxis": {
          "range": [
           -5060,
           1180
          ],
          "title": {
           "text": "Y Coordinate (m)"
          }
         },
         "zaxis": {
          "range": [
           9500,
           5580
          ],
          "title": {
           "text": "Depth (m)"
          }
         }
        },
        "template": {
         "data": {
          "bar": [
           {
            "error_x": {
             "color": "#2a3f5f"
            },
            "error_y": {
             "color": "#2a3f5f"
            },
            "marker": {
             "line": {
              "color": "#E5ECF6",
              "width": 0.5
             },
             "pattern": {
              "fillmode": "overlay",
              "size": 10,
              "solidity": 0.2
             }
            },
            "type": "bar"
           }
          ],
          "barpolar": [
           {
            "marker": {
             "line": {
              "color": "#E5ECF6",
              "width": 0.5
             },
             "pattern": {
              "fillmode": "overlay",
              "size": 10,
              "solidity": 0.2
             }
            },
            "type": "barpolar"
           }
          ],
          "carpet": [
           {
            "aaxis": {
             "endlinecolor": "#2a3f5f",
             "gridcolor": "white",
             "linecolor": "white",
             "minorgridcolor": "white",
             "startlinecolor": "#2a3f5f"
            },
            "baxis": {
             "endlinecolor": "#2a3f5f",
             "gridcolor": "white",
             "linecolor": "white",
             "minorgridcolor": "white",
             "startlinecolor": "#2a3f5f"
            },
            "type": "carpet"
           }
          ],
          "choropleth": [
           {
            "colorbar": {
             "outlinewidth": 0,
             "ticks": ""
            },
            "type": "choropleth"
           }
          ],
          "contour": [
           {
            "colorbar": {
             "outlinewidth": 0,
             "ticks": ""
            },
            "colorscale": [
             [
              0,
              "#0d0887"
             ],
             [
              0.1111111111111111,
              "#46039f"
             ],
             [
              0.2222222222222222,
              "#7201a8"
             ],
             [
              0.3333333333333333,
              "#9c179e"
             ],
             [
              0.4444444444444444,
              "#bd3786"
             ],
             [
              0.5555555555555556,
              "#d8576b"
             ],
             [
              0.6666666666666666,
              "#ed7953"
             ],
             [
              0.7777777777777778,
              "#fb9f3a"
             ],
             [
              0.8888888888888888,
              "#fdca26"
             ],
             [
              1,
              "#f0f921"
             ]
            ],
            "type": "contour"
           }
          ],
          "contourcarpet": [
           {
            "colorbar": {
             "outlinewidth": 0,
             "ticks": ""
            },
            "type": "contourcarpet"
           }
          ],
          "heatmap": [
           {
            "colorbar": {
             "outlinewidth": 0,
             "ticks": ""
            },
            "colorscale": [
             [
              0,
              "#0d0887"
             ],
             [
              0.1111111111111111,
              "#46039f"
             ],
             [
              0.2222222222222222,
              "#7201a8"
             ],
             [
              0.3333333333333333,
              "#9c179e"
             ],
             [
              0.4444444444444444,
              "#bd3786"
             ],
             [
              0.5555555555555556,
              "#d8576b"
             ],
             [
              0.6666666666666666,
              "#ed7953"
             ],
             [
              0.7777777777777778,
              "#fb9f3a"
             ],
             [
              0.8888888888888888,
              "#fdca26"
             ],
             [
              1,
              "#f0f921"
             ]
            ],
            "type": "heatmap"
           }
          ],
          "histogram": [
           {
            "marker": {
             "pattern": {
              "fillmode": "overlay",
              "size": 10,
              "solidity": 0.2
             }
            },
            "type": "histogram"
           }
          ],
          "histogram2d": [
           {
            "colorbar": {
             "outlinewidth": 0,
             "ticks": ""
            },
            "colorscale": [
             [
              0,
              "#0d0887"
             ],
             [
              0.1111111111111111,
              "#46039f"
             ],
             [
              0.2222222222222222,
              "#7201a8"
             ],
             [
              0.3333333333333333,
              "#9c179e"
             ],
             [
              0.4444444444444444,
              "#bd3786"
             ],
             [
              0.5555555555555556,
              "#d8576b"
             ],
             [
              0.6666666666666666,
              "#ed7953"
             ],
             [
              0.7777777777777778,
              "#fb9f3a"
             ],
             [
              0.8888888888888888,
              "#fdca26"
             ],
             [
              1,
              "#f0f921"
             ]
            ],
            "type": "histogram2d"
           }
          ],
          "histogram2dcontour": [
           {
            "colorbar": {
             "outlinewidth": 0,
             "ticks": ""
            },
            "colorscale": [
             [
              0,
              "#0d0887"
             ],
             [
              0.1111111111111111,
              "#46039f"
             ],
             [
              0.2222222222222222,
              "#7201a8"
             ],
             [
              0.3333333333333333,
              "#9c179e"
             ],
             [
              0.4444444444444444,
              "#bd3786"
             ],
             [
              0.5555555555555556,
              "#d8576b"
             ],
             [
              0.6666666666666666,
              "#ed7953"
             ],
             [
              0.7777777777777778,
              "#fb9f3a"
             ],
             [
              0.8888888888888888,
              "#fdca26"
             ],
             [
              1,
              "#f0f921"
             ]
            ],
            "type": "histogram2dcontour"
           }
          ],
          "mesh3d": [
           {
            "colorbar": {
             "outlinewidth": 0,
             "ticks": ""
            },
            "type": "mesh3d"
           }
          ],
          "parcoords": [
           {
            "line": {
             "colorbar": {
              "outlinewidth": 0,
              "ticks": ""
             }
            },
            "type": "parcoords"
           }
          ],
          "pie": [
           {
            "automargin": true,
            "type": "pie"
           }
          ],
          "scatter": [
           {
            "fillpattern": {
             "fillmode": "overlay",
             "size": 10,
             "solidity": 0.2
            },
            "type": "scatter"
           }
          ],
          "scatter3d": [
           {
            "line": {
             "colorbar": {
              "outlinewidth": 0,
              "ticks": ""
             }
            },
            "marker": {
             "colorbar": {
              "outlinewidth": 0,
              "ticks": ""
             }
            },
            "type": "scatter3d"
           }
          ],
          "scattercarpet": [
           {
            "marker": {
             "colorbar": {
              "outlinewidth": 0,
              "ticks": ""
             }
            },
            "type": "scattercarpet"
           }
          ],
          "scattergeo": [
           {
            "marker": {
             "colorbar": {
              "outlinewidth": 0,
              "ticks": ""
             }
            },
            "type": "scattergeo"
           }
          ],
          "scattergl": [
           {
            "marker": {
             "colorbar": {
              "outlinewidth": 0,
              "ticks": ""
             }
            },
            "type": "scattergl"
           }
          ],
          "scattermap": [
           {
            "marker": {
             "colorbar": {
              "outlinewidth": 0,
              "ticks": ""
             }
            },
            "type": "scattermap"
           }
          ],
          "scattermapbox": [
           {
            "marker": {
             "colorbar": {
              "outlinewidth": 0,
              "ticks": ""
             }
            },
            "type": "scattermapbox"
           }
          ],
          "scatterpolar": [
           {
            "marker": {
             "colorbar": {
              "outlinewidth": 0,
              "ticks": ""
             }
            },
            "type": "scatterpolar"
           }
          ],
          "scatterpolargl": [
           {
            "marker": {
             "colorbar": {
              "outlinewidth": 0,
              "ticks": ""
             }
            },
            "type": "scatterpolargl"
           }
          ],
          "scatterternary": [
           {
            "marker": {
             "colorbar": {
              "outlinewidth": 0,
              "ticks": ""
             }
            },
            "type": "scatterternary"
           }
          ],
          "surface": [
           {
            "colorbar": {
             "outlinewidth": 0,
             "ticks": ""
            },
            "colorscale": [
             [
              0,
              "#0d0887"
             ],
             [
              0.1111111111111111,
              "#46039f"
             ],
             [
              0.2222222222222222,
              "#7201a8"
             ],
             [
              0.3333333333333333,
              "#9c179e"
             ],
             [
              0.4444444444444444,
              "#bd3786"
             ],
             [
              0.5555555555555556,
              "#d8576b"
             ],
             [
              0.6666666666666666,
              "#ed7953"
             ],
             [
              0.7777777777777778,
              "#fb9f3a"
             ],
             [
              0.8888888888888888,
              "#fdca26"
             ],
             [
              1,
              "#f0f921"
             ]
            ],
            "type": "surface"
           }
          ],
          "table": [
           {
            "cells": {
             "fill": {
              "color": "#EBF0F8"
             },
             "line": {
              "color": "white"
             }
            },
            "header": {
             "fill": {
              "color": "#C8D4E3"
             },
             "line": {
              "color": "white"
             }
            },
            "type": "table"
           }
          ]
         },
         "layout": {
          "annotationdefaults": {
           "arrowcolor": "#2a3f5f",
           "arrowhead": 0,
           "arrowwidth": 1
          },
          "autotypenumbers": "strict",
          "coloraxis": {
           "colorbar": {
            "outlinewidth": 0,
            "ticks": ""
           }
          },
          "colorscale": {
           "diverging": [
            [
             0,
             "#8e0152"
            ],
            [
             0.1,
             "#c51b7d"
            ],
            [
             0.2,
             "#de77ae"
            ],
            [
             0.3,
             "#f1b6da"
            ],
            [
             0.4,
             "#fde0ef"
            ],
            [
             0.5,
             "#f7f7f7"
            ],
            [
             0.6,
             "#e6f5d0"
            ],
            [
             0.7,
             "#b8e186"
            ],
            [
             0.8,
             "#7fbc41"
            ],
            [
             0.9,
             "#4d9221"
            ],
            [
             1,
             "#276419"
            ]
           ],
           "sequential": [
            [
             0,
             "#0d0887"
            ],
            [
             0.1111111111111111,
             "#46039f"
            ],
            [
             0.2222222222222222,
             "#7201a8"
            ],
            [
             0.3333333333333333,
             "#9c179e"
            ],
            [
             0.4444444444444444,
             "#bd3786"
            ],
            [
             0.5555555555555556,
             "#d8576b"
            ],
            [
             0.6666666666666666,
             "#ed7953"
            ],
            [
             0.7777777777777778,
             "#fb9f3a"
            ],
            [
             0.8888888888888888,
             "#fdca26"
            ],
            [
             1,
             "#f0f921"
            ]
           ],
           "sequentialminus": [
            [
             0,
             "#0d0887"
            ],
            [
             0.1111111111111111,
             "#46039f"
            ],
            [
             0.2222222222222222,
             "#7201a8"
            ],
            [
             0.3333333333333333,
             "#9c179e"
            ],
            [
             0.4444444444444444,
             "#bd3786"
            ],
            [
             0.5555555555555556,
             "#d8576b"
            ],
            [
             0.6666666666666666,
             "#ed7953"
            ],
            [
             0.7777777777777778,
             "#fb9f3a"
            ],
            [
             0.8888888888888888,
             "#fdca26"
            ],
            [
             1,
             "#f0f921"
            ]
           ]
          },
          "colorway": [
           "#636efa",
           "#EF553B",
           "#00cc96",
           "#ab63fa",
           "#FFA15A",
           "#19d3f3",
           "#FF6692",
           "#B6E880",
           "#FF97FF",
           "#FECB52"
          ],
          "font": {
           "color": "#2a3f5f"
          },
          "geo": {
           "bgcolor": "white",
           "lakecolor": "white",
           "landcolor": "#E5ECF6",
           "showlakes": true,
           "showland": true,
           "subunitcolor": "white"
          },
          "hoverlabel": {
           "align": "left"
          },
          "hovermode": "closest",
          "mapbox": {
           "style": "light"
          },
          "paper_bgcolor": "white",
          "plot_bgcolor": "#E5ECF6",
          "polar": {
           "angularaxis": {
            "gridcolor": "white",
            "linecolor": "white",
            "ticks": ""
           },
           "bgcolor": "#E5ECF6",
           "radialaxis": {
            "gridcolor": "white",
            "linecolor": "white",
            "ticks": ""
           }
          },
          "scene": {
           "xaxis": {
            "backgroundcolor": "#E5ECF6",
            "gridcolor": "white",
            "gridwidth": 2,
            "linecolor": "white",
            "showbackground": true,
            "ticks": "",
            "zerolinecolor": "white"
           },
           "yaxis": {
            "backgroundcolor": "#E5ECF6",
            "gridcolor": "white",
            "gridwidth": 2,
            "linecolor": "white",
            "showbackground": true,
            "ticks": "",
            "zerolinecolor": "white"
           },
           "zaxis": {
            "backgroundcolor": "#E5ECF6",
            "gridcolor": "white",
            "gridwidth": 2,
            "linecolor": "white",
            "showbackground": true,
            "ticks": "",
            "zerolinecolor": "white"
           }
          },
          "shapedefaults": {
           "line": {
            "color": "#2a3f5f"
           }
          },
          "ternary": {
           "aaxis": {
            "gridcolor": "white",
            "linecolor": "white",
            "ticks": ""
           },
           "baxis": {
            "gridcolor": "white",
            "linecolor": "white",
            "ticks": ""
           },
           "bgcolor": "#E5ECF6",
           "caxis": {
            "gridcolor": "white",
            "linecolor": "white",
            "ticks": ""
           }
          },
          "title": {
           "x": 0.05
          },
          "xaxis": {
           "automargin": true,
           "gridcolor": "white",
           "linecolor": "white",
           "ticks": "",
           "title": {
            "standoff": 15
           },
           "zerolinecolor": "white",
           "zerolinewidth": 2
          },
          "yaxis": {
           "automargin": true,
           "gridcolor": "white",
           "linecolor": "white",
           "ticks": "",
           "title": {
            "standoff": 15
           },
           "zerolinecolor": "white",
           "zerolinewidth": 2
          }
         }
        },
        "title": {
         "text": "FORGE16aApril24BackgroundStage 9C.csv",
         "x": 0.5
        },
        "width": 800
       }
      }
     },
     "metadata": {},
     "output_type": "display_data"
    },
    {
     "name": "stdout",
     "output_type": "stream",
     "text": [
      "  Generated 15/26 plots...\n"
     ]
    },
    {
     "data": {
      "application/vnd.plotly.v1+json": {
       "config": {
        "plotlyServerURL": "https://plot.ly"
       },
       "data": [
        {
         "hovertemplate": "X Coordinate (m)=%{x}<br>Y Coordinate (m)=%{y}<br>Depth (m)=%{z}<br>size=%{marker.size}<br>Moment Magnitude=%{marker.color}<extra></extra>",
         "legendgroup": "",
         "marker": {
          "color": {
           "bdata": "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",
           "dtype": "f8"
          },
          "coloraxis": "coloraxis",
          "line": {
           "width": 0
          },
          "opacity": 0.7,
          "size": {
           "bdata": "AQEBAQEBAQEBAQEBAQEBAQEBAQEBAQEBAQEBAQEBAQEBAQEBAQEBAQEBAQEBAQEBAQEBAQEBAQEBAQEBAQEBAQEBAQEBAQEBAQEBAQEBAQEBAQEBAQEBAQEBAQEBAQEBAQEBAQEBAQEBAQEBAQEBAQEBAQEBAQEBAQEBAQEBAQEBAQEBAQEBAQEBAQEBAQEBAQEBAQEBAQEBAQEBAQEBAQEBAQEBAQEBAQEBAQEBAQEBAQEBAQEBAQEBAQEBAQEBAQEBAQEBAQEBAQEBAQEBAQEBAQEBAQEBAQEBAQEBAQEBAQEBAQE=",
           "dtype": "i1"
          },
          "sizemode": "area",
          "sizeref": 0.00510204081632653,
          "symbol": "circle"
         },
         "mode": "markers",
         "name": "",
         "scene": "scene",
         "showlegend": false,
         "type": "scatter3d",
         "x": {
          "bdata": "VglWCVYJmgt+CVAKOAlMCSYMXgscDGAJaglMCX4JVgnCC84JVglWCegIGgk4CUwJBglWCZIJGgkkCfwIYAlgCRoJagl0CSQJKAouCR4KOAl+CVYJWAy4C0IJzAtgCfwI8ghCCfwIJAkuCWoJLglCCc4JiAl0CUwJFAr8CCQJdAmKDFYJLglgCXQJEAlMCUIJVgmSCX4JdAl0CfIIYAlCCUwJOAlMCRoJdAlMCWAJ/AgGCXAIdAnyCDgJYAmoDIgJYAlWCY4I/AhWCYgJGgmQC1YJ1Aj8DWAJZggGCYgJiAmcCVYJiAmsCH4JYAk4CXQJfgl+CUwJYAl0Cd4IkgnoCLYIkAuSCXQJaglmCEIJdAneCHQJnAl+CQYJYAl+CZIJfglCCUIJBgk4CZIJBgmECGoJGgkwDAYJYAk4CWAJdAkQCXAIiAneCPIIdAnYCc4JlAy2CCQJ8ghMCcQJfgmwCX4JYAkQCVYJTAkkCdQIsAlgCcoIagm2CFYJ/Ah+CYgJkgmYCLYI1Aj8CNQIagmSCWAJOAmmCY4IYAlmCN4IpgmmCWAJGgmmCYgJVglgCQYJAg1+CfwITAmwCWoJsAlqCXQJdAlMCWAJxAkkCQ==",
          "dtype": "i2"
         },
         "y": {
          "bdata": "5vvw+0D8lvuW+wr7DvwY/CT/yPs4/xj80vte/IL7GPwc/Ub7IvyW+8r5DP4s/Gj8RvtA/Lr6oPt8/Ab/jv5a+3L8uPwM/hj8Avle/KL5XvwK+2r/jACc/yz82P82/MD+WP1U/Fr7EP82/Ib8BPxy/C7/gvtQ+8j7FPtc+dj/iPp0/5b7iP8U+zL7CvtU/Db8Xvy0+y76Nvwo+376vvsY/ED8LPy6+qz+Mvua/Kz+tv7W/Lj8mvyE+Rj8BPzSAOz6+vsO/Hj7avoi/Jb7FPtuAEb7Gv9U/Jr8CP3A/pb7APuc+ub7Wvsk+rT7fPzA+Zb7Mvt4+777MvsU+5z6ePuO+Yz7ZAB4+/j9bvuk/JL6yPvW/Bj82Poo+8D5qvtQ+2T7gvuE+cT/GPyG/Dz7nP+I+lr7FPt4ANT53Ps2/Fr7+vtC+sT6zvpw+XD5cP7s+s76ggBS+Y75wPk2/Hb9UPvY+oL7qvuO+Tz7VPyO+SD5sPoO/Jj5ov5c+fb/mPke+3j7fPwG+rb5DPmi+Yj65P2S+rr65vs6/RD63Pv8+Xr5Mvuo/ab6XP5e/Gz9VvqM+4YBuAEi/LT7ov7c+xj8zvq6+tT+Wvsi/Nj/5vui+Q==",
          "dtype": "i2"
         },
         "z": {
          "bdata": "AhxOGwwcFhxsGzgdXBxsG/IcKhzyHEgc4BoMHFgbDBxYG/QfAhwIG0wdBB8gHEgcYB3kGxIbXByYHAYdYhtsG8Ac0BvwGcAcQh00HEwdZhyoG7YcrBykH1IcLB8CHDIeGB96HGodsB2EHNobdhuOHAYdWBt2G/4a+CCSHYQcMBu2HFgbhByKG7IbJB1IHD4cAhyyG4og+BuKG3Qd9BpIHFwcmByYHHgeihsWHBgaUB7QIBQe/hqIHVwcPhxIIWIbAhwqHMIfah2EHEQbEB2QH54bZB5YG+QbCh5GHkQbnhv+GjQcThuMHvQaWBtSHE4bYhtYGxwbdhuKG6YdOhucHeId5h5OG9wZbBsUHqwcCBvyHPgbThueGzgd/hpiG0QbRBvKHKIcthxmHIob5BvcHmIbGh3SHhAd/hpcHFgbAhx+HUofdhumHZId8BmoIFggFiEeHvwcTB1SHMYgYhtsG04b/hokHYobKhy2HDweJhsCHM4d3BkeHnIaQh1iG0QbeBnSHjweFB44Hbodch+GGmgaEhukGvAe9BosHzweMBuQGsYgoB6WGdIZUhxOGxAdrh/QGx4ehh++GRYcdhtyGvoZgBtIHKQalhmYHA==",
          "dtype": "i2"
         }
        }
       ],
       "layout": {
        "coloraxis": {
         "cmax": 1.85,
         "cmin": -1.09,
         "colorbar": {
          "ticklen": 6,
          "tickmode": "array",
          "ticks": "outside",
          "tickvals": [
           -1.09,
           -1,
           -0.5,
           0,
           0.5,
           1,
           1.5,
           1.85
          ],
          "tickwidth": 1,
          "title": {
           "side": "top",
           "text": "Moment Magnitude"
          }
         },
         "colorscale": [
          [
           0,
           "#0d0887"
          ],
          [
           0.1111111111111111,
           "#46039f"
          ],
          [
           0.2222222222222222,
           "#7201a8"
          ],
          [
           0.3333333333333333,
           "#9c179e"
          ],
          [
           0.4444444444444444,
           "#bd3786"
          ],
          [
           0.5555555555555556,
           "#d8576b"
          ],
          [
           0.6666666666666666,
           "#ed7953"
          ],
          [
           0.7777777777777778,
           "#fb9f3a"
          ],
          [
           0.8888888888888888,
           "#fdca26"
          ],
          [
           1,
           "#f0f921"
          ]
         ]
        },
        "height": 600,
        "legend": {
         "itemsizing": "constant",
         "tracegroupgap": 0
        },
        "margin": {
         "b": 40,
         "l": 40,
         "r": 40,
         "t": 40
        },
        "scene": {
         "aspectmode": "cube",
         "camera": {
          "eye": {
           "x": 1.5,
           "y": 1.5,
           "z": 1.5
          }
         },
         "domain": {
          "x": [
           0,
           1
          ],
          "y": [
           0,
           1
          ]
         },
         "xaxis": {
          "range": [
           -3660,
           3890
          ],
          "title": {
           "text": "X Coordinate (m)"
          }
         },
         "yaxis": {
          "range": [
           -5060,
           1180
          ],
          "title": {
           "text": "Y Coordinate (m)"
          }
         },
         "zaxis": {
          "range": [
           9500,
           5580
          ],
          "title": {
           "text": "Depth (m)"
          }
         }
        },
        "template": {
         "data": {
          "bar": [
           {
            "error_x": {
             "color": "#2a3f5f"
            },
            "error_y": {
             "color": "#2a3f5f"
            },
            "marker": {
             "line": {
              "color": "#E5ECF6",
              "width": 0.5
             },
             "pattern": {
              "fillmode": "overlay",
              "size": 10,
              "solidity": 0.2
             }
            },
            "type": "bar"
           }
          ],
          "barpolar": [
           {
            "marker": {
             "line": {
              "color": "#E5ECF6",
              "width": 0.5
             },
             "pattern": {
              "fillmode": "overlay",
              "size": 10,
              "solidity": 0.2
             }
            },
            "type": "barpolar"
           }
          ],
          "carpet": [
           {
            "aaxis": {
             "endlinecolor": "#2a3f5f",
             "gridcolor": "white",
             "linecolor": "white",
             "minorgridcolor": "white",
             "startlinecolor": "#2a3f5f"
            },
            "baxis": {
             "endlinecolor": "#2a3f5f",
             "gridcolor": "white",
             "linecolor": "white",
             "minorgridcolor": "white",
             "startlinecolor": "#2a3f5f"
            },
            "type": "carpet"
           }
          ],
          "choropleth": [
           {
            "colorbar": {
             "outlinewidth": 0,
             "ticks": ""
            },
            "type": "choropleth"
           }
          ],
          "contour": [
           {
            "colorbar": {
             "outlinewidth": 0,
             "ticks": ""
            },
            "colorscale": [
             [
              0,
              "#0d0887"
             ],
             [
              0.1111111111111111,
              "#46039f"
             ],
             [
              0.2222222222222222,
              "#7201a8"
             ],
             [
              0.3333333333333333,
              "#9c179e"
             ],
             [
              0.4444444444444444,
              "#bd3786"
             ],
             [
              0.5555555555555556,
              "#d8576b"
             ],
             [
              0.6666666666666666,
              "#ed7953"
             ],
             [
              0.7777777777777778,
              "#fb9f3a"
             ],
             [
              0.8888888888888888,
              "#fdca26"
             ],
             [
              1,
              "#f0f921"
             ]
            ],
            "type": "contour"
           }
          ],
          "contourcarpet": [
           {
            "colorbar": {
             "outlinewidth": 0,
             "ticks": ""
            },
            "type": "contourcarpet"
           }
          ],
          "heatmap": [
           {
            "colorbar": {
             "outlinewidth": 0,
             "ticks": ""
            },
            "colorscale": [
             [
              0,
              "#0d0887"
             ],
             [
              0.1111111111111111,
              "#46039f"
             ],
             [
              0.2222222222222222,
              "#7201a8"
             ],
             [
              0.3333333333333333,
              "#9c179e"
             ],
             [
              0.4444444444444444,
              "#bd3786"
             ],
             [
              0.5555555555555556,
              "#d8576b"
             ],
             [
              0.6666666666666666,
              "#ed7953"
             ],
             [
              0.7777777777777778,
              "#fb9f3a"
             ],
             [
              0.8888888888888888,
              "#fdca26"
             ],
             [
              1,
              "#f0f921"
             ]
            ],
            "type": "heatmap"
           }
          ],
          "histogram": [
           {
            "marker": {
             "pattern": {
              "fillmode": "overlay",
              "size": 10,
              "solidity": 0.2
             }
            },
            "type": "histogram"
           }
          ],
          "histogram2d": [
           {
            "colorbar": {
             "outlinewidth": 0,
             "ticks": ""
            },
            "colorscale": [
             [
              0,
              "#0d0887"
             ],
             [
              0.1111111111111111,
              "#46039f"
             ],
             [
              0.2222222222222222,
              "#7201a8"
             ],
             [
              0.3333333333333333,
              "#9c179e"
             ],
             [
              0.4444444444444444,
              "#bd3786"
             ],
             [
              0.5555555555555556,
              "#d8576b"
             ],
             [
              0.6666666666666666,
              "#ed7953"
             ],
             [
              0.7777777777777778,
              "#fb9f3a"
             ],
             [
              0.8888888888888888,
              "#fdca26"
             ],
             [
              1,
              "#f0f921"
             ]
            ],
            "type": "histogram2d"
           }
          ],
          "histogram2dcontour": [
           {
            "colorbar": {
             "outlinewidth": 0,
             "ticks": ""
            },
            "colorscale": [
             [
              0,
              "#0d0887"
             ],
             [
              0.1111111111111111,
              "#46039f"
             ],
             [
              0.2222222222222222,
              "#7201a8"
             ],
             [
              0.3333333333333333,
              "#9c179e"
             ],
             [
              0.4444444444444444,
              "#bd3786"
             ],
             [
              0.5555555555555556,
              "#d8576b"
             ],
             [
              0.6666666666666666,
              "#ed7953"
             ],
             [
              0.7777777777777778,
              "#fb9f3a"
             ],
             [
              0.8888888888888888,
              "#fdca26"
             ],
             [
              1,
              "#f0f921"
             ]
            ],
            "type": "histogram2dcontour"
           }
          ],
          "mesh3d": [
           {
            "colorbar": {
             "outlinewidth": 0,
             "ticks": ""
            },
            "type": "mesh3d"
           }
          ],
          "parcoords": [
           {
            "line": {
             "colorbar": {
              "outlinewidth": 0,
              "ticks": ""
             }
            },
            "type": "parcoords"
           }
          ],
          "pie": [
           {
            "automargin": true,
            "type": "pie"
           }
          ],
          "scatter": [
           {
            "fillpattern": {
             "fillmode": "overlay",
             "size": 10,
             "solidity": 0.2
            },
            "type": "scatter"
           }
          ],
          "scatter3d": [
           {
            "line": {
             "colorbar": {
              "outlinewidth": 0,
              "ticks": ""
             }
            },
            "marker": {
             "colorbar": {
              "outlinewidth": 0,
              "ticks": ""
             }
            },
            "type": "scatter3d"
           }
          ],
          "scattercarpet": [
           {
            "marker": {
             "colorbar": {
              "outlinewidth": 0,
              "ticks": ""
             }
            },
            "type": "scattercarpet"
           }
          ],
          "scattergeo": [
           {
            "marker": {
             "colorbar": {
              "outlinewidth": 0,
              "ticks": ""
             }
            },
            "type": "scattergeo"
           }
          ],
          "scattergl": [
           {
            "marker": {
             "colorbar": {
              "outlinewidth": 0,
              "ticks": ""
             }
            },
            "type": "scattergl"
           }
          ],
          "scattermap": [
           {
            "marker": {
             "colorbar": {
              "outlinewidth": 0,
              "ticks": ""
             }
            },
            "type": "scattermap"
           }
          ],
          "scattermapbox": [
           {
            "marker": {
             "colorbar": {
              "outlinewidth": 0,
              "ticks": ""
             }
            },
            "type": "scattermapbox"
           }
          ],
          "scatterpolar": [
           {
            "marker": {
             "colorbar": {
              "outlinewidth": 0,
              "ticks": ""
             }
            },
            "type": "scatterpolar"
           }
          ],
          "scatterpolargl": [
           {
            "marker": {
             "colorbar": {
              "outlinewidth": 0,
              "ticks": ""
             }
            },
            "type": "scatterpolargl"
           }
          ],
          "scatterternary": [
           {
            "marker": {
             "colorbar": {
              "outlinewidth": 0,
              "ticks": ""
             }
            },
            "type": "scatterternary"
           }
          ],
          "surface": [
           {
            "colorbar": {
             "outlinewidth": 0,
             "ticks": ""
            },
            "colorscale": [
             [
              0,
              "#0d0887"
             ],
             [
              0.1111111111111111,
              "#46039f"
             ],
             [
              0.2222222222222222,
              "#7201a8"
             ],
             [
              0.3333333333333333,
              "#9c179e"
             ],
             [
              0.4444444444444444,
              "#bd3786"
             ],
             [
              0.5555555555555556,
              "#d8576b"
             ],
             [
              0.6666666666666666,
              "#ed7953"
             ],
             [
              0.7777777777777778,
              "#fb9f3a"
             ],
             [
              0.8888888888888888,
              "#fdca26"
             ],
             [
              1,
              "#f0f921"
             ]
            ],
            "type": "surface"
           }
          ],
          "table": [
           {
            "cells": {
             "fill": {
              "color": "#EBF0F8"
             },
             "line": {
              "color": "white"
             }
            },
            "header": {
             "fill": {
              "color": "#C8D4E3"
             },
             "line": {
              "color": "white"
             }
            },
            "type": "table"
           }
          ]
         },
         "layout": {
          "annotationdefaults": {
           "arrowcolor": "#2a3f5f",
           "arrowhead": 0,
           "arrowwidth": 1
          },
          "autotypenumbers": "strict",
          "coloraxis": {
           "colorbar": {
            "outlinewidth": 0,
            "ticks": ""
           }
          },
          "colorscale": {
           "diverging": [
            [
             0,
             "#8e0152"
            ],
            [
             0.1,
             "#c51b7d"
            ],
            [
             0.2,
             "#de77ae"
            ],
            [
             0.3,
             "#f1b6da"
            ],
            [
             0.4,
             "#fde0ef"
            ],
            [
             0.5,
             "#f7f7f7"
            ],
            [
             0.6,
             "#e6f5d0"
            ],
            [
             0.7,
             "#b8e186"
            ],
            [
             0.8,
             "#7fbc41"
            ],
            [
             0.9,
             "#4d9221"
            ],
            [
             1,
             "#276419"
            ]
           ],
           "sequential": [
            [
             0,
             "#0d0887"
            ],
            [
             0.1111111111111111,
             "#46039f"
            ],
            [
             0.2222222222222222,
             "#7201a8"
            ],
            [
             0.3333333333333333,
             "#9c179e"
            ],
            [
             0.4444444444444444,
             "#bd3786"
            ],
            [
             0.5555555555555556,
             "#d8576b"
            ],
            [
             0.6666666666666666,
             "#ed7953"
            ],
            [
             0.7777777777777778,
             "#fb9f3a"
            ],
            [
             0.8888888888888888,
             "#fdca26"
            ],
            [
             1,
             "#f0f921"
            ]
           ],
           "sequentialminus": [
            [
             0,
             "#0d0887"
            ],
            [
             0.1111111111111111,
             "#46039f"
            ],
            [
             0.2222222222222222,
             "#7201a8"
            ],
            [
             0.3333333333333333,
             "#9c179e"
            ],
            [
             0.4444444444444444,
             "#bd3786"
            ],
            [
             0.5555555555555556,
             "#d8576b"
            ],
            [
             0.6666666666666666,
             "#ed7953"
            ],
            [
             0.7777777777777778,
             "#fb9f3a"
            ],
            [
             0.8888888888888888,
             "#fdca26"
            ],
            [
             1,
             "#f0f921"
            ]
           ]
          },
          "colorway": [
           "#636efa",
           "#EF553B",
           "#00cc96",
           "#ab63fa",
           "#FFA15A",
           "#19d3f3",
           "#FF6692",
           "#B6E880",
           "#FF97FF",
           "#FECB52"
          ],
          "font": {
           "color": "#2a3f5f"
          },
          "geo": {
           "bgcolor": "white",
           "lakecolor": "white",
           "landcolor": "#E5ECF6",
           "showlakes": true,
           "showland": true,
           "subunitcolor": "white"
          },
          "hoverlabel": {
           "align": "left"
          },
          "hovermode": "closest",
          "mapbox": {
           "style": "light"
          },
          "paper_bgcolor": "white",
          "plot_bgcolor": "#E5ECF6",
          "polar": {
           "angularaxis": {
            "gridcolor": "white",
            "linecolor": "white",
            "ticks": ""
           },
           "bgcolor": "#E5ECF6",
           "radialaxis": {
            "gridcolor": "white",
            "linecolor": "white",
            "ticks": ""
           }
          },
          "scene": {
           "xaxis": {
            "backgroundcolor": "#E5ECF6",
            "gridcolor": "white",
            "gridwidth": 2,
            "linecolor": "white",
            "showbackground": true,
            "ticks": "",
            "zerolinecolor": "white"
           },
           "yaxis": {
            "backgroundcolor": "#E5ECF6",
            "gridcolor": "white",
            "gridwidth": 2,
            "linecolor": "white",
            "showbackground": true,
            "ticks": "",
            "zerolinecolor": "white"
           },
           "zaxis": {
            "backgroundcolor": "#E5ECF6",
            "gridcolor": "white",
            "gridwidth": 2,
            "linecolor": "white",
            "showbackground": true,
            "ticks": "",
            "zerolinecolor": "white"
           }
          },
          "shapedefaults": {
           "line": {
            "color": "#2a3f5f"
           }
          },
          "ternary": {
           "aaxis": {
            "gridcolor": "white",
            "linecolor": "white",
            "ticks": ""
           },
           "baxis": {
            "gridcolor": "white",
            "linecolor": "white",
            "ticks": ""
           },
           "bgcolor": "#E5ECF6",
           "caxis": {
            "gridcolor": "white",
            "linecolor": "white",
            "ticks": ""
           }
          },
          "title": {
           "x": 0.05
          },
          "xaxis": {
           "automargin": true,
           "gridcolor": "white",
           "linecolor": "white",
           "ticks": "",
           "title": {
            "standoff": 15
           },
           "zerolinecolor": "white",
           "zerolinewidth": 2
          },
          "yaxis": {
           "automargin": true,
           "gridcolor": "white",
           "linecolor": "white",
           "ticks": "",
           "title": {
            "standoff": 15
           },
           "zerolinecolor": "white",
           "zerolinewidth": 2
          }
         }
        },
        "title": {
         "text": "FORGE16aApril24BackgroundStage 9.csv",
         "x": 0.5
        },
        "width": 800
       }
      }
     },
     "metadata": {},
     "output_type": "display_data"
    },
    {
     "data": {
      "application/vnd.plotly.v1+json": {
       "config": {
        "plotlyServerURL": "https://plot.ly"
       },
       "data": [
        {
         "hovertemplate": "X Coordinate (m)=%{x}<br>Y Coordinate (m)=%{y}<br>Depth (m)=%{z}<br>size=%{marker.size}<br>Moment Magnitude=%{marker.color}<extra></extra>",
         "legendgroup": "",
         "marker": {
          "color": {
           "bdata": "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",
           "dtype": "f8"
          },
          "coloraxis": "coloraxis",
          "line": {
           "width": 0
          },
          "opacity": 0.7,
          "size": {
           "bdata": "AQEBAQEBAQEBAQEBAQEBAQEBAQEBAQEBAQEBAQEBAQEBAQEBAQEBAQEBAQEBAQEBAQEBAQEBAQEBAQEBAQEBAQEBAQEBAQEBAQEBAQEBAQEBAQEBAQEBAQEBAQEBAQEBAQEBAQEBAQEBAQEBAQEBAQEBAQEBAQEBAQEBAQEBAQEBAQEBAQEBAQEBAQEBAQEBAQEBAQEBAQEBAQEBAQEBAQEBAQEBAQEBAQEBAQEBAQEBAQEBAQEBAQEBAQEBAQEBAQEBAQEBAQEBAQEBAQEBAQEBAQEBAQEBAQEBAQEBAQEBAQEBAQEBAQEBAQEBAQEBAQEBAQEBAQEBAQEBAQEBAQEBAQEBAQEBAQEBAQEBAQEBAQEBAQEBAQEBAQEBAQEBAQEBAQEBAQEBAQEBAQEBAQEBAQEBAQEBAQEBAQEBAQEBAQEBAQEBAQEBAQEBAQEBAQEBAQEBAQEBAQEBAQEBAQEBAQEBAQEBAQEBAQEBAQEBAQEBAQEBAQEBAQEBAQEBAQEBAQEBAQEBAQEBAQEBAQEBAQEBAQEBAQEBAQEBAQEBAQEBAQEBAQEBAQEBAQEBAQEBAQEBAQEBAQEBAQEBAQEBAQEBAQEBAQEBAQEBAQEBAQEBAQEBAQEBAQEBAQEBAQEBAQEBAQEBAQEBAQEBAQEBAQEBAQEBAQEBAQEBAQEBAQEBAQEBAQEBAQEBAQEBAQEBAQEBAQEBAQEBAQEBAQEBAQEBAQEBAQEBAQEBAQEBAQEBAQEBAQEBAQEBAQEBAQEBAQEBAQE=",
           "dtype": "i1"
          },
          "sizemode": "area",
          "sizeref": 0.00510204081632653,
          "symbol": "circle"
         },
         "mode": "markers",
         "name": "",
         "scene": "scene",
         "showlegend": false,
         "type": "scatter3d",
         "x": {
          "bdata": "lAxoC9AMrgtYDDoMqAz0C7IMbAwGDtoM0AzqC+4Msgx2DG4KYgxEDNYLJgzWC/4L4AskCfIIxgwoCvwI3gj0C9QIHAyADAYJ6gt8C6wIrAhUC9QIBgkmDBoJ8gi2CN4IBgnKCOgIXgvyCN4IBgkwDCQJ5AwkCS4JBgn8CAYJOgw4CawI3gjyCBAJBAu2CN4IxgzyCPII8gi8DJ4M6AjyCEgN/gvUCC4J/AgaCRAJYgzgC04MCAxgCVgMHAyQC8AIOAkQCRAJ6AiQCwYJ4AvmChAJpAvMCzgJhgs4CQYJJAkaCQQL/AjMCyQJJAkaCegILgneCN4IJAkGCRoJJAnyCPAKCgo4CfwIEAn8COgIBgnqCzAM6AgkCRoJJAkkCRoJ1Ag4Cd4IGgnaDMoIGgn8CIoM/Ai0CugIfAtgCRAJuAtgCaIIGgkcDN4IEAkuCcwLOAmKDCQJ8gjwCugILgn6ChQKqAz8CKwIjAoGCfwI/AisCLgLJAkQCVYJaAsQCSQJOAmUDCQJOAlCCVQLdAlKC5QM6gvWC9gJ5Az+C/wIJAkmDEIJJAkACvII1AgQCZgIcguQCy4JSgsYCzgJ4AsuCS4JGgn6CiQJGgmuC9YLGglgCUQMLglCCRAJOAniCTgJGgkQCewJDgu8DKQLVgkkCTgJQgl8C4IK5gokCRoJ/Ah6CBIMjAq8DDgJcgtoCy4JJAn8CCQJ8ApoC0wJQgmGCy4J9As4CWoJVgkcDDgJ9AsuCYIKEgxCCbgLygi0CiYMSguEDSwLDA1MCcwLfgn8CCQJOAmqCkwJ9AvGDH4JJAkkCWAJJAnmCiQJMgrWC/QLLgneCCQJEgxGCkALPAo4CZ4MTgxMCRAJcgs4CRAJmgsOC0IJLgkkCWgLJAmkC2oJYAlUC14LdgxCCegILgkkCRoJQglKC8QJ/AiQC/IIdAkQCQYJdAmkC8wLEgzyCPYJVgmyDBoJIgv+CwQLOAkQCWgL3ApACyQJVgkGCSQJXgteC3QJfgkkCVYJ+grSCmAJEAlgCXgKQAtUC0IJQgkmDEwJRAwkCRIM/Ag2C3ILfgl0CRAJEAkaCUwJagloC2gLTAn8CIYLmgskCRIMUApuChAJzglMCX4JJAkGCeoLGgnqC+ALTAloC3wLJAk4CZALXgt8CyYMaAs4CRAJ9AvYCRQK/AguCcoIVgnaDPoKYAmSCboJVgkaCUoL7AnECSgKugkwDOwJMAxAC8wLaAtMCc4JdgwkCSQJYAl2DCQJLglqCTAMWAxiDEwJ/gtCCSwLVgl0CeALTAkYC1YJfAuADDgJKAr8CHwLJAmGC8QJkAsGCbYIwgv8CEwJvAyaCzQNwgvoCCQJWAz0C/IIJAlMCaQLbAwuCWoJ/gskCUALJgwkCfwI6AhsDKQLSguGC2gLOAlgCUwJkAt+CUIJOAkmDBIMJAl8C1YJAAoaCVgMbAxMCcILCgquCyYM6AhMCbAJzgn+C4gJXgtKC+IJdAloC6IIYAkaCdQIMAwuCVYJTAlqCTgJCAyKDFYJvAwaCWAJ8gh0CVgMkglODLoJfgkGCQ==",
          "dtype": "i2"
         },
         "y": {
          "bdata": "9AFq+qoAnv2WAJYAbgBM/xICeABiAk4C0gDs/4wAZABGAFz5tACO/uL/OP/E/3T/9PzS+6T8YgKC+/r7yPuc/7T7YP9q/678FABM/2j8GPwk/+b7wvx4AJr8ePsY/PD7rvxy/AT8Vv/6+7T7kPxM/9b8qgBK/K78uPzc++b7ggA0/hj8vvsY/Db8GPy0+8j7tAC0+wT8ePuCAJb7Rvt8/Ez6Dvwi/Hz8yPvS+5r8oABQADwAHgCi/mQAaPxu+/r7MP1y/Hz85vvU/sj7EP8g/oz7ov64/Gj8Uv5e/Db8pPzg/CD+5vua/Hr++vve/mT7qP14+9L79PyW+8z8mvzo/o750vts/dL7kPxG+/b68Pv8/jwAUv7K/sz8aPwY/Iz7PPvK/rj8GPyc//r7hvyQ/Ij/8v6Y/lz+Qv/U/tL7QPyi/mz9cvwc/ez6GPyu/Or8pPwKAF78zPwO/N7+5vvU/lr7WgCQ/Fr7Cvtk+1L+5vta+2r/Dvxe/K78jv6u/Bj83PtGAKT8ZPv8/or94Pwa/6AA3ABuAOb7avr2/yj78v70/Hj73Puq+5D8APuW+4L7yv5e/HL8IP5M/8j7yv7m+1T83PsG/4z7oPu2/pD8BPyu/ED8fPxk+xT7tPt0+gT8KPso+2D6Lv/0AYwAGPy0+1r7mvz2/2r6Bv8o+1T8qvuo/f78APvSAGz9Qv8AAMj7aPwA+/r7SP4eAOb7DvxQ+1T8Jv2g+97+ePt2/cj7iP9u+yj7OP8Y/H7/7Pr2+mz9SP76ACr5jACC+97+3PtW/+b7yPtW+vj9qgCMAKD7FPsK+6r7cvwk/9L7UPv0/K78IvwU+3j7dv0K+0z/iviq+6QBCP2o/XL8tPu0+8z8yv7A/lb/GPzw+/b/Vv9c/vD7jPv2/x4AqP1G+7r6lP1U/B77MvtW/975/P4UAJz65vto/Er80vvo/sj7MP0U+4z7lvtQANL7ZAAUAPz+oPsU+37/Fv5M/3L8Dvw2/Gj87P/i//b6+vse+/r7cP66+tz72PoE/IL7AAAa/777mvzq/LT7Bv/m++79JP9C/9IAjPta+8T6KPu6/5j+jPte/Cr+CvtM+twA7P9y/Fj9vP1g+ij7wPnS+8j75vsK+6b/SvxGAIb8Wvvs/+z/KPv2+mD/2P8UAAAAZAA2/BT7OP+0+y76FPuo/X76BPygACT/DvzS+4759voU+x4AJPok+h77Gvru/Yj6WgBC/3D+9v/6+5b7rgHs+lT8lvu2/uz6MvvS+6j9MP2o/Sr+Yv3w+9T+kPxu+/T8MvtGAFj94v/WAUD8UPsu/wAANvzm+9T5vP1W/376AAAy+xT7ggB0/24AwP50+tL7UADM/EL6Lvqw+t7+0P3s+qD7Gv9K/BT7lP1e/Ar7Lvqy/fb/CgDO/+z/GPwY/AD7ZADc+8b9WP30/PT8GPz2/5b7jvn8/hL9RP1o/Lj8kvp+/wj9Cvvm+7T7Vvpg/xT79v8AAKL5VPx0/3760vte/Ij66vxe/DL78Pv6+4r9av+A/e791gEe+zL7YPrS+579Cvvq/N750vtC+g==",
          "dtype": "i2"
         },
         "z": {
          "bdata": "rCEYH0YeNBwkIioh5h5WHQIhqh58HzQhRCBwIeYePB60HhIgVB+6Hcoh/BzUIWodPhzyHPIc/h/YHWodfh24H7odSh+0HtQcSCH2HW4eKB6QH9gd1Bx8H6wckh0yHmAdwBw4HYgdUB6IHbodyhziHaIcQB+EHIQcwBxWHUwduB8yHjweph1gHd4cdB0eHrAdPB5MHXQdnB26HZ4bph3UHAAeYhviHY4cOB0kHaIc0h5KH4weLB+IHfAeah3oHOId2hvKHJgcph3EHS4dfh2qHkIdCh6AG1wcjB5wHBodehwqHIweOB1sG34drBx6HLAdxhvYHc4d7hsuHSAchBzUHA4fFB7GGy4drBx+HaYdOB0uHeYexB1cHAwcKhyOHC4d9h0gHOgcyhwgIQAemBysHIYfJB3cHqoeeB5CHTgduh2IHSwfehwgHM4d8hxmHOgcUhzcHpgcyhx0HaYdohzmHm4eMh7eHB4esiCIHZId1BxGHgIhehyYHBYcMh4+HKIcjhyoII4cwBxgHVwc0Bu0HvAeNh9eH0Yebh4IIDgduh1cHI4cyhxGHgYd7B38HIIeyiFmHAwc0h6qHo4cHh6iHPgbohz6HrYc8hwKHtQcrBwMHGAd+BuYHPwcyhw6IHoc1BwaHdYfvh5SITIeSByEHKIc+Bs8Hv4fvh7UHKwcah3gH3ocBB/SHhwbaB88HoQcDBxMHYQc+h5uHj4cSBw0HCocSBxwHIgdZhxIHLYcah3UHHwfEB2EHM4dzh26HQIceB5kHtweiB22HNgd7hu+HqIcUhy4H+oaQiIyHkgc/BzAHHAcehzwHqwcWh46G2IbZhzOHbYc2ht8H74e/h+EHMwfQh3CGgwc7B0GHXAcYB3mHjgdSBysHFoeLh1aHgIcKhyMHpYe0BtIHNgdOhs+HNQcohy+HhQebh7iHcQd7husHLYcAhzYHaYdOhs4HVAeehzWH6wctB7qH7QethzyHMQdtB54HgwcIBzoHDQcWh5QHlwc7hveHGYcRh5yHz4cLh34GyYggh6mHawcAhzAHCActhyiHCocEB2CHmQe+BsgHC4dBh3oHHYbUhx6HGQemBx0HZYe4h0+HDQcOCL0HxodAB4gHPgbwBx0HZQgohy2IWIbUhxQHkYe1BzUHDweeB4yHgIhRh6EHN4cph0CIf4fQh0mG9gdUhx2IPAePhzQGzwejhwQHYIe4h06IMYgbCCcHXYgICGgHrodeB5YG1IhPiEkHSocehzsHegc8hwCHPgb5BsCHLgaSByOHE4gSBwqHOgcohxuHk4bRh4MIQwcqh4kHXgerBxmHAoegh5IHFAe9h04HcAcxiBQHoIenB26Hawc5CBiG7AdLh2sHMQdAhwQHVIcQh2YHPIcNBw+HCQd2B0CHB4elh5kHlAecBwgHKwcSCHkG64aCBuiHJgcohweHo4csB2IHSocKhzQGzobzh08HoQcsB1wHAwhbCBCHWIblh6CHqYd7hs8HoweAhyiHOIdwBwWHHocZhz4GxwbTB3GG5oa1h/8HHociB34G+4bWBsWHCge7huIHQ==",
          "dtype": "i2"
         }
        }
       ],
       "layout": {
        "coloraxis": {
         "cmax": 1.85,
         "cmin": -1.09,
         "colorbar": {
          "ticklen": 6,
          "tickmode": "array",
          "ticks": "outside",
          "tickvals": [
           -1.09,
           -1,
           -0.5,
           0,
           0.5,
           1,
           1.5,
           1.85
          ],
          "tickwidth": 1,
          "title": {
           "side": "top",
           "text": "Moment Magnitude"
          }
         },
         "colorscale": [
          [
           0,
           "#0d0887"
          ],
          [
           0.1111111111111111,
           "#46039f"
          ],
          [
           0.2222222222222222,
           "#7201a8"
          ],
          [
           0.3333333333333333,
           "#9c179e"
          ],
          [
           0.4444444444444444,
           "#bd3786"
          ],
          [
           0.5555555555555556,
           "#d8576b"
          ],
          [
           0.6666666666666666,
           "#ed7953"
          ],
          [
           0.7777777777777778,
           "#fb9f3a"
          ],
          [
           0.8888888888888888,
           "#fdca26"
          ],
          [
           1,
           "#f0f921"
          ]
         ]
        },
        "height": 600,
        "legend": {
         "itemsizing": "constant",
         "tracegroupgap": 0
        },
        "margin": {
         "b": 40,
         "l": 40,
         "r": 40,
         "t": 40
        },
        "scene": {
         "aspectmode": "cube",
         "camera": {
          "eye": {
           "x": 1.5,
           "y": 1.5,
           "z": 1.5
          }
         },
         "domain": {
          "x": [
           0,
           1
          ],
          "y": [
           0,
           1
          ]
         },
         "xaxis": {
          "range": [
           -3660,
           3890
          ],
          "title": {
           "text": "X Coordinate (m)"
          }
         },
         "yaxis": {
          "range": [
           -5060,
           1180
          ],
          "title": {
           "text": "Y Coordinate (m)"
          }
         },
         "zaxis": {
          "range": [
           9500,
           5580
          ],
          "title": {
           "text": "Depth (m)"
          }
         }
        },
        "template": {
         "data": {
          "bar": [
           {
            "error_x": {
             "color": "#2a3f5f"
            },
            "error_y": {
             "color": "#2a3f5f"
            },
            "marker": {
             "line": {
              "color": "#E5ECF6",
              "width": 0.5
             },
             "pattern": {
              "fillmode": "overlay",
              "size": 10,
              "solidity": 0.2
             }
            },
            "type": "bar"
           }
          ],
          "barpolar": [
           {
            "marker": {
             "line": {
              "color": "#E5ECF6",
              "width": 0.5
             },
             "pattern": {
              "fillmode": "overlay",
              "size": 10,
              "solidity": 0.2
             }
            },
            "type": "barpolar"
           }
          ],
          "carpet": [
           {
            "aaxis": {
             "endlinecolor": "#2a3f5f",
             "gridcolor": "white",
             "linecolor": "white",
             "minorgridcolor": "white",
             "startlinecolor": "#2a3f5f"
            },
            "baxis": {
             "endlinecolor": "#2a3f5f",
             "gridcolor": "white",
             "linecolor": "white",
             "minorgridcolor": "white",
             "startlinecolor": "#2a3f5f"
            },
            "type": "carpet"
           }
          ],
          "choropleth": [
           {
            "colorbar": {
             "outlinewidth": 0,
             "ticks": ""
            },
            "type": "choropleth"
           }
          ],
          "contour": [
           {
            "colorbar": {
             "outlinewidth": 0,
             "ticks": ""
            },
            "colorscale": [
             [
              0,
              "#0d0887"
             ],
             [
              0.1111111111111111,
              "#46039f"
             ],
             [
              0.2222222222222222,
              "#7201a8"
             ],
             [
              0.3333333333333333,
              "#9c179e"
             ],
             [
              0.4444444444444444,
              "#bd3786"
             ],
             [
              0.5555555555555556,
              "#d8576b"
             ],
             [
              0.6666666666666666,
              "#ed7953"
             ],
             [
              0.7777777777777778,
              "#fb9f3a"
             ],
             [
              0.8888888888888888,
              "#fdca26"
             ],
             [
              1,
              "#f0f921"
             ]
            ],
            "type": "contour"
           }
          ],
          "contourcarpet": [
           {
            "colorbar": {
             "outlinewidth": 0,
             "ticks": ""
            },
            "type": "contourcarpet"
           }
          ],
          "heatmap": [
           {
            "colorbar": {
             "outlinewidth": 0,
             "ticks": ""
            },
            "colorscale": [
             [
              0,
              "#0d0887"
             ],
             [
              0.1111111111111111,
              "#46039f"
             ],
             [
              0.2222222222222222,
              "#7201a8"
             ],
             [
              0.3333333333333333,
              "#9c179e"
             ],
             [
              0.4444444444444444,
              "#bd3786"
             ],
             [
              0.5555555555555556,
              "#d8576b"
             ],
             [
              0.6666666666666666,
              "#ed7953"
             ],
             [
              0.7777777777777778,
              "#fb9f3a"
             ],
             [
              0.8888888888888888,
              "#fdca26"
             ],
             [
              1,
              "#f0f921"
             ]
            ],
            "type": "heatmap"
           }
          ],
          "histogram": [
           {
            "marker": {
             "pattern": {
              "fillmode": "overlay",
              "size": 10,
              "solidity": 0.2
             }
            },
            "type": "histogram"
           }
          ],
          "histogram2d": [
           {
            "colorbar": {
             "outlinewidth": 0,
             "ticks": ""
            },
            "colorscale": [
             [
              0,
              "#0d0887"
             ],
             [
              0.1111111111111111,
              "#46039f"
             ],
             [
              0.2222222222222222,
              "#7201a8"
             ],
             [
              0.3333333333333333,
              "#9c179e"
             ],
             [
              0.4444444444444444,
              "#bd3786"
             ],
             [
              0.5555555555555556,
              "#d8576b"
             ],
             [
              0.6666666666666666,
              "#ed7953"
             ],
             [
              0.7777777777777778,
              "#fb9f3a"
             ],
             [
              0.8888888888888888,
              "#fdca26"
             ],
             [
              1,
              "#f0f921"
             ]
            ],
            "type": "histogram2d"
           }
          ],
          "histogram2dcontour": [
           {
            "colorbar": {
             "outlinewidth": 0,
             "ticks": ""
            },
            "colorscale": [
             [
              0,
              "#0d0887"
             ],
             [
              0.1111111111111111,
              "#46039f"
             ],
             [
              0.2222222222222222,
              "#7201a8"
             ],
             [
              0.3333333333333333,
              "#9c179e"
             ],
             [
              0.4444444444444444,
              "#bd3786"
             ],
             [
              0.5555555555555556,
              "#d8576b"
             ],
             [
              0.6666666666666666,
              "#ed7953"
             ],
             [
              0.7777777777777778,
              "#fb9f3a"
             ],
             [
              0.8888888888888888,
              "#fdca26"
             ],
             [
              1,
              "#f0f921"
             ]
            ],
            "type": "histogram2dcontour"
           }
          ],
          "mesh3d": [
           {
            "colorbar": {
             "outlinewidth": 0,
             "ticks": ""
            },
            "type": "mesh3d"
           }
          ],
          "parcoords": [
           {
            "line": {
             "colorbar": {
              "outlinewidth": 0,
              "ticks": ""
             }
            },
            "type": "parcoords"
           }
          ],
          "pie": [
           {
            "automargin": true,
            "type": "pie"
           }
          ],
          "scatter": [
           {
            "fillpattern": {
             "fillmode": "overlay",
             "size": 10,
             "solidity": 0.2
            },
            "type": "scatter"
           }
          ],
          "scatter3d": [
           {
            "line": {
             "colorbar": {
              "outlinewidth": 0,
              "ticks": ""
             }
            },
            "marker": {
             "colorbar": {
              "outlinewidth": 0,
              "ticks": ""
             }
            },
            "type": "scatter3d"
           }
          ],
          "scattercarpet": [
           {
            "marker": {
             "colorbar": {
              "outlinewidth": 0,
              "ticks": ""
             }
            },
            "type": "scattercarpet"
           }
          ],
          "scattergeo": [
           {
            "marker": {
             "colorbar": {
              "outlinewidth": 0,
              "ticks": ""
             }
            },
            "type": "scattergeo"
           }
          ],
          "scattergl": [
           {
            "marker": {
             "colorbar": {
              "outlinewidth": 0,
              "ticks": ""
             }
            },
            "type": "scattergl"
           }
          ],
          "scattermap": [
           {
            "marker": {
             "colorbar": {
              "outlinewidth": 0,
              "ticks": ""
             }
            },
            "type": "scattermap"
           }
          ],
          "scattermapbox": [
           {
            "marker": {
             "colorbar": {
              "outlinewidth": 0,
              "ticks": ""
             }
            },
            "type": "scattermapbox"
           }
          ],
          "scatterpolar": [
           {
            "marker": {
             "colorbar": {
              "outlinewidth": 0,
              "ticks": ""
             }
            },
            "type": "scatterpolar"
           }
          ],
          "scatterpolargl": [
           {
            "marker": {
             "colorbar": {
              "outlinewidth": 0,
              "ticks": ""
             }
            },
            "type": "scatterpolargl"
           }
          ],
          "scatterternary": [
           {
            "marker": {
             "colorbar": {
              "outlinewidth": 0,
              "ticks": ""
             }
            },
            "type": "scatterternary"
           }
          ],
          "surface": [
           {
            "colorbar": {
             "outlinewidth": 0,
             "ticks": ""
            },
            "colorscale": [
             [
              0,
              "#0d0887"
             ],
             [
              0.1111111111111111,
              "#46039f"
             ],
             [
              0.2222222222222222,
              "#7201a8"
             ],
             [
              0.3333333333333333,
              "#9c179e"
             ],
             [
              0.4444444444444444,
              "#bd3786"
             ],
             [
              0.5555555555555556,
              "#d8576b"
             ],
             [
              0.6666666666666666,
              "#ed7953"
             ],
             [
              0.7777777777777778,
              "#fb9f3a"
             ],
             [
              0.8888888888888888,
              "#fdca26"
             ],
             [
              1,
              "#f0f921"
             ]
            ],
            "type": "surface"
           }
          ],
          "table": [
           {
            "cells": {
             "fill": {
              "color": "#EBF0F8"
             },
             "line": {
              "color": "white"
             }
            },
            "header": {
             "fill": {
              "color": "#C8D4E3"
             },
             "line": {
              "color": "white"
             }
            },
            "type": "table"
           }
          ]
         },
         "layout": {
          "annotationdefaults": {
           "arrowcolor": "#2a3f5f",
           "arrowhead": 0,
           "arrowwidth": 1
          },
          "autotypenumbers": "strict",
          "coloraxis": {
           "colorbar": {
            "outlinewidth": 0,
            "ticks": ""
           }
          },
          "colorscale": {
           "diverging": [
            [
             0,
             "#8e0152"
            ],
            [
             0.1,
             "#c51b7d"
            ],
            [
             0.2,
             "#de77ae"
            ],
            [
             0.3,
             "#f1b6da"
            ],
            [
             0.4,
             "#fde0ef"
            ],
            [
             0.5,
             "#f7f7f7"
            ],
            [
             0.6,
             "#e6f5d0"
            ],
            [
             0.7,
             "#b8e186"
            ],
            [
             0.8,
             "#7fbc41"
            ],
            [
             0.9,
             "#4d9221"
            ],
            [
             1,
             "#276419"
            ]
           ],
           "sequential": [
            [
             0,
             "#0d0887"
            ],
            [
             0.1111111111111111,
             "#46039f"
            ],
            [
             0.2222222222222222,
             "#7201a8"
            ],
            [
             0.3333333333333333,
             "#9c179e"
            ],
            [
             0.4444444444444444,
             "#bd3786"
            ],
            [
             0.5555555555555556,
             "#d8576b"
            ],
            [
             0.6666666666666666,
             "#ed7953"
            ],
            [
             0.7777777777777778,
             "#fb9f3a"
            ],
            [
             0.8888888888888888,
             "#fdca26"
            ],
            [
             1,
             "#f0f921"
            ]
           ],
           "sequentialminus": [
            [
             0,
             "#0d0887"
            ],
            [
             0.1111111111111111,
             "#46039f"
            ],
            [
             0.2222222222222222,
             "#7201a8"
            ],
            [
             0.3333333333333333,
             "#9c179e"
            ],
            [
             0.4444444444444444,
             "#bd3786"
            ],
            [
             0.5555555555555556,
             "#d8576b"
            ],
            [
             0.6666666666666666,
             "#ed7953"
            ],
            [
             0.7777777777777778,
             "#fb9f3a"
            ],
            [
             0.8888888888888888,
             "#fdca26"
            ],
            [
             1,
             "#f0f921"
            ]
           ]
          },
          "colorway": [
           "#636efa",
           "#EF553B",
           "#00cc96",
           "#ab63fa",
           "#FFA15A",
           "#19d3f3",
           "#FF6692",
           "#B6E880",
           "#FF97FF",
           "#FECB52"
          ],
          "font": {
           "color": "#2a3f5f"
          },
          "geo": {
           "bgcolor": "white",
           "lakecolor": "white",
           "landcolor": "#E5ECF6",
           "showlakes": true,
           "showland": true,
           "subunitcolor": "white"
          },
          "hoverlabel": {
           "align": "left"
          },
          "hovermode": "closest",
          "mapbox": {
           "style": "light"
          },
          "paper_bgcolor": "white",
          "plot_bgcolor": "#E5ECF6",
          "polar": {
           "angularaxis": {
            "gridcolor": "white",
            "linecolor": "white",
            "ticks": ""
           },
           "bgcolor": "#E5ECF6",
           "radialaxis": {
            "gridcolor": "white",
            "linecolor": "white",
            "ticks": ""
           }
          },
          "scene": {
           "xaxis": {
            "backgroundcolor": "#E5ECF6",
            "gridcolor": "white",
            "gridwidth": 2,
            "linecolor": "white",
            "showbackground": true,
            "ticks": "",
            "zerolinecolor": "white"
           },
           "yaxis": {
            "backgroundcolor": "#E5ECF6",
            "gridcolor": "white",
            "gridwidth": 2,
            "linecolor": "white",
            "showbackground": true,
            "ticks": "",
            "zerolinecolor": "white"
           },
           "zaxis": {
            "backgroundcolor": "#E5ECF6",
            "gridcolor": "white",
            "gridwidth": 2,
            "linecolor": "white",
            "showbackground": true,
            "ticks": "",
            "zerolinecolor": "white"
           }
          },
          "shapedefaults": {
           "line": {
            "color": "#2a3f5f"
           }
          },
          "ternary": {
           "aaxis": {
            "gridcolor": "white",
            "linecolor": "white",
            "ticks": ""
           },
           "baxis": {
            "gridcolor": "white",
            "linecolor": "white",
            "ticks": ""
           },
           "bgcolor": "#E5ECF6",
           "caxis": {
            "gridcolor": "white",
            "linecolor": "white",
            "ticks": ""
           }
          },
          "title": {
           "x": 0.05
          },
          "xaxis": {
           "automargin": true,
           "gridcolor": "white",
           "linecolor": "white",
           "ticks": "",
           "title": {
            "standoff": 15
           },
           "zerolinecolor": "white",
           "zerolinewidth": 2
          },
          "yaxis": {
           "automargin": true,
           "gridcolor": "white",
           "linecolor": "white",
           "ticks": "",
           "title": {
            "standoff": 15
           },
           "zerolinecolor": "white",
           "zerolinewidth": 2
          }
         }
        },
        "title": {
         "text": "FORGE16aApril24BackgroundStage 8.csv",
         "x": 0.5
        },
        "width": 800
       }
      }
     },
     "metadata": {},
     "output_type": "display_data"
    },
    {
     "data": {
      "application/vnd.plotly.v1+json": {
       "config": {
        "plotlyServerURL": "https://plot.ly"
       },
       "data": [
        {
         "hovertemplate": "X Coordinate (m)=%{x}<br>Y Coordinate (m)=%{y}<br>Depth (m)=%{z}<br>size=%{marker.size}<br>Moment Magnitude=%{marker.color}<extra></extra>",
         "legendgroup": "",
         "marker": {
          "color": {
           "bdata": "CtejcD0Kt7/sUbgehevBv3sUrkfheoS/exSuR+F6xD9SuB6F61HYPwrXo3A9Crc/exSuR+F6lD+kcD0K16PAv3sUrkfhetQ/uB6F61G4rr+4HoXrUbiev6RwPQrXo8A/exSuR+F6lL+uR+F6FK7XP3sUrkfheqS/mpmZmZmZ2T+4HoXrUbiev6RwPQrXo9A/4XoUrkfhyj97FK5H4XqUP+F6FK5H4eI/pHA9CtejwL+4HoXrUbieP3sUrkfheqS/mpmZmZmZqT+4HoXrUbiuP4XrUbgehds/pHA9Ctej0L8pXI/C9Si8v+xRuB6F68E/mpmZmZmZqb9I4XoUrkfRP5qZmZmZmam/uB6F61G4zr+4HoXrUbievzMzMzMzM8M/exSuR+F6xD97FK5H4XqEvwrXo3A9Crc/UrgehetRyD97FK5H4XqEP7gehetRuL4/MzMzMzMzw797FK5H4Xq0v+xRuB6F68E/CtejcD0Kxz8AAAAAAAAAAKRwPQrXo9A/pHA9Ctej4D97FK5H4XqUP3E9CtejcM0/4XoUrkfh2j/NzMzMzMzcP+xRuB6F68E/KVyPwvUozL8AAAAAAADQP6RwPQrXo9A/exSuR+F6hL+amZmZmZmpPwrXo3A9Cre/exSuR+F6tD+kcD0K16PAvylcj8L1KMw/pHA9Ctej0L/sUbgehevBv5qZmZmZmam/CtejcD0Kxz+PwvUoXI/SP7gehetRuM4/CtejcD0Kt7+4HoXrUbjOv3E9CtejcPE/CtejcD0Kx78AAAAAAADQP5qZmZmZmbk/CtejcD0Kt7/Xo3A9CtfjP/YoXI/C9dg/4XoUrkfh2j8zMzMzMzPTP4/C9Shcj9I/uB6F61G43j97FK5H4XrEv4/C9Shcj9I/uB6F61G4zj+4HoXrUbi+v8P1KFyPwsW/mpmZmZmZyT8pXI/C9SjMv+xRuB6F67G/UrgehetR2D+4HoXrUbjOv+xRuB6F67G/7FG4HoXrsT8=",
           "dtype": "f8"
          },
          "coloraxis": "coloraxis",
          "line": {
           "width": 0
          },
          "opacity": 0.7,
          "size": {
           "bdata": "AQEBAQEBAQEBAQEBAQEBAQEBAQEBAQEBAQEBAQEBAQEBAQEBAQEBAQEBAQEBAQEBAQEBAQEBAQEBAQEBAQEBAQEBAQEBAQEBAQEBAQEBAQEBAQEBAQEBAQEBAQEBAQ==",
           "dtype": "i1"
          },
          "sizemode": "area",
          "sizeref": 0.00510204081632653,
          "symbol": "circle"
         },
         "mode": "markers",
         "name": "",
         "scene": "scene",
         "showlegend": false,
         "type": "scatter3d",
         "x": {
          "bdata": "VAtKCz4NKg28DJALCAxUC1gMpAvMC0oLRAxiDIAMJgxsDOoLaAtoC7QKWAxyCzAM5AwUChIMdgzWCxwMVAv+C14LcgsSDF4LNA3MC5ALMAyMCggMIA06DCYMMAz4DDoMOgzgC7IMzAvMC4AMZg12DNIKjAr0C2wMaAvGDBgLHAyKDMYMbAyyDJ4MEgzaDCoNHAx2DHYM1gtyC6gMJgxeCzAM1gscDDYLAg1sDCYM2AlYDKgMbAyGC04M/gs=",
          "dtype": "i2"
         },
         "y": {
          "bdata": "Vv/o/oIAdPr0AWj8zv/8/uABcvyK/Sz8FADi/zwAZACm/8T/uvp8/AL+bgAY/DIAbgB0+qz5sP8S/ez/hvyc/yL8uv8+/g78QPwa+nT/RgC2+ZYAZAA0/jIAZAAOARr/UABaAIwA9v/2/zwA+gCS/2D6PPtaAOYAVPzIAOz6qP0iAbgB8AAcApz6NP6WAH76RP2gAIwAnPou+uYAMgD8/jwAnP+gAAT8PACCAC7/nv2MAOL/mgEoAGQABv8=",
          "dtype": "i2"
         },
         "z": {
          "bdata": "Nh9eH4Ie9h0gIVIcbCByH/ggIBxmHHAcdiAiH3YgcCESIFwhCCC2HI4hqh5mHDogiB1UHyYgBB8WHDogmBw0IXocgh48HqwcJB0OHzweAiEmICwfxB3EHe4g0CDIHjIech8qIYwerCEiHw4fXh/mHpAf3iEEH/whjhyMHkof4h3SHq4f8B5SIVoezh3sHbAdLh0+IQwhrh8IIBYhxiBcIaggKiGgHpgcoB6WHgYdZiGAIHgeFiFuHoIeEB0=",
          "dtype": "i2"
         }
        }
       ],
       "layout": {
        "coloraxis": {
         "cmax": 1.85,
         "cmin": -1.09,
         "colorbar": {
          "ticklen": 6,
          "tickmode": "array",
          "ticks": "outside",
          "tickvals": [
           -1.09,
           -1,
           -0.5,
           0,
           0.5,
           1,
           1.5,
           1.85
          ],
          "tickwidth": 1,
          "title": {
           "side": "top",
           "text": "Moment Magnitude"
          }
         },
         "colorscale": [
          [
           0,
           "#0d0887"
          ],
          [
           0.1111111111111111,
           "#46039f"
          ],
          [
           0.2222222222222222,
           "#7201a8"
          ],
          [
           0.3333333333333333,
           "#9c179e"
          ],
          [
           0.4444444444444444,
           "#bd3786"
          ],
          [
           0.5555555555555556,
           "#d8576b"
          ],
          [
           0.6666666666666666,
           "#ed7953"
          ],
          [
           0.7777777777777778,
           "#fb9f3a"
          ],
          [
           0.8888888888888888,
           "#fdca26"
          ],
          [
           1,
           "#f0f921"
          ]
         ]
        },
        "height": 600,
        "legend": {
         "itemsizing": "constant",
         "tracegroupgap": 0
        },
        "margin": {
         "b": 40,
         "l": 40,
         "r": 40,
         "t": 40
        },
        "scene": {
         "aspectmode": "cube",
         "camera": {
          "eye": {
           "x": 1.5,
           "y": 1.5,
           "z": 1.5
          }
         },
         "domain": {
          "x": [
           0,
           1
          ],
          "y": [
           0,
           1
          ]
         },
         "xaxis": {
          "range": [
           -3660,
           3890
          ],
          "title": {
           "text": "X Coordinate (m)"
          }
         },
         "yaxis": {
          "range": [
           -5060,
           1180
          ],
          "title": {
           "text": "Y Coordinate (m)"
          }
         },
         "zaxis": {
          "range": [
           9500,
           5580
          ],
          "title": {
           "text": "Depth (m)"
          }
         }
        },
        "template": {
         "data": {
          "bar": [
           {
            "error_x": {
             "color": "#2a3f5f"
            },
            "error_y": {
             "color": "#2a3f5f"
            },
            "marker": {
             "line": {
              "color": "#E5ECF6",
              "width": 0.5
             },
             "pattern": {
              "fillmode": "overlay",
              "size": 10,
              "solidity": 0.2
             }
            },
            "type": "bar"
           }
          ],
          "barpolar": [
           {
            "marker": {
             "line": {
              "color": "#E5ECF6",
              "width": 0.5
             },
             "pattern": {
              "fillmode": "overlay",
              "size": 10,
              "solidity": 0.2
             }
            },
            "type": "barpolar"
           }
          ],
          "carpet": [
           {
            "aaxis": {
             "endlinecolor": "#2a3f5f",
             "gridcolor": "white",
             "linecolor": "white",
             "minorgridcolor": "white",
             "startlinecolor": "#2a3f5f"
            },
            "baxis": {
             "endlinecolor": "#2a3f5f",
             "gridcolor": "white",
             "linecolor": "white",
             "minorgridcolor": "white",
             "startlinecolor": "#2a3f5f"
            },
            "type": "carpet"
           }
          ],
          "choropleth": [
           {
            "colorbar": {
             "outlinewidth": 0,
             "ticks": ""
            },
            "type": "choropleth"
           }
          ],
          "contour": [
           {
            "colorbar": {
             "outlinewidth": 0,
             "ticks": ""
            },
            "colorscale": [
             [
              0,
              "#0d0887"
             ],
             [
              0.1111111111111111,
              "#46039f"
             ],
             [
              0.2222222222222222,
              "#7201a8"
             ],
             [
              0.3333333333333333,
              "#9c179e"
             ],
             [
              0.4444444444444444,
              "#bd3786"
             ],
             [
              0.5555555555555556,
              "#d8576b"
             ],
             [
              0.6666666666666666,
              "#ed7953"
             ],
             [
              0.7777777777777778,
              "#fb9f3a"
             ],
             [
              0.8888888888888888,
              "#fdca26"
             ],
             [
              1,
              "#f0f921"
             ]
            ],
            "type": "contour"
           }
          ],
          "contourcarpet": [
           {
            "colorbar": {
             "outlinewidth": 0,
             "ticks": ""
            },
            "type": "contourcarpet"
           }
          ],
          "heatmap": [
           {
            "colorbar": {
             "outlinewidth": 0,
             "ticks": ""
            },
            "colorscale": [
             [
              0,
              "#0d0887"
             ],
             [
              0.1111111111111111,
              "#46039f"
             ],
             [
              0.2222222222222222,
              "#7201a8"
             ],
             [
              0.3333333333333333,
              "#9c179e"
             ],
             [
              0.4444444444444444,
              "#bd3786"
             ],
             [
              0.5555555555555556,
              "#d8576b"
             ],
             [
              0.6666666666666666,
              "#ed7953"
             ],
             [
              0.7777777777777778,
              "#fb9f3a"
             ],
             [
              0.8888888888888888,
              "#fdca26"
             ],
             [
              1,
              "#f0f921"
             ]
            ],
            "type": "heatmap"
           }
          ],
          "histogram": [
           {
            "marker": {
             "pattern": {
              "fillmode": "overlay",
              "size": 10,
              "solidity": 0.2
             }
            },
            "type": "histogram"
           }
          ],
          "histogram2d": [
           {
            "colorbar": {
             "outlinewidth": 0,
             "ticks": ""
            },
            "colorscale": [
             [
              0,
              "#0d0887"
             ],
             [
              0.1111111111111111,
              "#46039f"
             ],
             [
              0.2222222222222222,
              "#7201a8"
             ],
             [
              0.3333333333333333,
              "#9c179e"
             ],
             [
              0.4444444444444444,
              "#bd3786"
             ],
             [
              0.5555555555555556,
              "#d8576b"
             ],
             [
              0.6666666666666666,
              "#ed7953"
             ],
             [
              0.7777777777777778,
              "#fb9f3a"
             ],
             [
              0.8888888888888888,
              "#fdca26"
             ],
             [
              1,
              "#f0f921"
             ]
            ],
            "type": "histogram2d"
           }
          ],
          "histogram2dcontour": [
           {
            "colorbar": {
             "outlinewidth": 0,
             "ticks": ""
            },
            "colorscale": [
             [
              0,
              "#0d0887"
             ],
             [
              0.1111111111111111,
              "#46039f"
             ],
             [
              0.2222222222222222,
              "#7201a8"
             ],
             [
              0.3333333333333333,
              "#9c179e"
             ],
             [
              0.4444444444444444,
              "#bd3786"
             ],
             [
              0.5555555555555556,
              "#d8576b"
             ],
             [
              0.6666666666666666,
              "#ed7953"
             ],
             [
              0.7777777777777778,
              "#fb9f3a"
             ],
             [
              0.8888888888888888,
              "#fdca26"
             ],
             [
              1,
              "#f0f921"
             ]
            ],
            "type": "histogram2dcontour"
           }
          ],
          "mesh3d": [
           {
            "colorbar": {
             "outlinewidth": 0,
             "ticks": ""
            },
            "type": "mesh3d"
           }
          ],
          "parcoords": [
           {
            "line": {
             "colorbar": {
              "outlinewidth": 0,
              "ticks": ""
             }
            },
            "type": "parcoords"
           }
          ],
          "pie": [
           {
            "automargin": true,
            "type": "pie"
           }
          ],
          "scatter": [
           {
            "fillpattern": {
             "fillmode": "overlay",
             "size": 10,
             "solidity": 0.2
            },
            "type": "scatter"
           }
          ],
          "scatter3d": [
           {
            "line": {
             "colorbar": {
              "outlinewidth": 0,
              "ticks": ""
             }
            },
            "marker": {
             "colorbar": {
              "outlinewidth": 0,
              "ticks": ""
             }
            },
            "type": "scatter3d"
           }
          ],
          "scattercarpet": [
           {
            "marker": {
             "colorbar": {
              "outlinewidth": 0,
              "ticks": ""
             }
            },
            "type": "scattercarpet"
           }
          ],
          "scattergeo": [
           {
            "marker": {
             "colorbar": {
              "outlinewidth": 0,
              "ticks": ""
             }
            },
            "type": "scattergeo"
           }
          ],
          "scattergl": [
           {
            "marker": {
             "colorbar": {
              "outlinewidth": 0,
              "ticks": ""
             }
            },
            "type": "scattergl"
           }
          ],
          "scattermap": [
           {
            "marker": {
             "colorbar": {
              "outlinewidth": 0,
              "ticks": ""
             }
            },
            "type": "scattermap"
           }
          ],
          "scattermapbox": [
           {
            "marker": {
             "colorbar": {
              "outlinewidth": 0,
              "ticks": ""
             }
            },
            "type": "scattermapbox"
           }
          ],
          "scatterpolar": [
           {
            "marker": {
             "colorbar": {
              "outlinewidth": 0,
              "ticks": ""
             }
            },
            "type": "scatterpolar"
           }
          ],
          "scatterpolargl": [
           {
            "marker": {
             "colorbar": {
              "outlinewidth": 0,
              "ticks": ""
             }
            },
            "type": "scatterpolargl"
           }
          ],
          "scatterternary": [
           {
            "marker": {
             "colorbar": {
              "outlinewidth": 0,
              "ticks": ""
             }
            },
            "type": "scatterternary"
           }
          ],
          "surface": [
           {
            "colorbar": {
             "outlinewidth": 0,
             "ticks": ""
            },
            "colorscale": [
             [
              0,
              "#0d0887"
             ],
             [
              0.1111111111111111,
              "#46039f"
             ],
             [
              0.2222222222222222,
              "#7201a8"
             ],
             [
              0.3333333333333333,
              "#9c179e"
             ],
             [
              0.4444444444444444,
              "#bd3786"
             ],
             [
              0.5555555555555556,
              "#d8576b"
             ],
             [
              0.6666666666666666,
              "#ed7953"
             ],
             [
              0.7777777777777778,
              "#fb9f3a"
             ],
             [
              0.8888888888888888,
              "#fdca26"
             ],
             [
              1,
              "#f0f921"
             ]
            ],
            "type": "surface"
           }
          ],
          "table": [
           {
            "cells": {
             "fill": {
              "color": "#EBF0F8"
             },
             "line": {
              "color": "white"
             }
            },
            "header": {
             "fill": {
              "color": "#C8D4E3"
             },
             "line": {
              "color": "white"
             }
            },
            "type": "table"
           }
          ]
         },
         "layout": {
          "annotationdefaults": {
           "arrowcolor": "#2a3f5f",
           "arrowhead": 0,
           "arrowwidth": 1
          },
          "autotypenumbers": "strict",
          "coloraxis": {
           "colorbar": {
            "outlinewidth": 0,
            "ticks": ""
           }
          },
          "colorscale": {
           "diverging": [
            [
             0,
             "#8e0152"
            ],
            [
             0.1,
             "#c51b7d"
            ],
            [
             0.2,
             "#de77ae"
            ],
            [
             0.3,
             "#f1b6da"
            ],
            [
             0.4,
             "#fde0ef"
            ],
            [
             0.5,
             "#f7f7f7"
            ],
            [
             0.6,
             "#e6f5d0"
            ],
            [
             0.7,
             "#b8e186"
            ],
            [
             0.8,
             "#7fbc41"
            ],
            [
             0.9,
             "#4d9221"
            ],
            [
             1,
             "#276419"
            ]
           ],
           "sequential": [
            [
             0,
             "#0d0887"
            ],
            [
             0.1111111111111111,
             "#46039f"
            ],
            [
             0.2222222222222222,
             "#7201a8"
            ],
            [
             0.3333333333333333,
             "#9c179e"
            ],
            [
             0.4444444444444444,
             "#bd3786"
            ],
            [
             0.5555555555555556,
             "#d8576b"
            ],
            [
             0.6666666666666666,
             "#ed7953"
            ],
            [
             0.7777777777777778,
             "#fb9f3a"
            ],
            [
             0.8888888888888888,
             "#fdca26"
            ],
            [
             1,
             "#f0f921"
            ]
           ],
           "sequentialminus": [
            [
             0,
             "#0d0887"
            ],
            [
             0.1111111111111111,
             "#46039f"
            ],
            [
             0.2222222222222222,
             "#7201a8"
            ],
            [
             0.3333333333333333,
             "#9c179e"
            ],
            [
             0.4444444444444444,
             "#bd3786"
            ],
            [
             0.5555555555555556,
             "#d8576b"
            ],
            [
             0.6666666666666666,
             "#ed7953"
            ],
            [
             0.7777777777777778,
             "#fb9f3a"
            ],
            [
             0.8888888888888888,
             "#fdca26"
            ],
            [
             1,
             "#f0f921"
            ]
           ]
          },
          "colorway": [
           "#636efa",
           "#EF553B",
           "#00cc96",
           "#ab63fa",
           "#FFA15A",
           "#19d3f3",
           "#FF6692",
           "#B6E880",
           "#FF97FF",
           "#FECB52"
          ],
          "font": {
           "color": "#2a3f5f"
          },
          "geo": {
           "bgcolor": "white",
           "lakecolor": "white",
           "landcolor": "#E5ECF6",
           "showlakes": true,
           "showland": true,
           "subunitcolor": "white"
          },
          "hoverlabel": {
           "align": "left"
          },
          "hovermode": "closest",
          "mapbox": {
           "style": "light"
          },
          "paper_bgcolor": "white",
          "plot_bgcolor": "#E5ECF6",
          "polar": {
           "angularaxis": {
            "gridcolor": "white",
            "linecolor": "white",
            "ticks": ""
           },
           "bgcolor": "#E5ECF6",
           "radialaxis": {
            "gridcolor": "white",
            "linecolor": "white",
            "ticks": ""
           }
          },
          "scene": {
           "xaxis": {
            "backgroundcolor": "#E5ECF6",
            "gridcolor": "white",
            "gridwidth": 2,
            "linecolor": "white",
            "showbackground": true,
            "ticks": "",
            "zerolinecolor": "white"
           },
           "yaxis": {
            "backgroundcolor": "#E5ECF6",
            "gridcolor": "white",
            "gridwidth": 2,
            "linecolor": "white",
            "showbackground": true,
            "ticks": "",
            "zerolinecolor": "white"
           },
           "zaxis": {
            "backgroundcolor": "#E5ECF6",
            "gridcolor": "white",
            "gridwidth": 2,
            "linecolor": "white",
            "showbackground": true,
            "ticks": "",
            "zerolinecolor": "white"
           }
          },
          "shapedefaults": {
           "line": {
            "color": "#2a3f5f"
           }
          },
          "ternary": {
           "aaxis": {
            "gridcolor": "white",
            "linecolor": "white",
            "ticks": ""
           },
           "baxis": {
            "gridcolor": "white",
            "linecolor": "white",
            "ticks": ""
           },
           "bgcolor": "#E5ECF6",
           "caxis": {
            "gridcolor": "white",
            "linecolor": "white",
            "ticks": ""
           }
          },
          "title": {
           "x": 0.05
          },
          "xaxis": {
           "automargin": true,
           "gridcolor": "white",
           "linecolor": "white",
           "ticks": "",
           "title": {
            "standoff": 15
           },
           "zerolinecolor": "white",
           "zerolinewidth": 2
          },
          "yaxis": {
           "automargin": true,
           "gridcolor": "white",
           "linecolor": "white",
           "ticks": "",
           "title": {
            "standoff": 15
           },
           "zerolinecolor": "white",
           "zerolinewidth": 2
          }
         }
        },
        "title": {
         "text": "FORGE16aApril24BackgroundStage 7C.csv",
         "x": 0.5
        },
        "width": 800
       }
      }
     },
     "metadata": {},
     "output_type": "display_data"
    },
    {
     "data": {
      "application/vnd.plotly.v1+json": {
       "config": {
        "plotlyServerURL": "https://plot.ly"
       },
       "data": [
        {
         "hovertemplate": "X Coordinate (m)=%{x}<br>Y Coordinate (m)=%{y}<br>Depth (m)=%{z}<br>size=%{marker.size}<br>Moment Magnitude=%{marker.color}<extra></extra>",
         "legendgroup": "",
         "marker": {
          "color": {
           "bdata": "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",
           "dtype": "f8"
          },
          "coloraxis": "coloraxis",
          "line": {
           "width": 0
          },
          "opacity": 0.7,
          "size": {
           "bdata": "AQEBAQEBAQEBAQEBAQEBAQEBAQEBAQEBAQEBAQEBAQEBAQEBAQEBAQEBAQEBAQEBAQEBAQEBAQEBAQEBAQEBAQEBAQEBAQEBAQEBAQEBAQEBAQEBAQEBAQEBAQEBAQEBAQEBAQEBAQEBAQEBAQEBAQEBAQEBAQEBAQEBAQEBAQEBAQEBAQEBAQEBAQEBAQEBAQEBAQEBAQEBAQEBAQEBAQEBAQEBAQEBAQEBAQEBAQEBAQEBAQEBAQEBAQEBAQEBAQEBAQEBAQEBAQEBAQEBAQEBAQEBAQEBAQEBAQEBAQEBAQEBAQEBAQEBAQEBAQEBAQEBAQEBAQEBAQEBAQEBAQEBAQ==",
           "dtype": "i1"
          },
          "sizemode": "area",
          "sizeref": 0.00510204081632653,
          "symbol": "circle"
         },
         "mode": "markers",
         "name": "",
         "scene": "scene",
         "showlegend": false,
         "type": "scatter3d",
         "x": {
          "bdata": "0gqoDLwMdgzaDHYMbAy8DA4LGAvqC3YMhgsMDWgLvAyKDIAMxgwgDUoLLAuADOYK8ArQDIAMcguyDIYLigyEDTAM8AqQCxIMbAzmCq4LhgvcCgQLuAuQCz4Neg0ECywLuAtAC5ALfAtoC0ALvgrkDJ4MfAtiDJALpAuMCmIMdgwEC3wLTgyUDHwLHAzICoYLfAukC9AMcguuC2gLmgvGDNwKcgsOCyILfAv+C9oMOgzMCywLgAyKDF4LuAukC7gLGAuaCxYNTgx2DBIMhguaC2IMyAqUDJ4MSgs6DCYMcgtYDHILBAvCC5oLAg2QC5oLkAscDNYLggrMC1QLaAtUC4YLXgt8C0oLrgsIDJALXgtKC+YK6gt8C3ILkAt8C7gL0Ax8C2IMRAyaC2gLLAv+C5oL9gmuC/4LfAsmDGgLcguQC5ALzAvgC8ILXguGC14LLAsSDO4MRAyQC3ILsgykC54MwgswDFQLOgxkClQLTgxUC0oLrgtyC1INNgtUC+QMdgxKC9wKcgtyC+oL/gtODNYLhgteCzoMrguoDIAMcgvSCpALkAtYDJoLyApODJALmguyDNAMCAyGC/gMVAvkDGQKDgtAC3YMkAtoC6QLwgtUC+YKkAukC9oMVAteC2IMuAuaC3IL6guQC3ILIguuC2wMSgvCC8YMaAtKC9oMfAvGDBIMHAw=",
          "dtype": "i2"
         },
         "y": {
          "bdata": "Uv7E+loAggC0AAAAZAAeAPr7qP2e/eL/ev5C+lz+vgBuAHgAWgBQAFT8Fv4sAYD9yv7e/mQAIP7cALL9eADs+hr/kPwQ/2r/iPp2/Zb7cP4C/iL89vqy/SL8kPzk/Rz92P+A/Qb/YP+y/bL90P1uALQA6P6gAI7++P1A/MIB3AAq/uT9WgCMAPL+2v3G/Wb+UPv4/foAhP7o/nD+1P4yAAL+iv3E+hD/NP6c/4j/kPx++hD/1gHA+VL+CvsQ/xT7zvrQ/b4A4AFkACD+TP+i/lb/vP1C/2r/iv2WAFoA7PqqAOj+tPuw/5j+uvrK/kT9zv/s/8b92Prs+iT/Bv8a/1T8Vv+i/uj+Ev2m+jj/hP5w/p79tAAa/2r6OP9Q+zj/bgAq/s7/qgBY/dT+sv26/9D9oPus/uL6cvxM/1L+OP84/6782P90/6b6Qv90/7r/1PnO+m4AAABM/9T+UAAG/7QADP7wAOb7+gA+/iz8WgCs/sT6Yv18/LD6jv5W/4wAMgDM/Dr9Gv+m+gL+YPooALL9mvwg/vb6ov6+AL4AfvpO/UL/rvzE+qj9APs0+aT8+P2MALr6jv5y/GgBmP7Y/277qP0k/4wAhP4g/pz/vP0k/zD9Jv3q/DIAVv9A/BD6Zv6i+Xz8LvrM/ED8Bv8a/8T/TP8u/24AEP9K/NIA9Pwa+jj6dP8=",
          "dtype": "i2"
         },
         "z": {
          "bdata": "JiBQHoIeIh+0HtwetB4eHhQe0h4+HKAe9B88HigeJiCMHoogtB6qHh4eeB5iIEQg1h8mIJ4gxB12IDAgHCAuHV4fECIsHywfeB40IbQewh9EICgetB5YICQdLh0OH54g3iGiIWwgjB6yIIogeiH2HdIe6h/cHqQfCCDuIFwh5h4yHoAgoB6CHkAfFiFOIAoe8B7gH6oepB8KHigeCh7qHyohmh8OH8ge/h/+H/Yduh2WHr4emCHIHv4f5h46IKAeVB9sINYftiFuHpofbh6wHdIefiJQHoIelCDyISQiXh8gIVQfaB86IJwd4h0UHmYcVB+oINweMh6CHqAech+CHhYcqh7OHa4fcByMHjweCCDEHU4glCBaHtweMh4EH+IdKB4IIGgfBB96HCgeICHgHxIgLB/EHW4eDBymHXgePB5kHnocZiEUHqAekB8yHvIhWCB4HhgfICFGHrAdiiAKHvAexiAiHxYcqCBWIqwcwh9eH0YeohyYHKYdzh2CHgoe/h8QHVwhRh76Hoogbh6kH7IgmBxkHgoekB+oILwgvh44IvggehxuHrYcjhx8H4QcMCBGHuwd+h5cHPQfnB0AHige6CHIHrwguB/qH3AhoiF8H7IgZhyEHJYeqh6YHKoekh1oH4QcSh9mHD4crh9eH5AfSh8wICgeQB/KHEQghBwoHiIfCCA=",
          "dtype": "i2"
         }
        }
       ],
       "layout": {
        "coloraxis": {
         "cmax": 1.85,
         "cmin": -1.09,
         "colorbar": {
          "ticklen": 6,
          "tickmode": "array",
          "ticks": "outside",
          "tickvals": [
           -1.09,
           -1,
           -0.5,
           0,
           0.5,
           1,
           1.5,
           1.85
          ],
          "tickwidth": 1,
          "title": {
           "side": "top",
           "text": "Moment Magnitude"
          }
         },
         "colorscale": [
          [
           0,
           "#0d0887"
          ],
          [
           0.1111111111111111,
           "#46039f"
          ],
          [
           0.2222222222222222,
           "#7201a8"
          ],
          [
           0.3333333333333333,
           "#9c179e"
          ],
          [
           0.4444444444444444,
           "#bd3786"
          ],
          [
           0.5555555555555556,
           "#d8576b"
          ],
          [
           0.6666666666666666,
           "#ed7953"
          ],
          [
           0.7777777777777778,
           "#fb9f3a"
          ],
          [
           0.8888888888888888,
           "#fdca26"
          ],
          [
           1,
           "#f0f921"
          ]
         ]
        },
        "height": 600,
        "legend": {
         "itemsizing": "constant",
         "tracegroupgap": 0
        },
        "margin": {
         "b": 40,
         "l": 40,
         "r": 40,
         "t": 40
        },
        "scene": {
         "aspectmode": "cube",
         "camera": {
          "eye": {
           "x": 1.5,
           "y": 1.5,
           "z": 1.5
          }
         },
         "domain": {
          "x": [
           0,
           1
          ],
          "y": [
           0,
           1
          ]
         },
         "xaxis": {
          "range": [
           -3660,
           3890
          ],
          "title": {
           "text": "X Coordinate (m)"
          }
         },
         "yaxis": {
          "range": [
           -5060,
           1180
          ],
          "title": {
           "text": "Y Coordinate (m)"
          }
         },
         "zaxis": {
          "range": [
           9500,
           5580
          ],
          "title": {
           "text": "Depth (m)"
          }
         }
        },
        "template": {
         "data": {
          "bar": [
           {
            "error_x": {
             "color": "#2a3f5f"
            },
            "error_y": {
             "color": "#2a3f5f"
            },
            "marker": {
             "line": {
              "color": "#E5ECF6",
              "width": 0.5
             },
             "pattern": {
              "fillmode": "overlay",
              "size": 10,
              "solidity": 0.2
             }
            },
            "type": "bar"
           }
          ],
          "barpolar": [
           {
            "marker": {
             "line": {
              "color": "#E5ECF6",
              "width": 0.5
             },
             "pattern": {
              "fillmode": "overlay",
              "size": 10,
              "solidity": 0.2
             }
            },
            "type": "barpolar"
           }
          ],
          "carpet": [
           {
            "aaxis": {
             "endlinecolor": "#2a3f5f",
             "gridcolor": "white",
             "linecolor": "white",
             "minorgridcolor": "white",
             "startlinecolor": "#2a3f5f"
            },
            "baxis": {
             "endlinecolor": "#2a3f5f",
             "gridcolor": "white",
             "linecolor": "white",
             "minorgridcolor": "white",
             "startlinecolor": "#2a3f5f"
            },
            "type": "carpet"
           }
          ],
          "choropleth": [
           {
            "colorbar": {
             "outlinewidth": 0,
             "ticks": ""
            },
            "type": "choropleth"
           }
          ],
          "contour": [
           {
            "colorbar": {
             "outlinewidth": 0,
             "ticks": ""
            },
            "colorscale": [
             [
              0,
              "#0d0887"
             ],
             [
              0.1111111111111111,
              "#46039f"
             ],
             [
              0.2222222222222222,
              "#7201a8"
             ],
             [
              0.3333333333333333,
              "#9c179e"
             ],
             [
              0.4444444444444444,
              "#bd3786"
             ],
             [
              0.5555555555555556,
              "#d8576b"
             ],
             [
              0.6666666666666666,
              "#ed7953"
             ],
             [
              0.7777777777777778,
              "#fb9f3a"
             ],
             [
              0.8888888888888888,
              "#fdca26"
             ],
             [
              1,
              "#f0f921"
             ]
            ],
            "type": "contour"
           }
          ],
          "contourcarpet": [
           {
            "colorbar": {
             "outlinewidth": 0,
             "ticks": ""
            },
            "type": "contourcarpet"
           }
          ],
          "heatmap": [
           {
            "colorbar": {
             "outlinewidth": 0,
             "ticks": ""
            },
            "colorscale": [
             [
              0,
              "#0d0887"
             ],
             [
              0.1111111111111111,
              "#46039f"
             ],
             [
              0.2222222222222222,
              "#7201a8"
             ],
             [
              0.3333333333333333,
              "#9c179e"
             ],
             [
              0.4444444444444444,
              "#bd3786"
             ],
             [
              0.5555555555555556,
              "#d8576b"
             ],
             [
              0.6666666666666666,
              "#ed7953"
             ],
             [
              0.7777777777777778,
              "#fb9f3a"
             ],
             [
              0.8888888888888888,
              "#fdca26"
             ],
             [
              1,
              "#f0f921"
             ]
            ],
            "type": "heatmap"
           }
          ],
          "histogram": [
           {
            "marker": {
             "pattern": {
              "fillmode": "overlay",
              "size": 10,
              "solidity": 0.2
             }
            },
            "type": "histogram"
           }
          ],
          "histogram2d": [
           {
            "colorbar": {
             "outlinewidth": 0,
             "ticks": ""
            },
            "colorscale": [
             [
              0,
              "#0d0887"
             ],
             [
              0.1111111111111111,
              "#46039f"
             ],
             [
              0.2222222222222222,
              "#7201a8"
             ],
             [
              0.3333333333333333,
              "#9c179e"
             ],
             [
              0.4444444444444444,
              "#bd3786"
             ],
             [
              0.5555555555555556,
              "#d8576b"
             ],
             [
              0.6666666666666666,
              "#ed7953"
             ],
             [
              0.7777777777777778,
              "#fb9f3a"
             ],
             [
              0.8888888888888888,
              "#fdca26"
             ],
             [
              1,
              "#f0f921"
             ]
            ],
            "type": "histogram2d"
           }
          ],
          "histogram2dcontour": [
           {
            "colorbar": {
             "outlinewidth": 0,
             "ticks": ""
            },
            "colorscale": [
             [
              0,
              "#0d0887"
             ],
             [
              0.1111111111111111,
              "#46039f"
             ],
             [
              0.2222222222222222,
              "#7201a8"
             ],
             [
              0.3333333333333333,
              "#9c179e"
             ],
             [
              0.4444444444444444,
              "#bd3786"
             ],
             [
              0.5555555555555556,
              "#d8576b"
             ],
             [
              0.6666666666666666,
              "#ed7953"
             ],
             [
              0.7777777777777778,
              "#fb9f3a"
             ],
             [
              0.8888888888888888,
              "#fdca26"
             ],
             [
              1,
              "#f0f921"
             ]
            ],
            "type": "histogram2dcontour"
           }
          ],
          "mesh3d": [
           {
            "colorbar": {
             "outlinewidth": 0,
             "ticks": ""
            },
            "type": "mesh3d"
           }
          ],
          "parcoords": [
           {
            "line": {
             "colorbar": {
              "outlinewidth": 0,
              "ticks": ""
             }
            },
            "type": "parcoords"
           }
          ],
          "pie": [
           {
            "automargin": true,
            "type": "pie"
           }
          ],
          "scatter": [
           {
            "fillpattern": {
             "fillmode": "overlay",
             "size": 10,
             "solidity": 0.2
            },
            "type": "scatter"
           }
          ],
          "scatter3d": [
           {
            "line": {
             "colorbar": {
              "outlinewidth": 0,
              "ticks": ""
             }
            },
            "marker": {
             "colorbar": {
              "outlinewidth": 0,
              "ticks": ""
             }
            },
            "type": "scatter3d"
           }
          ],
          "scattercarpet": [
           {
            "marker": {
             "colorbar": {
              "outlinewidth": 0,
              "ticks": ""
             }
            },
            "type": "scattercarpet"
           }
          ],
          "scattergeo": [
           {
            "marker": {
             "colorbar": {
              "outlinewidth": 0,
              "ticks": ""
             }
            },
            "type": "scattergeo"
           }
          ],
          "scattergl": [
           {
            "marker": {
             "colorbar": {
              "outlinewidth": 0,
              "ticks": ""
             }
            },
            "type": "scattergl"
           }
          ],
          "scattermap": [
           {
            "marker": {
             "colorbar": {
              "outlinewidth": 0,
              "ticks": ""
             }
            },
            "type": "scattermap"
           }
          ],
          "scattermapbox": [
           {
            "marker": {
             "colorbar": {
              "outlinewidth": 0,
              "ticks": ""
             }
            },
            "type": "scattermapbox"
           }
          ],
          "scatterpolar": [
           {
            "marker": {
             "colorbar": {
              "outlinewidth": 0,
              "ticks": ""
             }
            },
            "type": "scatterpolar"
           }
          ],
          "scatterpolargl": [
           {
            "marker": {
             "colorbar": {
              "outlinewidth": 0,
              "ticks": ""
             }
            },
            "type": "scatterpolargl"
           }
          ],
          "scatterternary": [
           {
            "marker": {
             "colorbar": {
              "outlinewidth": 0,
              "ticks": ""
             }
            },
            "type": "scatterternary"
           }
          ],
          "surface": [
           {
            "colorbar": {
             "outlinewidth": 0,
             "ticks": ""
            },
            "colorscale": [
             [
              0,
              "#0d0887"
             ],
             [
              0.1111111111111111,
              "#46039f"
             ],
             [
              0.2222222222222222,
              "#7201a8"
             ],
             [
              0.3333333333333333,
              "#9c179e"
             ],
             [
              0.4444444444444444,
              "#bd3786"
             ],
             [
              0.5555555555555556,
              "#d8576b"
             ],
             [
              0.6666666666666666,
              "#ed7953"
             ],
             [
              0.7777777777777778,
              "#fb9f3a"
             ],
             [
              0.8888888888888888,
              "#fdca26"
             ],
             [
              1,
              "#f0f921"
             ]
            ],
            "type": "surface"
           }
          ],
          "table": [
           {
            "cells": {
             "fill": {
              "color": "#EBF0F8"
             },
             "line": {
              "color": "white"
             }
            },
            "header": {
             "fill": {
              "color": "#C8D4E3"
             },
             "line": {
              "color": "white"
             }
            },
            "type": "table"
           }
          ]
         },
         "layout": {
          "annotationdefaults": {
           "arrowcolor": "#2a3f5f",
           "arrowhead": 0,
           "arrowwidth": 1
          },
          "autotypenumbers": "strict",
          "coloraxis": {
           "colorbar": {
            "outlinewidth": 0,
            "ticks": ""
           }
          },
          "colorscale": {
           "diverging": [
            [
             0,
             "#8e0152"
            ],
            [
             0.1,
             "#c51b7d"
            ],
            [
             0.2,
             "#de77ae"
            ],
            [
             0.3,
             "#f1b6da"
            ],
            [
             0.4,
             "#fde0ef"
            ],
            [
             0.5,
             "#f7f7f7"
            ],
            [
             0.6,
             "#e6f5d0"
            ],
            [
             0.7,
             "#b8e186"
            ],
            [
             0.8,
             "#7fbc41"
            ],
            [
             0.9,
             "#4d9221"
            ],
            [
             1,
             "#276419"
            ]
           ],
           "sequential": [
            [
             0,
             "#0d0887"
            ],
            [
             0.1111111111111111,
             "#46039f"
            ],
            [
             0.2222222222222222,
             "#7201a8"
            ],
            [
             0.3333333333333333,
             "#9c179e"
            ],
            [
             0.4444444444444444,
             "#bd3786"
            ],
            [
             0.5555555555555556,
             "#d8576b"
            ],
            [
             0.6666666666666666,
             "#ed7953"
            ],
            [
             0.7777777777777778,
             "#fb9f3a"
            ],
            [
             0.8888888888888888,
             "#fdca26"
            ],
            [
             1,
             "#f0f921"
            ]
           ],
           "sequentialminus": [
            [
             0,
             "#0d0887"
            ],
            [
             0.1111111111111111,
             "#46039f"
            ],
            [
             0.2222222222222222,
             "#7201a8"
            ],
            [
             0.3333333333333333,
             "#9c179e"
            ],
            [
             0.4444444444444444,
             "#bd3786"
            ],
            [
             0.5555555555555556,
             "#d8576b"
            ],
            [
             0.6666666666666666,
             "#ed7953"
            ],
            [
             0.7777777777777778,
             "#fb9f3a"
            ],
            [
             0.8888888888888888,
             "#fdca26"
            ],
            [
             1,
             "#f0f921"
            ]
           ]
          },
          "colorway": [
           "#636efa",
           "#EF553B",
           "#00cc96",
           "#ab63fa",
           "#FFA15A",
           "#19d3f3",
           "#FF6692",
           "#B6E880",
           "#FF97FF",
           "#FECB52"
          ],
          "font": {
           "color": "#2a3f5f"
          },
          "geo": {
           "bgcolor": "white",
           "lakecolor": "white",
           "landcolor": "#E5ECF6",
           "showlakes": true,
           "showland": true,
           "subunitcolor": "white"
          },
          "hoverlabel": {
           "align": "left"
          },
          "hovermode": "closest",
          "mapbox": {
           "style": "light"
          },
          "paper_bgcolor": "white",
          "plot_bgcolor": "#E5ECF6",
          "polar": {
           "angularaxis": {
            "gridcolor": "white",
            "linecolor": "white",
            "ticks": ""
           },
           "bgcolor": "#E5ECF6",
           "radialaxis": {
            "gridcolor": "white",
            "linecolor": "white",
            "ticks": ""
           }
          },
          "scene": {
           "xaxis": {
            "backgroundcolor": "#E5ECF6",
            "gridcolor": "white",
            "gridwidth": 2,
            "linecolor": "white",
            "showbackground": true,
            "ticks": "",
            "zerolinecolor": "white"
           },
           "yaxis": {
            "backgroundcolor": "#E5ECF6",
            "gridcolor": "white",
            "gridwidth": 2,
            "linecolor": "white",
            "showbackground": true,
            "ticks": "",
            "zerolinecolor": "white"
           },
           "zaxis": {
            "backgroundcolor": "#E5ECF6",
            "gridcolor": "white",
            "gridwidth": 2,
            "linecolor": "white",
            "showbackground": true,
            "ticks": "",
            "zerolinecolor": "white"
           }
          },
          "shapedefaults": {
           "line": {
            "color": "#2a3f5f"
           }
          },
          "ternary": {
           "aaxis": {
            "gridcolor": "white",
            "linecolor": "white",
            "ticks": ""
           },
           "baxis": {
            "gridcolor": "white",
            "linecolor": "white",
            "ticks": ""
           },
           "bgcolor": "#E5ECF6",
           "caxis": {
            "gridcolor": "white",
            "linecolor": "white",
            "ticks": ""
           }
          },
          "title": {
           "x": 0.05
          },
          "xaxis": {
           "automargin": true,
           "gridcolor": "white",
           "linecolor": "white",
           "ticks": "",
           "title": {
            "standoff": 15
           },
           "zerolinecolor": "white",
           "zerolinewidth": 2
          },
          "yaxis": {
           "automargin": true,
           "gridcolor": "white",
           "linecolor": "white",
           "ticks": "",
           "title": {
            "standoff": 15
           },
           "zerolinecolor": "white",
           "zerolinewidth": 2
          }
         }
        },
        "title": {
         "text": "FORGE16aApril24BackgroundStage 7b.csv",
         "x": 0.5
        },
        "width": 800
       }
      }
     },
     "metadata": {},
     "output_type": "display_data"
    },
    {
     "data": {
      "application/vnd.plotly.v1+json": {
       "config": {
        "plotlyServerURL": "https://plot.ly"
       },
       "data": [
        {
         "hovertemplate": "X Coordinate (m)=%{x}<br>Y Coordinate (m)=%{y}<br>Depth (m)=%{z}<br>size=%{marker.size}<br>Moment Magnitude=%{marker.color}<extra></extra>",
         "legendgroup": "",
         "marker": {
          "color": {
           "bdata": "cT0K16NwzT+4HoXrUbiuP7gehetRuL6/16NwPQrX07/hehSuR+HKP/YoXI/C9eA/16NwPQrX4z+kcD0K16PQP7gehetRuJ4/UrgehetRyL+4HoXrUbjOv+xRuB6F6+E/w/UoXI/C1T8zMzMzMzPjP3sUrkfherS/MzMzMzMz07+F61G4HoXbP5qZmZmZmbk/uB6F61G4vj8K16NwPQrHv7gehetRuK4/7FG4HoXrwT+4HoXrUbi+P1K4HoXrUeg/FK5H4XoU5j/hehSuR+HKPylcj8L1KMw/exSuR+F6lL8pXI/C9SjMP7gehetRuK4/cT0K16NwzT9cj8L1KFzfP0jhehSuR9E/exSuR+F6hL8UrkfhehTeP+xRuB6F69E/4XoUrkfh2j+amZmZmZm5P3sUrkfheoS/7FG4HoXrsb8K16NwPQq3P/YoXI/C9eA/exSuR+F6tL/sUbgehevhP7gehetRuK4/w/UoXI/CxT8pXI/C9Si8P4XrUbgehds/CtejcD0Kxz8K16NwPQq3P6RwPQrXo+A/mpmZmZmZ2T/sUbgehevBP3sUrkfhepS/4XoUrkfh2j8pXI/C9SjMP3sUrkfherQ/j8L1KFyP0j9SuB6F61HIv3sUrkfheqS/KVyPwvUozD97FK5H4XrEvzMzMzMzM8O/cT0K16Nw3T8pXI/C9SjcP3E9CtejcM0/uB6F61G45j97FK5H4XqkPwAAAAAAANA/pHA9Ctej0D/hehSuR+HKPzMzMzMzM8M/7FG4HoXr0T+4HoXrUbiev+xRuB6F69E/exSuR+F6xL+amZmZmZm5P5qZmZmZmam/AAAAAAAA0D8pXI/C9Si8P7gehetRuL6/uB6F61G4vj97FK5H4XrUPzMzMzMzM+M/7FG4HoXrwT97FK5H4XqkP+F6FK5H4do/cT0K16NwzT9xPQrXo3DdP7gehetRuJ4/16NwPQrX4z/sUbgehevRP+F6FK5H4do/exSuR+F6tD97FK5H4Xqkv2ZmZmZmZu4/CtejcD0K5z/hehSuR+HKP1K4HoXrUci/KVyPwvUozD+uR+F6FK7XPzMzMzMzM9M/exSuR+F6tD+4HoXrUbi+v+xRuB6F67G/MzMzMzMzwz8pXI/C9Si8v7gehetRuK4/CtejcD0Kt78K16NwPQrHPwrXo3A9Csc/uB6F61G4vj97FK5H4XrEv1yPwvUoXN8/uB6F61G49j/D9Shcj8LlPx+F61G4HuU/SOF6FK5H0T+4HoXrUbi+P65H4XoUruc/KVyPwvUozD8K16NwPQrHvzMzMzMzM9M/AAAAAAAA4D+amZmZmZnJPz0K16NwPdo/KVyPwvUovD/D9Shcj8LFP3sUrkfheoQ/exSuR+F6tD+amZmZmZnZP5qZmZmZmdk/7FG4HoXrsT+kcD0K16PQP8P1KFyPwsW/",
           "dtype": "f8"
          },
          "coloraxis": "coloraxis",
          "line": {
           "width": 0
          },
          "opacity": 0.7,
          "size": {
           "bdata": "AQEBAQEBAQEBAQEBAQEBAQEBAQEBAQEBAQEBAQEBAQEBAQEBAQEBAQEBAQEBAQEBAQEBAQEBAQEBAQEBAQEBAQEBAQEBAQEBAQEBAQEBAQEBAQEBAQEBAQEBAQEBAQEBAQEBAQEBAQEBAQEBAQEBAQEBAQEBAQEBAQEBAQEBAQEBAQEBAQEB",
           "dtype": "i1"
          },
          "sizemode": "area",
          "sizeref": 0.00510204081632653,
          "symbol": "circle"
         },
         "mode": "markers",
         "name": "",
         "scene": "scene",
         "showlegend": false,
         "type": "scatter3d",
         "x": {
          "bdata": "EAnACPII/AhwCCQJ1AhwCC4JugkQCaIItghCCfII3giOCFwItggqCN4IJAkKCsAI/AhMCXQJ8gjACOgIiAkaCRoJogjoCKIIjgg4CQAKxAmYCPwI/AisCMQJSAhqCWoJjgjoCNQIygjeCH4JogisCEwJmAgGCfwIVgl6CEIJYAmICaIInAkuCfwIagnUCPIIJAmICcQJoghwCPwITgyYCMQJogh6CJwJegjoCMoIagkCDcQJ8gjKCAAKzgnyCLYI1AiICRoJLgkaCegIsAk4Cd4IBgnyCGYIhAiOCEIJ1AjyCHAIZggkCRYI/AiSCQYJTAm2CN4ItggkCTgJ4gkKCnAIWgr8CJIJSA22CPwI",
          "dtype": "i2"
         },
         "y": {
          "bdata": "MPio+CD5bPhY+Hz3pPfM95r3oPty99b3JviG90j5Ovgw+Er8CPiI+jb3GPcI+Gj30vZ49h77Svci/IT5oPsO99z2tvly9xr6CPii+YT5SP44+l73SPno+Ub7Fv5U97779Pfu+OD3EvjK+QT8ivh896T3HPgg/gz5mPmK+Lr6GPwW+Sr+zPwyAKD2hvyG9w738vmG9xj89Pe8+Kj9GPyu99L7wvcI+KD7Bvos98z3BvpYAij7fPdY+Lz4rvyE+V73QPd2+MD50vbm9vT3vP2E+Zz/TPqE+Vz5rvfA+TD4hvdw+a73hvdU97T7GPfg9/r25vsG/xj3vP309wT3zvrs+vT3+P1U91D7qALC92j3",
          "dtype": "i2"
         },
         "z": {
          "bdata": "iB0UHtgd1ByuH3IfRh5GHuId7BgKHkAfSh9oHx4eWh6uH+YefB82GoweKB6kH6QfkB9GHkYZkh3iHQAeChkoHvYdvh48HpYemh/eHOwYABkiH64fsB20HuwYkhhKH9wZSh/sHUofUB50HeAabh7YHY4crh/IHgAeehzwHnIavhlOIMQYxBjWGm4eyBleH1AeghmoG1AZ0h4SIAAZ6hrWH8QYVB98HzwZDh/wHvYdphhiICgZKB6WHhwg+CCSHdYf0h7YGN4c7B0KHhQephiOHKoZDh+IHXIfch94Hnwf0h4KHiwfSh8oHjAgWh7yHB4eNCEsH1Aezhj+Hy4d7BgkGAAeBiJkHtogxiAKHgAe",
          "dtype": "i2"
         }
        }
       ],
       "layout": {
        "coloraxis": {
         "cmax": 1.85,
         "cmin": -1.09,
         "colorbar": {
          "ticklen": 6,
          "tickmode": "array",
          "ticks": "outside",
          "tickvals": [
           -1.09,
           -1,
           -0.5,
           0,
           0.5,
           1,
           1.5,
           1.85
          ],
          "tickwidth": 1,
          "title": {
           "side": "top",
           "text": "Moment Magnitude"
          }
         },
         "colorscale": [
          [
           0,
           "#0d0887"
          ],
          [
           0.1111111111111111,
           "#46039f"
          ],
          [
           0.2222222222222222,
           "#7201a8"
          ],
          [
           0.3333333333333333,
           "#9c179e"
          ],
          [
           0.4444444444444444,
           "#bd3786"
          ],
          [
           0.5555555555555556,
           "#d8576b"
          ],
          [
           0.6666666666666666,
           "#ed7953"
          ],
          [
           0.7777777777777778,
           "#fb9f3a"
          ],
          [
           0.8888888888888888,
           "#fdca26"
          ],
          [
           1,
           "#f0f921"
          ]
         ]
        },
        "height": 600,
        "legend": {
         "itemsizing": "constant",
         "tracegroupgap": 0
        },
        "margin": {
         "b": 40,
         "l": 40,
         "r": 40,
         "t": 40
        },
        "scene": {
         "aspectmode": "cube",
         "camera": {
          "eye": {
           "x": 1.5,
           "y": 1.5,
           "z": 1.5
          }
         },
         "domain": {
          "x": [
           0,
           1
          ],
          "y": [
           0,
           1
          ]
         },
         "xaxis": {
          "range": [
           -3660,
           3890
          ],
          "title": {
           "text": "X Coordinate (m)"
          }
         },
         "yaxis": {
          "range": [
           -5060,
           1180
          ],
          "title": {
           "text": "Y Coordinate (m)"
          }
         },
         "zaxis": {
          "range": [
           9500,
           5580
          ],
          "title": {
           "text": "Depth (m)"
          }
         }
        },
        "template": {
         "data": {
          "bar": [
           {
            "error_x": {
             "color": "#2a3f5f"
            },
            "error_y": {
             "color": "#2a3f5f"
            },
            "marker": {
             "line": {
              "color": "#E5ECF6",
              "width": 0.5
             },
             "pattern": {
              "fillmode": "overlay",
              "size": 10,
              "solidity": 0.2
             }
            },
            "type": "bar"
           }
          ],
          "barpolar": [
           {
            "marker": {
             "line": {
              "color": "#E5ECF6",
              "width": 0.5
             },
             "pattern": {
              "fillmode": "overlay",
              "size": 10,
              "solidity": 0.2
             }
            },
            "type": "barpolar"
           }
          ],
          "carpet": [
           {
            "aaxis": {
             "endlinecolor": "#2a3f5f",
             "gridcolor": "white",
             "linecolor": "white",
             "minorgridcolor": "white",
             "startlinecolor": "#2a3f5f"
            },
            "baxis": {
             "endlinecolor": "#2a3f5f",
             "gridcolor": "white",
             "linecolor": "white",
             "minorgridcolor": "white",
             "startlinecolor": "#2a3f5f"
            },
            "type": "carpet"
           }
          ],
          "choropleth": [
           {
            "colorbar": {
             "outlinewidth": 0,
             "ticks": ""
            },
            "type": "choropleth"
           }
          ],
          "contour": [
           {
            "colorbar": {
             "outlinewidth": 0,
             "ticks": ""
            },
            "colorscale": [
             [
              0,
              "#0d0887"
             ],
             [
              0.1111111111111111,
              "#46039f"
             ],
             [
              0.2222222222222222,
              "#7201a8"
             ],
             [
              0.3333333333333333,
              "#9c179e"
             ],
             [
              0.4444444444444444,
              "#bd3786"
             ],
             [
              0.5555555555555556,
              "#d8576b"
             ],
             [
              0.6666666666666666,
              "#ed7953"
             ],
             [
              0.7777777777777778,
              "#fb9f3a"
             ],
             [
              0.8888888888888888,
              "#fdca26"
             ],
             [
              1,
              "#f0f921"
             ]
            ],
            "type": "contour"
           }
          ],
          "contourcarpet": [
           {
            "colorbar": {
             "outlinewidth": 0,
             "ticks": ""
            },
            "type": "contourcarpet"
           }
          ],
          "heatmap": [
           {
            "colorbar": {
             "outlinewidth": 0,
             "ticks": ""
            },
            "colorscale": [
             [
              0,
              "#0d0887"
             ],
             [
              0.1111111111111111,
              "#46039f"
             ],
             [
              0.2222222222222222,
              "#7201a8"
             ],
             [
              0.3333333333333333,
              "#9c179e"
             ],
             [
              0.4444444444444444,
              "#bd3786"
             ],
             [
              0.5555555555555556,
              "#d8576b"
             ],
             [
              0.6666666666666666,
              "#ed7953"
             ],
             [
              0.7777777777777778,
              "#fb9f3a"
             ],
             [
              0.8888888888888888,
              "#fdca26"
             ],
             [
              1,
              "#f0f921"
             ]
            ],
            "type": "heatmap"
           }
          ],
          "histogram": [
           {
            "marker": {
             "pattern": {
              "fillmode": "overlay",
              "size": 10,
              "solidity": 0.2
             }
            },
            "type": "histogram"
           }
          ],
          "histogram2d": [
           {
            "colorbar": {
             "outlinewidth": 0,
             "ticks": ""
            },
            "colorscale": [
             [
              0,
              "#0d0887"
             ],
             [
              0.1111111111111111,
              "#46039f"
             ],
             [
              0.2222222222222222,
              "#7201a8"
             ],
             [
              0.3333333333333333,
              "#9c179e"
             ],
             [
              0.4444444444444444,
              "#bd3786"
             ],
             [
              0.5555555555555556,
              "#d8576b"
             ],
             [
              0.6666666666666666,
              "#ed7953"
             ],
             [
              0.7777777777777778,
              "#fb9f3a"
             ],
             [
              0.8888888888888888,
              "#fdca26"
             ],
             [
              1,
              "#f0f921"
             ]
            ],
            "type": "histogram2d"
           }
          ],
          "histogram2dcontour": [
           {
            "colorbar": {
             "outlinewidth": 0,
             "ticks": ""
            },
            "colorscale": [
             [
              0,
              "#0d0887"
             ],
             [
              0.1111111111111111,
              "#46039f"
             ],
             [
              0.2222222222222222,
              "#7201a8"
             ],
             [
              0.3333333333333333,
              "#9c179e"
             ],
             [
              0.4444444444444444,
              "#bd3786"
             ],
             [
              0.5555555555555556,
              "#d8576b"
             ],
             [
              0.6666666666666666,
              "#ed7953"
             ],
             [
              0.7777777777777778,
              "#fb9f3a"
             ],
             [
              0.8888888888888888,
              "#fdca26"
             ],
             [
              1,
              "#f0f921"
             ]
            ],
            "type": "histogram2dcontour"
           }
          ],
          "mesh3d": [
           {
            "colorbar": {
             "outlinewidth": 0,
             "ticks": ""
            },
            "type": "mesh3d"
           }
          ],
          "parcoords": [
           {
            "line": {
             "colorbar": {
              "outlinewidth": 0,
              "ticks": ""
             }
            },
            "type": "parcoords"
           }
          ],
          "pie": [
           {
            "automargin": true,
            "type": "pie"
           }
          ],
          "scatter": [
           {
            "fillpattern": {
             "fillmode": "overlay",
             "size": 10,
             "solidity": 0.2
            },
            "type": "scatter"
           }
          ],
          "scatter3d": [
           {
            "line": {
             "colorbar": {
              "outlinewidth": 0,
              "ticks": ""
             }
            },
            "marker": {
             "colorbar": {
              "outlinewidth": 0,
              "ticks": ""
             }
            },
            "type": "scatter3d"
           }
          ],
          "scattercarpet": [
           {
            "marker": {
             "colorbar": {
              "outlinewidth": 0,
              "ticks": ""
             }
            },
            "type": "scattercarpet"
           }
          ],
          "scattergeo": [
           {
            "marker": {
             "colorbar": {
              "outlinewidth": 0,
              "ticks": ""
             }
            },
            "type": "scattergeo"
           }
          ],
          "scattergl": [
           {
            "marker": {
             "colorbar": {
              "outlinewidth": 0,
              "ticks": ""
             }
            },
            "type": "scattergl"
           }
          ],
          "scattermap": [
           {
            "marker": {
             "colorbar": {
              "outlinewidth": 0,
              "ticks": ""
             }
            },
            "type": "scattermap"
           }
          ],
          "scattermapbox": [
           {
            "marker": {
             "colorbar": {
              "outlinewidth": 0,
              "ticks": ""
             }
            },
            "type": "scattermapbox"
           }
          ],
          "scatterpolar": [
           {
            "marker": {
             "colorbar": {
              "outlinewidth": 0,
              "ticks": ""
             }
            },
            "type": "scatterpolar"
           }
          ],
          "scatterpolargl": [
           {
            "marker": {
             "colorbar": {
              "outlinewidth": 0,
              "ticks": ""
             }
            },
            "type": "scatterpolargl"
           }
          ],
          "scatterternary": [
           {
            "marker": {
             "colorbar": {
              "outlinewidth": 0,
              "ticks": ""
             }
            },
            "type": "scatterternary"
           }
          ],
          "surface": [
           {
            "colorbar": {
             "outlinewidth": 0,
             "ticks": ""
            },
            "colorscale": [
             [
              0,
              "#0d0887"
             ],
             [
              0.1111111111111111,
              "#46039f"
             ],
             [
              0.2222222222222222,
              "#7201a8"
             ],
             [
              0.3333333333333333,
              "#9c179e"
             ],
             [
              0.4444444444444444,
              "#bd3786"
             ],
             [
              0.5555555555555556,
              "#d8576b"
             ],
             [
              0.6666666666666666,
              "#ed7953"
             ],
             [
              0.7777777777777778,
              "#fb9f3a"
             ],
             [
              0.8888888888888888,
              "#fdca26"
             ],
             [
              1,
              "#f0f921"
             ]
            ],
            "type": "surface"
           }
          ],
          "table": [
           {
            "cells": {
             "fill": {
              "color": "#EBF0F8"
             },
             "line": {
              "color": "white"
             }
            },
            "header": {
             "fill": {
              "color": "#C8D4E3"
             },
             "line": {
              "color": "white"
             }
            },
            "type": "table"
           }
          ]
         },
         "layout": {
          "annotationdefaults": {
           "arrowcolor": "#2a3f5f",
           "arrowhead": 0,
           "arrowwidth": 1
          },
          "autotypenumbers": "strict",
          "coloraxis": {
           "colorbar": {
            "outlinewidth": 0,
            "ticks": ""
           }
          },
          "colorscale": {
           "diverging": [
            [
             0,
             "#8e0152"
            ],
            [
             0.1,
             "#c51b7d"
            ],
            [
             0.2,
             "#de77ae"
            ],
            [
             0.3,
             "#f1b6da"
            ],
            [
             0.4,
             "#fde0ef"
            ],
            [
             0.5,
             "#f7f7f7"
            ],
            [
             0.6,
             "#e6f5d0"
            ],
            [
             0.7,
             "#b8e186"
            ],
            [
             0.8,
             "#7fbc41"
            ],
            [
             0.9,
             "#4d9221"
            ],
            [
             1,
             "#276419"
            ]
           ],
           "sequential": [
            [
             0,
             "#0d0887"
            ],
            [
             0.1111111111111111,
             "#46039f"
            ],
            [
             0.2222222222222222,
             "#7201a8"
            ],
            [
             0.3333333333333333,
             "#9c179e"
            ],
            [
             0.4444444444444444,
             "#bd3786"
            ],
            [
             0.5555555555555556,
             "#d8576b"
            ],
            [
             0.6666666666666666,
             "#ed7953"
            ],
            [
             0.7777777777777778,
             "#fb9f3a"
            ],
            [
             0.8888888888888888,
             "#fdca26"
            ],
            [
             1,
             "#f0f921"
            ]
           ],
           "sequentialminus": [
            [
             0,
             "#0d0887"
            ],
            [
             0.1111111111111111,
             "#46039f"
            ],
            [
             0.2222222222222222,
             "#7201a8"
            ],
            [
             0.3333333333333333,
             "#9c179e"
            ],
            [
             0.4444444444444444,
             "#bd3786"
            ],
            [
             0.5555555555555556,
             "#d8576b"
            ],
            [
             0.6666666666666666,
             "#ed7953"
            ],
            [
             0.7777777777777778,
             "#fb9f3a"
            ],
            [
             0.8888888888888888,
             "#fdca26"
            ],
            [
             1,
             "#f0f921"
            ]
           ]
          },
          "colorway": [
           "#636efa",
           "#EF553B",
           "#00cc96",
           "#ab63fa",
           "#FFA15A",
           "#19d3f3",
           "#FF6692",
           "#B6E880",
           "#FF97FF",
           "#FECB52"
          ],
          "font": {
           "color": "#2a3f5f"
          },
          "geo": {
           "bgcolor": "white",
           "lakecolor": "white",
           "landcolor": "#E5ECF6",
           "showlakes": true,
           "showland": true,
           "subunitcolor": "white"
          },
          "hoverlabel": {
           "align": "left"
          },
          "hovermode": "closest",
          "mapbox": {
           "style": "light"
          },
          "paper_bgcolor": "white",
          "plot_bgcolor": "#E5ECF6",
          "polar": {
           "angularaxis": {
            "gridcolor": "white",
            "linecolor": "white",
            "ticks": ""
           },
           "bgcolor": "#E5ECF6",
           "radialaxis": {
            "gridcolor": "white",
            "linecolor": "white",
            "ticks": ""
           }
          },
          "scene": {
           "xaxis": {
            "backgroundcolor": "#E5ECF6",
            "gridcolor": "white",
            "gridwidth": 2,
            "linecolor": "white",
            "showbackground": true,
            "ticks": "",
            "zerolinecolor": "white"
           },
           "yaxis": {
            "backgroundcolor": "#E5ECF6",
            "gridcolor": "white",
            "gridwidth": 2,
            "linecolor": "white",
            "showbackground": true,
            "ticks": "",
            "zerolinecolor": "white"
           },
           "zaxis": {
            "backgroundcolor": "#E5ECF6",
            "gridcolor": "white",
            "gridwidth": 2,
            "linecolor": "white",
            "showbackground": true,
            "ticks": "",
            "zerolinecolor": "white"
           }
          },
          "shapedefaults": {
           "line": {
            "color": "#2a3f5f"
           }
          },
          "ternary": {
           "aaxis": {
            "gridcolor": "white",
            "linecolor": "white",
            "ticks": ""
           },
           "baxis": {
            "gridcolor": "white",
            "linecolor": "white",
            "ticks": ""
           },
           "bgcolor": "#E5ECF6",
           "caxis": {
            "gridcolor": "white",
            "linecolor": "white",
            "ticks": ""
           }
          },
          "title": {
           "x": 0.05
          },
          "xaxis": {
           "automargin": true,
           "gridcolor": "white",
           "linecolor": "white",
           "ticks": "",
           "title": {
            "standoff": 15
           },
           "zerolinecolor": "white",
           "zerolinewidth": 2
          },
          "yaxis": {
           "automargin": true,
           "gridcolor": "white",
           "linecolor": "white",
           "ticks": "",
           "title": {
            "standoff": 15
           },
           "zerolinecolor": "white",
           "zerolinewidth": 2
          }
         }
        },
        "title": {
         "text": "FORGE16aApril24BackgroundStage 10.csv",
         "x": 0.5
        },
        "width": 800
       }
      }
     },
     "metadata": {},
     "output_type": "display_data"
    },
    {
     "name": "stdout",
     "output_type": "stream",
     "text": [
      "  Generated 20/26 plots...\n"
     ]
    },
    {
     "data": {
      "application/vnd.plotly.v1+json": {
       "config": {
        "plotlyServerURL": "https://plot.ly"
       },
       "data": [
        {
         "hovertemplate": "X Coordinate (m)=%{x}<br>Y Coordinate (m)=%{y}<br>Depth (m)=%{z}<br>size=%{marker.size}<br>Moment Magnitude=%{marker.color}<extra></extra>",
         "legendgroup": "",
         "marker": {
          "color": {
           "bdata": "7FG4HoXrwT97FK5H4XqkvwrXo3A9Ctc/UrgehetRyL8zMzMzMzPDP/YoXI/C9eA/4XoUrkfhyj8pXI/C9Si8vwAAAAAAANC/uB6F61G4rj/hehSuR+HKP0jhehSuR9E/uB6F61G4nj9cj8L1KFzfP3sUrkfherS/exSuR+F6hD89CtejcD3aP65H4XoUrtc/KVyPwvUozL8pXI/C9SjMPwrXo3A9Cre/mpmZmZmZ2T/sUbgeheuxvwrXo3A9Cse/uB6F61G4vr9xPQrXo3DNP3sUrkfhetQ/mpmZmZmZyT+4HoXrUbiev5qZmZmZmck/uB6F61G4vj8K16NwPQrHP+F6FK5H4co/exSuR+F6hL97FK5H4XqEPz0K16NwPdo/uB6F61G4nj8AAAAAAADQP1K4HoXrUcg/w/UoXI/C5T8AAAAAAADQv7gehetRuK4/MzMzMzMzw789CtejcD3aP6RwPQrXo8C/exSuR+F6hL/Xo3A9CtfrPzMzMzMzM9M/CtejcD0Kxz8AAAAAAADQv5qZmZmZmam/7FG4HoXrsb+4HoXrUbiuP0jhehSuR+k/exSuR+F6lD97FK5H4XqkP7gehetRuL6/zczMzMzM3D/hehSuR+HKvzMzMzMzM8O/AAAAAAAA0L+amZmZmZm5Pw==",
           "dtype": "f8"
          },
          "coloraxis": "coloraxis",
          "line": {
           "width": 0
          },
          "opacity": 0.7,
          "size": {
           "bdata": "AQEBAQEBAQEBAQEBAQEBAQEBAQEBAQEBAQEBAQEBAQEBAQEBAQEBAQEBAQEBAQEBAQEBAQEBAQEBAQEBAQE=",
           "dtype": "i1"
          },
          "sizemode": "area",
          "sizeref": 0.00510204081632653,
          "symbol": "circle"
         },
         "mode": "markers",
         "name": "",
         "scene": "scene",
         "showlegend": false,
         "type": "scatter3d",
         "x": {
          "bdata": "8gguCRAJPgjyCJIJygj4B2AJ1Aj8CC4JEAnACJgILglcCCQJUggaCQYJcAiwCYYL1AhcCOgIagkuCfIITAlWCfYJQgnaDPIImAhgCRAJIAjkByoIpgl6CLAJ3gh0CegIngxWCZIJhAhwCHQJEAnyCNQINAhSCC4J2AnUCA==",
          "dtype": "i2"
         },
         "y": {
          "bdata": "VPfM/BL4OP+g9hb5BPfU/m4AvPgO94z2TPoY95r3jPYw+PD2MPgs91731ve++8gAMPgw+Ej5tPb69uT4lPhI+Wz4lvY6Aiz3BPeW9sj2MPgw+DD4Bv8w+LT7aPdg/w736gHE+rT7bgD090z/LPeq9lD7uPcw+Jz6Fvni+g==",
          "dtype": "i2"
         },
         "z": {
          "bdata": "AB4gIdYfjBkAHgggLB8EJP4fhByqHmYcrhqGH6Qflh4eHloezB8oHpYeKB7OGAYdlh7aIMwfthweHq4fMhkSIDogbh4WIYwefB/AHDwe5h7kILgfKBlaHs4YRh6wGDweoiFeGpIYXiT+H34YUB4YH1YYHCDQIIYaPiHMGg==",
          "dtype": "i2"
         }
        }
       ],
       "layout": {
        "coloraxis": {
         "cmax": 1.85,
         "cmin": -1.09,
         "colorbar": {
          "ticklen": 6,
          "tickmode": "array",
          "ticks": "outside",
          "tickvals": [
           -1.09,
           -1,
           -0.5,
           0,
           0.5,
           1,
           1.5,
           1.85
          ],
          "tickwidth": 1,
          "title": {
           "side": "top",
           "text": "Moment Magnitude"
          }
         },
         "colorscale": [
          [
           0,
           "#0d0887"
          ],
          [
           0.1111111111111111,
           "#46039f"
          ],
          [
           0.2222222222222222,
           "#7201a8"
          ],
          [
           0.3333333333333333,
           "#9c179e"
          ],
          [
           0.4444444444444444,
           "#bd3786"
          ],
          [
           0.5555555555555556,
           "#d8576b"
          ],
          [
           0.6666666666666666,
           "#ed7953"
          ],
          [
           0.7777777777777778,
           "#fb9f3a"
          ],
          [
           0.8888888888888888,
           "#fdca26"
          ],
          [
           1,
           "#f0f921"
          ]
         ]
        },
        "height": 600,
        "legend": {
         "itemsizing": "constant",
         "tracegroupgap": 0
        },
        "margin": {
         "b": 40,
         "l": 40,
         "r": 40,
         "t": 40
        },
        "scene": {
         "aspectmode": "cube",
         "camera": {
          "eye": {
           "x": 1.5,
           "y": 1.5,
           "z": 1.5
          }
         },
         "domain": {
          "x": [
           0,
           1
          ],
          "y": [
           0,
           1
          ]
         },
         "xaxis": {
          "range": [
           -3660,
           3890
          ],
          "title": {
           "text": "X Coordinate (m)"
          }
         },
         "yaxis": {
          "range": [
           -5060,
           1180
          ],
          "title": {
           "text": "Y Coordinate (m)"
          }
         },
         "zaxis": {
          "range": [
           9500,
           5580
          ],
          "title": {
           "text": "Depth (m)"
          }
         }
        },
        "template": {
         "data": {
          "bar": [
           {
            "error_x": {
             "color": "#2a3f5f"
            },
            "error_y": {
             "color": "#2a3f5f"
            },
            "marker": {
             "line": {
              "color": "#E5ECF6",
              "width": 0.5
             },
             "pattern": {
              "fillmode": "overlay",
              "size": 10,
              "solidity": 0.2
             }
            },
            "type": "bar"
           }
          ],
          "barpolar": [
           {
            "marker": {
             "line": {
              "color": "#E5ECF6",
              "width": 0.5
             },
             "pattern": {
              "fillmode": "overlay",
              "size": 10,
              "solidity": 0.2
             }
            },
            "type": "barpolar"
           }
          ],
          "carpet": [
           {
            "aaxis": {
             "endlinecolor": "#2a3f5f",
             "gridcolor": "white",
             "linecolor": "white",
             "minorgridcolor": "white",
             "startlinecolor": "#2a3f5f"
            },
            "baxis": {
             "endlinecolor": "#2a3f5f",
             "gridcolor": "white",
             "linecolor": "white",
             "minorgridcolor": "white",
             "startlinecolor": "#2a3f5f"
            },
            "type": "carpet"
           }
          ],
          "choropleth": [
           {
            "colorbar": {
             "outlinewidth": 0,
             "ticks": ""
            },
            "type": "choropleth"
           }
          ],
          "contour": [
           {
            "colorbar": {
             "outlinewidth": 0,
             "ticks": ""
            },
            "colorscale": [
             [
              0,
              "#0d0887"
             ],
             [
              0.1111111111111111,
              "#46039f"
             ],
             [
              0.2222222222222222,
              "#7201a8"
             ],
             [
              0.3333333333333333,
              "#9c179e"
             ],
             [
              0.4444444444444444,
              "#bd3786"
             ],
             [
              0.5555555555555556,
              "#d8576b"
             ],
             [
              0.6666666666666666,
              "#ed7953"
             ],
             [
              0.7777777777777778,
              "#fb9f3a"
             ],
             [
              0.8888888888888888,
              "#fdca26"
             ],
             [
              1,
              "#f0f921"
             ]
            ],
            "type": "contour"
           }
          ],
          "contourcarpet": [
           {
            "colorbar": {
             "outlinewidth": 0,
             "ticks": ""
            },
            "type": "contourcarpet"
           }
          ],
          "heatmap": [
           {
            "colorbar": {
             "outlinewidth": 0,
             "ticks": ""
            },
            "colorscale": [
             [
              0,
              "#0d0887"
             ],
             [
              0.1111111111111111,
              "#46039f"
             ],
             [
              0.2222222222222222,
              "#7201a8"
             ],
             [
              0.3333333333333333,
              "#9c179e"
             ],
             [
              0.4444444444444444,
              "#bd3786"
             ],
             [
              0.5555555555555556,
              "#d8576b"
             ],
             [
              0.6666666666666666,
              "#ed7953"
             ],
             [
              0.7777777777777778,
              "#fb9f3a"
             ],
             [
              0.8888888888888888,
              "#fdca26"
             ],
             [
              1,
              "#f0f921"
             ]
            ],
            "type": "heatmap"
           }
          ],
          "histogram": [
           {
            "marker": {
             "pattern": {
              "fillmode": "overlay",
              "size": 10,
              "solidity": 0.2
             }
            },
            "type": "histogram"
           }
          ],
          "histogram2d": [
           {
            "colorbar": {
             "outlinewidth": 0,
             "ticks": ""
            },
            "colorscale": [
             [
              0,
              "#0d0887"
             ],
             [
              0.1111111111111111,
              "#46039f"
             ],
             [
              0.2222222222222222,
              "#7201a8"
             ],
             [
              0.3333333333333333,
              "#9c179e"
             ],
             [
              0.4444444444444444,
              "#bd3786"
             ],
             [
              0.5555555555555556,
              "#d8576b"
             ],
             [
              0.6666666666666666,
              "#ed7953"
             ],
             [
              0.7777777777777778,
              "#fb9f3a"
             ],
             [
              0.8888888888888888,
              "#fdca26"
             ],
             [
              1,
              "#f0f921"
             ]
            ],
            "type": "histogram2d"
           }
          ],
          "histogram2dcontour": [
           {
            "colorbar": {
             "outlinewidth": 0,
             "ticks": ""
            },
            "colorscale": [
             [
              0,
              "#0d0887"
             ],
             [
              0.1111111111111111,
              "#46039f"
             ],
             [
              0.2222222222222222,
              "#7201a8"
             ],
             [
              0.3333333333333333,
              "#9c179e"
             ],
             [
              0.4444444444444444,
              "#bd3786"
             ],
             [
              0.5555555555555556,
              "#d8576b"
             ],
             [
              0.6666666666666666,
              "#ed7953"
             ],
             [
              0.7777777777777778,
              "#fb9f3a"
             ],
             [
              0.8888888888888888,
              "#fdca26"
             ],
             [
              1,
              "#f0f921"
             ]
            ],
            "type": "histogram2dcontour"
           }
          ],
          "mesh3d": [
           {
            "colorbar": {
             "outlinewidth": 0,
             "ticks": ""
            },
            "type": "mesh3d"
           }
          ],
          "parcoords": [
           {
            "line": {
             "colorbar": {
              "outlinewidth": 0,
              "ticks": ""
             }
            },
            "type": "parcoords"
           }
          ],
          "pie": [
           {
            "automargin": true,
            "type": "pie"
           }
          ],
          "scatter": [
           {
            "fillpattern": {
             "fillmode": "overlay",
             "size": 10,
             "solidity": 0.2
            },
            "type": "scatter"
           }
          ],
          "scatter3d": [
           {
            "line": {
             "colorbar": {
              "outlinewidth": 0,
              "ticks": ""
             }
            },
            "marker": {
             "colorbar": {
              "outlinewidth": 0,
              "ticks": ""
             }
            },
            "type": "scatter3d"
           }
          ],
          "scattercarpet": [
           {
            "marker": {
             "colorbar": {
              "outlinewidth": 0,
              "ticks": ""
             }
            },
            "type": "scattercarpet"
           }
          ],
          "scattergeo": [
           {
            "marker": {
             "colorbar": {
              "outlinewidth": 0,
              "ticks": ""
             }
            },
            "type": "scattergeo"
           }
          ],
          "scattergl": [
           {
            "marker": {
             "colorbar": {
              "outlinewidth": 0,
              "ticks": ""
             }
            },
            "type": "scattergl"
           }
          ],
          "scattermap": [
           {
            "marker": {
             "colorbar": {
              "outlinewidth": 0,
              "ticks": ""
             }
            },
            "type": "scattermap"
           }
          ],
          "scattermapbox": [
           {
            "marker": {
             "colorbar": {
              "outlinewidth": 0,
              "ticks": ""
             }
            },
            "type": "scattermapbox"
           }
          ],
          "scatterpolar": [
           {
            "marker": {
             "colorbar": {
              "outlinewidth": 0,
              "ticks": ""
             }
            },
            "type": "scatterpolar"
           }
          ],
          "scatterpolargl": [
           {
            "marker": {
             "colorbar": {
              "outlinewidth": 0,
              "ticks": ""
             }
            },
            "type": "scatterpolargl"
           }
          ],
          "scatterternary": [
           {
            "marker": {
             "colorbar": {
              "outlinewidth": 0,
              "ticks": ""
             }
            },
            "type": "scatterternary"
           }
          ],
          "surface": [
           {
            "colorbar": {
             "outlinewidth": 0,
             "ticks": ""
            },
            "colorscale": [
             [
              0,
              "#0d0887"
             ],
             [
              0.1111111111111111,
              "#46039f"
             ],
             [
              0.2222222222222222,
              "#7201a8"
             ],
             [
              0.3333333333333333,
              "#9c179e"
             ],
             [
              0.4444444444444444,
              "#bd3786"
             ],
             [
              0.5555555555555556,
              "#d8576b"
             ],
             [
              0.6666666666666666,
              "#ed7953"
             ],
             [
              0.7777777777777778,
              "#fb9f3a"
             ],
             [
              0.8888888888888888,
              "#fdca26"
             ],
             [
              1,
              "#f0f921"
             ]
            ],
            "type": "surface"
           }
          ],
          "table": [
           {
            "cells": {
             "fill": {
              "color": "#EBF0F8"
             },
             "line": {
              "color": "white"
             }
            },
            "header": {
             "fill": {
              "color": "#C8D4E3"
             },
             "line": {
              "color": "white"
             }
            },
            "type": "table"
           }
          ]
         },
         "layout": {
          "annotationdefaults": {
           "arrowcolor": "#2a3f5f",
           "arrowhead": 0,
           "arrowwidth": 1
          },
          "autotypenumbers": "strict",
          "coloraxis": {
           "colorbar": {
            "outlinewidth": 0,
            "ticks": ""
           }
          },
          "colorscale": {
           "diverging": [
            [
             0,
             "#8e0152"
            ],
            [
             0.1,
             "#c51b7d"
            ],
            [
             0.2,
             "#de77ae"
            ],
            [
             0.3,
             "#f1b6da"
            ],
            [
             0.4,
             "#fde0ef"
            ],
            [
             0.5,
             "#f7f7f7"
            ],
            [
             0.6,
             "#e6f5d0"
            ],
            [
             0.7,
             "#b8e186"
            ],
            [
             0.8,
             "#7fbc41"
            ],
            [
             0.9,
             "#4d9221"
            ],
            [
             1,
             "#276419"
            ]
           ],
           "sequential": [
            [
             0,
             "#0d0887"
            ],
            [
             0.1111111111111111,
             "#46039f"
            ],
            [
             0.2222222222222222,
             "#7201a8"
            ],
            [
             0.3333333333333333,
             "#9c179e"
            ],
            [
             0.4444444444444444,
             "#bd3786"
            ],
            [
             0.5555555555555556,
             "#d8576b"
            ],
            [
             0.6666666666666666,
             "#ed7953"
            ],
            [
             0.7777777777777778,
             "#fb9f3a"
            ],
            [
             0.8888888888888888,
             "#fdca26"
            ],
            [
             1,
             "#f0f921"
            ]
           ],
           "sequentialminus": [
            [
             0,
             "#0d0887"
            ],
            [
             0.1111111111111111,
             "#46039f"
            ],
            [
             0.2222222222222222,
             "#7201a8"
            ],
            [
             0.3333333333333333,
             "#9c179e"
            ],
            [
             0.4444444444444444,
             "#bd3786"
            ],
            [
             0.5555555555555556,
             "#d8576b"
            ],
            [
             0.6666666666666666,
             "#ed7953"
            ],
            [
             0.7777777777777778,
             "#fb9f3a"
            ],
            [
             0.8888888888888888,
             "#fdca26"
            ],
            [
             1,
             "#f0f921"
            ]
           ]
          },
          "colorway": [
           "#636efa",
           "#EF553B",
           "#00cc96",
           "#ab63fa",
           "#FFA15A",
           "#19d3f3",
           "#FF6692",
           "#B6E880",
           "#FF97FF",
           "#FECB52"
          ],
          "font": {
           "color": "#2a3f5f"
          },
          "geo": {
           "bgcolor": "white",
           "lakecolor": "white",
           "landcolor": "#E5ECF6",
           "showlakes": true,
           "showland": true,
           "subunitcolor": "white"
          },
          "hoverlabel": {
           "align": "left"
          },
          "hovermode": "closest",
          "mapbox": {
           "style": "light"
          },
          "paper_bgcolor": "white",
          "plot_bgcolor": "#E5ECF6",
          "polar": {
           "angularaxis": {
            "gridcolor": "white",
            "linecolor": "white",
            "ticks": ""
           },
           "bgcolor": "#E5ECF6",
           "radialaxis": {
            "gridcolor": "white",
            "linecolor": "white",
            "ticks": ""
           }
          },
          "scene": {
           "xaxis": {
            "backgroundcolor": "#E5ECF6",
            "gridcolor": "white",
            "gridwidth": 2,
            "linecolor": "white",
            "showbackground": true,
            "ticks": "",
            "zerolinecolor": "white"
           },
           "yaxis": {
            "backgroundcolor": "#E5ECF6",
            "gridcolor": "white",
            "gridwidth": 2,
            "linecolor": "white",
            "showbackground": true,
            "ticks": "",
            "zerolinecolor": "white"
           },
           "zaxis": {
            "backgroundcolor": "#E5ECF6",
            "gridcolor": "white",
            "gridwidth": 2,
            "linecolor": "white",
            "showbackground": true,
            "ticks": "",
            "zerolinecolor": "white"
           }
          },
          "shapedefaults": {
           "line": {
            "color": "#2a3f5f"
           }
          },
          "ternary": {
           "aaxis": {
            "gridcolor": "white",
            "linecolor": "white",
            "ticks": ""
           },
           "baxis": {
            "gridcolor": "white",
            "linecolor": "white",
            "ticks": ""
           },
           "bgcolor": "#E5ECF6",
           "caxis": {
            "gridcolor": "white",
            "linecolor": "white",
            "ticks": ""
           }
          },
          "title": {
           "x": 0.05
          },
          "xaxis": {
           "automargin": true,
           "gridcolor": "white",
           "linecolor": "white",
           "ticks": "",
           "title": {
            "standoff": 15
           },
           "zerolinecolor": "white",
           "zerolinewidth": 2
          },
          "yaxis": {
           "automargin": true,
           "gridcolor": "white",
           "linecolor": "white",
           "ticks": "",
           "title": {
            "standoff": 15
           },
           "zerolinecolor": "white",
           "zerolinewidth": 2
          }
         }
        },
        "title": {
         "text": "FORGE16aApril24BackgroundStage 10B.csv",
         "x": 0.5
        },
        "width": 800
       }
      }
     },
     "metadata": {},
     "output_type": "display_data"
    },
    {
     "data": {
      "application/vnd.plotly.v1+json": {
       "config": {
        "plotlyServerURL": "https://plot.ly"
       },
       "data": [
        {
         "hovertemplate": "X Coordinate (m)=%{x}<br>Y Coordinate (m)=%{y}<br>Depth (m)=%{z}<br>size=%{marker.size}<br>Moment Magnitude=%{marker.color}<extra></extra>",
         "legendgroup": "",
         "marker": {
          "color": {
           "bdata": "j8L1KFyP0r/2KFyPwvXYP6RwPQrXo8C/cT0K16Nw3T97FK5H4XrEvwrXo3A9Cse/CtejcD0Kx7+amZmZmZmpPylcj8L1KNy/w/UoXI/C5T8pXI/C9Sjkv4/C9Shcj+K/PQrXo3A92j8zMzMzMzPTvwAAAAAAANA/SOF6FK5H4b9cj8L1KFzfv7gehetRuJ4/",
           "dtype": "f8"
          },
          "coloraxis": "coloraxis",
          "line": {
           "width": 0
          },
          "opacity": 0.7,
          "size": {
           "bdata": "AQEBAQEBAQEBAQEBAQEBAQEB",
           "dtype": "i1"
          },
          "sizemode": "area",
          "sizeref": 0.00510204081632653,
          "symbol": "circle"
         },
         "mode": "markers",
         "name": "",
         "scene": "scene",
         "showlegend": false,
         "type": "scatter3d",
         "x": {
          "bdata": "KghICDYLUg1SCD4I0AcuCZgIrAhcCD4IyAqYCD4NqAzaB0gI",
          "dtype": "i2"
         },
         "y": {
          "bdata": "CgDg/CD+mgGc/+L61vdk9qb/HvYM/gb/9v9q/5z6OPo6/Xj2",
          "dtype": "i2"
         },
         "z": {
          "bdata": "9B+kH0ghYiDMH0QbBB++HlQf+CCQH7gfiCJUH7AdUB64H3Yg",
          "dtype": "i2"
         }
        }
       ],
       "layout": {
        "coloraxis": {
         "cmax": 1.85,
         "cmin": -1.09,
         "colorbar": {
          "ticklen": 6,
          "tickmode": "array",
          "ticks": "outside",
          "tickvals": [
           -1.09,
           -1,
           -0.5,
           0,
           0.5,
           1,
           1.5,
           1.85
          ],
          "tickwidth": 1,
          "title": {
           "side": "top",
           "text": "Moment Magnitude"
          }
         },
         "colorscale": [
          [
           0,
           "#0d0887"
          ],
          [
           0.1111111111111111,
           "#46039f"
          ],
          [
           0.2222222222222222,
           "#7201a8"
          ],
          [
           0.3333333333333333,
           "#9c179e"
          ],
          [
           0.4444444444444444,
           "#bd3786"
          ],
          [
           0.5555555555555556,
           "#d8576b"
          ],
          [
           0.6666666666666666,
           "#ed7953"
          ],
          [
           0.7777777777777778,
           "#fb9f3a"
          ],
          [
           0.8888888888888888,
           "#fdca26"
          ],
          [
           1,
           "#f0f921"
          ]
         ]
        },
        "height": 600,
        "legend": {
         "itemsizing": "constant",
         "tracegroupgap": 0
        },
        "margin": {
         "b": 40,
         "l": 40,
         "r": 40,
         "t": 40
        },
        "scene": {
         "aspectmode": "cube",
         "camera": {
          "eye": {
           "x": 1.5,
           "y": 1.5,
           "z": 1.5
          }
         },
         "domain": {
          "x": [
           0,
           1
          ],
          "y": [
           0,
           1
          ]
         },
         "xaxis": {
          "range": [
           -3660,
           3890
          ],
          "title": {
           "text": "X Coordinate (m)"
          }
         },
         "yaxis": {
          "range": [
           -5060,
           1180
          ],
          "title": {
           "text": "Y Coordinate (m)"
          }
         },
         "zaxis": {
          "range": [
           9500,
           5580
          ],
          "title": {
           "text": "Depth (m)"
          }
         }
        },
        "template": {
         "data": {
          "bar": [
           {
            "error_x": {
             "color": "#2a3f5f"
            },
            "error_y": {
             "color": "#2a3f5f"
            },
            "marker": {
             "line": {
              "color": "#E5ECF6",
              "width": 0.5
             },
             "pattern": {
              "fillmode": "overlay",
              "size": 10,
              "solidity": 0.2
             }
            },
            "type": "bar"
           }
          ],
          "barpolar": [
           {
            "marker": {
             "line": {
              "color": "#E5ECF6",
              "width": 0.5
             },
             "pattern": {
              "fillmode": "overlay",
              "size": 10,
              "solidity": 0.2
             }
            },
            "type": "barpolar"
           }
          ],
          "carpet": [
           {
            "aaxis": {
             "endlinecolor": "#2a3f5f",
             "gridcolor": "white",
             "linecolor": "white",
             "minorgridcolor": "white",
             "startlinecolor": "#2a3f5f"
            },
            "baxis": {
             "endlinecolor": "#2a3f5f",
             "gridcolor": "white",
             "linecolor": "white",
             "minorgridcolor": "white",
             "startlinecolor": "#2a3f5f"
            },
            "type": "carpet"
           }
          ],
          "choropleth": [
           {
            "colorbar": {
             "outlinewidth": 0,
             "ticks": ""
            },
            "type": "choropleth"
           }
          ],
          "contour": [
           {
            "colorbar": {
             "outlinewidth": 0,
             "ticks": ""
            },
            "colorscale": [
             [
              0,
              "#0d0887"
             ],
             [
              0.1111111111111111,
              "#46039f"
             ],
             [
              0.2222222222222222,
              "#7201a8"
             ],
             [
              0.3333333333333333,
              "#9c179e"
             ],
             [
              0.4444444444444444,
              "#bd3786"
             ],
             [
              0.5555555555555556,
              "#d8576b"
             ],
             [
              0.6666666666666666,
              "#ed7953"
             ],
             [
              0.7777777777777778,
              "#fb9f3a"
             ],
             [
              0.8888888888888888,
              "#fdca26"
             ],
             [
              1,
              "#f0f921"
             ]
            ],
            "type": "contour"
           }
          ],
          "contourcarpet": [
           {
            "colorbar": {
             "outlinewidth": 0,
             "ticks": ""
            },
            "type": "contourcarpet"
           }
          ],
          "heatmap": [
           {
            "colorbar": {
             "outlinewidth": 0,
             "ticks": ""
            },
            "colorscale": [
             [
              0,
              "#0d0887"
             ],
             [
              0.1111111111111111,
              "#46039f"
             ],
             [
              0.2222222222222222,
              "#7201a8"
             ],
             [
              0.3333333333333333,
              "#9c179e"
             ],
             [
              0.4444444444444444,
              "#bd3786"
             ],
             [
              0.5555555555555556,
              "#d8576b"
             ],
             [
              0.6666666666666666,
              "#ed7953"
             ],
             [
              0.7777777777777778,
              "#fb9f3a"
             ],
             [
              0.8888888888888888,
              "#fdca26"
             ],
             [
              1,
              "#f0f921"
             ]
            ],
            "type": "heatmap"
           }
          ],
          "histogram": [
           {
            "marker": {
             "pattern": {
              "fillmode": "overlay",
              "size": 10,
              "solidity": 0.2
             }
            },
            "type": "histogram"
           }
          ],
          "histogram2d": [
           {
            "colorbar": {
             "outlinewidth": 0,
             "ticks": ""
            },
            "colorscale": [
             [
              0,
              "#0d0887"
             ],
             [
              0.1111111111111111,
              "#46039f"
             ],
             [
              0.2222222222222222,
              "#7201a8"
             ],
             [
              0.3333333333333333,
              "#9c179e"
             ],
             [
              0.4444444444444444,
              "#bd3786"
             ],
             [
              0.5555555555555556,
              "#d8576b"
             ],
             [
              0.6666666666666666,
              "#ed7953"
             ],
             [
              0.7777777777777778,
              "#fb9f3a"
             ],
             [
              0.8888888888888888,
              "#fdca26"
             ],
             [
              1,
              "#f0f921"
             ]
            ],
            "type": "histogram2d"
           }
          ],
          "histogram2dcontour": [
           {
            "colorbar": {
             "outlinewidth": 0,
             "ticks": ""
            },
            "colorscale": [
             [
              0,
              "#0d0887"
             ],
             [
              0.1111111111111111,
              "#46039f"
             ],
             [
              0.2222222222222222,
              "#7201a8"
             ],
             [
              0.3333333333333333,
              "#9c179e"
             ],
             [
              0.4444444444444444,
              "#bd3786"
             ],
             [
              0.5555555555555556,
              "#d8576b"
             ],
             [
              0.6666666666666666,
              "#ed7953"
             ],
             [
              0.7777777777777778,
              "#fb9f3a"
             ],
             [
              0.8888888888888888,
              "#fdca26"
             ],
             [
              1,
              "#f0f921"
             ]
            ],
            "type": "histogram2dcontour"
           }
          ],
          "mesh3d": [
           {
            "colorbar": {
             "outlinewidth": 0,
             "ticks": ""
            },
            "type": "mesh3d"
           }
          ],
          "parcoords": [
           {
            "line": {
             "colorbar": {
              "outlinewidth": 0,
              "ticks": ""
             }
            },
            "type": "parcoords"
           }
          ],
          "pie": [
           {
            "automargin": true,
            "type": "pie"
           }
          ],
          "scatter": [
           {
            "fillpattern": {
             "fillmode": "overlay",
             "size": 10,
             "solidity": 0.2
            },
            "type": "scatter"
           }
          ],
          "scatter3d": [
           {
            "line": {
             "colorbar": {
              "outlinewidth": 0,
              "ticks": ""
             }
            },
            "marker": {
             "colorbar": {
              "outlinewidth": 0,
              "ticks": ""
             }
            },
            "type": "scatter3d"
           }
          ],
          "scattercarpet": [
           {
            "marker": {
             "colorbar": {
              "outlinewidth": 0,
              "ticks": ""
             }
            },
            "type": "scattercarpet"
           }
          ],
          "scattergeo": [
           {
            "marker": {
             "colorbar": {
              "outlinewidth": 0,
              "ticks": ""
             }
            },
            "type": "scattergeo"
           }
          ],
          "scattergl": [
           {
            "marker": {
             "colorbar": {
              "outlinewidth": 0,
              "ticks": ""
             }
            },
            "type": "scattergl"
           }
          ],
          "scattermap": [
           {
            "marker": {
             "colorbar": {
              "outlinewidth": 0,
              "ticks": ""
             }
            },
            "type": "scattermap"
           }
          ],
          "scattermapbox": [
           {
            "marker": {
             "colorbar": {
              "outlinewidth": 0,
              "ticks": ""
             }
            },
            "type": "scattermapbox"
           }
          ],
          "scatterpolar": [
           {
            "marker": {
             "colorbar": {
              "outlinewidth": 0,
              "ticks": ""
             }
            },
            "type": "scatterpolar"
           }
          ],
          "scatterpolargl": [
           {
            "marker": {
             "colorbar": {
              "outlinewidth": 0,
              "ticks": ""
             }
            },
            "type": "scatterpolargl"
           }
          ],
          "scatterternary": [
           {
            "marker": {
             "colorbar": {
              "outlinewidth": 0,
              "ticks": ""
             }
            },
            "type": "scatterternary"
           }
          ],
          "surface": [
           {
            "colorbar": {
             "outlinewidth": 0,
             "ticks": ""
            },
            "colorscale": [
             [
              0,
              "#0d0887"
             ],
             [
              0.1111111111111111,
              "#46039f"
             ],
             [
              0.2222222222222222,
              "#7201a8"
             ],
             [
              0.3333333333333333,
              "#9c179e"
             ],
             [
              0.4444444444444444,
              "#bd3786"
             ],
             [
              0.5555555555555556,
              "#d8576b"
             ],
             [
              0.6666666666666666,
              "#ed7953"
             ],
             [
              0.7777777777777778,
              "#fb9f3a"
             ],
             [
              0.8888888888888888,
              "#fdca26"
             ],
             [
              1,
              "#f0f921"
             ]
            ],
            "type": "surface"
           }
          ],
          "table": [
           {
            "cells": {
             "fill": {
              "color": "#EBF0F8"
             },
             "line": {
              "color": "white"
             }
            },
            "header": {
             "fill": {
              "color": "#C8D4E3"
             },
             "line": {
              "color": "white"
             }
            },
            "type": "table"
           }
          ]
         },
         "layout": {
          "annotationdefaults": {
           "arrowcolor": "#2a3f5f",
           "arrowhead": 0,
           "arrowwidth": 1
          },
          "autotypenumbers": "strict",
          "coloraxis": {
           "colorbar": {
            "outlinewidth": 0,
            "ticks": ""
           }
          },
          "colorscale": {
           "diverging": [
            [
             0,
             "#8e0152"
            ],
            [
             0.1,
             "#c51b7d"
            ],
            [
             0.2,
             "#de77ae"
            ],
            [
             0.3,
             "#f1b6da"
            ],
            [
             0.4,
             "#fde0ef"
            ],
            [
             0.5,
             "#f7f7f7"
            ],
            [
             0.6,
             "#e6f5d0"
            ],
            [
             0.7,
             "#b8e186"
            ],
            [
             0.8,
             "#7fbc41"
            ],
            [
             0.9,
             "#4d9221"
            ],
            [
             1,
             "#276419"
            ]
           ],
           "sequential": [
            [
             0,
             "#0d0887"
            ],
            [
             0.1111111111111111,
             "#46039f"
            ],
            [
             0.2222222222222222,
             "#7201a8"
            ],
            [
             0.3333333333333333,
             "#9c179e"
            ],
            [
             0.4444444444444444,
             "#bd3786"
            ],
            [
             0.5555555555555556,
             "#d8576b"
            ],
            [
             0.6666666666666666,
             "#ed7953"
            ],
            [
             0.7777777777777778,
             "#fb9f3a"
            ],
            [
             0.8888888888888888,
             "#fdca26"
            ],
            [
             1,
             "#f0f921"
            ]
           ],
           "sequentialminus": [
            [
             0,
             "#0d0887"
            ],
            [
             0.1111111111111111,
             "#46039f"
            ],
            [
             0.2222222222222222,
             "#7201a8"
            ],
            [
             0.3333333333333333,
             "#9c179e"
            ],
            [
             0.4444444444444444,
             "#bd3786"
            ],
            [
             0.5555555555555556,
             "#d8576b"
            ],
            [
             0.6666666666666666,
             "#ed7953"
            ],
            [
             0.7777777777777778,
             "#fb9f3a"
            ],
            [
             0.8888888888888888,
             "#fdca26"
            ],
            [
             1,
             "#f0f921"
            ]
           ]
          },
          "colorway": [
           "#636efa",
           "#EF553B",
           "#00cc96",
           "#ab63fa",
           "#FFA15A",
           "#19d3f3",
           "#FF6692",
           "#B6E880",
           "#FF97FF",
           "#FECB52"
          ],
          "font": {
           "color": "#2a3f5f"
          },
          "geo": {
           "bgcolor": "white",
           "lakecolor": "white",
           "landcolor": "#E5ECF6",
           "showlakes": true,
           "showland": true,
           "subunitcolor": "white"
          },
          "hoverlabel": {
           "align": "left"
          },
          "hovermode": "closest",
          "mapbox": {
           "style": "light"
          },
          "paper_bgcolor": "white",
          "plot_bgcolor": "#E5ECF6",
          "polar": {
           "angularaxis": {
            "gridcolor": "white",
            "linecolor": "white",
            "ticks": ""
           },
           "bgcolor": "#E5ECF6",
           "radialaxis": {
            "gridcolor": "white",
            "linecolor": "white",
            "ticks": ""
           }
          },
          "scene": {
           "xaxis": {
            "backgroundcolor": "#E5ECF6",
            "gridcolor": "white",
            "gridwidth": 2,
            "linecolor": "white",
            "showbackground": true,
            "ticks": "",
            "zerolinecolor": "white"
           },
           "yaxis": {
            "backgroundcolor": "#E5ECF6",
            "gridcolor": "white",
            "gridwidth": 2,
            "linecolor": "white",
            "showbackground": true,
            "ticks": "",
            "zerolinecolor": "white"
           },
           "zaxis": {
            "backgroundcolor": "#E5ECF6",
            "gridcolor": "white",
            "gridwidth": 2,
            "linecolor": "white",
            "showbackground": true,
            "ticks": "",
            "zerolinecolor": "white"
           }
          },
          "shapedefaults": {
           "line": {
            "color": "#2a3f5f"
           }
          },
          "ternary": {
           "aaxis": {
            "gridcolor": "white",
            "linecolor": "white",
            "ticks": ""
           },
           "baxis": {
            "gridcolor": "white",
            "linecolor": "white",
            "ticks": ""
           },
           "bgcolor": "#E5ECF6",
           "caxis": {
            "gridcolor": "white",
            "linecolor": "white",
            "ticks": ""
           }
          },
          "title": {
           "x": 0.05
          },
          "xaxis": {
           "automargin": true,
           "gridcolor": "white",
           "linecolor": "white",
           "ticks": "",
           "title": {
            "standoff": 15
           },
           "zerolinecolor": "white",
           "zerolinewidth": 2
          },
          "yaxis": {
           "automargin": true,
           "gridcolor": "white",
           "linecolor": "white",
           "ticks": "",
           "title": {
            "standoff": 15
           },
           "zerolinecolor": "white",
           "zerolinewidth": 2
          }
         }
        },
        "title": {
         "text": "FORGE16aApril24BackgroundPost Stim D.csv",
         "x": 0.5
        },
        "width": 800
       }
      }
     },
     "metadata": {},
     "output_type": "display_data"
    },
    {
     "data": {
      "application/vnd.plotly.v1+json": {
       "config": {
        "plotlyServerURL": "https://plot.ly"
       },
       "data": [
        {
         "hovertemplate": "X Coordinate (m)=%{x}<br>Y Coordinate (m)=%{y}<br>Depth (m)=%{z}<br>size=%{marker.size}<br>Moment Magnitude=%{marker.color}<extra></extra>",
         "legendgroup": "",
         "marker": {
          "color": {
           "bdata": "w/UoXI/C1T+4HoXrUbjmPwrXo3A9Ctc/16NwPQrX078K16NwPQrHv3sUrkfhesQ/PQrXo3A94j8pXI/C9Si8v5qZmZmZmam/zczMzMzM3D9cj8L1KFznP6RwPQrXo+g/CtejcD0Kt79xPQrXo3DNv5qZmZmZmam/uB6F61G4zr8AAAAAAADgPzMzMzMzM8M/mpmZmZmZub+4HoXrUbieP2ZmZmZmZtY/KVyPwvUozD/2KFyPwvXgP3sUrkfhepS/AAAAAAAAAAAK16NwPQq3P7gehetRuL4/7FG4HoXrwb8pXI/C9Si8P6RwPQrXo9A/exSuR+F6xL/sUbgehevBv/YoXI/C9fQ/exSuR+F6hD/sUbgehevBv7gehetRuJ4/XI/C9Shc7z/D9Shcj8LFP5qZmZmZmbk/MzMzMzMz0z8pXI/C9SjcPzMzMzMzM+M/j8L1KFyP0j+4HoXrUbiev7gehetRuJ4/w/UoXI/CxT97FK5H4XqUv7gehetRuL6/CtejcD0K179xPQrXo3DNvx+F61G4HtW/4XoUrkfhyr+amZmZmZm5v3sUrkfheoS/SOF6FK5H0b97FK5H4Xq0PwrXo3A9Cse/SOF6FK5H0T+amZmZmZnJPwrXo3A9Crc/mpmZmZmZyT8zMzMzMzPDP7gehetRuJ6/KVyPwvUozD+4HoXrUbiePzMzMzMzM8O/cT0K16NwzT9xPQrXo3DNv8P1KFyPwsW/7FG4HoXrsb9xPQrXo3DNv6RwPQrXo8A/16NwPQrX4z+uR+F6FK7Xv1K4HoXrUci/pHA9Ctej4L9I4XoUrkfRv4/C9Shcj9I/exSuR+F6lL+kcD0K16PAP7gehetRuJ4/",
           "dtype": "f8"
          },
          "coloraxis": "coloraxis",
          "line": {
           "width": 0
          },
          "opacity": 0.7,
          "size": {
           "bdata": "AQEBAQEBAQEBAQEBAQEBAQEBAQEBAQEBAQEBAQEBAQEBAQEBAQEBAQEBAQEBAQEBAQEBAQEBAQEBAQEBAQEBAQEBAQEBAQEBAQEBAQEBAQEB",
           "dtype": "i1"
          },
          "sizemode": "area",
          "sizeref": 0.00510204081632653,
          "symbol": "circle"
         },
         "mode": "markers",
         "name": "",
         "scene": "scene",
         "showlegend": false,
         "type": "scatter3d",
         "x": {
          "bdata": "6AjyCDgJNA16COwJ6AhgCcoI3ggWCIQI0AfeCJIJGgneCIQItgiiCKIIUgiiCNQIlAyEDTQIBglSDUIJ/Aj8CBAJJAnmChoJjggGCTgJPg3KCMQJ8gjKCNQNSAjeCLIMjgiiCAYJcAhwCN4IEAnUCPIISAjeCKYJsgzACBAJQgn2CZwJoghWCfIIEAm6CT4IKggqCC4JhAg0CI4I8gjUCHoI",
          "dtype": "i2"
         },
         "y": {
          "bdata": "Dve09rT2pAEI+B72qvZa9rT2ZPbq9yz3IPm+9rz9qvZa9nL3QPeQ9975hP769kb29AGc/xD/+vY0/uL18PZ89yr50vag9sj2QPcY98j22P+Q93T6ZPZo97wChP6Q95YArvf+92j3HPi2/q73Sveg9gT3rvde96r7yAAs92T2EPqs+QL5/vfc9qz5Ivfs/9T+mP5s/c71avru+Or3kPcE9y7/",
          "dtype": "i2"
         },
         "z": {
          "bdata": "jB7cHqoeBBpkHlQavh4yHvAe5h7WH1Qf1h9aHjIZ2B2aHyIf0h5oH6AeHCDgH+wdYiCUG+ofbh7qGmwbHh48HuAfHh7+H1oejB6gHsgewByMHp4gzB/iHWYhCCBaHvgglh7mHr4euB8SIKoe8B6uH1QfNh9AH/YYSCGGH1QfHhkwIMQY8B6WHvYYFB56HCYgEiAIINwesB2uH0YePB5aHggg",
          "dtype": "i2"
         }
        }
       ],
       "layout": {
        "coloraxis": {
         "cmax": 1.85,
         "cmin": -1.09,
         "colorbar": {
          "ticklen": 6,
          "tickmode": "array",
          "ticks": "outside",
          "tickvals": [
           -1.09,
           -1,
           -0.5,
           0,
           0.5,
           1,
           1.5,
           1.85
          ],
          "tickwidth": 1,
          "title": {
           "side": "top",
           "text": "Moment Magnitude"
          }
         },
         "colorscale": [
          [
           0,
           "#0d0887"
          ],
          [
           0.1111111111111111,
           "#46039f"
          ],
          [
           0.2222222222222222,
           "#7201a8"
          ],
          [
           0.3333333333333333,
           "#9c179e"
          ],
          [
           0.4444444444444444,
           "#bd3786"
          ],
          [
           0.5555555555555556,
           "#d8576b"
          ],
          [
           0.6666666666666666,
           "#ed7953"
          ],
          [
           0.7777777777777778,
           "#fb9f3a"
          ],
          [
           0.8888888888888888,
           "#fdca26"
          ],
          [
           1,
           "#f0f921"
          ]
         ]
        },
        "height": 600,
        "legend": {
         "itemsizing": "constant",
         "tracegroupgap": 0
        },
        "margin": {
         "b": 40,
         "l": 40,
         "r": 40,
         "t": 40
        },
        "scene": {
         "aspectmode": "cube",
         "camera": {
          "eye": {
           "x": 1.5,
           "y": 1.5,
           "z": 1.5
          }
         },
         "domain": {
          "x": [
           0,
           1
          ],
          "y": [
           0,
           1
          ]
         },
         "xaxis": {
          "range": [
           -3660,
           3890
          ],
          "title": {
           "text": "X Coordinate (m)"
          }
         },
         "yaxis": {
          "range": [
           -5060,
           1180
          ],
          "title": {
           "text": "Y Coordinate (m)"
          }
         },
         "zaxis": {
          "range": [
           9500,
           5580
          ],
          "title": {
           "text": "Depth (m)"
          }
         }
        },
        "template": {
         "data": {
          "bar": [
           {
            "error_x": {
             "color": "#2a3f5f"
            },
            "error_y": {
             "color": "#2a3f5f"
            },
            "marker": {
             "line": {
              "color": "#E5ECF6",
              "width": 0.5
             },
             "pattern": {
              "fillmode": "overlay",
              "size": 10,
              "solidity": 0.2
             }
            },
            "type": "bar"
           }
          ],
          "barpolar": [
           {
            "marker": {
             "line": {
              "color": "#E5ECF6",
              "width": 0.5
             },
             "pattern": {
              "fillmode": "overlay",
              "size": 10,
              "solidity": 0.2
             }
            },
            "type": "barpolar"
           }
          ],
          "carpet": [
           {
            "aaxis": {
             "endlinecolor": "#2a3f5f",
             "gridcolor": "white",
             "linecolor": "white",
             "minorgridcolor": "white",
             "startlinecolor": "#2a3f5f"
            },
            "baxis": {
             "endlinecolor": "#2a3f5f",
             "gridcolor": "white",
             "linecolor": "white",
             "minorgridcolor": "white",
             "startlinecolor": "#2a3f5f"
            },
            "type": "carpet"
           }
          ],
          "choropleth": [
           {
            "colorbar": {
             "outlinewidth": 0,
             "ticks": ""
            },
            "type": "choropleth"
           }
          ],
          "contour": [
           {
            "colorbar": {
             "outlinewidth": 0,
             "ticks": ""
            },
            "colorscale": [
             [
              0,
              "#0d0887"
             ],
             [
              0.1111111111111111,
              "#46039f"
             ],
             [
              0.2222222222222222,
              "#7201a8"
             ],
             [
              0.3333333333333333,
              "#9c179e"
             ],
             [
              0.4444444444444444,
              "#bd3786"
             ],
             [
              0.5555555555555556,
              "#d8576b"
             ],
             [
              0.6666666666666666,
              "#ed7953"
             ],
             [
              0.7777777777777778,
              "#fb9f3a"
             ],
             [
              0.8888888888888888,
              "#fdca26"
             ],
             [
              1,
              "#f0f921"
             ]
            ],
            "type": "contour"
           }
          ],
          "contourcarpet": [
           {
            "colorbar": {
             "outlinewidth": 0,
             "ticks": ""
            },
            "type": "contourcarpet"
           }
          ],
          "heatmap": [
           {
            "colorbar": {
             "outlinewidth": 0,
             "ticks": ""
            },
            "colorscale": [
             [
              0,
              "#0d0887"
             ],
             [
              0.1111111111111111,
              "#46039f"
             ],
             [
              0.2222222222222222,
              "#7201a8"
             ],
             [
              0.3333333333333333,
              "#9c179e"
             ],
             [
              0.4444444444444444,
              "#bd3786"
             ],
             [
              0.5555555555555556,
              "#d8576b"
             ],
             [
              0.6666666666666666,
              "#ed7953"
             ],
             [
              0.7777777777777778,
              "#fb9f3a"
             ],
             [
              0.8888888888888888,
              "#fdca26"
             ],
             [
              1,
              "#f0f921"
             ]
            ],
            "type": "heatmap"
           }
          ],
          "histogram": [
           {
            "marker": {
             "pattern": {
              "fillmode": "overlay",
              "size": 10,
              "solidity": 0.2
             }
            },
            "type": "histogram"
           }
          ],
          "histogram2d": [
           {
            "colorbar": {
             "outlinewidth": 0,
             "ticks": ""
            },
            "colorscale": [
             [
              0,
              "#0d0887"
             ],
             [
              0.1111111111111111,
              "#46039f"
             ],
             [
              0.2222222222222222,
              "#7201a8"
             ],
             [
              0.3333333333333333,
              "#9c179e"
             ],
             [
              0.4444444444444444,
              "#bd3786"
             ],
             [
              0.5555555555555556,
              "#d8576b"
             ],
             [
              0.6666666666666666,
              "#ed7953"
             ],
             [
              0.7777777777777778,
              "#fb9f3a"
             ],
             [
              0.8888888888888888,
              "#fdca26"
             ],
             [
              1,
              "#f0f921"
             ]
            ],
            "type": "histogram2d"
           }
          ],
          "histogram2dcontour": [
           {
            "colorbar": {
             "outlinewidth": 0,
             "ticks": ""
            },
            "colorscale": [
             [
              0,
              "#0d0887"
             ],
             [
              0.1111111111111111,
              "#46039f"
             ],
             [
              0.2222222222222222,
              "#7201a8"
             ],
             [
              0.3333333333333333,
              "#9c179e"
             ],
             [
              0.4444444444444444,
              "#bd3786"
             ],
             [
              0.5555555555555556,
              "#d8576b"
             ],
             [
              0.6666666666666666,
              "#ed7953"
             ],
             [
              0.7777777777777778,
              "#fb9f3a"
             ],
             [
              0.8888888888888888,
              "#fdca26"
             ],
             [
              1,
              "#f0f921"
             ]
            ],
            "type": "histogram2dcontour"
           }
          ],
          "mesh3d": [
           {
            "colorbar": {
             "outlinewidth": 0,
             "ticks": ""
            },
            "type": "mesh3d"
           }
          ],
          "parcoords": [
           {
            "line": {
             "colorbar": {
              "outlinewidth": 0,
              "ticks": ""
             }
            },
            "type": "parcoords"
           }
          ],
          "pie": [
           {
            "automargin": true,
            "type": "pie"
           }
          ],
          "scatter": [
           {
            "fillpattern": {
             "fillmode": "overlay",
             "size": 10,
             "solidity": 0.2
            },
            "type": "scatter"
           }
          ],
          "scatter3d": [
           {
            "line": {
             "colorbar": {
              "outlinewidth": 0,
              "ticks": ""
             }
            },
            "marker": {
             "colorbar": {
              "outlinewidth": 0,
              "ticks": ""
             }
            },
            "type": "scatter3d"
           }
          ],
          "scattercarpet": [
           {
            "marker": {
             "colorbar": {
              "outlinewidth": 0,
              "ticks": ""
             }
            },
            "type": "scattercarpet"
           }
          ],
          "scattergeo": [
           {
            "marker": {
             "colorbar": {
              "outlinewidth": 0,
              "ticks": ""
             }
            },
            "type": "scattergeo"
           }
          ],
          "scattergl": [
           {
            "marker": {
             "colorbar": {
              "outlinewidth": 0,
              "ticks": ""
             }
            },
            "type": "scattergl"
           }
          ],
          "scattermap": [
           {
            "marker": {
             "colorbar": {
              "outlinewidth": 0,
              "ticks": ""
             }
            },
            "type": "scattermap"
           }
          ],
          "scattermapbox": [
           {
            "marker": {
             "colorbar": {
              "outlinewidth": 0,
              "ticks": ""
             }
            },
            "type": "scattermapbox"
           }
          ],
          "scatterpolar": [
           {
            "marker": {
             "colorbar": {
              "outlinewidth": 0,
              "ticks": ""
             }
            },
            "type": "scatterpolar"
           }
          ],
          "scatterpolargl": [
           {
            "marker": {
             "colorbar": {
              "outlinewidth": 0,
              "ticks": ""
             }
            },
            "type": "scatterpolargl"
           }
          ],
          "scatterternary": [
           {
            "marker": {
             "colorbar": {
              "outlinewidth": 0,
              "ticks": ""
             }
            },
            "type": "scatterternary"
           }
          ],
          "surface": [
           {
            "colorbar": {
             "outlinewidth": 0,
             "ticks": ""
            },
            "colorscale": [
             [
              0,
              "#0d0887"
             ],
             [
              0.1111111111111111,
              "#46039f"
             ],
             [
              0.2222222222222222,
              "#7201a8"
             ],
             [
              0.3333333333333333,
              "#9c179e"
             ],
             [
              0.4444444444444444,
              "#bd3786"
             ],
             [
              0.5555555555555556,
              "#d8576b"
             ],
             [
              0.6666666666666666,
              "#ed7953"
             ],
             [
              0.7777777777777778,
              "#fb9f3a"
             ],
             [
              0.8888888888888888,
              "#fdca26"
             ],
             [
              1,
              "#f0f921"
             ]
            ],
            "type": "surface"
           }
          ],
          "table": [
           {
            "cells": {
             "fill": {
              "color": "#EBF0F8"
             },
             "line": {
              "color": "white"
             }
            },
            "header": {
             "fill": {
              "color": "#C8D4E3"
             },
             "line": {
              "color": "white"
             }
            },
            "type": "table"
           }
          ]
         },
         "layout": {
          "annotationdefaults": {
           "arrowcolor": "#2a3f5f",
           "arrowhead": 0,
           "arrowwidth": 1
          },
          "autotypenumbers": "strict",
          "coloraxis": {
           "colorbar": {
            "outlinewidth": 0,
            "ticks": ""
           }
          },
          "colorscale": {
           "diverging": [
            [
             0,
             "#8e0152"
            ],
            [
             0.1,
             "#c51b7d"
            ],
            [
             0.2,
             "#de77ae"
            ],
            [
             0.3,
             "#f1b6da"
            ],
            [
             0.4,
             "#fde0ef"
            ],
            [
             0.5,
             "#f7f7f7"
            ],
            [
             0.6,
             "#e6f5d0"
            ],
            [
             0.7,
             "#b8e186"
            ],
            [
             0.8,
             "#7fbc41"
            ],
            [
             0.9,
             "#4d9221"
            ],
            [
             1,
             "#276419"
            ]
           ],
           "sequential": [
            [
             0,
             "#0d0887"
            ],
            [
             0.1111111111111111,
             "#46039f"
            ],
            [
             0.2222222222222222,
             "#7201a8"
            ],
            [
             0.3333333333333333,
             "#9c179e"
            ],
            [
             0.4444444444444444,
             "#bd3786"
            ],
            [
             0.5555555555555556,
             "#d8576b"
            ],
            [
             0.6666666666666666,
             "#ed7953"
            ],
            [
             0.7777777777777778,
             "#fb9f3a"
            ],
            [
             0.8888888888888888,
             "#fdca26"
            ],
            [
             1,
             "#f0f921"
            ]
           ],
           "sequentialminus": [
            [
             0,
             "#0d0887"
            ],
            [
             0.1111111111111111,
             "#46039f"
            ],
            [
             0.2222222222222222,
             "#7201a8"
            ],
            [
             0.3333333333333333,
             "#9c179e"
            ],
            [
             0.4444444444444444,
             "#bd3786"
            ],
            [
             0.5555555555555556,
             "#d8576b"
            ],
            [
             0.6666666666666666,
             "#ed7953"
            ],
            [
             0.7777777777777778,
             "#fb9f3a"
            ],
            [
             0.8888888888888888,
             "#fdca26"
            ],
            [
             1,
             "#f0f921"
            ]
           ]
          },
          "colorway": [
           "#636efa",
           "#EF553B",
           "#00cc96",
           "#ab63fa",
           "#FFA15A",
           "#19d3f3",
           "#FF6692",
           "#B6E880",
           "#FF97FF",
           "#FECB52"
          ],
          "font": {
           "color": "#2a3f5f"
          },
          "geo": {
           "bgcolor": "white",
           "lakecolor": "white",
           "landcolor": "#E5ECF6",
           "showlakes": true,
           "showland": true,
           "subunitcolor": "white"
          },
          "hoverlabel": {
           "align": "left"
          },
          "hovermode": "closest",
          "mapbox": {
           "style": "light"
          },
          "paper_bgcolor": "white",
          "plot_bgcolor": "#E5ECF6",
          "polar": {
           "angularaxis": {
            "gridcolor": "white",
            "linecolor": "white",
            "ticks": ""
           },
           "bgcolor": "#E5ECF6",
           "radialaxis": {
            "gridcolor": "white",
            "linecolor": "white",
            "ticks": ""
           }
          },
          "scene": {
           "xaxis": {
            "backgroundcolor": "#E5ECF6",
            "gridcolor": "white",
            "gridwidth": 2,
            "linecolor": "white",
            "showbackground": true,
            "ticks": "",
            "zerolinecolor": "white"
           },
           "yaxis": {
            "backgroundcolor": "#E5ECF6",
            "gridcolor": "white",
            "gridwidth": 2,
            "linecolor": "white",
            "showbackground": true,
            "ticks": "",
            "zerolinecolor": "white"
           },
           "zaxis": {
            "backgroundcolor": "#E5ECF6",
            "gridcolor": "white",
            "gridwidth": 2,
            "linecolor": "white",
            "showbackground": true,
            "ticks": "",
            "zerolinecolor": "white"
           }
          },
          "shapedefaults": {
           "line": {
            "color": "#2a3f5f"
           }
          },
          "ternary": {
           "aaxis": {
            "gridcolor": "white",
            "linecolor": "white",
            "ticks": ""
           },
           "baxis": {
            "gridcolor": "white",
            "linecolor": "white",
            "ticks": ""
           },
           "bgcolor": "#E5ECF6",
           "caxis": {
            "gridcolor": "white",
            "linecolor": "white",
            "ticks": ""
           }
          },
          "title": {
           "x": 0.05
          },
          "xaxis": {
           "automargin": true,
           "gridcolor": "white",
           "linecolor": "white",
           "ticks": "",
           "title": {
            "standoff": 15
           },
           "zerolinecolor": "white",
           "zerolinewidth": 2
          },
          "yaxis": {
           "automargin": true,
           "gridcolor": "white",
           "linecolor": "white",
           "ticks": "",
           "title": {
            "standoff": 15
           },
           "zerolinecolor": "white",
           "zerolinewidth": 2
          }
         }
        },
        "title": {
         "text": "FORGE16aApril24BackgroundStage 10C.csv",
         "x": 0.5
        },
        "width": 800
       }
      }
     },
     "metadata": {},
     "output_type": "display_data"
    },
    {
     "data": {
      "application/vnd.plotly.v1+json": {
       "config": {
        "plotlyServerURL": "https://plot.ly"
       },
       "data": [
        {
         "hovertemplate": "X Coordinate (m)=%{x}<br>Y Coordinate (m)=%{y}<br>Depth (m)=%{z}<br>size=%{marker.size}<br>Moment Magnitude=%{marker.color}<extra></extra>",
         "legendgroup": "",
         "marker": {
          "color": {
           "bdata": "rkfhehSu178K16NwPQq3P83MzMzMzOQ/cT0K16Nw3T+amZmZmZm5P9ejcD0K19O/cT0K16Nwzb8AAAAAAAAAAOF6FK5H4cq/KVyPwvUovL97FK5H4XqEPwrXo3A9Cte/KVyPwvUo3D/D9Shcj8LVv5qZmZmZmcm/cT0K16Nw3T+PwvUoXI/SvwrXo3A9Crc/uB6F61G4rr/Xo3A9CtfTv+F6FK5H4cq/H4XrUbge5T+amZmZmZnJv1K4HoXrUdi/exSuR+F61L8K16NwPQrXP7gehetRuK4/SOF6FK5H0T/sUbgehevBP5qZmZmZmak/AAAAAAAA0D/sUbgehevBvwrXo3A9Cse/SOF6FK5H0T+amZmZmZnJP+xRuB6F67E/uB6F61G4nr9I4XoUrkfhPylcj8L1KNy/KVyPwvUovL97FK5H4Xq0v3sUrkfheqS/CtejcD0Kt7/sUbgehevRP3sUrkfhesS/cT0K16Nwzb+4HoXrUbjOv+xRuB6F67E/UrgehetRyL8K16NwPQrXv7gehetRuM6/KVyPwvUozD/2KFyPwvXYv5qZmZmZmdk/4XoUrkfhyj8AAAAAAAAAADMzMzMzM8M/MzMzMzMzwz8K16NwPQrHv3E9CtejcN2/CtejcD0Kt797FK5H4XqkP3E9CtejcN0/exSuR+F6hD/D9Shcj8LFvzMzMzMzM8M/uB6F61G43r+4HoXrUbi+v65H4XoUrte/exSuR+F6tL+uR+F6FK7Xv5qZmZmZmam/UrgehetR2L8pXI/C9SjMv1K4HoXrUcg/XI/C9Shc3797FK5H4XqUv8P1KFyPwtU/CtejcD0K178pXI/C9SjcP7gehetRuK6/mpmZmZmZub+amZmZmZm5P3sUrkfhepQ/cT0K16Nwzb8K16NwPQq3v3sUrkfheqS/ZmZmZmZm1j8K16NwPQq3P4/C9Shcj9I/UrgehetRyD8=",
           "dtype": "f8"
          },
          "coloraxis": "coloraxis",
          "line": {
           "width": 0
          },
          "opacity": 0.7,
          "size": {
           "bdata": "AQEBAQEBAQEBAQEBAQEBAQEBAQEBAQEBAQEBAQEBAQEBAQEBAQEBAQEBAQEBAQEBAQEBAQEBAQEBAQEBAQEBAQEBAQEBAQEBAQEBAQEBAQEBAQEBAQEBAQEBAQ==",
           "dtype": "i1"
          },
          "sizemode": "area",
          "sizeref": 0.00510204081632653,
          "symbol": "circle"
         },
         "mode": "markers",
         "name": "",
         "scene": "scene",
         "showlegend": false,
         "type": "scatter3d",
         "x": {
          "bdata": "3gjoCDQIPggGCaIItgicCYgJeghSCMoIogisCPwIfgnACKIIrAisCMAIQgnyCCoI0AeiCMoI+gqOCNQIcAiYCFwIygjUCMAIlAwkCVIImAgaCVIITAnGDNAM6AiOCCAN3ghICHILaAtwCNQIuAvQDNQIwAiECHoIygiEDVYJiAmOCLYIogg0CMoI3gjUCKwIKgiQC9QNegggCGAJjghICMoIJAn8CO4HmAhmCEIJ1AgUCt4I6Ag=",
          "dtype": "i2"
         },
         "y": {
          "bdata": "Nvcs93r+ov4O9yb96vcm/Sb96vfA/nz3qvZo9yL3avVo95D3mvdy95D3yPZA93D+1vxA91r27P8UACz3TP+I/1z+Nvde9zb34AFa9tT+dP8s9/z+9vViAjoCRvbC9zACHvbK/h4A6P4u/yz3nP9kAKD23PZW/2D/yPbaAvL5wPm499L2fv/K/iL3tPYY93L31P6gANAC8v5w/pz1dP96/nz3gvaq9nD+pv+c/7D1rveY+SL3ZPY=",
          "dtype": "i2"
         },
         "z": {
          "bdata": "5h7IHuofzB8AHjYfoB5qGH4YSh/WH8gezB8sHzIeaBp8H64f8B7cHr4eWh4eHqQfMCDCH/AeGiKQH7gfXh9eH+AfGB/IHuYe7iDKHJAfSh8UHpAfKB4cIPQfQB8iH5oflh6GH8ohICFeH3geSCEmILIgqCBeH2gfGB/cHmoYfhhAH5ofBB/qHyIfNh9AH2gfCCBSISwfXh86IPgb+h6kH5YeUB5QHk4g8B6kH4Iewh9wIRgf6h8=",
          "dtype": "i2"
         }
        }
       ],
       "layout": {
        "coloraxis": {
         "cmax": 1.85,
         "cmin": -1.09,
         "colorbar": {
          "ticklen": 6,
          "tickmode": "array",
          "ticks": "outside",
          "tickvals": [
           -1.09,
           -1,
           -0.5,
           0,
           0.5,
           1,
           1.5,
           1.85
          ],
          "tickwidth": 1,
          "title": {
           "side": "top",
           "text": "Moment Magnitude"
          }
         },
         "colorscale": [
          [
           0,
           "#0d0887"
          ],
          [
           0.1111111111111111,
           "#46039f"
          ],
          [
           0.2222222222222222,
           "#7201a8"
          ],
          [
           0.3333333333333333,
           "#9c179e"
          ],
          [
           0.4444444444444444,
           "#bd3786"
          ],
          [
           0.5555555555555556,
           "#d8576b"
          ],
          [
           0.6666666666666666,
           "#ed7953"
          ],
          [
           0.7777777777777778,
           "#fb9f3a"
          ],
          [
           0.8888888888888888,
           "#fdca26"
          ],
          [
           1,
           "#f0f921"
          ]
         ]
        },
        "height": 600,
        "legend": {
         "itemsizing": "constant",
         "tracegroupgap": 0
        },
        "margin": {
         "b": 40,
         "l": 40,
         "r": 40,
         "t": 40
        },
        "scene": {
         "aspectmode": "cube",
         "camera": {
          "eye": {
           "x": 1.5,
           "y": 1.5,
           "z": 1.5
          }
         },
         "domain": {
          "x": [
           0,
           1
          ],
          "y": [
           0,
           1
          ]
         },
         "xaxis": {
          "range": [
           -3660,
           3890
          ],
          "title": {
           "text": "X Coordinate (m)"
          }
         },
         "yaxis": {
          "range": [
           -5060,
           1180
          ],
          "title": {
           "text": "Y Coordinate (m)"
          }
         },
         "zaxis": {
          "range": [
           9500,
           5580
          ],
          "title": {
           "text": "Depth (m)"
          }
         }
        },
        "template": {
         "data": {
          "bar": [
           {
            "error_x": {
             "color": "#2a3f5f"
            },
            "error_y": {
             "color": "#2a3f5f"
            },
            "marker": {
             "line": {
              "color": "#E5ECF6",
              "width": 0.5
             },
             "pattern": {
              "fillmode": "overlay",
              "size": 10,
              "solidity": 0.2
             }
            },
            "type": "bar"
           }
          ],
          "barpolar": [
           {
            "marker": {
             "line": {
              "color": "#E5ECF6",
              "width": 0.5
             },
             "pattern": {
              "fillmode": "overlay",
              "size": 10,
              "solidity": 0.2
             }
            },
            "type": "barpolar"
           }
          ],
          "carpet": [
           {
            "aaxis": {
             "endlinecolor": "#2a3f5f",
             "gridcolor": "white",
             "linecolor": "white",
             "minorgridcolor": "white",
             "startlinecolor": "#2a3f5f"
            },
            "baxis": {
             "endlinecolor": "#2a3f5f",
             "gridcolor": "white",
             "linecolor": "white",
             "minorgridcolor": "white",
             "startlinecolor": "#2a3f5f"
            },
            "type": "carpet"
           }
          ],
          "choropleth": [
           {
            "colorbar": {
             "outlinewidth": 0,
             "ticks": ""
            },
            "type": "choropleth"
           }
          ],
          "contour": [
           {
            "colorbar": {
             "outlinewidth": 0,
             "ticks": ""
            },
            "colorscale": [
             [
              0,
              "#0d0887"
             ],
             [
              0.1111111111111111,
              "#46039f"
             ],
             [
              0.2222222222222222,
              "#7201a8"
             ],
             [
              0.3333333333333333,
              "#9c179e"
             ],
             [
              0.4444444444444444,
              "#bd3786"
             ],
             [
              0.5555555555555556,
              "#d8576b"
             ],
             [
              0.6666666666666666,
              "#ed7953"
             ],
             [
              0.7777777777777778,
              "#fb9f3a"
             ],
             [
              0.8888888888888888,
              "#fdca26"
             ],
             [
              1,
              "#f0f921"
             ]
            ],
            "type": "contour"
           }
          ],
          "contourcarpet": [
           {
            "colorbar": {
             "outlinewidth": 0,
             "ticks": ""
            },
            "type": "contourcarpet"
           }
          ],
          "heatmap": [
           {
            "colorbar": {
             "outlinewidth": 0,
             "ticks": ""
            },
            "colorscale": [
             [
              0,
              "#0d0887"
             ],
             [
              0.1111111111111111,
              "#46039f"
             ],
             [
              0.2222222222222222,
              "#7201a8"
             ],
             [
              0.3333333333333333,
              "#9c179e"
             ],
             [
              0.4444444444444444,
              "#bd3786"
             ],
             [
              0.5555555555555556,
              "#d8576b"
             ],
             [
              0.6666666666666666,
              "#ed7953"
             ],
             [
              0.7777777777777778,
              "#fb9f3a"
             ],
             [
              0.8888888888888888,
              "#fdca26"
             ],
             [
              1,
              "#f0f921"
             ]
            ],
            "type": "heatmap"
           }
          ],
          "histogram": [
           {
            "marker": {
             "pattern": {
              "fillmode": "overlay",
              "size": 10,
              "solidity": 0.2
             }
            },
            "type": "histogram"
           }
          ],
          "histogram2d": [
           {
            "colorbar": {
             "outlinewidth": 0,
             "ticks": ""
            },
            "colorscale": [
             [
              0,
              "#0d0887"
             ],
             [
              0.1111111111111111,
              "#46039f"
             ],
             [
              0.2222222222222222,
              "#7201a8"
             ],
             [
              0.3333333333333333,
              "#9c179e"
             ],
             [
              0.4444444444444444,
              "#bd3786"
             ],
             [
              0.5555555555555556,
              "#d8576b"
             ],
             [
              0.6666666666666666,
              "#ed7953"
             ],
             [
              0.7777777777777778,
              "#fb9f3a"
             ],
             [
              0.8888888888888888,
              "#fdca26"
             ],
             [
              1,
              "#f0f921"
             ]
            ],
            "type": "histogram2d"
           }
          ],
          "histogram2dcontour": [
           {
            "colorbar": {
             "outlinewidth": 0,
             "ticks": ""
            },
            "colorscale": [
             [
              0,
              "#0d0887"
             ],
             [
              0.1111111111111111,
              "#46039f"
             ],
             [
              0.2222222222222222,
              "#7201a8"
             ],
             [
              0.3333333333333333,
              "#9c179e"
             ],
             [
              0.4444444444444444,
              "#bd3786"
             ],
             [
              0.5555555555555556,
              "#d8576b"
             ],
             [
              0.6666666666666666,
              "#ed7953"
             ],
             [
              0.7777777777777778,
              "#fb9f3a"
             ],
             [
              0.8888888888888888,
              "#fdca26"
             ],
             [
              1,
              "#f0f921"
             ]
            ],
            "type": "histogram2dcontour"
           }
          ],
          "mesh3d": [
           {
            "colorbar": {
             "outlinewidth": 0,
             "ticks": ""
            },
            "type": "mesh3d"
           }
          ],
          "parcoords": [
           {
            "line": {
             "colorbar": {
              "outlinewidth": 0,
              "ticks": ""
             }
            },
            "type": "parcoords"
           }
          ],
          "pie": [
           {
            "automargin": true,
            "type": "pie"
           }
          ],
          "scatter": [
           {
            "fillpattern": {
             "fillmode": "overlay",
             "size": 10,
             "solidity": 0.2
            },
            "type": "scatter"
           }
          ],
          "scatter3d": [
           {
            "line": {
             "colorbar": {
              "outlinewidth": 0,
              "ticks": ""
             }
            },
            "marker": {
             "colorbar": {
              "outlinewidth": 0,
              "ticks": ""
             }
            },
            "type": "scatter3d"
           }
          ],
          "scattercarpet": [
           {
            "marker": {
             "colorbar": {
              "outlinewidth": 0,
              "ticks": ""
             }
            },
            "type": "scattercarpet"
           }
          ],
          "scattergeo": [
           {
            "marker": {
             "colorbar": {
              "outlinewidth": 0,
              "ticks": ""
             }
            },
            "type": "scattergeo"
           }
          ],
          "scattergl": [
           {
            "marker": {
             "colorbar": {
              "outlinewidth": 0,
              "ticks": ""
             }
            },
            "type": "scattergl"
           }
          ],
          "scattermap": [
           {
            "marker": {
             "colorbar": {
              "outlinewidth": 0,
              "ticks": ""
             }
            },
            "type": "scattermap"
           }
          ],
          "scattermapbox": [
           {
            "marker": {
             "colorbar": {
              "outlinewidth": 0,
              "ticks": ""
             }
            },
            "type": "scattermapbox"
           }
          ],
          "scatterpolar": [
           {
            "marker": {
             "colorbar": {
              "outlinewidth": 0,
              "ticks": ""
             }
            },
            "type": "scatterpolar"
           }
          ],
          "scatterpolargl": [
           {
            "marker": {
             "colorbar": {
              "outlinewidth": 0,
              "ticks": ""
             }
            },
            "type": "scatterpolargl"
           }
          ],
          "scatterternary": [
           {
            "marker": {
             "colorbar": {
              "outlinewidth": 0,
              "ticks": ""
             }
            },
            "type": "scatterternary"
           }
          ],
          "surface": [
           {
            "colorbar": {
             "outlinewidth": 0,
             "ticks": ""
            },
            "colorscale": [
             [
              0,
              "#0d0887"
             ],
             [
              0.1111111111111111,
              "#46039f"
             ],
             [
              0.2222222222222222,
              "#7201a8"
             ],
             [
              0.3333333333333333,
              "#9c179e"
             ],
             [
              0.4444444444444444,
              "#bd3786"
             ],
             [
              0.5555555555555556,
              "#d8576b"
             ],
             [
              0.6666666666666666,
              "#ed7953"
             ],
             [
              0.7777777777777778,
              "#fb9f3a"
             ],
             [
              0.8888888888888888,
              "#fdca26"
             ],
             [
              1,
              "#f0f921"
             ]
            ],
            "type": "surface"
           }
          ],
          "table": [
           {
            "cells": {
             "fill": {
              "color": "#EBF0F8"
             },
             "line": {
              "color": "white"
             }
            },
            "header": {
             "fill": {
              "color": "#C8D4E3"
             },
             "line": {
              "color": "white"
             }
            },
            "type": "table"
           }
          ]
         },
         "layout": {
          "annotationdefaults": {
           "arrowcolor": "#2a3f5f",
           "arrowhead": 0,
           "arrowwidth": 1
          },
          "autotypenumbers": "strict",
          "coloraxis": {
           "colorbar": {
            "outlinewidth": 0,
            "ticks": ""
           }
          },
          "colorscale": {
           "diverging": [
            [
             0,
             "#8e0152"
            ],
            [
             0.1,
             "#c51b7d"
            ],
            [
             0.2,
             "#de77ae"
            ],
            [
             0.3,
             "#f1b6da"
            ],
            [
             0.4,
             "#fde0ef"
            ],
            [
             0.5,
             "#f7f7f7"
            ],
            [
             0.6,
             "#e6f5d0"
            ],
            [
             0.7,
             "#b8e186"
            ],
            [
             0.8,
             "#7fbc41"
            ],
            [
             0.9,
             "#4d9221"
            ],
            [
             1,
             "#276419"
            ]
           ],
           "sequential": [
            [
             0,
             "#0d0887"
            ],
            [
             0.1111111111111111,
             "#46039f"
            ],
            [
             0.2222222222222222,
             "#7201a8"
            ],
            [
             0.3333333333333333,
             "#9c179e"
            ],
            [
             0.4444444444444444,
             "#bd3786"
            ],
            [
             0.5555555555555556,
             "#d8576b"
            ],
            [
             0.6666666666666666,
             "#ed7953"
            ],
            [
             0.7777777777777778,
             "#fb9f3a"
            ],
            [
             0.8888888888888888,
             "#fdca26"
            ],
            [
             1,
             "#f0f921"
            ]
           ],
           "sequentialminus": [
            [
             0,
             "#0d0887"
            ],
            [
             0.1111111111111111,
             "#46039f"
            ],
            [
             0.2222222222222222,
             "#7201a8"
            ],
            [
             0.3333333333333333,
             "#9c179e"
            ],
            [
             0.4444444444444444,
             "#bd3786"
            ],
            [
             0.5555555555555556,
             "#d8576b"
            ],
            [
             0.6666666666666666,
             "#ed7953"
            ],
            [
             0.7777777777777778,
             "#fb9f3a"
            ],
            [
             0.8888888888888888,
             "#fdca26"
            ],
            [
             1,
             "#f0f921"
            ]
           ]
          },
          "colorway": [
           "#636efa",
           "#EF553B",
           "#00cc96",
           "#ab63fa",
           "#FFA15A",
           "#19d3f3",
           "#FF6692",
           "#B6E880",
           "#FF97FF",
           "#FECB52"
          ],
          "font": {
           "color": "#2a3f5f"
          },
          "geo": {
           "bgcolor": "white",
           "lakecolor": "white",
           "landcolor": "#E5ECF6",
           "showlakes": true,
           "showland": true,
           "subunitcolor": "white"
          },
          "hoverlabel": {
           "align": "left"
          },
          "hovermode": "closest",
          "mapbox": {
           "style": "light"
          },
          "paper_bgcolor": "white",
          "plot_bgcolor": "#E5ECF6",
          "polar": {
           "angularaxis": {
            "gridcolor": "white",
            "linecolor": "white",
            "ticks": ""
           },
           "bgcolor": "#E5ECF6",
           "radialaxis": {
            "gridcolor": "white",
            "linecolor": "white",
            "ticks": ""
           }
          },
          "scene": {
           "xaxis": {
            "backgroundcolor": "#E5ECF6",
            "gridcolor": "white",
            "gridwidth": 2,
            "linecolor": "white",
            "showbackground": true,
            "ticks": "",
            "zerolinecolor": "white"
           },
           "yaxis": {
            "backgroundcolor": "#E5ECF6",
            "gridcolor": "white",
            "gridwidth": 2,
            "linecolor": "white",
            "showbackground": true,
            "ticks": "",
            "zerolinecolor": "white"
           },
           "zaxis": {
            "backgroundcolor": "#E5ECF6",
            "gridcolor": "white",
            "gridwidth": 2,
            "linecolor": "white",
            "showbackground": true,
            "ticks": "",
            "zerolinecolor": "white"
           }
          },
          "shapedefaults": {
           "line": {
            "color": "#2a3f5f"
           }
          },
          "ternary": {
           "aaxis": {
            "gridcolor": "white",
            "linecolor": "white",
            "ticks": ""
           },
           "baxis": {
            "gridcolor": "white",
            "linecolor": "white",
            "ticks": ""
           },
           "bgcolor": "#E5ECF6",
           "caxis": {
            "gridcolor": "white",
            "linecolor": "white",
            "ticks": ""
           }
          },
          "title": {
           "x": 0.05
          },
          "xaxis": {
           "automargin": true,
           "gridcolor": "white",
           "linecolor": "white",
           "ticks": "",
           "title": {
            "standoff": 15
           },
           "zerolinecolor": "white",
           "zerolinewidth": 2
          },
          "yaxis": {
           "automargin": true,
           "gridcolor": "white",
           "linecolor": "white",
           "ticks": "",
           "title": {
            "standoff": 15
           },
           "zerolinecolor": "white",
           "zerolinewidth": 2
          }
         }
        },
        "title": {
         "text": "FORGE16aApril24BackgroundPost Stim A.csv",
         "x": 0.5
        },
        "width": 800
       }
      }
     },
     "metadata": {},
     "output_type": "display_data"
    },
    {
     "data": {
      "application/vnd.plotly.v1+json": {
       "config": {
        "plotlyServerURL": "https://plot.ly"
       },
       "data": [
        {
         "hovertemplate": "X Coordinate (m)=%{x}<br>Y Coordinate (m)=%{y}<br>Depth (m)=%{z}<br>size=%{marker.size}<br>Moment Magnitude=%{marker.color}<extra></extra>",
         "legendgroup": "",
         "marker": {
          "color": {
           "bdata": "exSuR+F6xL9I4XoUrkfhP5qZmZmZmam/KVyPwvUovD+kcD0K16PAv7gehetRuN6/hetRuB6F2z8pXI/C9Si8vwrXo3A9Cse/16NwPQrX07/hehSuR+HKvwrXo3A9Cse/MzMzMzMz079SuB6F61HIP+F6FK5H4co/9ihcj8L14L8AAAAAAADgv+xRuB6F67G/KVyPwvUo5L9SuB6F61HIvwrXo3A9Cte/pHA9Ctej0L8pXI/C9SjMP3sUrkfherS/mpmZmZmZ4b/sUbgehevhv+xRuB6F68E/4XoUrkfh4r8K16NwPQrHv6RwPQrXo8C/UrgehetRyL+4HoXrUbjOv3sUrkfheqQ/exSuR+F6tD+amZmZmZmpP6RwPQrXo+A/uB6F61G4zr9mZmZmZmbWPzMzMzMzM9M/pHA9CtejwD/NzMzMzMzcv3sUrkfheqS/mpmZmZmZqb+amZmZmZm5P7gehetRuM6/exSuR+F6hD+4HoXrUbjevwrXo3A9Cse/w/UoXI/C1b+PwvUoXI/iP5qZmZmZmeG/uB6F61G4nj+4HoXrUbjOv/YoXI/C9eA/7FG4HoXrsb8fhetRuB7Vv6RwPQrXo+C/UrgehetR4D+kcD0K16PQv+xRuB6F68G/16NwPQrX47/NzMzMzMzkv9ejcD0K1+O/16NwPQrX4797FK5H4Xqkv4XrUbgeheO/exSuR+F61L9I4XoUrkfRP+xRuB6F68E/",
           "dtype": "f8"
          },
          "coloraxis": "coloraxis",
          "line": {
           "width": 0
          },
          "opacity": 0.7,
          "size": {
           "bdata": "AQEBAQEBAQEBAQEBAQEBAQEBAQEBAQEBAQEBAQEBAQEBAQEBAQEBAQEBAQEBAQEBAQEBAQEBAQEBAQEBAQEBAQEBAQEB",
           "dtype": "i1"
          },
          "sizemode": "area",
          "sizeref": 0.00510204081632653,
          "symbol": "circle"
         },
         "mode": "markers",
         "name": "",
         "scene": "scene",
         "showlegend": false,
         "type": "scatter3d",
         "x": {
          "bdata": "IAiiCN4ItgjKCJgIogiaC8gKOAmYCHoI6AjACKIIbAc0CN4IvAcaCYQIcAiOCBAJmAjuB4QIBgmOCHoIyghgCVwIUggECyoIXAhwCPwIhAiECJQM/AgWCDgJBgnKCEgIjgiiCKgHTAmOCNQIZggyCj4IAghSCMAIKghOB6IIIAj0BlIIjghMCUgN",
          "dtype": "i2"
         },
         "y": {
          "bdata": "HPjc9qr2cvdK9173wveMAG4A3PZM/8b4Svd891T3BPx0/3z3KPso9tj/iP9e9272TP+Q/IL2qvaI/5r3zv+w+nD+BPcUAAb/Gv+498j2VPfi/8r+Ivfa/SgAUPbE/5YAOP8e9gz+avpy9xj3ePaO+fL+zv8UAOb29v/O+nT/uv8Y/FL+av/s9TAC",
          "dtype": "i2"
         },
         "z": {
          "bdata": "kB+aH8IfIh8OHzYfGB/EHQ4fRh5UH2AdjB7mHjYf9B9EICgeGB8eHsIfVB8CIcocBB+QH9ogNh9UH9Yf5h44GJofniDEIsIf/h+aHwQfkB+kH0QgUB5sIAwcoB42HzogIh/WH5QgTBiaH5AfCCC8IHIf/h8IIEofJiByH/oeEiC8IFQfGB/MGp4g",
          "dtype": "i2"
         }
        }
       ],
       "layout": {
        "coloraxis": {
         "cmax": 1.85,
         "cmin": -1.09,
         "colorbar": {
          "ticklen": 6,
          "tickmode": "array",
          "ticks": "outside",
          "tickvals": [
           -1.09,
           -1,
           -0.5,
           0,
           0.5,
           1,
           1.5,
           1.85
          ],
          "tickwidth": 1,
          "title": {
           "side": "top",
           "text": "Moment Magnitude"
          }
         },
         "colorscale": [
          [
           0,
           "#0d0887"
          ],
          [
           0.1111111111111111,
           "#46039f"
          ],
          [
           0.2222222222222222,
           "#7201a8"
          ],
          [
           0.3333333333333333,
           "#9c179e"
          ],
          [
           0.4444444444444444,
           "#bd3786"
          ],
          [
           0.5555555555555556,
           "#d8576b"
          ],
          [
           0.6666666666666666,
           "#ed7953"
          ],
          [
           0.7777777777777778,
           "#fb9f3a"
          ],
          [
           0.8888888888888888,
           "#fdca26"
          ],
          [
           1,
           "#f0f921"
          ]
         ]
        },
        "height": 600,
        "legend": {
         "itemsizing": "constant",
         "tracegroupgap": 0
        },
        "margin": {
         "b": 40,
         "l": 40,
         "r": 40,
         "t": 40
        },
        "scene": {
         "aspectmode": "cube",
         "camera": {
          "eye": {
           "x": 1.5,
           "y": 1.5,
           "z": 1.5
          }
         },
         "domain": {
          "x": [
           0,
           1
          ],
          "y": [
           0,
           1
          ]
         },
         "xaxis": {
          "range": [
           -3660,
           3890
          ],
          "title": {
           "text": "X Coordinate (m)"
          }
         },
         "yaxis": {
          "range": [
           -5060,
           1180
          ],
          "title": {
           "text": "Y Coordinate (m)"
          }
         },
         "zaxis": {
          "range": [
           9500,
           5580
          ],
          "title": {
           "text": "Depth (m)"
          }
         }
        },
        "template": {
         "data": {
          "bar": [
           {
            "error_x": {
             "color": "#2a3f5f"
            },
            "error_y": {
             "color": "#2a3f5f"
            },
            "marker": {
             "line": {
              "color": "#E5ECF6",
              "width": 0.5
             },
             "pattern": {
              "fillmode": "overlay",
              "size": 10,
              "solidity": 0.2
             }
            },
            "type": "bar"
           }
          ],
          "barpolar": [
           {
            "marker": {
             "line": {
              "color": "#E5ECF6",
              "width": 0.5
             },
             "pattern": {
              "fillmode": "overlay",
              "size": 10,
              "solidity": 0.2
             }
            },
            "type": "barpolar"
           }
          ],
          "carpet": [
           {
            "aaxis": {
             "endlinecolor": "#2a3f5f",
             "gridcolor": "white",
             "linecolor": "white",
             "minorgridcolor": "white",
             "startlinecolor": "#2a3f5f"
            },
            "baxis": {
             "endlinecolor": "#2a3f5f",
             "gridcolor": "white",
             "linecolor": "white",
             "minorgridcolor": "white",
             "startlinecolor": "#2a3f5f"
            },
            "type": "carpet"
           }
          ],
          "choropleth": [
           {
            "colorbar": {
             "outlinewidth": 0,
             "ticks": ""
            },
            "type": "choropleth"
           }
          ],
          "contour": [
           {
            "colorbar": {
             "outlinewidth": 0,
             "ticks": ""
            },
            "colorscale": [
             [
              0,
              "#0d0887"
             ],
             [
              0.1111111111111111,
              "#46039f"
             ],
             [
              0.2222222222222222,
              "#7201a8"
             ],
             [
              0.3333333333333333,
              "#9c179e"
             ],
             [
              0.4444444444444444,
              "#bd3786"
             ],
             [
              0.5555555555555556,
              "#d8576b"
             ],
             [
              0.6666666666666666,
              "#ed7953"
             ],
             [
              0.7777777777777778,
              "#fb9f3a"
             ],
             [
              0.8888888888888888,
              "#fdca26"
             ],
             [
              1,
              "#f0f921"
             ]
            ],
            "type": "contour"
           }
          ],
          "contourcarpet": [
           {
            "colorbar": {
             "outlinewidth": 0,
             "ticks": ""
            },
            "type": "contourcarpet"
           }
          ],
          "heatmap": [
           {
            "colorbar": {
             "outlinewidth": 0,
             "ticks": ""
            },
            "colorscale": [
             [
              0,
              "#0d0887"
             ],
             [
              0.1111111111111111,
              "#46039f"
             ],
             [
              0.2222222222222222,
              "#7201a8"
             ],
             [
              0.3333333333333333,
              "#9c179e"
             ],
             [
              0.4444444444444444,
              "#bd3786"
             ],
             [
              0.5555555555555556,
              "#d8576b"
             ],
             [
              0.6666666666666666,
              "#ed7953"
             ],
             [
              0.7777777777777778,
              "#fb9f3a"
             ],
             [
              0.8888888888888888,
              "#fdca26"
             ],
             [
              1,
              "#f0f921"
             ]
            ],
            "type": "heatmap"
           }
          ],
          "histogram": [
           {
            "marker": {
             "pattern": {
              "fillmode": "overlay",
              "size": 10,
              "solidity": 0.2
             }
            },
            "type": "histogram"
           }
          ],
          "histogram2d": [
           {
            "colorbar": {
             "outlinewidth": 0,
             "ticks": ""
            },
            "colorscale": [
             [
              0,
              "#0d0887"
             ],
             [
              0.1111111111111111,
              "#46039f"
             ],
             [
              0.2222222222222222,
              "#7201a8"
             ],
             [
              0.3333333333333333,
              "#9c179e"
             ],
             [
              0.4444444444444444,
              "#bd3786"
             ],
             [
              0.5555555555555556,
              "#d8576b"
             ],
             [
              0.6666666666666666,
              "#ed7953"
             ],
             [
              0.7777777777777778,
              "#fb9f3a"
             ],
             [
              0.8888888888888888,
              "#fdca26"
             ],
             [
              1,
              "#f0f921"
             ]
            ],
            "type": "histogram2d"
           }
          ],
          "histogram2dcontour": [
           {
            "colorbar": {
             "outlinewidth": 0,
             "ticks": ""
            },
            "colorscale": [
             [
              0,
              "#0d0887"
             ],
             [
              0.1111111111111111,
              "#46039f"
             ],
             [
              0.2222222222222222,
              "#7201a8"
             ],
             [
              0.3333333333333333,
              "#9c179e"
             ],
             [
              0.4444444444444444,
              "#bd3786"
             ],
             [
              0.5555555555555556,
              "#d8576b"
             ],
             [
              0.6666666666666666,
              "#ed7953"
             ],
             [
              0.7777777777777778,
              "#fb9f3a"
             ],
             [
              0.8888888888888888,
              "#fdca26"
             ],
             [
              1,
              "#f0f921"
             ]
            ],
            "type": "histogram2dcontour"
           }
          ],
          "mesh3d": [
           {
            "colorbar": {
             "outlinewidth": 0,
             "ticks": ""
            },
            "type": "mesh3d"
           }
          ],
          "parcoords": [
           {
            "line": {
             "colorbar": {
              "outlinewidth": 0,
              "ticks": ""
             }
            },
            "type": "parcoords"
           }
          ],
          "pie": [
           {
            "automargin": true,
            "type": "pie"
           }
          ],
          "scatter": [
           {
            "fillpattern": {
             "fillmode": "overlay",
             "size": 10,
             "solidity": 0.2
            },
            "type": "scatter"
           }
          ],
          "scatter3d": [
           {
            "line": {
             "colorbar": {
              "outlinewidth": 0,
              "ticks": ""
             }
            },
            "marker": {
             "colorbar": {
              "outlinewidth": 0,
              "ticks": ""
             }
            },
            "type": "scatter3d"
           }
          ],
          "scattercarpet": [
           {
            "marker": {
             "colorbar": {
              "outlinewidth": 0,
              "ticks": ""
             }
            },
            "type": "scattercarpet"
           }
          ],
          "scattergeo": [
           {
            "marker": {
             "colorbar": {
              "outlinewidth": 0,
              "ticks": ""
             }
            },
            "type": "scattergeo"
           }
          ],
          "scattergl": [
           {
            "marker": {
             "colorbar": {
              "outlinewidth": 0,
              "ticks": ""
             }
            },
            "type": "scattergl"
           }
          ],
          "scattermap": [
           {
            "marker": {
             "colorbar": {
              "outlinewidth": 0,
              "ticks": ""
             }
            },
            "type": "scattermap"
           }
          ],
          "scattermapbox": [
           {
            "marker": {
             "colorbar": {
              "outlinewidth": 0,
              "ticks": ""
             }
            },
            "type": "scattermapbox"
           }
          ],
          "scatterpolar": [
           {
            "marker": {
             "colorbar": {
              "outlinewidth": 0,
              "ticks": ""
             }
            },
            "type": "scatterpolar"
           }
          ],
          "scatterpolargl": [
           {
            "marker": {
             "colorbar": {
              "outlinewidth": 0,
              "ticks": ""
             }
            },
            "type": "scatterpolargl"
           }
          ],
          "scatterternary": [
           {
            "marker": {
             "colorbar": {
              "outlinewidth": 0,
              "ticks": ""
             }
            },
            "type": "scatterternary"
           }
          ],
          "surface": [
           {
            "colorbar": {
             "outlinewidth": 0,
             "ticks": ""
            },
            "colorscale": [
             [
              0,
              "#0d0887"
             ],
             [
              0.1111111111111111,
              "#46039f"
             ],
             [
              0.2222222222222222,
              "#7201a8"
             ],
             [
              0.3333333333333333,
              "#9c179e"
             ],
             [
              0.4444444444444444,
              "#bd3786"
             ],
             [
              0.5555555555555556,
              "#d8576b"
             ],
             [
              0.6666666666666666,
              "#ed7953"
             ],
             [
              0.7777777777777778,
              "#fb9f3a"
             ],
             [
              0.8888888888888888,
              "#fdca26"
             ],
             [
              1,
              "#f0f921"
             ]
            ],
            "type": "surface"
           }
          ],
          "table": [
           {
            "cells": {
             "fill": {
              "color": "#EBF0F8"
             },
             "line": {
              "color": "white"
             }
            },
            "header": {
             "fill": {
              "color": "#C8D4E3"
             },
             "line": {
              "color": "white"
             }
            },
            "type": "table"
           }
          ]
         },
         "layout": {
          "annotationdefaults": {
           "arrowcolor": "#2a3f5f",
           "arrowhead": 0,
           "arrowwidth": 1
          },
          "autotypenumbers": "strict",
          "coloraxis": {
           "colorbar": {
            "outlinewidth": 0,
            "ticks": ""
           }
          },
          "colorscale": {
           "diverging": [
            [
             0,
             "#8e0152"
            ],
            [
             0.1,
             "#c51b7d"
            ],
            [
             0.2,
             "#de77ae"
            ],
            [
             0.3,
             "#f1b6da"
            ],
            [
             0.4,
             "#fde0ef"
            ],
            [
             0.5,
             "#f7f7f7"
            ],
            [
             0.6,
             "#e6f5d0"
            ],
            [
             0.7,
             "#b8e186"
            ],
            [
             0.8,
             "#7fbc41"
            ],
            [
             0.9,
             "#4d9221"
            ],
            [
             1,
             "#276419"
            ]
           ],
           "sequential": [
            [
             0,
             "#0d0887"
            ],
            [
             0.1111111111111111,
             "#46039f"
            ],
            [
             0.2222222222222222,
             "#7201a8"
            ],
            [
             0.3333333333333333,
             "#9c179e"
            ],
            [
             0.4444444444444444,
             "#bd3786"
            ],
            [
             0.5555555555555556,
             "#d8576b"
            ],
            [
             0.6666666666666666,
             "#ed7953"
            ],
            [
             0.7777777777777778,
             "#fb9f3a"
            ],
            [
             0.8888888888888888,
             "#fdca26"
            ],
            [
             1,
             "#f0f921"
            ]
           ],
           "sequentialminus": [
            [
             0,
             "#0d0887"
            ],
            [
             0.1111111111111111,
             "#46039f"
            ],
            [
             0.2222222222222222,
             "#7201a8"
            ],
            [
             0.3333333333333333,
             "#9c179e"
            ],
            [
             0.4444444444444444,
             "#bd3786"
            ],
            [
             0.5555555555555556,
             "#d8576b"
            ],
            [
             0.6666666666666666,
             "#ed7953"
            ],
            [
             0.7777777777777778,
             "#fb9f3a"
            ],
            [
             0.8888888888888888,
             "#fdca26"
            ],
            [
             1,
             "#f0f921"
            ]
           ]
          },
          "colorway": [
           "#636efa",
           "#EF553B",
           "#00cc96",
           "#ab63fa",
           "#FFA15A",
           "#19d3f3",
           "#FF6692",
           "#B6E880",
           "#FF97FF",
           "#FECB52"
          ],
          "font": {
           "color": "#2a3f5f"
          },
          "geo": {
           "bgcolor": "white",
           "lakecolor": "white",
           "landcolor": "#E5ECF6",
           "showlakes": true,
           "showland": true,
           "subunitcolor": "white"
          },
          "hoverlabel": {
           "align": "left"
          },
          "hovermode": "closest",
          "mapbox": {
           "style": "light"
          },
          "paper_bgcolor": "white",
          "plot_bgcolor": "#E5ECF6",
          "polar": {
           "angularaxis": {
            "gridcolor": "white",
            "linecolor": "white",
            "ticks": ""
           },
           "bgcolor": "#E5ECF6",
           "radialaxis": {
            "gridcolor": "white",
            "linecolor": "white",
            "ticks": ""
           }
          },
          "scene": {
           "xaxis": {
            "backgroundcolor": "#E5ECF6",
            "gridcolor": "white",
            "gridwidth": 2,
            "linecolor": "white",
            "showbackground": true,
            "ticks": "",
            "zerolinecolor": "white"
           },
           "yaxis": {
            "backgroundcolor": "#E5ECF6",
            "gridcolor": "white",
            "gridwidth": 2,
            "linecolor": "white",
            "showbackground": true,
            "ticks": "",
            "zerolinecolor": "white"
           },
           "zaxis": {
            "backgroundcolor": "#E5ECF6",
            "gridcolor": "white",
            "gridwidth": 2,
            "linecolor": "white",
            "showbackground": true,
            "ticks": "",
            "zerolinecolor": "white"
           }
          },
          "shapedefaults": {
           "line": {
            "color": "#2a3f5f"
           }
          },
          "ternary": {
           "aaxis": {
            "gridcolor": "white",
            "linecolor": "white",
            "ticks": ""
           },
           "baxis": {
            "gridcolor": "white",
            "linecolor": "white",
            "ticks": ""
           },
           "bgcolor": "#E5ECF6",
           "caxis": {
            "gridcolor": "white",
            "linecolor": "white",
            "ticks": ""
           }
          },
          "title": {
           "x": 0.05
          },
          "xaxis": {
           "automargin": true,
           "gridcolor": "white",
           "linecolor": "white",
           "ticks": "",
           "title": {
            "standoff": 15
           },
           "zerolinecolor": "white",
           "zerolinewidth": 2
          },
          "yaxis": {
           "automargin": true,
           "gridcolor": "white",
           "linecolor": "white",
           "ticks": "",
           "title": {
            "standoff": 15
           },
           "zerolinecolor": "white",
           "zerolinewidth": 2
          }
         }
        },
        "title": {
         "text": "FORGE16aApril24BackgroundPost Stim B.csv",
         "x": 0.5
        },
        "width": 800
       }
      }
     },
     "metadata": {},
     "output_type": "display_data"
    },
    {
     "name": "stdout",
     "output_type": "stream",
     "text": [
      "  Generated 25/26 plots...\n"
     ]
    },
    {
     "data": {
      "application/vnd.plotly.v1+json": {
       "config": {
        "plotlyServerURL": "https://plot.ly"
       },
       "data": [
        {
         "hovertemplate": "X Coordinate (m)=%{x}<br>Y Coordinate (m)=%{y}<br>Depth (m)=%{z}<br>size=%{marker.size}<br>Moment Magnitude=%{marker.color}<extra></extra>",
         "legendgroup": "",
         "marker": {
          "color": {
           "bdata": "MzMzMzMzw7+amZmZmZm5v7gehetRuK6/w/UoXI/CxT8UrkfhehTevylcj8L1KMy/SOF6FK5H0b/D9Shcj8LVv0jhehSuR9G/CtejcD0Kt7/hehSuR+HaP3sUrkfheqS/exSuR+F65L/sUbgehevBP5qZmZmZmbk/exSuR+F6hD97FK5H4XrEv3E9CtejcM2/exSuR+F6lL+4HoXrUbiuv7gehetRuM4/CtejcD0Ktz+4HoXrUbiuv6RwPQrXo9A/rkfhehSu5z97FK5H4Xq0v7gehetRuL4/UrgehetR2D+kcD0K16PQPwAAAAAAANA/w/UoXI/C1b8AAAAAAADQPw==",
           "dtype": "f8"
          },
          "coloraxis": "coloraxis",
          "line": {
           "width": 0
          },
          "opacity": 0.7,
          "size": {
           "bdata": "AQEBAQEBAQEBAQEBAQEBAQEBAQEBAQEBAQEBAQEBAQE=",
           "dtype": "i1"
          },
          "sizemode": "area",
          "sizeref": 0.00510204081632653,
          "symbol": "circle"
         },
         "mode": "markers",
         "name": "",
         "scene": "scene",
         "showlegend": false,
         "type": "scatter3d",
         "x": {
          "bdata": "jgisCMAItghmCIQITAl0CawI9AueDMAIXAjyCHAIZggGCYQIogjUCPwIJAlcCHYMPgiCCmoJNAgGCcAI1AiSCQ==",
          "dtype": "i2"
         },
         "y": {
          "bdata": "XP4G/4j/HvbK/lz+uvWg9mr/nP9q+rT2YP8K9vL+GPf69uz/1P429yz3Ivdg/+ABmP7y+Z74Zv6S9eL1dP/4/Q==",
          "dtype": "i2"
         },
         "z": {
          "bdata": "uB8YH/AeNCGQHwgg3B64H0AfFB6WHm4e4B+4H+AfEiAAHuAfQB96ITIenB3WH1whCCCiHMYg/h/qH6Qf0h6UFg==",
          "dtype": "i2"
         }
        }
       ],
       "layout": {
        "coloraxis": {
         "cmax": 1.85,
         "cmin": -1.09,
         "colorbar": {
          "ticklen": 6,
          "tickmode": "array",
          "ticks": "outside",
          "tickvals": [
           -1.09,
           -1,
           -0.5,
           0,
           0.5,
           1,
           1.5,
           1.85
          ],
          "tickwidth": 1,
          "title": {
           "side": "top",
           "text": "Moment Magnitude"
          }
         },
         "colorscale": [
          [
           0,
           "#0d0887"
          ],
          [
           0.1111111111111111,
           "#46039f"
          ],
          [
           0.2222222222222222,
           "#7201a8"
          ],
          [
           0.3333333333333333,
           "#9c179e"
          ],
          [
           0.4444444444444444,
           "#bd3786"
          ],
          [
           0.5555555555555556,
           "#d8576b"
          ],
          [
           0.6666666666666666,
           "#ed7953"
          ],
          [
           0.7777777777777778,
           "#fb9f3a"
          ],
          [
           0.8888888888888888,
           "#fdca26"
          ],
          [
           1,
           "#f0f921"
          ]
         ]
        },
        "height": 600,
        "legend": {
         "itemsizing": "constant",
         "tracegroupgap": 0
        },
        "margin": {
         "b": 40,
         "l": 40,
         "r": 40,
         "t": 40
        },
        "scene": {
         "aspectmode": "cube",
         "camera": {
          "eye": {
           "x": 1.5,
           "y": 1.5,
           "z": 1.5
          }
         },
         "domain": {
          "x": [
           0,
           1
          ],
          "y": [
           0,
           1
          ]
         },
         "xaxis": {
          "range": [
           -3660,
           3890
          ],
          "title": {
           "text": "X Coordinate (m)"
          }
         },
         "yaxis": {
          "range": [
           -5060,
           1180
          ],
          "title": {
           "text": "Y Coordinate (m)"
          }
         },
         "zaxis": {
          "range": [
           9500,
           5580
          ],
          "title": {
           "text": "Depth (m)"
          }
         }
        },
        "template": {
         "data": {
          "bar": [
           {
            "error_x": {
             "color": "#2a3f5f"
            },
            "error_y": {
             "color": "#2a3f5f"
            },
            "marker": {
             "line": {
              "color": "#E5ECF6",
              "width": 0.5
             },
             "pattern": {
              "fillmode": "overlay",
              "size": 10,
              "solidity": 0.2
             }
            },
            "type": "bar"
           }
          ],
          "barpolar": [
           {
            "marker": {
             "line": {
              "color": "#E5ECF6",
              "width": 0.5
             },
             "pattern": {
              "fillmode": "overlay",
              "size": 10,
              "solidity": 0.2
             }
            },
            "type": "barpolar"
           }
          ],
          "carpet": [
           {
            "aaxis": {
             "endlinecolor": "#2a3f5f",
             "gridcolor": "white",
             "linecolor": "white",
             "minorgridcolor": "white",
             "startlinecolor": "#2a3f5f"
            },
            "baxis": {
             "endlinecolor": "#2a3f5f",
             "gridcolor": "white",
             "linecolor": "white",
             "minorgridcolor": "white",
             "startlinecolor": "#2a3f5f"
            },
            "type": "carpet"
           }
          ],
          "choropleth": [
           {
            "colorbar": {
             "outlinewidth": 0,
             "ticks": ""
            },
            "type": "choropleth"
           }
          ],
          "contour": [
           {
            "colorbar": {
             "outlinewidth": 0,
             "ticks": ""
            },
            "colorscale": [
             [
              0,
              "#0d0887"
             ],
             [
              0.1111111111111111,
              "#46039f"
             ],
             [
              0.2222222222222222,
              "#7201a8"
             ],
             [
              0.3333333333333333,
              "#9c179e"
             ],
             [
              0.4444444444444444,
              "#bd3786"
             ],
             [
              0.5555555555555556,
              "#d8576b"
             ],
             [
              0.6666666666666666,
              "#ed7953"
             ],
             [
              0.7777777777777778,
              "#fb9f3a"
             ],
             [
              0.8888888888888888,
              "#fdca26"
             ],
             [
              1,
              "#f0f921"
             ]
            ],
            "type": "contour"
           }
          ],
          "contourcarpet": [
           {
            "colorbar": {
             "outlinewidth": 0,
             "ticks": ""
            },
            "type": "contourcarpet"
           }
          ],
          "heatmap": [
           {
            "colorbar": {
             "outlinewidth": 0,
             "ticks": ""
            },
            "colorscale": [
             [
              0,
              "#0d0887"
             ],
             [
              0.1111111111111111,
              "#46039f"
             ],
             [
              0.2222222222222222,
              "#7201a8"
             ],
             [
              0.3333333333333333,
              "#9c179e"
             ],
             [
              0.4444444444444444,
              "#bd3786"
             ],
             [
              0.5555555555555556,
              "#d8576b"
             ],
             [
              0.6666666666666666,
              "#ed7953"
             ],
             [
              0.7777777777777778,
              "#fb9f3a"
             ],
             [
              0.8888888888888888,
              "#fdca26"
             ],
             [
              1,
              "#f0f921"
             ]
            ],
            "type": "heatmap"
           }
          ],
          "histogram": [
           {
            "marker": {
             "pattern": {
              "fillmode": "overlay",
              "size": 10,
              "solidity": 0.2
             }
            },
            "type": "histogram"
           }
          ],
          "histogram2d": [
           {
            "colorbar": {
             "outlinewidth": 0,
             "ticks": ""
            },
            "colorscale": [
             [
              0,
              "#0d0887"
             ],
             [
              0.1111111111111111,
              "#46039f"
             ],
             [
              0.2222222222222222,
              "#7201a8"
             ],
             [
              0.3333333333333333,
              "#9c179e"
             ],
             [
              0.4444444444444444,
              "#bd3786"
             ],
             [
              0.5555555555555556,
              "#d8576b"
             ],
             [
              0.6666666666666666,
              "#ed7953"
             ],
             [
              0.7777777777777778,
              "#fb9f3a"
             ],
             [
              0.8888888888888888,
              "#fdca26"
             ],
             [
              1,
              "#f0f921"
             ]
            ],
            "type": "histogram2d"
           }
          ],
          "histogram2dcontour": [
           {
            "colorbar": {
             "outlinewidth": 0,
             "ticks": ""
            },
            "colorscale": [
             [
              0,
              "#0d0887"
             ],
             [
              0.1111111111111111,
              "#46039f"
             ],
             [
              0.2222222222222222,
              "#7201a8"
             ],
             [
              0.3333333333333333,
              "#9c179e"
             ],
             [
              0.4444444444444444,
              "#bd3786"
             ],
             [
              0.5555555555555556,
              "#d8576b"
             ],
             [
              0.6666666666666666,
              "#ed7953"
             ],
             [
              0.7777777777777778,
              "#fb9f3a"
             ],
             [
              0.8888888888888888,
              "#fdca26"
             ],
             [
              1,
              "#f0f921"
             ]
            ],
            "type": "histogram2dcontour"
           }
          ],
          "mesh3d": [
           {
            "colorbar": {
             "outlinewidth": 0,
             "ticks": ""
            },
            "type": "mesh3d"
           }
          ],
          "parcoords": [
           {
            "line": {
             "colorbar": {
              "outlinewidth": 0,
              "ticks": ""
             }
            },
            "type": "parcoords"
           }
          ],
          "pie": [
           {
            "automargin": true,
            "type": "pie"
           }
          ],
          "scatter": [
           {
            "fillpattern": {
             "fillmode": "overlay",
             "size": 10,
             "solidity": 0.2
            },
            "type": "scatter"
           }
          ],
          "scatter3d": [
           {
            "line": {
             "colorbar": {
              "outlinewidth": 0,
              "ticks": ""
             }
            },
            "marker": {
             "colorbar": {
              "outlinewidth": 0,
              "ticks": ""
             }
            },
            "type": "scatter3d"
           }
          ],
          "scattercarpet": [
           {
            "marker": {
             "colorbar": {
              "outlinewidth": 0,
              "ticks": ""
             }
            },
            "type": "scattercarpet"
           }
          ],
          "scattergeo": [
           {
            "marker": {
             "colorbar": {
              "outlinewidth": 0,
              "ticks": ""
             }
            },
            "type": "scattergeo"
           }
          ],
          "scattergl": [
           {
            "marker": {
             "colorbar": {
              "outlinewidth": 0,
              "ticks": ""
             }
            },
            "type": "scattergl"
           }
          ],
          "scattermap": [
           {
            "marker": {
             "colorbar": {
              "outlinewidth": 0,
              "ticks": ""
             }
            },
            "type": "scattermap"
           }
          ],
          "scattermapbox": [
           {
            "marker": {
             "colorbar": {
              "outlinewidth": 0,
              "ticks": ""
             }
            },
            "type": "scattermapbox"
           }
          ],
          "scatterpolar": [
           {
            "marker": {
             "colorbar": {
              "outlinewidth": 0,
              "ticks": ""
             }
            },
            "type": "scatterpolar"
           }
          ],
          "scatterpolargl": [
           {
            "marker": {
             "colorbar": {
              "outlinewidth": 0,
              "ticks": ""
             }
            },
            "type": "scatterpolargl"
           }
          ],
          "scatterternary": [
           {
            "marker": {
             "colorbar": {
              "outlinewidth": 0,
              "ticks": ""
             }
            },
            "type": "scatterternary"
           }
          ],
          "surface": [
           {
            "colorbar": {
             "outlinewidth": 0,
             "ticks": ""
            },
            "colorscale": [
             [
              0,
              "#0d0887"
             ],
             [
              0.1111111111111111,
              "#46039f"
             ],
             [
              0.2222222222222222,
              "#7201a8"
             ],
             [
              0.3333333333333333,
              "#9c179e"
             ],
             [
              0.4444444444444444,
              "#bd3786"
             ],
             [
              0.5555555555555556,
              "#d8576b"
             ],
             [
              0.6666666666666666,
              "#ed7953"
             ],
             [
              0.7777777777777778,
              "#fb9f3a"
             ],
             [
              0.8888888888888888,
              "#fdca26"
             ],
             [
              1,
              "#f0f921"
             ]
            ],
            "type": "surface"
           }
          ],
          "table": [
           {
            "cells": {
             "fill": {
              "color": "#EBF0F8"
             },
             "line": {
              "color": "white"
             }
            },
            "header": {
             "fill": {
              "color": "#C8D4E3"
             },
             "line": {
              "color": "white"
             }
            },
            "type": "table"
           }
          ]
         },
         "layout": {
          "annotationdefaults": {
           "arrowcolor": "#2a3f5f",
           "arrowhead": 0,
           "arrowwidth": 1
          },
          "autotypenumbers": "strict",
          "coloraxis": {
           "colorbar": {
            "outlinewidth": 0,
            "ticks": ""
           }
          },
          "colorscale": {
           "diverging": [
            [
             0,
             "#8e0152"
            ],
            [
             0.1,
             "#c51b7d"
            ],
            [
             0.2,
             "#de77ae"
            ],
            [
             0.3,
             "#f1b6da"
            ],
            [
             0.4,
             "#fde0ef"
            ],
            [
             0.5,
             "#f7f7f7"
            ],
            [
             0.6,
             "#e6f5d0"
            ],
            [
             0.7,
             "#b8e186"
            ],
            [
             0.8,
             "#7fbc41"
            ],
            [
             0.9,
             "#4d9221"
            ],
            [
             1,
             "#276419"
            ]
           ],
           "sequential": [
            [
             0,
             "#0d0887"
            ],
            [
             0.1111111111111111,
             "#46039f"
            ],
            [
             0.2222222222222222,
             "#7201a8"
            ],
            [
             0.3333333333333333,
             "#9c179e"
            ],
            [
             0.4444444444444444,
             "#bd3786"
            ],
            [
             0.5555555555555556,
             "#d8576b"
            ],
            [
             0.6666666666666666,
             "#ed7953"
            ],
            [
             0.7777777777777778,
             "#fb9f3a"
            ],
            [
             0.8888888888888888,
             "#fdca26"
            ],
            [
             1,
             "#f0f921"
            ]
           ],
           "sequentialminus": [
            [
             0,
             "#0d0887"
            ],
            [
             0.1111111111111111,
             "#46039f"
            ],
            [
             0.2222222222222222,
             "#7201a8"
            ],
            [
             0.3333333333333333,
             "#9c179e"
            ],
            [
             0.4444444444444444,
             "#bd3786"
            ],
            [
             0.5555555555555556,
             "#d8576b"
            ],
            [
             0.6666666666666666,
             "#ed7953"
            ],
            [
             0.7777777777777778,
             "#fb9f3a"
            ],
            [
             0.8888888888888888,
             "#fdca26"
            ],
            [
             1,
             "#f0f921"
            ]
           ]
          },
          "colorway": [
           "#636efa",
           "#EF553B",
           "#00cc96",
           "#ab63fa",
           "#FFA15A",
           "#19d3f3",
           "#FF6692",
           "#B6E880",
           "#FF97FF",
           "#FECB52"
          ],
          "font": {
           "color": "#2a3f5f"
          },
          "geo": {
           "bgcolor": "white",
           "lakecolor": "white",
           "landcolor": "#E5ECF6",
           "showlakes": true,
           "showland": true,
           "subunitcolor": "white"
          },
          "hoverlabel": {
           "align": "left"
          },
          "hovermode": "closest",
          "mapbox": {
           "style": "light"
          },
          "paper_bgcolor": "white",
          "plot_bgcolor": "#E5ECF6",
          "polar": {
           "angularaxis": {
            "gridcolor": "white",
            "linecolor": "white",
            "ticks": ""
           },
           "bgcolor": "#E5ECF6",
           "radialaxis": {
            "gridcolor": "white",
            "linecolor": "white",
            "ticks": ""
           }
          },
          "scene": {
           "xaxis": {
            "backgroundcolor": "#E5ECF6",
            "gridcolor": "white",
            "gridwidth": 2,
            "linecolor": "white",
            "showbackground": true,
            "ticks": "",
            "zerolinecolor": "white"
           },
           "yaxis": {
            "backgroundcolor": "#E5ECF6",
            "gridcolor": "white",
            "gridwidth": 2,
            "linecolor": "white",
            "showbackground": true,
            "ticks": "",
            "zerolinecolor": "white"
           },
           "zaxis": {
            "backgroundcolor": "#E5ECF6",
            "gridcolor": "white",
            "gridwidth": 2,
            "linecolor": "white",
            "showbackground": true,
            "ticks": "",
            "zerolinecolor": "white"
           }
          },
          "shapedefaults": {
           "line": {
            "color": "#2a3f5f"
           }
          },
          "ternary": {
           "aaxis": {
            "gridcolor": "white",
            "linecolor": "white",
            "ticks": ""
           },
           "baxis": {
            "gridcolor": "white",
            "linecolor": "white",
            "ticks": ""
           },
           "bgcolor": "#E5ECF6",
           "caxis": {
            "gridcolor": "white",
            "linecolor": "white",
            "ticks": ""
           }
          },
          "title": {
           "x": 0.05
          },
          "xaxis": {
           "automargin": true,
           "gridcolor": "white",
           "linecolor": "white",
           "ticks": "",
           "title": {
            "standoff": 15
           },
           "zerolinecolor": "white",
           "zerolinewidth": 2
          },
          "yaxis": {
           "automargin": true,
           "gridcolor": "white",
           "linecolor": "white",
           "ticks": "",
           "title": {
            "standoff": 15
           },
           "zerolinecolor": "white",
           "zerolinewidth": 2
          }
         }
        },
        "title": {
         "text": "FORGE16aApril24BackgroundPost Stim C.csv",
         "x": 0.5
        },
        "width": 800
       }
      }
     },
     "metadata": {},
     "output_type": "display_data"
    },
    {
     "name": "stdout",
     "output_type": "stream",
     "text": [
      "✅ Generated 26 individual catalog plots\n"
     ]
    }
   ],
   "source": [
    "# Generate Individual 3D Plots for Each Catalog\n",
    "print(\"🎨 Creating individual 3D plots...\")\n",
    "\n",
    "plot_count = 0\n",
    "for i, datapath in enumerate(csv_files):\n",
    "    data = pd.read_csv(datapath)\n",
    "    \n",
    "    if not data.empty:\n",
    "        # Data preprocessing\n",
    "        data.columns = data.columns.str.strip().str.replace(' ', '_')\n",
    "        data = data[data['Depth'] != 0]  # Remove invalid depth entries\n",
    "        title = os.path.basename(datapath)\n",
    "        \n",
    "        # Create 3D scatter plot with consistent styling\n",
    "        fig = px.scatter_3d(\n",
    "            data,\n",
    "            x='X', y='Y', z='Depth',\n",
    "            color='MomMag',                              # Color by magnitude\n",
    "            range_color=[global_min_mag, global_max_mag], # Consistent color scale\n",
    "            size=[1] * len(data),                        # Uniform marker size\n",
    "            title=title,\n",
    "            labels={\n",
    "                'X': 'X Coordinate (m)',\n",
    "                'Y': 'Y Coordinate (m)', \n",
    "                'Depth': 'Depth (m)',\n",
    "                'MomMag': 'Moment Magnitude'\n",
    "            },\n",
    "            size_max=14,\n",
    "            opacity=0.7\n",
    "        )\n",
    "        \n",
    "        # Customize marker appearance and layout\n",
    "        fig.update_traces(marker=dict(line=dict(width=0)))  # Remove marker outlines\n",
    "        tickvals = generate_tick_values(global_min_mag, global_max_mag)\n",
    "        \n",
    "        fig.update_layout(\n",
    "            width=800, height=600,\n",
    "            title_x=0.5,\n",
    "            margin=dict(l=40, r=40, b=40, t=40),\n",
    "            scene=dict(\n",
    "                zaxis=dict(range=[global_min_depth, global_max_depth][::-1]),  # Invert depth axis\n",
    "                xaxis=dict(range=[global_min_x, global_max_x]),\n",
    "                yaxis=dict(range=[global_min_y, global_max_y]),\n",
    "                camera=dict(eye=dict(x=1.5, y=1.5, z=1.5)),  # Standard viewing angle\n",
    "                aspectmode=\"cube\"  # Equal aspect ratios\n",
    "            ),\n",
    "            coloraxis_colorbar=dict(\n",
    "                title=\"Moment Magnitude\",\n",
    "                title_side=\"top\", \n",
    "                tickvals=tickvals,\n",
    "                tickmode='array',\n",
    "                ticks=\"outside\",\n",
    "                ticklen=6,\n",
    "                tickwidth=1\n",
    "            )\n",
    "        )\n",
    "        \n",
    "        # Display or save the plot\n",
    "        if not save_images:\n",
    "            fig.show()\n",
    "        else:\n",
    "            width_in = width_mm / 25.4\n",
    "            height_in = width_in * 0.75\n",
    "            image_path = os.path.join(output_path, f\"{os.path.basename(datapath).strip('.csv')}.png\")\n",
    "            fig.write_image(image_path, width=int(width_in * dpi), height=int(height_in * dpi), scale=2)\n",
    "            \n",
    "        plot_count += 1\n",
    "        if plot_count % 5 == 0:\n",
    "            print(f\"  Generated {plot_count}/{len(csv_files)} plots...\")\n",
    "\n",
    "print(f\"✅ Generated {plot_count} individual catalog plots\")"
   ]
  },
  {
   "cell_type": "markdown",
   "metadata": {},
   "source": [
    "## Combined Events Visualization\n",
    "\n",
    "Create a single 3D plot containing all seismic events from all catalog files."
   ]
  },
  {
   "cell_type": "code",
   "execution_count": 5,
   "metadata": {},
   "outputs": [
    {
     "name": "stdout",
     "output_type": "stream",
     "text": [
      "🌍 Creating combined visualization of all events...\n",
      "📊 Combined dataset: 2982 events total\n"
     ]
    },
    {
     "data": {
      "application/vnd.plotly.v1+json": {
       "config": {
        "plotlyServerURL": "https://plot.ly"
       },
       "data": [
        {
         "hovertemplate": "X Coordinate (m)=%{x}<br>Y Coordinate (m)=%{y}<br>Depth (m)=%{z}<br>size=%{marker.size}<br>Moment Magnitude=%{marker.color}<extra></extra>",
         "legendgroup": "",
         "marker": {
          "color": {
           "bdata": "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",
           "dtype": "f8"
          },
          "coloraxis": "coloraxis",
          "line": {
           "width": 0
          },
          "opacity": 0.7,
          "size": {
           "bdata": "AQEBAQEBAQEBAQEBAQEBAQEBAQEBAQEBAQEBAQEBAQEBAQEBAQEBAQEBAQEBAQEBAQEBAQEBAQEBAQEBAQEBAQEBAQEBAQEBAQEBAQEBAQEBAQEBAQEBAQEBAQEBAQEBAQEBAQEBAQEBAQEBAQEBAQEBAQEBAQEBAQEBAQEBAQEBAQEBAQEBAQEBAQEBAQEBAQEBAQEBAQEBAQEBAQEBAQEBAQEBAQEBAQEBAQEBAQEBAQEBAQEBAQEBAQEBAQEBAQEBAQEBAQEBAQEBAQEBAQEBAQEBAQEBAQEBAQEBAQEBAQEBAQEBAQEBAQEBAQEBAQEBAQEBAQEBAQEBAQEBAQEBAQEBAQEBAQEBAQEBAQEBAQEBAQEBAQEBAQEBAQEBAQEBAQEBAQEBAQEBAQEBAQEBAQEBAQEBAQEBAQEBAQEBAQEBAQEBAQEBAQEBAQEBAQEBAQEBAQEBAQEBAQEBAQEBAQEBAQEBAQEBAQEBAQEBAQEBAQEBAQEBAQEBAQEBAQEBAQEBAQEBAQEBAQEBAQEBAQEBAQEBAQEBAQEBAQEBAQEBAQEBAQEBAQEBAQEBAQEBAQEBAQEBAQEBAQEBAQEBAQEBAQEBAQEBAQEBAQEBAQEBAQEBAQEBAQEBAQEBAQEBAQEBAQEBAQEBAQEBAQEBAQEBAQEBAQEBAQEBAQEBAQEBAQEBAQEBAQEBAQEBAQEBAQEBAQEBAQEBAQEBAQEBAQEBAQEBAQEBAQEBAQEBAQEBAQEBAQEBAQEBAQEBAQEBAQEBAQEBAQEBAQEBAQEBAQEBAQEBAQEBAQEBAQEBAQEBAQEBAQEBAQEBAQEBAQEBAQEBAQEBAQEBAQEBAQEBAQEBAQEBAQEBAQEBAQEBAQEBAQEBAQEBAQEBAQEBAQEBAQEBAQEBAQEBAQEBAQEBAQEBAQEBAQEBAQEBAQEBAQEBAQEBAQEBAQEBAQEBAQEBAQEBAQEBAQEBAQEBAQEBAQEBAQEBAQEBAQEBAQEBAQEBAQEBAQEBAQEBAQEBAQEBAQEBAQEBAQEBAQEBAQEBAQEBAQEBAQEBAQEBAQEBAQEBAQEBAQEBAQEBAQEBAQEBAQEBAQEBAQEBAQEBAQEBAQEBAQEBAQEBAQEBAQEBAQEBAQEBAQEBAQEBAQEBAQEBAQEBAQEBAQEBAQEBAQEBAQEBAQEBAQEBAQEBAQEBAQEBAQEBAQEBAQEBAQEBAQEBAQEBAQEBAQEBAQEBAQEBAQEBAQEBAQEBAQEBAQEBAQEBAQEBAQEBAQEBAQEBAQEBAQEBAQEBAQEBAQEBAQEBAQEBAQEBAQEBAQEBAQEBAQEBAQEBAQEBAQEBAQEBAQEBAQEBAQEBAQEBAQEBAQEBAQEBAQEBAQEBAQEBAQEBAQEBAQEBAQEBAQEBAQEBAQEBAQEBAQEBAQEBAQEBAQEBAQEBAQEBAQEBAQEBAQEBAQEBAQEBAQEBAQEBAQEBAQEBAQEBAQEBAQEBAQEBAQEBAQEBAQEBAQEBAQEBAQEBAQEBAQEBAQEBAQEBAQEBAQEBAQEBAQEBAQEBAQEBAQEBAQEBAQEBAQEBAQEBAQEBAQEBAQEBAQEBAQEBAQEBAQEBAQEBAQEBAQEBAQEBAQEBAQEBAQEBAQEBAQEBAQEBAQEBAQEBAQEBAQEBAQEBAQEBAQEBAQEBAQEBAQEBAQEBAQEBAQEBAQEBAQEBAQEBAQEBAQEBAQEBAQEBAQEBAQEBAQEBAQEBAQEBAQEBAQEBAQEBAQEBAQEBAQEBAQEBAQEBAQEBAQEBAQEBAQEBAQEBAQEBAQEBAQEBAQEBAQEBAQEBAQEBAQEBAQEBAQEBAQEBAQEBAQEBAQEBAQEBAQEBAQEBAQEBAQEBAQEBAQEBAQEBAQEBAQEBAQEBAQEBAQEBAQEBAQEBAQEBAQEBAQEBAQEBAQEBAQEBAQEBAQEBAQEBAQEBAQEBAQEBAQEBAQEBAQEBAQEBAQEBAQEBAQEBAQEBAQEBAQEBAQEBAQEBAQEBAQEBAQEBAQEBAQEBAQEBAQEBAQEBAQEBAQEBAQEBAQEBAQEBAQEBAQEBAQEBAQEBAQEBAQEBAQEBAQEBAQEBAQEBAQEBAQEBAQEBAQEBAQEBAQEBAQEBAQEBAQEBAQEBAQEBAQEBAQEBAQEBAQEBAQEBAQEBAQEBAQEBAQEBAQEBAQEBAQEBAQEBAQEBAQEBAQEBAQEBAQEBAQEBAQEBAQEBAQEBAQEBAQEBAQEBAQEBAQEBAQEBAQEBAQEBAQEBAQEBAQEBAQEBAQEBAQEBAQEBAQEBAQEBAQEBAQEBAQEBAQEBAQEBAQEBAQEBAQEBAQEBAQEBAQEBAQEBAQEBAQEBAQEBAQEBAQEBAQEBAQEBAQEBAQEBAQEBAQEBAQEBAQEBAQEBAQEBAQEBAQEBAQEBAQEBAQEBAQEBAQEBAQEBAQEBAQEBAQEBAQEBAQEBAQEBAQEBAQEBAQEBAQEBAQEBAQEBAQEBAQEBAQEBAQEBAQEBAQEBAQEBAQEBAQEBAQEBAQEBAQEBAQEBAQEBAQEBAQEBAQEBAQEBAQEBAQEBAQEBAQEBAQEBAQEBAQEBAQEBAQEBAQEBAQEBAQEBAQEBAQEBAQEBAQEBAQEBAQEBAQEBAQEBAQEBAQEBAQEBAQEBAQEBAQEBAQEBAQEBAQEBAQEBAQEBAQEBAQEBAQEBAQEBAQEBAQEBAQEBAQEBAQEBAQEBAQEBAQEBAQEBAQEBAQEBAQEBAQEBAQEBAQEBAQEBAQEBAQEBAQEBAQEBAQEBAQEBAQEBAQEBAQEBAQEBAQEBAQEBAQEBAQEBAQEBAQEBAQEBAQEBAQEBAQEBAQEBAQEBAQEBAQEBAQEBAQEBAQEBAQEBAQEBAQEBAQEBAQEBAQEBAQEBAQEBAQEBAQEBAQEBAQEBAQEBAQEBAQEBAQEBAQEBAQEBAQEBAQEBAQEBAQEBAQEBAQEBAQEBAQEBAQEBAQEBAQEBAQEBAQEBAQEBAQEBAQEBAQEBAQEBAQEBAQEBAQEBAQEBAQEBAQEBAQEBAQEBAQEBAQEBAQEBAQEBAQEBAQEBAQEBAQEBAQEBAQEBAQEBAQEBAQEBAQEBAQEBAQEBAQEBAQEBAQEBAQEBAQEBAQEBAQEBAQEBAQEBAQEBAQEBAQEBAQEBAQEBAQEBAQEBAQEBAQEBAQEBAQEBAQEBAQEBAQEBAQEBAQEBAQEBAQEBAQEBAQEBAQEBAQEBAQEBAQEBAQEBAQEBAQEBAQEBAQEBAQEBAQEBAQEBAQEBAQEBAQEBAQEBAQEBAQEBAQEBAQEBAQEBAQEBAQEBAQEBAQEBAQEBAQEBAQEBAQEBAQEBAQEBAQEBAQEBAQEBAQEBAQEBAQEBAQEBAQEBAQEBAQEBAQEBAQEBAQEBAQEBAQEBAQEBAQEBAQEBAQEBAQEBAQEBAQEBAQEBAQEBAQEBAQEBAQEBAQEBAQEBAQEBAQEBAQEBAQEBAQEBAQEBAQEBAQEBAQEBAQEBAQEBAQEBAQEBAQEBAQEBAQEBAQEBAQEBAQEBAQEBAQEBAQEBAQEBAQEBAQEBAQEBAQEBAQEBAQEBAQEBAQEBAQEBAQEBAQEBAQEBAQEBAQEBAQEBAQEBAQEBAQEBAQEBAQEBAQEBAQEBAQEBAQEBAQEBAQEBAQEBAQEBAQEBAQEBAQEBAQEBAQEBAQEBAQEBAQEBAQEBAQEBAQEBAQEBAQEBAQEBAQEBAQEBAQEBAQEBAQEBAQEBAQEBAQEBAQEBAQEBAQEBAQEBAQEBAQEBAQEBAQEBAQEBAQEBAQEBAQEBAQEBAQEBAQEBAQEBAQEBAQEBAQEBAQEBAQEBAQEBAQEBAQEBAQEBAQEBAQEBAQEBAQEBAQEBAQEBAQEBAQEBAQEBAQEBAQEBAQEBAQEBAQEBAQEBAQEBAQEBAQEBAQEBAQEBAQEBAQEBAQEBAQEBAQEBAQEBAQEBAQEBAQEB",
           "dtype": "i1"
          },
          "sizemode": "area",
          "sizeref": 0.00510204081632653,
          "symbol": "circle"
         },
         "mode": "markers",
         "name": "",
         "scene": "scene",
         "showlegend": false,
         "type": "scatter3d",
         "x": {
          "bdata": "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",
          "dtype": "f8"
         },
         "y": {
          "bdata": "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",
          "dtype": "f8"
         },
         "z": {
          "bdata": "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",
          "dtype": "f8"
         }
        }
       ],
       "layout": {
        "coloraxis": {
         "cmax": 1.85,
         "cmin": -1.09,
         "colorbar": {
          "ticklen": 6,
          "tickmode": "array",
          "ticks": "outside",
          "tickvals": [
           -1.09,
           -1,
           -0.5,
           0,
           0.5,
           1,
           1.5,
           1.85
          ],
          "tickwidth": 1,
          "title": {
           "side": "top",
           "text": "Moment Magnitude"
          }
         },
         "colorscale": [
          [
           0,
           "#0d0887"
          ],
          [
           0.1111111111111111,
           "#46039f"
          ],
          [
           0.2222222222222222,
           "#7201a8"
          ],
          [
           0.3333333333333333,
           "#9c179e"
          ],
          [
           0.4444444444444444,
           "#bd3786"
          ],
          [
           0.5555555555555556,
           "#d8576b"
          ],
          [
           0.6666666666666666,
           "#ed7953"
          ],
          [
           0.7777777777777778,
           "#fb9f3a"
          ],
          [
           0.8888888888888888,
           "#fdca26"
          ],
          [
           1,
           "#f0f921"
          ]
         ]
        },
        "height": 600,
        "legend": {
         "itemsizing": "constant",
         "tracegroupgap": 0
        },
        "margin": {
         "b": 40,
         "l": 40,
         "r": 40,
         "t": 40
        },
        "scene": {
         "aspectmode": "cube",
         "camera": {
          "eye": {
           "x": 1.5,
           "y": 1.5,
           "z": 1.5
          }
         },
         "domain": {
          "x": [
           0,
           1
          ],
          "y": [
           0,
           1
          ]
         },
         "xaxis": {
          "range": [
           -3660,
           3890
          ],
          "title": {
           "text": "X Coordinate (m)"
          }
         },
         "yaxis": {
          "range": [
           -5060,
           1180
          ],
          "title": {
           "text": "Y Coordinate (m)"
          }
         },
         "zaxis": {
          "range": [
           9500,
           5580
          ],
          "title": {
           "text": "Depth (m)"
          }
         }
        },
        "template": {
         "data": {
          "bar": [
           {
            "error_x": {
             "color": "#2a3f5f"
            },
            "error_y": {
             "color": "#2a3f5f"
            },
            "marker": {
             "line": {
              "color": "#E5ECF6",
              "width": 0.5
             },
             "pattern": {
              "fillmode": "overlay",
              "size": 10,
              "solidity": 0.2
             }
            },
            "type": "bar"
           }
          ],
          "barpolar": [
           {
            "marker": {
             "line": {
              "color": "#E5ECF6",
              "width": 0.5
             },
             "pattern": {
              "fillmode": "overlay",
              "size": 10,
              "solidity": 0.2
             }
            },
            "type": "barpolar"
           }
          ],
          "carpet": [
           {
            "aaxis": {
             "endlinecolor": "#2a3f5f",
             "gridcolor": "white",
             "linecolor": "white",
             "minorgridcolor": "white",
             "startlinecolor": "#2a3f5f"
            },
            "baxis": {
             "endlinecolor": "#2a3f5f",
             "gridcolor": "white",
             "linecolor": "white",
             "minorgridcolor": "white",
             "startlinecolor": "#2a3f5f"
            },
            "type": "carpet"
           }
          ],
          "choropleth": [
           {
            "colorbar": {
             "outlinewidth": 0,
             "ticks": ""
            },
            "type": "choropleth"
           }
          ],
          "contour": [
           {
            "colorbar": {
             "outlinewidth": 0,
             "ticks": ""
            },
            "colorscale": [
             [
              0,
              "#0d0887"
             ],
             [
              0.1111111111111111,
              "#46039f"
             ],
             [
              0.2222222222222222,
              "#7201a8"
             ],
             [
              0.3333333333333333,
              "#9c179e"
             ],
             [
              0.4444444444444444,
              "#bd3786"
             ],
             [
              0.5555555555555556,
              "#d8576b"
             ],
             [
              0.6666666666666666,
              "#ed7953"
             ],
             [
              0.7777777777777778,
              "#fb9f3a"
             ],
             [
              0.8888888888888888,
              "#fdca26"
             ],
             [
              1,
              "#f0f921"
             ]
            ],
            "type": "contour"
           }
          ],
          "contourcarpet": [
           {
            "colorbar": {
             "outlinewidth": 0,
             "ticks": ""
            },
            "type": "contourcarpet"
           }
          ],
          "heatmap": [
           {
            "colorbar": {
             "outlinewidth": 0,
             "ticks": ""
            },
            "colorscale": [
             [
              0,
              "#0d0887"
             ],
             [
              0.1111111111111111,
              "#46039f"
             ],
             [
              0.2222222222222222,
              "#7201a8"
             ],
             [
              0.3333333333333333,
              "#9c179e"
             ],
             [
              0.4444444444444444,
              "#bd3786"
             ],
             [
              0.5555555555555556,
              "#d8576b"
             ],
             [
              0.6666666666666666,
              "#ed7953"
             ],
             [
              0.7777777777777778,
              "#fb9f3a"
             ],
             [
              0.8888888888888888,
              "#fdca26"
             ],
             [
              1,
              "#f0f921"
             ]
            ],
            "type": "heatmap"
           }
          ],
          "histogram": [
           {
            "marker": {
             "pattern": {
              "fillmode": "overlay",
              "size": 10,
              "solidity": 0.2
             }
            },
            "type": "histogram"
           }
          ],
          "histogram2d": [
           {
            "colorbar": {
             "outlinewidth": 0,
             "ticks": ""
            },
            "colorscale": [
             [
              0,
              "#0d0887"
             ],
             [
              0.1111111111111111,
              "#46039f"
             ],
             [
              0.2222222222222222,
              "#7201a8"
             ],
             [
              0.3333333333333333,
              "#9c179e"
             ],
             [
              0.4444444444444444,
              "#bd3786"
             ],
             [
              0.5555555555555556,
              "#d8576b"
             ],
             [
              0.6666666666666666,
              "#ed7953"
             ],
             [
              0.7777777777777778,
              "#fb9f3a"
             ],
             [
              0.8888888888888888,
              "#fdca26"
             ],
             [
              1,
              "#f0f921"
             ]
            ],
            "type": "histogram2d"
           }
          ],
          "histogram2dcontour": [
           {
            "colorbar": {
             "outlinewidth": 0,
             "ticks": ""
            },
            "colorscale": [
             [
              0,
              "#0d0887"
             ],
             [
              0.1111111111111111,
              "#46039f"
             ],
             [
              0.2222222222222222,
              "#7201a8"
             ],
             [
              0.3333333333333333,
              "#9c179e"
             ],
             [
              0.4444444444444444,
              "#bd3786"
             ],
             [
              0.5555555555555556,
              "#d8576b"
             ],
             [
              0.6666666666666666,
              "#ed7953"
             ],
             [
              0.7777777777777778,
              "#fb9f3a"
             ],
             [
              0.8888888888888888,
              "#fdca26"
             ],
             [
              1,
              "#f0f921"
             ]
            ],
            "type": "histogram2dcontour"
           }
          ],
          "mesh3d": [
           {
            "colorbar": {
             "outlinewidth": 0,
             "ticks": ""
            },
            "type": "mesh3d"
           }
          ],
          "parcoords": [
           {
            "line": {
             "colorbar": {
              "outlinewidth": 0,
              "ticks": ""
             }
            },
            "type": "parcoords"
           }
          ],
          "pie": [
           {
            "automargin": true,
            "type": "pie"
           }
          ],
          "scatter": [
           {
            "fillpattern": {
             "fillmode": "overlay",
             "size": 10,
             "solidity": 0.2
            },
            "type": "scatter"
           }
          ],
          "scatter3d": [
           {
            "line": {
             "colorbar": {
              "outlinewidth": 0,
              "ticks": ""
             }
            },
            "marker": {
             "colorbar": {
              "outlinewidth": 0,
              "ticks": ""
             }
            },
            "type": "scatter3d"
           }
          ],
          "scattercarpet": [
           {
            "marker": {
             "colorbar": {
              "outlinewidth": 0,
              "ticks": ""
             }
            },
            "type": "scattercarpet"
           }
          ],
          "scattergeo": [
           {
            "marker": {
             "colorbar": {
              "outlinewidth": 0,
              "ticks": ""
             }
            },
            "type": "scattergeo"
           }
          ],
          "scattergl": [
           {
            "marker": {
             "colorbar": {
              "outlinewidth": 0,
              "ticks": ""
             }
            },
            "type": "scattergl"
           }
          ],
          "scattermap": [
           {
            "marker": {
             "colorbar": {
              "outlinewidth": 0,
              "ticks": ""
             }
            },
            "type": "scattermap"
           }
          ],
          "scattermapbox": [
           {
            "marker": {
             "colorbar": {
              "outlinewidth": 0,
              "ticks": ""
             }
            },
            "type": "scattermapbox"
           }
          ],
          "scatterpolar": [
           {
            "marker": {
             "colorbar": {
              "outlinewidth": 0,
              "ticks": ""
             }
            },
            "type": "scatterpolar"
           }
          ],
          "scatterpolargl": [
           {
            "marker": {
             "colorbar": {
              "outlinewidth": 0,
              "ticks": ""
             }
            },
            "type": "scatterpolargl"
           }
          ],
          "scatterternary": [
           {
            "marker": {
             "colorbar": {
              "outlinewidth": 0,
              "ticks": ""
             }
            },
            "type": "scatterternary"
           }
          ],
          "surface": [
           {
            "colorbar": {
             "outlinewidth": 0,
             "ticks": ""
            },
            "colorscale": [
             [
              0,
              "#0d0887"
             ],
             [
              0.1111111111111111,
              "#46039f"
             ],
             [
              0.2222222222222222,
              "#7201a8"
             ],
             [
              0.3333333333333333,
              "#9c179e"
             ],
             [
              0.4444444444444444,
              "#bd3786"
             ],
             [
              0.5555555555555556,
              "#d8576b"
             ],
             [
              0.6666666666666666,
              "#ed7953"
             ],
             [
              0.7777777777777778,
              "#fb9f3a"
             ],
             [
              0.8888888888888888,
              "#fdca26"
             ],
             [
              1,
              "#f0f921"
             ]
            ],
            "type": "surface"
           }
          ],
          "table": [
           {
            "cells": {
             "fill": {
              "color": "#EBF0F8"
             },
             "line": {
              "color": "white"
             }
            },
            "header": {
             "fill": {
              "color": "#C8D4E3"
             },
             "line": {
              "color": "white"
             }
            },
            "type": "table"
           }
          ]
         },
         "layout": {
          "annotationdefaults": {
           "arrowcolor": "#2a3f5f",
           "arrowhead": 0,
           "arrowwidth": 1
          },
          "autotypenumbers": "strict",
          "coloraxis": {
           "colorbar": {
            "outlinewidth": 0,
            "ticks": ""
           }
          },
          "colorscale": {
           "diverging": [
            [
             0,
             "#8e0152"
            ],
            [
             0.1,
             "#c51b7d"
            ],
            [
             0.2,
             "#de77ae"
            ],
            [
             0.3,
             "#f1b6da"
            ],
            [
             0.4,
             "#fde0ef"
            ],
            [
             0.5,
             "#f7f7f7"
            ],
            [
             0.6,
             "#e6f5d0"
            ],
            [
             0.7,
             "#b8e186"
            ],
            [
             0.8,
             "#7fbc41"
            ],
            [
             0.9,
             "#4d9221"
            ],
            [
             1,
             "#276419"
            ]
           ],
           "sequential": [
            [
             0,
             "#0d0887"
            ],
            [
             0.1111111111111111,
             "#46039f"
            ],
            [
             0.2222222222222222,
             "#7201a8"
            ],
            [
             0.3333333333333333,
             "#9c179e"
            ],
            [
             0.4444444444444444,
             "#bd3786"
            ],
            [
             0.5555555555555556,
             "#d8576b"
            ],
            [
             0.6666666666666666,
             "#ed7953"
            ],
            [
             0.7777777777777778,
             "#fb9f3a"
            ],
            [
             0.8888888888888888,
             "#fdca26"
            ],
            [
             1,
             "#f0f921"
            ]
           ],
           "sequentialminus": [
            [
             0,
             "#0d0887"
            ],
            [
             0.1111111111111111,
             "#46039f"
            ],
            [
             0.2222222222222222,
             "#7201a8"
            ],
            [
             0.3333333333333333,
             "#9c179e"
            ],
            [
             0.4444444444444444,
             "#bd3786"
            ],
            [
             0.5555555555555556,
             "#d8576b"
            ],
            [
             0.6666666666666666,
             "#ed7953"
            ],
            [
             0.7777777777777778,
             "#fb9f3a"
            ],
            [
             0.8888888888888888,
             "#fdca26"
            ],
            [
             1,
             "#f0f921"
            ]
           ]
          },
          "colorway": [
           "#636efa",
           "#EF553B",
           "#00cc96",
           "#ab63fa",
           "#FFA15A",
           "#19d3f3",
           "#FF6692",
           "#B6E880",
           "#FF97FF",
           "#FECB52"
          ],
          "font": {
           "color": "#2a3f5f"
          },
          "geo": {
           "bgcolor": "white",
           "lakecolor": "white",
           "landcolor": "#E5ECF6",
           "showlakes": true,
           "showland": true,
           "subunitcolor": "white"
          },
          "hoverlabel": {
           "align": "left"
          },
          "hovermode": "closest",
          "mapbox": {
           "style": "light"
          },
          "paper_bgcolor": "white",
          "plot_bgcolor": "#E5ECF6",
          "polar": {
           "angularaxis": {
            "gridcolor": "white",
            "linecolor": "white",
            "ticks": ""
           },
           "bgcolor": "#E5ECF6",
           "radialaxis": {
            "gridcolor": "white",
            "linecolor": "white",
            "ticks": ""
           }
          },
          "scene": {
           "xaxis": {
            "backgroundcolor": "#E5ECF6",
            "gridcolor": "white",
            "gridwidth": 2,
            "linecolor": "white",
            "showbackground": true,
            "ticks": "",
            "zerolinecolor": "white"
           },
           "yaxis": {
            "backgroundcolor": "#E5ECF6",
            "gridcolor": "white",
            "gridwidth": 2,
            "linecolor": "white",
            "showbackground": true,
            "ticks": "",
            "zerolinecolor": "white"
           },
           "zaxis": {
            "backgroundcolor": "#E5ECF6",
            "gridcolor": "white",
            "gridwidth": 2,
            "linecolor": "white",
            "showbackground": true,
            "ticks": "",
            "zerolinecolor": "white"
           }
          },
          "shapedefaults": {
           "line": {
            "color": "#2a3f5f"
           }
          },
          "ternary": {
           "aaxis": {
            "gridcolor": "white",
            "linecolor": "white",
            "ticks": ""
           },
           "baxis": {
            "gridcolor": "white",
            "linecolor": "white",
            "ticks": ""
           },
           "bgcolor": "#E5ECF6",
           "caxis": {
            "gridcolor": "white",
            "linecolor": "white",
            "ticks": ""
           }
          },
          "title": {
           "x": 0.05
          },
          "xaxis": {
           "automargin": true,
           "gridcolor": "white",
           "linecolor": "white",
           "ticks": "",
           "title": {
            "standoff": 15
           },
           "zerolinecolor": "white",
           "zerolinewidth": 2
          },
          "yaxis": {
           "automargin": true,
           "gridcolor": "white",
           "linecolor": "white",
           "ticks": "",
           "title": {
            "standoff": 15
           },
           "zerolinecolor": "white",
           "zerolinewidth": 2
          }
         }
        },
        "title": {
         "text": "All Seismic Events: 13/4/2024 to 8/4/2024",
         "x": 0.5
        },
        "width": 800
       }
      }
     },
     "metadata": {},
     "output_type": "display_data"
    },
    {
     "name": "stdout",
     "output_type": "stream",
     "text": [
      "✅ Combined visualization complete\n"
     ]
    }
   ],
   "source": [
    "# Generate Combined Plot of All Events\n",
    "print(\"🌍 Creating combined visualization of all events...\")\n",
    "\n",
    "# Concatenate all CSV files into a single dataset\n",
    "data = pd.concat((pd.read_csv(file) for file in csv_files), ignore_index=True)\n",
    "data.columns = data.columns.str.strip().str.replace(' ', '_')\n",
    "data = data[data['Depth'] != 0]  # Remove invalid depth entries\n",
    "\n",
    "# Create informative title with date range\n",
    "try:\n",
    "    start_date = data['Trig_Date'].iloc[0].strip()\n",
    "    end_date = data['Trig_Date'].iloc[-1].strip()\n",
    "    title = f\"All Seismic Events: {start_date} to {end_date}\"\n",
    "except:\n",
    "    title = \"All Seismic Events - Combined Catalog\"\n",
    "\n",
    "print(f\"📊 Combined dataset: {len(data)} events total\")\n",
    "\n",
    "# Create comprehensive 3D scatter plot\n",
    "fig = px.scatter_3d(\n",
    "    data,\n",
    "    x='X', y='Y', z='Depth',\n",
    "    color='MomMag',\n",
    "    range_color=[global_min_mag, global_max_mag],\n",
    "    size=[1] * len(data),\n",
    "    title=title,\n",
    "    labels={\n",
    "        'X': 'X Coordinate (m)',\n",
    "        'Y': 'Y Coordinate (m)',\n",
    "        'Depth': 'Depth (m)', \n",
    "        'MomMag': 'Moment Magnitude'\n",
    "    },\n",
    "    size_max=14,\n",
    "    opacity=0.7\n",
    ")\n",
    "\n",
    "# Apply consistent styling matching individual plots\n",
    "fig.update_traces(marker=dict(line=dict(width=0)))\n",
    "tickvals = generate_tick_values(global_min_mag, global_max_mag)\n",
    "\n",
    "fig.update_layout(\n",
    "    width=800, height=600,\n",
    "    title_x=0.5,\n",
    "    margin=dict(l=40, r=40, b=40, t=40),\n",
    "    scene=dict(\n",
    "        zaxis=dict(range=[global_min_depth, global_max_depth][::-1]),\n",
    "        xaxis=dict(range=[global_min_x, global_max_x]),\n",
    "        yaxis=dict(range=[global_min_y, global_max_y]),\n",
    "        camera=dict(eye=dict(x=1.5, y=1.5, z=1.5)),\n",
    "        aspectmode=\"cube\"\n",
    "    ),\n",
    "    coloraxis_colorbar=dict(\n",
    "        title=\"Moment Magnitude\",\n",
    "        title_side=\"top\",\n",
    "        tickvals=tickvals,\n",
    "        tickmode='array',\n",
    "        ticks=\"outside\",\n",
    "        ticklen=6,\n",
    "        tickwidth=1\n",
    "    )\n",
    ")\n",
    "\n",
    "# Display or save the combined plot\n",
    "if not save_images:\n",
    "    fig.show()\n",
    "else:\n",
    "    width_in = width_mm / 25.4\n",
    "    height_in = width_in * 0.75\n",
    "    image_path = os.path.join(output_path, \"all_events_combined.png\")\n",
    "    fig.write_image(image_path, width=int(width_in * dpi), height=int(height_in * dpi), scale=2)\n",
    "    print(f\"💾 Saved combined plot: {image_path}\")\n",
    "\n",
    "print(\"✅ Combined visualization complete\")"
   ]
  }
 ],
 "metadata": {
  "kernelspec": {
   "display_name": "Python 3",
   "language": "python",
   "name": "python3"
  },
  "language_info": {
   "codemirror_mode": {
    "name": "ipython",
    "version": 3
   },
   "file_extension": ".py",
   "mimetype": "text/x-python",
   "name": "python",
   "nbconvert_exporter": "python",
   "pygments_lexer": "ipython3",
   "version": "3.13.0"
  }
 },
 "nbformat": 4,
 "nbformat_minor": 2
}
