{
 "cells": [
  {
   "cell_type": "code",
   "execution_count": 1,
   "id": "5504bf4b",
   "metadata": {},
   "outputs": [],
   "source": [
    "import os\n",
    "import pickle as pkl"
   ]
  },
  {
   "cell_type": "code",
   "execution_count": 3,
   "id": "0bcb9b8d",
   "metadata": {},
   "outputs": [
    {
     "name": "stdout",
     "output_type": "stream",
     "text": [
      "63422\n"
     ]
    }
   ],
   "source": [
    "print(len(os.listdir(\"/bedrettolab/E1B/DAS/2024_FORGE/DATA_RAW_fromOpenei/April_2024/v1.0.0\")))"
   ]
  },
  {
   "cell_type": "code",
   "execution_count": 2,
   "id": "aa98e3cb",
   "metadata": {},
   "outputs": [
    {
     "name": "stdout",
     "output_type": "stream",
     "text": [
      "149191\n"
     ]
    }
   ],
   "source": [
    "with open(\"filenames_FORGE.pkl\", \"rb\") as file:\n",
    "    filenames = pkl.load(file)\n",
    "print(len(filenames))"
   ]
  },
  {
   "cell_type": "code",
   "execution_count": 13,
   "id": "5982cafe",
   "metadata": {},
   "outputs": [
    {
     "data": {
      "text/plain": [
       "'16B_StrainRate_20240421T132825+0000_1210.h5'"
      ]
     },
     "execution_count": 13,
     "metadata": {},
     "output_type": "execute_result"
    }
   ],
   "source": [
    "filenames[13999+89516-1]"
   ]
  },
  {
   "cell_type": "code",
   "execution_count": 14,
   "id": "18945d9a",
   "metadata": {},
   "outputs": [
    {
     "data": {
      "text/plain": [
       "103514"
      ]
     },
     "execution_count": 14,
     "metadata": {},
     "output_type": "execute_result"
    }
   ],
   "source": [
    "13999+89516-1"
   ]
  }
 ],
 "metadata": {
  "kernelspec": {
   "display_name": "dascore",
   "language": "python",
   "name": "python3"
  },
  "language_info": {
   "codemirror_mode": {
    "name": "ipython",
    "version": 3
   },
   "file_extension": ".py",
   "mimetype": "text/x-python",
   "name": "python",
   "nbconvert_exporter": "python",
   "pygments_lexer": "ipython3",
   "version": "3.12.2"
  }
 },
 "nbformat": 4,
 "nbformat_minor": 5
}
