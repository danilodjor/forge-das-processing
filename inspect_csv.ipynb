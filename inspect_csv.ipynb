{
 "cells": [
  {
   "cell_type": "code",
   "execution_count": null,
   "metadata": {},
   "outputs": [],
   "source": [
    "import pandas as pd\n",
    "import numpy as np\n",
    "import os\n",
    "\n",
    "# Define the folder path\n",
    "folder_path = 'GES16Aand16BStimulationMonitoringApril2024/16AStimulationCatalogues'\n",
    "\n",
    "# Load all CSV files from the folder\n",
    "csv_files = [f for f in os.listdir(folder_path) if f.endswith('.csv') and f.startswith('FORGE')]\n",
    "\n",
    "# Merge all CSV files into a single dataframe\n",
    "df_list = [pd.read_csv(os.path.join(folder_path, file)) for file in csv_files]\n",
    "merged_df = pd.concat(df_list, ignore_index=True)\n",
    "\n",
    "# Inspect whether the column \"Source\" contains unique values\n",
    "unique_sources = merged_df['Source'].is_unique\n",
    "print(f\"Column 'Source' contains unique values: {unique_sources}\")"
   ]
  },
  {
   "cell_type": "code",
   "execution_count": null,
   "metadata": {},
   "outputs": [],
   "source": [
    "merged_df"
   ]
  },
  {
   "cell_type": "code",
   "execution_count": null,
   "metadata": {},
   "outputs": [],
   "source": [
    "merged_df['Source'].to_numpy()"
   ]
  },
  {
   "cell_type": "code",
   "execution_count": null,
   "metadata": {},
   "outputs": [],
   "source": [
    "# Convert the 'Source' column to a numpy array\n",
    "source_array = merged_df['Source'].to_numpy()\n",
    "\n",
    "# Check if all values in the numpy array are unique\n",
    "is_unique = len(np.unique(source_array)) == len(source_array)\n",
    "print(f\"All values in the numpy array are unique: {is_unique}\")"
   ]
  },
  {
   "cell_type": "code",
   "execution_count": null,
   "metadata": {},
   "outputs": [],
   "source": [
    "# Find duplicate values and their indices\n",
    "duplicates = {}\n",
    "for index, value in enumerate(source_array):\n",
    "    if value in duplicates:\n",
    "        duplicates[value].append(index)\n",
    "    else:\n",
    "        duplicates[value] = [index]\n",
    "\n",
    "# Filter out values that are not duplicates\n",
    "duplicates = {key: value for key, value in duplicates.items() if len(value) > 1}\n",
    "\n",
    "print(\"Duplicate values and their indices:\")\n",
    "for value, indices in duplicates.items():\n",
    "    print(f\"Value: {value}, Indices: {indices}\")"
   ]
  },
  {
   "cell_type": "code",
   "execution_count": null,
   "metadata": {},
   "outputs": [],
   "source": [
    "merged_df[merged_df['Source']==9675]"
   ]
  }
 ],
 "metadata": {
  "kernelspec": {
   "display_name": "dascore",
   "language": "python",
   "name": "python3"
  },
  "language_info": {
   "codemirror_mode": {
    "name": "ipython",
    "version": 3
   },
   "file_extension": ".py",
   "mimetype": "text/x-python",
   "name": "python",
   "nbconvert_exporter": "python",
   "pygments_lexer": "ipython3",
   "version": "3.12.2"
  }
 },
 "nbformat": 4,
 "nbformat_minor": 2
}
